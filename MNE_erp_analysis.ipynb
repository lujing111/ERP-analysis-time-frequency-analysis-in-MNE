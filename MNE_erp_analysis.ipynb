{
 "cells": [
  {
   "cell_type": "code",
   "execution_count": 1,
   "metadata": {},
   "outputs": [],
   "source": [
    "import numpy as np\n",
    "import mne\n",
    "import os\n",
    "import math\n",
    "import pandas as pd\n",
    "from  pandas import DataFrame\n",
    "import matplotlib.pyplot as plt\n",
    "from scipy.stats import ttest_1samp, ttest_ind, ttest_rel, f_oneway\n",
    "from mne.stats import fdr_correction, f_mway_rm\n",
    "from scipy import signal\n",
    "from pandas import Series, ExcelWriter\n",
    "from mne.time_frequency import tfr_array_morlet\n",
    "from neurora.stuff import clusterbased_permutation_2d_2sided,clusterbased_permutation_2d_1samp_2sided"
   ]
  },
  {
   "cell_type": "markdown",
   "metadata": {},
   "source": [
    "# ERP分析，计算幅值"
   ]
  },
  {
   "cell_type": "markdown",
   "metadata": {},
   "source": [
    "# 1.计算成年人的MMN和P300"
   ]
  },
  {
   "cell_type": "markdown",
   "metadata": {},
   "source": [
    "## 1.1 分条件：在标准刺激和新异刺激下叠加平均"
   ]
  },
  {
   "cell_type": "code",
   "execution_count": 27,
   "metadata": {},
   "outputs": [
    {
     "name": "stdout",
     "output_type": "stream",
     "text": [
      "Extracting parameters from E:/standard and novel/sub1/standard.set...\n"
     ]
    },
    {
     "name": "stderr",
     "output_type": "stream",
     "text": [
      "<ipython-input-27-5128ab89d92c>:9: RuntimeWarning: At least one epoch has multiple events. Only the latency of the first event will be retained.\n",
      "  standard_epochs = mne.io.read_epochs_eeglab(standard_data_path)\n"
     ]
    },
    {
     "name": "stdout",
     "output_type": "stream",
     "text": [
      "Not setting metadata\n",
      "Not setting metadata\n",
      "102 matching events found\n",
      "No baseline correction applied\n",
      "0 projection items activated\n",
      "Ready.\n",
      "(62, 1000)\n",
      "Extracting parameters from E:/standard and novel/sub1/novel.set...\n"
     ]
    },
    {
     "name": "stderr",
     "output_type": "stream",
     "text": [
      "<ipython-input-27-5128ab89d92c>:24: RuntimeWarning: At least one epoch has multiple events. Only the latency of the first event will be retained.\n",
      "  novel_epochs = mne.io.read_epochs_eeglab(novel_data_path)\n"
     ]
    },
    {
     "name": "stdout",
     "output_type": "stream",
     "text": [
      "Not setting metadata\n",
      "Not setting metadata\n",
      "102 matching events found\n",
      "No baseline correction applied\n",
      "0 projection items activated\n",
      "Ready.\n",
      "(62, 1000)\n",
      "(62, 1000)\n",
      "Extracting parameters from E:/standard and novel/sub2/standard.set...\n"
     ]
    },
    {
     "name": "stderr",
     "output_type": "stream",
     "text": [
      "<ipython-input-27-5128ab89d92c>:9: RuntimeWarning: At least one epoch has multiple events. Only the latency of the first event will be retained.\n",
      "  standard_epochs = mne.io.read_epochs_eeglab(standard_data_path)\n"
     ]
    },
    {
     "name": "stdout",
     "output_type": "stream",
     "text": [
      "Not setting metadata\n",
      "Not setting metadata\n",
      "102 matching events found\n",
      "No baseline correction applied\n",
      "0 projection items activated\n",
      "Ready.\n",
      "(62, 1000)\n",
      "Extracting parameters from E:/standard and novel/sub2/novel.set...\n"
     ]
    },
    {
     "name": "stderr",
     "output_type": "stream",
     "text": [
      "<ipython-input-27-5128ab89d92c>:24: RuntimeWarning: At least one epoch has multiple events. Only the latency of the first event will be retained.\n",
      "  novel_epochs = mne.io.read_epochs_eeglab(novel_data_path)\n"
     ]
    },
    {
     "name": "stdout",
     "output_type": "stream",
     "text": [
      "Not setting metadata\n",
      "Not setting metadata\n",
      "101 matching events found\n",
      "No baseline correction applied\n",
      "0 projection items activated\n",
      "Ready.\n",
      "(62, 1000)\n",
      "(62, 1000)\n",
      "Extracting parameters from E:/standard and novel/sub3/standard.set...\n"
     ]
    },
    {
     "name": "stderr",
     "output_type": "stream",
     "text": [
      "<ipython-input-27-5128ab89d92c>:9: RuntimeWarning: At least one epoch has multiple events. Only the latency of the first event will be retained.\n",
      "  standard_epochs = mne.io.read_epochs_eeglab(standard_data_path)\n"
     ]
    },
    {
     "name": "stdout",
     "output_type": "stream",
     "text": [
      "Not setting metadata\n",
      "Not setting metadata\n",
      "98 matching events found\n",
      "No baseline correction applied\n",
      "0 projection items activated\n",
      "Ready.\n",
      "(62, 1000)\n",
      "Extracting parameters from E:/standard and novel/sub3/novel.set...\n"
     ]
    },
    {
     "name": "stderr",
     "output_type": "stream",
     "text": [
      "<ipython-input-27-5128ab89d92c>:24: RuntimeWarning: At least one epoch has multiple events. Only the latency of the first event will be retained.\n",
      "  novel_epochs = mne.io.read_epochs_eeglab(novel_data_path)\n"
     ]
    },
    {
     "name": "stdout",
     "output_type": "stream",
     "text": [
      "Not setting metadata\n",
      "Not setting metadata\n",
      "100 matching events found\n",
      "No baseline correction applied\n",
      "0 projection items activated\n",
      "Ready.\n",
      "(62, 1000)\n",
      "(62, 1000)\n",
      "Extracting parameters from E:/standard and novel/sub4/standard.set...\n"
     ]
    },
    {
     "name": "stderr",
     "output_type": "stream",
     "text": [
      "<ipython-input-27-5128ab89d92c>:9: RuntimeWarning: At least one epoch has multiple events. Only the latency of the first event will be retained.\n",
      "  standard_epochs = mne.io.read_epochs_eeglab(standard_data_path)\n"
     ]
    },
    {
     "name": "stdout",
     "output_type": "stream",
     "text": [
      "Not setting metadata\n",
      "Not setting metadata\n",
      "100 matching events found\n",
      "No baseline correction applied\n",
      "0 projection items activated\n",
      "Ready.\n",
      "(62, 1000)\n",
      "Extracting parameters from E:/standard and novel/sub4/novel.set...\n"
     ]
    },
    {
     "name": "stderr",
     "output_type": "stream",
     "text": [
      "<ipython-input-27-5128ab89d92c>:24: RuntimeWarning: At least one epoch has multiple events. Only the latency of the first event will be retained.\n",
      "  novel_epochs = mne.io.read_epochs_eeglab(novel_data_path)\n"
     ]
    },
    {
     "name": "stdout",
     "output_type": "stream",
     "text": [
      "Not setting metadata\n",
      "Not setting metadata\n",
      "96 matching events found\n",
      "No baseline correction applied\n",
      "0 projection items activated\n",
      "Ready.\n",
      "(62, 1000)\n",
      "(62, 1000)\n",
      "Extracting parameters from E:/standard and novel/sub5/standard.set...\n"
     ]
    },
    {
     "name": "stderr",
     "output_type": "stream",
     "text": [
      "<ipython-input-27-5128ab89d92c>:9: RuntimeWarning: At least one epoch has multiple events. Only the latency of the first event will be retained.\n",
      "  standard_epochs = mne.io.read_epochs_eeglab(standard_data_path)\n"
     ]
    },
    {
     "name": "stdout",
     "output_type": "stream",
     "text": [
      "Not setting metadata\n",
      "Not setting metadata\n",
      "100 matching events found\n",
      "No baseline correction applied\n",
      "0 projection items activated\n",
      "Ready.\n",
      "(61, 1000)\n",
      "Extracting parameters from E:/standard and novel/sub5/novel.set...\n"
     ]
    },
    {
     "name": "stderr",
     "output_type": "stream",
     "text": [
      "<ipython-input-27-5128ab89d92c>:24: RuntimeWarning: At least one epoch has multiple events. Only the latency of the first event will be retained.\n",
      "  novel_epochs = mne.io.read_epochs_eeglab(novel_data_path)\n"
     ]
    },
    {
     "name": "stdout",
     "output_type": "stream",
     "text": [
      "Not setting metadata\n",
      "Not setting metadata\n",
      "102 matching events found\n",
      "No baseline correction applied\n",
      "0 projection items activated\n",
      "Ready.\n",
      "(61, 1000)\n",
      "(61, 1000)\n",
      "Extracting parameters from E:/standard and novel/sub6/standard.set...\n"
     ]
    },
    {
     "name": "stderr",
     "output_type": "stream",
     "text": [
      "<ipython-input-27-5128ab89d92c>:9: RuntimeWarning: At least one epoch has multiple events. Only the latency of the first event will be retained.\n",
      "  standard_epochs = mne.io.read_epochs_eeglab(standard_data_path)\n"
     ]
    },
    {
     "name": "stdout",
     "output_type": "stream",
     "text": [
      "Not setting metadata\n",
      "Not setting metadata\n",
      "99 matching events found\n",
      "No baseline correction applied\n",
      "0 projection items activated\n",
      "Ready.\n",
      "(62, 1000)\n",
      "Extracting parameters from E:/standard and novel/sub6/novel.set...\n"
     ]
    },
    {
     "name": "stderr",
     "output_type": "stream",
     "text": [
      "<ipython-input-27-5128ab89d92c>:24: RuntimeWarning: At least one epoch has multiple events. Only the latency of the first event will be retained.\n",
      "  novel_epochs = mne.io.read_epochs_eeglab(novel_data_path)\n"
     ]
    },
    {
     "name": "stdout",
     "output_type": "stream",
     "text": [
      "Not setting metadata\n",
      "Not setting metadata\n",
      "98 matching events found\n",
      "No baseline correction applied\n",
      "0 projection items activated\n",
      "Ready.\n",
      "(62, 1000)\n",
      "(62, 1000)\n",
      "Extracting parameters from E:/standard and novel/sub7/standard.set...\n"
     ]
    },
    {
     "name": "stderr",
     "output_type": "stream",
     "text": [
      "<ipython-input-27-5128ab89d92c>:9: RuntimeWarning: At least one epoch has multiple events. Only the latency of the first event will be retained.\n",
      "  standard_epochs = mne.io.read_epochs_eeglab(standard_data_path)\n"
     ]
    },
    {
     "name": "stdout",
     "output_type": "stream",
     "text": [
      "Not setting metadata\n",
      "Not setting metadata\n",
      "102 matching events found\n",
      "No baseline correction applied\n",
      "0 projection items activated\n",
      "Ready.\n",
      "(62, 1000)\n",
      "Extracting parameters from E:/standard and novel/sub7/novel.set...\n"
     ]
    },
    {
     "name": "stderr",
     "output_type": "stream",
     "text": [
      "<ipython-input-27-5128ab89d92c>:24: RuntimeWarning: At least one epoch has multiple events. Only the latency of the first event will be retained.\n",
      "  novel_epochs = mne.io.read_epochs_eeglab(novel_data_path)\n"
     ]
    },
    {
     "name": "stdout",
     "output_type": "stream",
     "text": [
      "Not setting metadata\n",
      "Not setting metadata\n",
      "102 matching events found\n",
      "No baseline correction applied\n",
      "0 projection items activated\n",
      "Ready.\n",
      "(62, 1000)\n",
      "(62, 1000)\n",
      "Extracting parameters from E:/standard and novel/sub8/standard.set...\n"
     ]
    },
    {
     "name": "stderr",
     "output_type": "stream",
     "text": [
      "<ipython-input-27-5128ab89d92c>:9: RuntimeWarning: At least one epoch has multiple events. Only the latency of the first event will be retained.\n",
      "  standard_epochs = mne.io.read_epochs_eeglab(standard_data_path)\n"
     ]
    },
    {
     "name": "stdout",
     "output_type": "stream",
     "text": [
      "Not setting metadata\n",
      "Not setting metadata\n",
      "93 matching events found\n",
      "No baseline correction applied\n",
      "0 projection items activated\n",
      "Ready.\n",
      "(62, 1000)\n",
      "Extracting parameters from E:/standard and novel/sub8/novel.set...\n"
     ]
    },
    {
     "name": "stderr",
     "output_type": "stream",
     "text": [
      "<ipython-input-27-5128ab89d92c>:24: RuntimeWarning: At least one epoch has multiple events. Only the latency of the first event will be retained.\n",
      "  novel_epochs = mne.io.read_epochs_eeglab(novel_data_path)\n"
     ]
    },
    {
     "name": "stdout",
     "output_type": "stream",
     "text": [
      "Not setting metadata\n",
      "Not setting metadata\n",
      "97 matching events found\n",
      "No baseline correction applied\n",
      "0 projection items activated\n",
      "Ready.\n",
      "(62, 1000)\n",
      "(62, 1000)\n",
      "Extracting parameters from E:/standard and novel/sub9/standard.set...\n"
     ]
    },
    {
     "name": "stderr",
     "output_type": "stream",
     "text": [
      "<ipython-input-27-5128ab89d92c>:9: RuntimeWarning: At least one epoch has multiple events. Only the latency of the first event will be retained.\n",
      "  standard_epochs = mne.io.read_epochs_eeglab(standard_data_path)\n"
     ]
    },
    {
     "name": "stdout",
     "output_type": "stream",
     "text": [
      "Not setting metadata\n",
      "Not setting metadata\n",
      "101 matching events found\n",
      "No baseline correction applied\n",
      "0 projection items activated\n",
      "Ready.\n",
      "(62, 1000)\n",
      "Extracting parameters from E:/standard and novel/sub9/novel.set...\n"
     ]
    },
    {
     "name": "stderr",
     "output_type": "stream",
     "text": [
      "<ipython-input-27-5128ab89d92c>:24: RuntimeWarning: At least one epoch has multiple events. Only the latency of the first event will be retained.\n",
      "  novel_epochs = mne.io.read_epochs_eeglab(novel_data_path)\n"
     ]
    },
    {
     "name": "stdout",
     "output_type": "stream",
     "text": [
      "Not setting metadata\n",
      "Not setting metadata\n",
      "101 matching events found\n",
      "No baseline correction applied\n",
      "0 projection items activated\n",
      "Ready.\n",
      "(62, 1000)\n",
      "(62, 1000)\n",
      "Extracting parameters from E:/standard and novel/sub10/standard.set...\n"
     ]
    },
    {
     "name": "stderr",
     "output_type": "stream",
     "text": [
      "<ipython-input-27-5128ab89d92c>:9: RuntimeWarning: At least one epoch has multiple events. Only the latency of the first event will be retained.\n",
      "  standard_epochs = mne.io.read_epochs_eeglab(standard_data_path)\n"
     ]
    },
    {
     "name": "stdout",
     "output_type": "stream",
     "text": [
      "Not setting metadata\n",
      "Not setting metadata\n",
      "85 matching events found\n",
      "No baseline correction applied\n",
      "0 projection items activated\n",
      "Ready.\n",
      "(62, 1000)\n",
      "Extracting parameters from E:/standard and novel/sub10/novel.set...\n"
     ]
    },
    {
     "name": "stderr",
     "output_type": "stream",
     "text": [
      "<ipython-input-27-5128ab89d92c>:24: RuntimeWarning: At least one epoch has multiple events. Only the latency of the first event will be retained.\n",
      "  novel_epochs = mne.io.read_epochs_eeglab(novel_data_path)\n"
     ]
    },
    {
     "name": "stdout",
     "output_type": "stream",
     "text": [
      "Not setting metadata\n",
      "Not setting metadata\n",
      "91 matching events found\n",
      "No baseline correction applied\n",
      "0 projection items activated\n",
      "Ready.\n",
      "(62, 1000)\n",
      "(62, 1000)\n",
      "Extracting parameters from E:/standard and novel/sub11/standard.set...\n"
     ]
    },
    {
     "name": "stderr",
     "output_type": "stream",
     "text": [
      "<ipython-input-27-5128ab89d92c>:9: RuntimeWarning: At least one epoch has multiple events. Only the latency of the first event will be retained.\n",
      "  standard_epochs = mne.io.read_epochs_eeglab(standard_data_path)\n"
     ]
    },
    {
     "name": "stdout",
     "output_type": "stream",
     "text": [
      "Not setting metadata\n",
      "Not setting metadata\n",
      "96 matching events found\n",
      "No baseline correction applied\n",
      "0 projection items activated\n",
      "Ready.\n",
      "(62, 1000)\n",
      "Extracting parameters from E:/standard and novel/sub11/novel.set...\n"
     ]
    },
    {
     "name": "stderr",
     "output_type": "stream",
     "text": [
      "<ipython-input-27-5128ab89d92c>:24: RuntimeWarning: At least one epoch has multiple events. Only the latency of the first event will be retained.\n",
      "  novel_epochs = mne.io.read_epochs_eeglab(novel_data_path)\n"
     ]
    },
    {
     "name": "stdout",
     "output_type": "stream",
     "text": [
      "Not setting metadata\n",
      "Not setting metadata\n",
      "99 matching events found\n",
      "No baseline correction applied\n",
      "0 projection items activated\n",
      "Ready.\n",
      "(62, 1000)\n",
      "(62, 1000)\n",
      "Extracting parameters from E:/standard and novel/sub12/standard.set...\n"
     ]
    },
    {
     "name": "stderr",
     "output_type": "stream",
     "text": [
      "<ipython-input-27-5128ab89d92c>:9: RuntimeWarning: At least one epoch has multiple events. Only the latency of the first event will be retained.\n",
      "  standard_epochs = mne.io.read_epochs_eeglab(standard_data_path)\n"
     ]
    },
    {
     "name": "stdout",
     "output_type": "stream",
     "text": [
      "Not setting metadata\n",
      "Not setting metadata\n",
      "102 matching events found\n",
      "No baseline correction applied\n",
      "0 projection items activated\n",
      "Ready.\n",
      "(62, 1000)\n",
      "Extracting parameters from E:/standard and novel/sub12/novel.set...\n"
     ]
    },
    {
     "name": "stderr",
     "output_type": "stream",
     "text": [
      "<ipython-input-27-5128ab89d92c>:24: RuntimeWarning: At least one epoch has multiple events. Only the latency of the first event will be retained.\n",
      "  novel_epochs = mne.io.read_epochs_eeglab(novel_data_path)\n"
     ]
    },
    {
     "name": "stdout",
     "output_type": "stream",
     "text": [
      "Not setting metadata\n",
      "Not setting metadata\n",
      "102 matching events found\n",
      "No baseline correction applied\n",
      "0 projection items activated\n",
      "Ready.\n",
      "(62, 1000)\n",
      "(62, 1000)\n",
      "Extracting parameters from E:/standard and novel/sub13/standard.set...\n"
     ]
    },
    {
     "name": "stderr",
     "output_type": "stream",
     "text": [
      "<ipython-input-27-5128ab89d92c>:9: RuntimeWarning: At least one epoch has multiple events. Only the latency of the first event will be retained.\n",
      "  standard_epochs = mne.io.read_epochs_eeglab(standard_data_path)\n"
     ]
    },
    {
     "name": "stdout",
     "output_type": "stream",
     "text": [
      "Not setting metadata\n",
      "Not setting metadata\n",
      "102 matching events found\n",
      "No baseline correction applied\n",
      "0 projection items activated\n",
      "Ready.\n",
      "(62, 1000)\n",
      "Extracting parameters from E:/standard and novel/sub13/novel.set...\n"
     ]
    },
    {
     "name": "stderr",
     "output_type": "stream",
     "text": [
      "<ipython-input-27-5128ab89d92c>:24: RuntimeWarning: At least one epoch has multiple events. Only the latency of the first event will be retained.\n",
      "  novel_epochs = mne.io.read_epochs_eeglab(novel_data_path)\n"
     ]
    },
    {
     "name": "stdout",
     "output_type": "stream",
     "text": [
      "Not setting metadata\n",
      "Not setting metadata\n",
      "102 matching events found\n",
      "No baseline correction applied\n",
      "0 projection items activated\n",
      "Ready.\n",
      "(62, 1000)\n",
      "(62, 1000)\n",
      "Extracting parameters from E:/standard and novel/sub14/standard.set...\n"
     ]
    },
    {
     "name": "stderr",
     "output_type": "stream",
     "text": [
      "<ipython-input-27-5128ab89d92c>:9: RuntimeWarning: At least one epoch has multiple events. Only the latency of the first event will be retained.\n",
      "  standard_epochs = mne.io.read_epochs_eeglab(standard_data_path)\n"
     ]
    },
    {
     "name": "stdout",
     "output_type": "stream",
     "text": [
      "Not setting metadata\n",
      "Not setting metadata\n",
      "94 matching events found\n",
      "No baseline correction applied\n",
      "0 projection items activated\n",
      "Ready.\n",
      "(62, 1000)\n",
      "Extracting parameters from E:/standard and novel/sub14/novel.set...\n"
     ]
    },
    {
     "name": "stderr",
     "output_type": "stream",
     "text": [
      "<ipython-input-27-5128ab89d92c>:24: RuntimeWarning: At least one epoch has multiple events. Only the latency of the first event will be retained.\n",
      "  novel_epochs = mne.io.read_epochs_eeglab(novel_data_path)\n"
     ]
    },
    {
     "name": "stdout",
     "output_type": "stream",
     "text": [
      "Not setting metadata\n",
      "Not setting metadata\n",
      "99 matching events found\n",
      "No baseline correction applied\n",
      "0 projection items activated\n",
      "Ready.\n",
      "(62, 1000)\n",
      "(62, 1000)\n",
      "Extracting parameters from E:/standard and novel/sub15/standard.set...\n"
     ]
    },
    {
     "name": "stderr",
     "output_type": "stream",
     "text": [
      "<ipython-input-27-5128ab89d92c>:9: RuntimeWarning: At least one epoch has multiple events. Only the latency of the first event will be retained.\n",
      "  standard_epochs = mne.io.read_epochs_eeglab(standard_data_path)\n"
     ]
    },
    {
     "name": "stdout",
     "output_type": "stream",
     "text": [
      "Not setting metadata\n",
      "Not setting metadata\n",
      "102 matching events found\n",
      "No baseline correction applied\n",
      "0 projection items activated\n",
      "Ready.\n",
      "(62, 1000)\n",
      "Extracting parameters from E:/standard and novel/sub15/novel.set...\n"
     ]
    },
    {
     "name": "stderr",
     "output_type": "stream",
     "text": [
      "<ipython-input-27-5128ab89d92c>:24: RuntimeWarning: At least one epoch has multiple events. Only the latency of the first event will be retained.\n",
      "  novel_epochs = mne.io.read_epochs_eeglab(novel_data_path)\n"
     ]
    },
    {
     "name": "stdout",
     "output_type": "stream",
     "text": [
      "Not setting metadata\n",
      "Not setting metadata\n",
      "102 matching events found\n",
      "No baseline correction applied\n",
      "0 projection items activated\n",
      "Ready.\n",
      "(62, 1000)\n",
      "(62, 1000)\n",
      "Extracting parameters from E:/standard and novel/sub16/standard.set...\n"
     ]
    },
    {
     "name": "stderr",
     "output_type": "stream",
     "text": [
      "<ipython-input-27-5128ab89d92c>:9: RuntimeWarning: At least one epoch has multiple events. Only the latency of the first event will be retained.\n",
      "  standard_epochs = mne.io.read_epochs_eeglab(standard_data_path)\n"
     ]
    },
    {
     "name": "stdout",
     "output_type": "stream",
     "text": [
      "Not setting metadata\n",
      "Not setting metadata\n",
      "102 matching events found\n",
      "No baseline correction applied\n",
      "0 projection items activated\n",
      "Ready.\n",
      "(62, 1000)\n",
      "Extracting parameters from E:/standard and novel/sub16/novel.set...\n"
     ]
    },
    {
     "name": "stderr",
     "output_type": "stream",
     "text": [
      "<ipython-input-27-5128ab89d92c>:24: RuntimeWarning: At least one epoch has multiple events. Only the latency of the first event will be retained.\n",
      "  novel_epochs = mne.io.read_epochs_eeglab(novel_data_path)\n"
     ]
    },
    {
     "name": "stdout",
     "output_type": "stream",
     "text": [
      "Not setting metadata\n",
      "Not setting metadata\n",
      "102 matching events found\n",
      "No baseline correction applied\n",
      "0 projection items activated\n",
      "Ready.\n",
      "(62, 1000)\n",
      "(62, 1000)\n",
      "Extracting parameters from E:/standard and novel/sub17/standard.set...\n"
     ]
    },
    {
     "name": "stderr",
     "output_type": "stream",
     "text": [
      "<ipython-input-27-5128ab89d92c>:9: RuntimeWarning: At least one epoch has multiple events. Only the latency of the first event will be retained.\n",
      "  standard_epochs = mne.io.read_epochs_eeglab(standard_data_path)\n"
     ]
    },
    {
     "name": "stdout",
     "output_type": "stream",
     "text": [
      "Not setting metadata\n",
      "Not setting metadata\n",
      "102 matching events found\n",
      "No baseline correction applied\n",
      "0 projection items activated\n",
      "Ready.\n",
      "(62, 1000)\n",
      "Extracting parameters from E:/standard and novel/sub17/novel.set...\n"
     ]
    },
    {
     "name": "stderr",
     "output_type": "stream",
     "text": [
      "<ipython-input-27-5128ab89d92c>:24: RuntimeWarning: At least one epoch has multiple events. Only the latency of the first event will be retained.\n",
      "  novel_epochs = mne.io.read_epochs_eeglab(novel_data_path)\n"
     ]
    },
    {
     "name": "stdout",
     "output_type": "stream",
     "text": [
      "Not setting metadata\n",
      "Not setting metadata\n",
      "102 matching events found\n",
      "No baseline correction applied\n",
      "0 projection items activated\n",
      "Ready.\n",
      "(62, 1000)\n",
      "(62, 1000)\n",
      "Extracting parameters from E:/standard and novel/sub18/standard.set...\n"
     ]
    },
    {
     "name": "stderr",
     "output_type": "stream",
     "text": [
      "<ipython-input-27-5128ab89d92c>:9: RuntimeWarning: At least one epoch has multiple events. Only the latency of the first event will be retained.\n",
      "  standard_epochs = mne.io.read_epochs_eeglab(standard_data_path)\n"
     ]
    },
    {
     "name": "stdout",
     "output_type": "stream",
     "text": [
      "Not setting metadata\n",
      "Not setting metadata\n",
      "102 matching events found\n",
      "No baseline correction applied\n",
      "0 projection items activated\n",
      "Ready.\n",
      "(62, 1000)\n",
      "Extracting parameters from E:/standard and novel/sub18/novel.set...\n"
     ]
    },
    {
     "name": "stderr",
     "output_type": "stream",
     "text": [
      "<ipython-input-27-5128ab89d92c>:24: RuntimeWarning: At least one epoch has multiple events. Only the latency of the first event will be retained.\n",
      "  novel_epochs = mne.io.read_epochs_eeglab(novel_data_path)\n"
     ]
    },
    {
     "name": "stdout",
     "output_type": "stream",
     "text": [
      "Not setting metadata\n",
      "Not setting metadata\n",
      "102 matching events found\n",
      "No baseline correction applied\n",
      "0 projection items activated\n",
      "Ready.\n",
      "(62, 1000)\n",
      "(62, 1000)\n",
      "Extracting parameters from E:/standard and novel/sub19/standard.set...\n"
     ]
    },
    {
     "name": "stderr",
     "output_type": "stream",
     "text": [
      "<ipython-input-27-5128ab89d92c>:9: RuntimeWarning: At least one epoch has multiple events. Only the latency of the first event will be retained.\n",
      "  standard_epochs = mne.io.read_epochs_eeglab(standard_data_path)\n"
     ]
    },
    {
     "name": "stdout",
     "output_type": "stream",
     "text": [
      "Not setting metadata\n",
      "Not setting metadata\n",
      "98 matching events found\n",
      "No baseline correction applied\n",
      "0 projection items activated\n",
      "Ready.\n",
      "(62, 1000)\n",
      "Extracting parameters from E:/standard and novel/sub19/novel.set...\n"
     ]
    },
    {
     "name": "stderr",
     "output_type": "stream",
     "text": [
      "<ipython-input-27-5128ab89d92c>:24: RuntimeWarning: At least one epoch has multiple events. Only the latency of the first event will be retained.\n",
      "  novel_epochs = mne.io.read_epochs_eeglab(novel_data_path)\n"
     ]
    },
    {
     "name": "stdout",
     "output_type": "stream",
     "text": [
      "Not setting metadata\n",
      "Not setting metadata\n",
      "101 matching events found\n",
      "No baseline correction applied\n",
      "0 projection items activated\n",
      "Ready.\n",
      "(62, 1000)\n",
      "(62, 1000)\n",
      "Extracting parameters from E:/standard and novel/sub20/standard.set...\n"
     ]
    },
    {
     "name": "stderr",
     "output_type": "stream",
     "text": [
      "<ipython-input-27-5128ab89d92c>:9: RuntimeWarning: At least one epoch has multiple events. Only the latency of the first event will be retained.\n",
      "  standard_epochs = mne.io.read_epochs_eeglab(standard_data_path)\n"
     ]
    },
    {
     "name": "stdout",
     "output_type": "stream",
     "text": [
      "Not setting metadata\n",
      "Not setting metadata\n",
      "85 matching events found\n",
      "No baseline correction applied\n",
      "0 projection items activated\n",
      "Ready.\n",
      "(62, 1000)\n",
      "Extracting parameters from E:/standard and novel/sub20/novel.set...\n"
     ]
    },
    {
     "name": "stderr",
     "output_type": "stream",
     "text": [
      "<ipython-input-27-5128ab89d92c>:24: RuntimeWarning: At least one epoch has multiple events. Only the latency of the first event will be retained.\n",
      "  novel_epochs = mne.io.read_epochs_eeglab(novel_data_path)\n"
     ]
    },
    {
     "name": "stdout",
     "output_type": "stream",
     "text": [
      "Not setting metadata\n",
      "Not setting metadata\n",
      "91 matching events found\n",
      "No baseline correction applied\n",
      "0 projection items activated\n",
      "Ready.\n",
      "(62, 1000)\n",
      "(62, 1000)\n",
      "Extracting parameters from E:/standard and novel/sub21/standard.set...\n"
     ]
    },
    {
     "name": "stderr",
     "output_type": "stream",
     "text": [
      "<ipython-input-27-5128ab89d92c>:9: RuntimeWarning: At least one epoch has multiple events. Only the latency of the first event will be retained.\n",
      "  standard_epochs = mne.io.read_epochs_eeglab(standard_data_path)\n"
     ]
    },
    {
     "name": "stdout",
     "output_type": "stream",
     "text": [
      "Not setting metadata\n",
      "Not setting metadata\n",
      "96 matching events found\n",
      "No baseline correction applied\n",
      "0 projection items activated\n",
      "Ready.\n",
      "(62, 1000)\n",
      "Extracting parameters from E:/standard and novel/sub21/novel.set...\n"
     ]
    },
    {
     "name": "stderr",
     "output_type": "stream",
     "text": [
      "<ipython-input-27-5128ab89d92c>:24: RuntimeWarning: At least one epoch has multiple events. Only the latency of the first event will be retained.\n",
      "  novel_epochs = mne.io.read_epochs_eeglab(novel_data_path)\n"
     ]
    },
    {
     "name": "stdout",
     "output_type": "stream",
     "text": [
      "Not setting metadata\n",
      "Not setting metadata\n",
      "97 matching events found\n",
      "No baseline correction applied\n",
      "0 projection items activated\n",
      "Ready.\n",
      "(62, 1000)\n",
      "(62, 1000)\n",
      "Extracting parameters from E:/standard and novel/sub22/standard.set...\n"
     ]
    },
    {
     "name": "stderr",
     "output_type": "stream",
     "text": [
      "<ipython-input-27-5128ab89d92c>:9: RuntimeWarning: At least one epoch has multiple events. Only the latency of the first event will be retained.\n",
      "  standard_epochs = mne.io.read_epochs_eeglab(standard_data_path)\n"
     ]
    },
    {
     "name": "stdout",
     "output_type": "stream",
     "text": [
      "Not setting metadata\n",
      "Not setting metadata\n",
      "102 matching events found\n",
      "No baseline correction applied\n",
      "0 projection items activated\n",
      "Ready.\n",
      "(62, 1000)\n",
      "Extracting parameters from E:/standard and novel/sub22/novel.set...\n"
     ]
    },
    {
     "name": "stderr",
     "output_type": "stream",
     "text": [
      "<ipython-input-27-5128ab89d92c>:24: RuntimeWarning: At least one epoch has multiple events. Only the latency of the first event will be retained.\n",
      "  novel_epochs = mne.io.read_epochs_eeglab(novel_data_path)\n"
     ]
    },
    {
     "name": "stdout",
     "output_type": "stream",
     "text": [
      "Not setting metadata\n",
      "Not setting metadata\n",
      "102 matching events found\n",
      "No baseline correction applied\n",
      "0 projection items activated\n",
      "Ready.\n",
      "(62, 1000)\n",
      "(62, 1000)\n",
      "Extracting parameters from E:/standard and novel/sub23/standard.set...\n"
     ]
    },
    {
     "name": "stderr",
     "output_type": "stream",
     "text": [
      "<ipython-input-27-5128ab89d92c>:9: RuntimeWarning: At least one epoch has multiple events. Only the latency of the first event will be retained.\n",
      "  standard_epochs = mne.io.read_epochs_eeglab(standard_data_path)\n"
     ]
    },
    {
     "name": "stdout",
     "output_type": "stream",
     "text": [
      "Not setting metadata\n",
      "Not setting metadata\n",
      "102 matching events found\n",
      "No baseline correction applied\n",
      "0 projection items activated\n",
      "Ready.\n",
      "(62, 1000)\n",
      "Extracting parameters from E:/standard and novel/sub23/novel.set...\n"
     ]
    },
    {
     "name": "stderr",
     "output_type": "stream",
     "text": [
      "<ipython-input-27-5128ab89d92c>:24: RuntimeWarning: At least one epoch has multiple events. Only the latency of the first event will be retained.\n",
      "  novel_epochs = mne.io.read_epochs_eeglab(novel_data_path)\n"
     ]
    },
    {
     "name": "stdout",
     "output_type": "stream",
     "text": [
      "Not setting metadata\n",
      "Not setting metadata\n",
      "102 matching events found\n",
      "No baseline correction applied\n",
      "0 projection items activated\n",
      "Ready.\n",
      "(62, 1000)\n",
      "(62, 1000)\n",
      "Extracting parameters from E:/standard and novel/sub24/standard.set...\n"
     ]
    },
    {
     "name": "stderr",
     "output_type": "stream",
     "text": [
      "<ipython-input-27-5128ab89d92c>:9: RuntimeWarning: At least one epoch has multiple events. Only the latency of the first event will be retained.\n",
      "  standard_epochs = mne.io.read_epochs_eeglab(standard_data_path)\n"
     ]
    },
    {
     "name": "stdout",
     "output_type": "stream",
     "text": [
      "Not setting metadata\n",
      "Not setting metadata\n",
      "93 matching events found\n",
      "No baseline correction applied\n",
      "0 projection items activated\n",
      "Ready.\n",
      "(62, 1000)\n",
      "Extracting parameters from E:/standard and novel/sub24/novel.set...\n"
     ]
    },
    {
     "name": "stderr",
     "output_type": "stream",
     "text": [
      "<ipython-input-27-5128ab89d92c>:24: RuntimeWarning: At least one epoch has multiple events. Only the latency of the first event will be retained.\n",
      "  novel_epochs = mne.io.read_epochs_eeglab(novel_data_path)\n"
     ]
    },
    {
     "name": "stdout",
     "output_type": "stream",
     "text": [
      "Not setting metadata\n",
      "Not setting metadata\n",
      "100 matching events found\n",
      "No baseline correction applied\n",
      "0 projection items activated\n",
      "Ready.\n",
      "(62, 1000)\n",
      "(62, 1000)\n",
      "Extracting parameters from E:/standard and novel/sub25/standard.set...\n"
     ]
    },
    {
     "name": "stderr",
     "output_type": "stream",
     "text": [
      "<ipython-input-27-5128ab89d92c>:9: RuntimeWarning: At least one epoch has multiple events. Only the latency of the first event will be retained.\n",
      "  standard_epochs = mne.io.read_epochs_eeglab(standard_data_path)\n"
     ]
    },
    {
     "name": "stdout",
     "output_type": "stream",
     "text": [
      "Not setting metadata\n",
      "Not setting metadata\n",
      "102 matching events found\n",
      "No baseline correction applied\n",
      "0 projection items activated\n",
      "Ready.\n",
      "(62, 1000)\n",
      "Extracting parameters from E:/standard and novel/sub25/novel.set...\n"
     ]
    },
    {
     "name": "stderr",
     "output_type": "stream",
     "text": [
      "<ipython-input-27-5128ab89d92c>:24: RuntimeWarning: At least one epoch has multiple events. Only the latency of the first event will be retained.\n",
      "  novel_epochs = mne.io.read_epochs_eeglab(novel_data_path)\n"
     ]
    },
    {
     "name": "stdout",
     "output_type": "stream",
     "text": [
      "Not setting metadata\n",
      "Not setting metadata\n",
      "102 matching events found\n",
      "No baseline correction applied\n",
      "0 projection items activated\n",
      "Ready.\n",
      "(62, 1000)\n",
      "(62, 1000)\n",
      "Extracting parameters from E:/standard and novel/sub26/standard.set...\n"
     ]
    },
    {
     "name": "stderr",
     "output_type": "stream",
     "text": [
      "<ipython-input-27-5128ab89d92c>:9: RuntimeWarning: At least one epoch has multiple events. Only the latency of the first event will be retained.\n",
      "  standard_epochs = mne.io.read_epochs_eeglab(standard_data_path)\n"
     ]
    },
    {
     "name": "stdout",
     "output_type": "stream",
     "text": [
      "Not setting metadata\n",
      "Not setting metadata\n",
      "97 matching events found\n",
      "No baseline correction applied\n",
      "0 projection items activated\n",
      "Ready.\n",
      "(62, 1000)\n",
      "Extracting parameters from E:/standard and novel/sub26/novel.set...\n"
     ]
    },
    {
     "name": "stderr",
     "output_type": "stream",
     "text": [
      "<ipython-input-27-5128ab89d92c>:24: RuntimeWarning: At least one epoch has multiple events. Only the latency of the first event will be retained.\n",
      "  novel_epochs = mne.io.read_epochs_eeglab(novel_data_path)\n"
     ]
    },
    {
     "name": "stdout",
     "output_type": "stream",
     "text": [
      "Not setting metadata\n",
      "Not setting metadata\n",
      "95 matching events found\n",
      "No baseline correction applied\n",
      "0 projection items activated\n",
      "Ready.\n",
      "(62, 1000)\n",
      "(62, 1000)\n",
      "Extracting parameters from E:/standard and novel/sub27/standard.set...\n"
     ]
    },
    {
     "name": "stderr",
     "output_type": "stream",
     "text": [
      "<ipython-input-27-5128ab89d92c>:9: RuntimeWarning: At least one epoch has multiple events. Only the latency of the first event will be retained.\n",
      "  standard_epochs = mne.io.read_epochs_eeglab(standard_data_path)\n"
     ]
    },
    {
     "name": "stdout",
     "output_type": "stream",
     "text": [
      "Not setting metadata\n",
      "Not setting metadata\n",
      "102 matching events found\n",
      "No baseline correction applied\n",
      "0 projection items activated\n",
      "Ready.\n",
      "(62, 1000)\n",
      "Extracting parameters from E:/standard and novel/sub27/novel.set...\n"
     ]
    },
    {
     "name": "stderr",
     "output_type": "stream",
     "text": [
      "<ipython-input-27-5128ab89d92c>:24: RuntimeWarning: At least one epoch has multiple events. Only the latency of the first event will be retained.\n",
      "  novel_epochs = mne.io.read_epochs_eeglab(novel_data_path)\n"
     ]
    },
    {
     "name": "stdout",
     "output_type": "stream",
     "text": [
      "Not setting metadata\n",
      "Not setting metadata\n",
      "102 matching events found\n",
      "No baseline correction applied\n",
      "0 projection items activated\n",
      "Ready.\n",
      "(62, 1000)\n",
      "(62, 1000)\n",
      "Extracting parameters from E:/standard and novel/sub28/standard.set...\n"
     ]
    },
    {
     "name": "stderr",
     "output_type": "stream",
     "text": [
      "<ipython-input-27-5128ab89d92c>:9: RuntimeWarning: At least one epoch has multiple events. Only the latency of the first event will be retained.\n",
      "  standard_epochs = mne.io.read_epochs_eeglab(standard_data_path)\n"
     ]
    },
    {
     "name": "stdout",
     "output_type": "stream",
     "text": [
      "Not setting metadata\n",
      "Not setting metadata\n",
      "95 matching events found\n",
      "No baseline correction applied\n",
      "0 projection items activated\n",
      "Ready.\n",
      "(62, 1000)\n",
      "Extracting parameters from E:/standard and novel/sub28/novel.set...\n"
     ]
    },
    {
     "name": "stderr",
     "output_type": "stream",
     "text": [
      "<ipython-input-27-5128ab89d92c>:24: RuntimeWarning: At least one epoch has multiple events. Only the latency of the first event will be retained.\n",
      "  novel_epochs = mne.io.read_epochs_eeglab(novel_data_path)\n"
     ]
    },
    {
     "name": "stdout",
     "output_type": "stream",
     "text": [
      "Not setting metadata\n",
      "Not setting metadata\n",
      "95 matching events found\n",
      "No baseline correction applied\n",
      "0 projection items activated\n",
      "Ready.\n",
      "(62, 1000)\n",
      "(62, 1000)\n",
      "Extracting parameters from E:/standard and novel/sub29/standard.set...\n"
     ]
    },
    {
     "name": "stderr",
     "output_type": "stream",
     "text": [
      "<ipython-input-27-5128ab89d92c>:9: RuntimeWarning: At least one epoch has multiple events. Only the latency of the first event will be retained.\n",
      "  standard_epochs = mne.io.read_epochs_eeglab(standard_data_path)\n"
     ]
    },
    {
     "name": "stdout",
     "output_type": "stream",
     "text": [
      "Not setting metadata\n",
      "Not setting metadata\n",
      "102 matching events found\n",
      "No baseline correction applied\n",
      "0 projection items activated\n",
      "Ready.\n",
      "(62, 1000)\n",
      "Extracting parameters from E:/standard and novel/sub29/novel.set...\n"
     ]
    },
    {
     "name": "stderr",
     "output_type": "stream",
     "text": [
      "<ipython-input-27-5128ab89d92c>:24: RuntimeWarning: At least one epoch has multiple events. Only the latency of the first event will be retained.\n",
      "  novel_epochs = mne.io.read_epochs_eeglab(novel_data_path)\n"
     ]
    },
    {
     "name": "stdout",
     "output_type": "stream",
     "text": [
      "Not setting metadata\n",
      "Not setting metadata\n",
      "102 matching events found\n",
      "No baseline correction applied\n",
      "0 projection items activated\n",
      "Ready.\n",
      "(62, 1000)\n",
      "(62, 1000)\n",
      "Extracting parameters from E:/standard and novel/sub30/standard.set...\n"
     ]
    },
    {
     "name": "stderr",
     "output_type": "stream",
     "text": [
      "<ipython-input-27-5128ab89d92c>:9: RuntimeWarning: At least one epoch has multiple events. Only the latency of the first event will be retained.\n",
      "  standard_epochs = mne.io.read_epochs_eeglab(standard_data_path)\n"
     ]
    },
    {
     "name": "stdout",
     "output_type": "stream",
     "text": [
      "Not setting metadata\n",
      "Not setting metadata\n",
      "100 matching events found\n",
      "No baseline correction applied\n",
      "0 projection items activated\n",
      "Ready.\n",
      "(62, 1000)\n",
      "Extracting parameters from E:/standard and novel/sub30/novel.set...\n"
     ]
    },
    {
     "name": "stderr",
     "output_type": "stream",
     "text": [
      "<ipython-input-27-5128ab89d92c>:24: RuntimeWarning: At least one epoch has multiple events. Only the latency of the first event will be retained.\n",
      "  novel_epochs = mne.io.read_epochs_eeglab(novel_data_path)\n"
     ]
    },
    {
     "name": "stdout",
     "output_type": "stream",
     "text": [
      "Not setting metadata\n",
      "Not setting metadata\n",
      "101 matching events found\n",
      "No baseline correction applied\n",
      "0 projection items activated\n",
      "Ready.\n",
      "(62, 1000)\n",
      "(62, 1000)\n",
      "Extracting parameters from E:/standard and novel/sub31/standard.set...\n"
     ]
    },
    {
     "name": "stderr",
     "output_type": "stream",
     "text": [
      "<ipython-input-27-5128ab89d92c>:9: RuntimeWarning: At least one epoch has multiple events. Only the latency of the first event will be retained.\n",
      "  standard_epochs = mne.io.read_epochs_eeglab(standard_data_path)\n"
     ]
    },
    {
     "name": "stdout",
     "output_type": "stream",
     "text": [
      "Not setting metadata\n",
      "Not setting metadata\n",
      "101 matching events found\n",
      "No baseline correction applied\n",
      "0 projection items activated\n",
      "Ready.\n",
      "(61, 1000)\n",
      "Extracting parameters from E:/standard and novel/sub31/novel.set...\n"
     ]
    },
    {
     "name": "stderr",
     "output_type": "stream",
     "text": [
      "<ipython-input-27-5128ab89d92c>:24: RuntimeWarning: At least one epoch has multiple events. Only the latency of the first event will be retained.\n",
      "  novel_epochs = mne.io.read_epochs_eeglab(novel_data_path)\n"
     ]
    },
    {
     "name": "stdout",
     "output_type": "stream",
     "text": [
      "Not setting metadata\n",
      "Not setting metadata\n",
      "100 matching events found\n",
      "No baseline correction applied\n",
      "0 projection items activated\n",
      "Ready.\n",
      "(61, 1000)\n",
      "(61, 1000)\n",
      "Extracting parameters from E:/standard and novel/sub32/standard.set...\n"
     ]
    },
    {
     "name": "stderr",
     "output_type": "stream",
     "text": [
      "<ipython-input-27-5128ab89d92c>:9: RuntimeWarning: At least one epoch has multiple events. Only the latency of the first event will be retained.\n",
      "  standard_epochs = mne.io.read_epochs_eeglab(standard_data_path)\n"
     ]
    },
    {
     "name": "stdout",
     "output_type": "stream",
     "text": [
      "Not setting metadata\n",
      "Not setting metadata\n",
      "102 matching events found\n",
      "No baseline correction applied\n",
      "0 projection items activated\n",
      "Ready.\n",
      "(62, 1000)\n",
      "Extracting parameters from E:/standard and novel/sub32/novel.set...\n"
     ]
    },
    {
     "name": "stderr",
     "output_type": "stream",
     "text": [
      "<ipython-input-27-5128ab89d92c>:24: RuntimeWarning: At least one epoch has multiple events. Only the latency of the first event will be retained.\n",
      "  novel_epochs = mne.io.read_epochs_eeglab(novel_data_path)\n"
     ]
    },
    {
     "name": "stdout",
     "output_type": "stream",
     "text": [
      "Not setting metadata\n",
      "Not setting metadata\n",
      "101 matching events found\n",
      "No baseline correction applied\n",
      "0 projection items activated\n",
      "Ready.\n",
      "(62, 1000)\n",
      "(62, 1000)\n",
      "Extracting parameters from E:/standard and novel/sub33/standard.set...\n"
     ]
    },
    {
     "name": "stderr",
     "output_type": "stream",
     "text": [
      "<ipython-input-27-5128ab89d92c>:9: RuntimeWarning: At least one epoch has multiple events. Only the latency of the first event will be retained.\n",
      "  standard_epochs = mne.io.read_epochs_eeglab(standard_data_path)\n"
     ]
    },
    {
     "name": "stdout",
     "output_type": "stream",
     "text": [
      "Not setting metadata\n",
      "Not setting metadata\n",
      "91 matching events found\n",
      "No baseline correction applied\n",
      "0 projection items activated\n",
      "Ready.\n",
      "(62, 1000)\n",
      "Extracting parameters from E:/standard and novel/sub33/novel.set...\n"
     ]
    },
    {
     "name": "stderr",
     "output_type": "stream",
     "text": [
      "<ipython-input-27-5128ab89d92c>:24: RuntimeWarning: At least one epoch has multiple events. Only the latency of the first event will be retained.\n",
      "  novel_epochs = mne.io.read_epochs_eeglab(novel_data_path)\n"
     ]
    },
    {
     "name": "stdout",
     "output_type": "stream",
     "text": [
      "Not setting metadata\n",
      "Not setting metadata\n",
      "89 matching events found\n",
      "No baseline correction applied\n",
      "0 projection items activated\n",
      "Ready.\n",
      "(62, 1000)\n",
      "(62, 1000)\n",
      "Extracting parameters from E:/standard and novel/sub34/standard.set...\n"
     ]
    },
    {
     "name": "stderr",
     "output_type": "stream",
     "text": [
      "<ipython-input-27-5128ab89d92c>:9: RuntimeWarning: At least one epoch has multiple events. Only the latency of the first event will be retained.\n",
      "  standard_epochs = mne.io.read_epochs_eeglab(standard_data_path)\n"
     ]
    },
    {
     "name": "stdout",
     "output_type": "stream",
     "text": [
      "Not setting metadata\n",
      "Not setting metadata\n",
      "102 matching events found\n",
      "No baseline correction applied\n",
      "0 projection items activated\n",
      "Ready.\n",
      "(62, 1000)\n",
      "Extracting parameters from E:/standard and novel/sub34/novel.set...\n"
     ]
    },
    {
     "name": "stderr",
     "output_type": "stream",
     "text": [
      "<ipython-input-27-5128ab89d92c>:24: RuntimeWarning: At least one epoch has multiple events. Only the latency of the first event will be retained.\n",
      "  novel_epochs = mne.io.read_epochs_eeglab(novel_data_path)\n"
     ]
    },
    {
     "name": "stdout",
     "output_type": "stream",
     "text": [
      "Not setting metadata\n",
      "Not setting metadata\n",
      "102 matching events found\n",
      "No baseline correction applied\n",
      "0 projection items activated\n",
      "Ready.\n",
      "(62, 1000)\n",
      "(62, 1000)\n",
      "Extracting parameters from E:/standard and novel/sub35/standard.set...\n"
     ]
    },
    {
     "name": "stderr",
     "output_type": "stream",
     "text": [
      "<ipython-input-27-5128ab89d92c>:9: RuntimeWarning: At least one epoch has multiple events. Only the latency of the first event will be retained.\n",
      "  standard_epochs = mne.io.read_epochs_eeglab(standard_data_path)\n"
     ]
    },
    {
     "name": "stdout",
     "output_type": "stream",
     "text": [
      "Not setting metadata\n",
      "Not setting metadata\n",
      "101 matching events found\n",
      "No baseline correction applied\n",
      "0 projection items activated\n",
      "Ready.\n",
      "(62, 1000)\n",
      "Extracting parameters from E:/standard and novel/sub35/novel.set...\n"
     ]
    },
    {
     "name": "stderr",
     "output_type": "stream",
     "text": [
      "<ipython-input-27-5128ab89d92c>:24: RuntimeWarning: At least one epoch has multiple events. Only the latency of the first event will be retained.\n",
      "  novel_epochs = mne.io.read_epochs_eeglab(novel_data_path)\n"
     ]
    },
    {
     "name": "stdout",
     "output_type": "stream",
     "text": [
      "Not setting metadata\n",
      "Not setting metadata\n",
      "101 matching events found\n",
      "No baseline correction applied\n",
      "0 projection items activated\n",
      "Ready.\n",
      "(62, 1000)\n",
      "(62, 1000)\n",
      "Extracting parameters from E:/standard and novel/sub36/standard.set...\n"
     ]
    },
    {
     "name": "stderr",
     "output_type": "stream",
     "text": [
      "<ipython-input-27-5128ab89d92c>:9: RuntimeWarning: At least one epoch has multiple events. Only the latency of the first event will be retained.\n",
      "  standard_epochs = mne.io.read_epochs_eeglab(standard_data_path)\n"
     ]
    },
    {
     "name": "stdout",
     "output_type": "stream",
     "text": [
      "Not setting metadata\n",
      "Not setting metadata\n",
      "102 matching events found\n",
      "No baseline correction applied\n",
      "0 projection items activated\n",
      "Ready.\n",
      "(62, 1000)\n",
      "Extracting parameters from E:/standard and novel/sub36/novel.set...\n"
     ]
    },
    {
     "name": "stderr",
     "output_type": "stream",
     "text": [
      "<ipython-input-27-5128ab89d92c>:24: RuntimeWarning: At least one epoch has multiple events. Only the latency of the first event will be retained.\n",
      "  novel_epochs = mne.io.read_epochs_eeglab(novel_data_path)\n"
     ]
    },
    {
     "name": "stdout",
     "output_type": "stream",
     "text": [
      "Not setting metadata\n",
      "Not setting metadata\n",
      "102 matching events found\n",
      "No baseline correction applied\n",
      "0 projection items activated\n",
      "Ready.\n",
      "(62, 1000)\n",
      "(62, 1000)\n",
      "Extracting parameters from E:/standard and novel/sub37/standard.set...\n"
     ]
    },
    {
     "name": "stderr",
     "output_type": "stream",
     "text": [
      "<ipython-input-27-5128ab89d92c>:9: RuntimeWarning: At least one epoch has multiple events. Only the latency of the first event will be retained.\n",
      "  standard_epochs = mne.io.read_epochs_eeglab(standard_data_path)\n"
     ]
    },
    {
     "name": "stdout",
     "output_type": "stream",
     "text": [
      "Not setting metadata\n",
      "Not setting metadata\n",
      "95 matching events found\n",
      "No baseline correction applied\n",
      "0 projection items activated\n",
      "Ready.\n",
      "(62, 1000)\n",
      "Extracting parameters from E:/standard and novel/sub37/novel.set...\n"
     ]
    },
    {
     "name": "stderr",
     "output_type": "stream",
     "text": [
      "<ipython-input-27-5128ab89d92c>:24: RuntimeWarning: At least one epoch has multiple events. Only the latency of the first event will be retained.\n",
      "  novel_epochs = mne.io.read_epochs_eeglab(novel_data_path)\n"
     ]
    },
    {
     "name": "stdout",
     "output_type": "stream",
     "text": [
      "Not setting metadata\n",
      "Not setting metadata\n",
      "89 matching events found\n",
      "No baseline correction applied\n",
      "0 projection items activated\n",
      "Ready.\n",
      "(62, 1000)\n",
      "(62, 1000)\n",
      "Extracting parameters from E:/standard and novel/sub38/standard.set...\n"
     ]
    },
    {
     "name": "stderr",
     "output_type": "stream",
     "text": [
      "<ipython-input-27-5128ab89d92c>:9: RuntimeWarning: At least one epoch has multiple events. Only the latency of the first event will be retained.\n",
      "  standard_epochs = mne.io.read_epochs_eeglab(standard_data_path)\n"
     ]
    },
    {
     "name": "stdout",
     "output_type": "stream",
     "text": [
      "Not setting metadata\n",
      "Not setting metadata\n",
      "102 matching events found\n",
      "No baseline correction applied\n",
      "0 projection items activated\n",
      "Ready.\n",
      "(62, 1000)\n",
      "Extracting parameters from E:/standard and novel/sub38/novel.set...\n"
     ]
    },
    {
     "name": "stderr",
     "output_type": "stream",
     "text": [
      "<ipython-input-27-5128ab89d92c>:24: RuntimeWarning: At least one epoch has multiple events. Only the latency of the first event will be retained.\n",
      "  novel_epochs = mne.io.read_epochs_eeglab(novel_data_path)\n"
     ]
    },
    {
     "name": "stdout",
     "output_type": "stream",
     "text": [
      "Not setting metadata\n",
      "Not setting metadata\n",
      "102 matching events found\n",
      "No baseline correction applied\n",
      "0 projection items activated\n",
      "Ready.\n",
      "(62, 1000)\n",
      "(62, 1000)\n",
      "Extracting parameters from E:/standard and novel/sub39/standard.set...\n"
     ]
    },
    {
     "name": "stderr",
     "output_type": "stream",
     "text": [
      "<ipython-input-27-5128ab89d92c>:9: RuntimeWarning: At least one epoch has multiple events. Only the latency of the first event will be retained.\n",
      "  standard_epochs = mne.io.read_epochs_eeglab(standard_data_path)\n"
     ]
    },
    {
     "name": "stdout",
     "output_type": "stream",
     "text": [
      "Not setting metadata\n",
      "Not setting metadata\n",
      "95 matching events found\n",
      "No baseline correction applied\n",
      "0 projection items activated\n",
      "Ready.\n",
      "(62, 1000)\n",
      "Extracting parameters from E:/standard and novel/sub39/novel.set...\n"
     ]
    },
    {
     "name": "stderr",
     "output_type": "stream",
     "text": [
      "<ipython-input-27-5128ab89d92c>:24: RuntimeWarning: At least one epoch has multiple events. Only the latency of the first event will be retained.\n",
      "  novel_epochs = mne.io.read_epochs_eeglab(novel_data_path)\n"
     ]
    },
    {
     "name": "stdout",
     "output_type": "stream",
     "text": [
      "Not setting metadata\n",
      "Not setting metadata\n",
      "87 matching events found\n",
      "No baseline correction applied\n",
      "0 projection items activated\n",
      "Ready.\n",
      "(62, 1000)\n",
      "(62, 1000)\n",
      "Extracting parameters from E:/standard and novel/sub40/standard.set...\n"
     ]
    },
    {
     "name": "stderr",
     "output_type": "stream",
     "text": [
      "<ipython-input-27-5128ab89d92c>:9: RuntimeWarning: At least one epoch has multiple events. Only the latency of the first event will be retained.\n",
      "  standard_epochs = mne.io.read_epochs_eeglab(standard_data_path)\n"
     ]
    },
    {
     "name": "stdout",
     "output_type": "stream",
     "text": [
      "Not setting metadata\n",
      "Not setting metadata\n",
      "101 matching events found\n",
      "No baseline correction applied\n",
      "0 projection items activated\n",
      "Ready.\n",
      "(61, 1000)\n",
      "Extracting parameters from E:/standard and novel/sub40/novel.set...\n"
     ]
    },
    {
     "name": "stderr",
     "output_type": "stream",
     "text": [
      "<ipython-input-27-5128ab89d92c>:24: RuntimeWarning: At least one epoch has multiple events. Only the latency of the first event will be retained.\n",
      "  novel_epochs = mne.io.read_epochs_eeglab(novel_data_path)\n"
     ]
    },
    {
     "name": "stdout",
     "output_type": "stream",
     "text": [
      "Not setting metadata\n",
      "Not setting metadata\n",
      "96 matching events found\n",
      "No baseline correction applied\n",
      "0 projection items activated\n",
      "Ready.\n",
      "(61, 1000)\n",
      "(61, 1000)\n",
      "Extracting parameters from E:/standard and novel/sub41/standard.set...\n"
     ]
    },
    {
     "name": "stderr",
     "output_type": "stream",
     "text": [
      "<ipython-input-27-5128ab89d92c>:9: RuntimeWarning: At least one epoch has multiple events. Only the latency of the first event will be retained.\n",
      "  standard_epochs = mne.io.read_epochs_eeglab(standard_data_path)\n"
     ]
    },
    {
     "name": "stdout",
     "output_type": "stream",
     "text": [
      "Not setting metadata\n",
      "Not setting metadata\n",
      "102 matching events found\n",
      "No baseline correction applied\n",
      "0 projection items activated\n",
      "Ready.\n",
      "(60, 1000)\n",
      "Extracting parameters from E:/standard and novel/sub41/novel.set...\n"
     ]
    },
    {
     "name": "stderr",
     "output_type": "stream",
     "text": [
      "<ipython-input-27-5128ab89d92c>:24: RuntimeWarning: At least one epoch has multiple events. Only the latency of the first event will be retained.\n",
      "  novel_epochs = mne.io.read_epochs_eeglab(novel_data_path)\n"
     ]
    },
    {
     "name": "stdout",
     "output_type": "stream",
     "text": [
      "Not setting metadata\n",
      "Not setting metadata\n",
      "102 matching events found\n",
      "No baseline correction applied\n",
      "0 projection items activated\n",
      "Ready.\n",
      "(60, 1000)\n",
      "(60, 1000)\n",
      "Extracting parameters from E:/standard and novel/sub42/standard.set...\n"
     ]
    },
    {
     "name": "stderr",
     "output_type": "stream",
     "text": [
      "<ipython-input-27-5128ab89d92c>:9: RuntimeWarning: At least one epoch has multiple events. Only the latency of the first event will be retained.\n",
      "  standard_epochs = mne.io.read_epochs_eeglab(standard_data_path)\n"
     ]
    },
    {
     "name": "stdout",
     "output_type": "stream",
     "text": [
      "Not setting metadata\n",
      "Not setting metadata\n",
      "100 matching events found\n",
      "No baseline correction applied\n",
      "0 projection items activated\n",
      "Ready.\n",
      "(60, 1000)\n",
      "Extracting parameters from E:/standard and novel/sub42/novel.set...\n"
     ]
    },
    {
     "name": "stderr",
     "output_type": "stream",
     "text": [
      "<ipython-input-27-5128ab89d92c>:24: RuntimeWarning: At least one epoch has multiple events. Only the latency of the first event will be retained.\n",
      "  novel_epochs = mne.io.read_epochs_eeglab(novel_data_path)\n"
     ]
    },
    {
     "name": "stdout",
     "output_type": "stream",
     "text": [
      "Not setting metadata\n",
      "Not setting metadata\n",
      "101 matching events found\n",
      "No baseline correction applied\n",
      "0 projection items activated\n",
      "Ready.\n",
      "(60, 1000)\n",
      "(60, 1000)\n",
      "Extracting parameters from E:/standard and novel/sub43/standard.set...\n"
     ]
    },
    {
     "name": "stderr",
     "output_type": "stream",
     "text": [
      "<ipython-input-27-5128ab89d92c>:9: RuntimeWarning: At least one epoch has multiple events. Only the latency of the first event will be retained.\n",
      "  standard_epochs = mne.io.read_epochs_eeglab(standard_data_path)\n"
     ]
    },
    {
     "name": "stdout",
     "output_type": "stream",
     "text": [
      "Not setting metadata\n",
      "Not setting metadata\n",
      "102 matching events found\n",
      "No baseline correction applied\n",
      "0 projection items activated\n",
      "Ready.\n",
      "(62, 1000)\n",
      "Extracting parameters from E:/standard and novel/sub43/novel.set...\n"
     ]
    },
    {
     "name": "stderr",
     "output_type": "stream",
     "text": [
      "<ipython-input-27-5128ab89d92c>:24: RuntimeWarning: At least one epoch has multiple events. Only the latency of the first event will be retained.\n",
      "  novel_epochs = mne.io.read_epochs_eeglab(novel_data_path)\n"
     ]
    },
    {
     "name": "stdout",
     "output_type": "stream",
     "text": [
      "Not setting metadata\n",
      "Not setting metadata\n",
      "102 matching events found\n",
      "No baseline correction applied\n",
      "0 projection items activated\n",
      "Ready.\n",
      "(62, 1000)\n",
      "(62, 1000)\n",
      "Extracting parameters from E:/standard and novel/sub44/standard.set...\n"
     ]
    },
    {
     "name": "stderr",
     "output_type": "stream",
     "text": [
      "<ipython-input-27-5128ab89d92c>:9: RuntimeWarning: At least one epoch has multiple events. Only the latency of the first event will be retained.\n",
      "  standard_epochs = mne.io.read_epochs_eeglab(standard_data_path)\n"
     ]
    },
    {
     "name": "stdout",
     "output_type": "stream",
     "text": [
      "Not setting metadata\n",
      "Not setting metadata\n",
      "102 matching events found\n",
      "No baseline correction applied\n",
      "0 projection items activated\n",
      "Ready.\n",
      "(61, 1000)\n",
      "Extracting parameters from E:/standard and novel/sub44/novel.set...\n"
     ]
    },
    {
     "name": "stderr",
     "output_type": "stream",
     "text": [
      "<ipython-input-27-5128ab89d92c>:24: RuntimeWarning: At least one epoch has multiple events. Only the latency of the first event will be retained.\n",
      "  novel_epochs = mne.io.read_epochs_eeglab(novel_data_path)\n"
     ]
    },
    {
     "name": "stdout",
     "output_type": "stream",
     "text": [
      "Not setting metadata\n",
      "Not setting metadata\n",
      "101 matching events found\n",
      "No baseline correction applied\n",
      "0 projection items activated\n",
      "Ready.\n",
      "(61, 1000)\n",
      "(61, 1000)\n",
      "Extracting parameters from E:/standard and novel/sub45/standard.set...\n"
     ]
    },
    {
     "name": "stderr",
     "output_type": "stream",
     "text": [
      "<ipython-input-27-5128ab89d92c>:9: RuntimeWarning: At least one epoch has multiple events. Only the latency of the first event will be retained.\n",
      "  standard_epochs = mne.io.read_epochs_eeglab(standard_data_path)\n"
     ]
    },
    {
     "name": "stdout",
     "output_type": "stream",
     "text": [
      "Not setting metadata\n",
      "Not setting metadata\n",
      "102 matching events found\n",
      "No baseline correction applied\n",
      "0 projection items activated\n",
      "Ready.\n",
      "(62, 1000)\n",
      "Extracting parameters from E:/standard and novel/sub45/novel.set...\n"
     ]
    },
    {
     "name": "stderr",
     "output_type": "stream",
     "text": [
      "<ipython-input-27-5128ab89d92c>:24: RuntimeWarning: At least one epoch has multiple events. Only the latency of the first event will be retained.\n",
      "  novel_epochs = mne.io.read_epochs_eeglab(novel_data_path)\n"
     ]
    },
    {
     "name": "stdout",
     "output_type": "stream",
     "text": [
      "Not setting metadata\n",
      "Not setting metadata\n",
      "101 matching events found\n",
      "No baseline correction applied\n",
      "0 projection items activated\n",
      "Ready.\n",
      "(62, 1000)\n",
      "(62, 1000)\n",
      "Extracting parameters from E:/standard and novel/sub46/standard.set...\n"
     ]
    },
    {
     "name": "stderr",
     "output_type": "stream",
     "text": [
      "<ipython-input-27-5128ab89d92c>:9: RuntimeWarning: At least one epoch has multiple events. Only the latency of the first event will be retained.\n",
      "  standard_epochs = mne.io.read_epochs_eeglab(standard_data_path)\n"
     ]
    },
    {
     "name": "stdout",
     "output_type": "stream",
     "text": [
      "Not setting metadata\n",
      "Not setting metadata\n",
      "101 matching events found\n",
      "No baseline correction applied\n",
      "0 projection items activated\n",
      "Ready.\n",
      "(60, 1000)\n",
      "Extracting parameters from E:/standard and novel/sub46/novel.set...\n"
     ]
    },
    {
     "name": "stderr",
     "output_type": "stream",
     "text": [
      "<ipython-input-27-5128ab89d92c>:24: RuntimeWarning: At least one epoch has multiple events. Only the latency of the first event will be retained.\n",
      "  novel_epochs = mne.io.read_epochs_eeglab(novel_data_path)\n"
     ]
    },
    {
     "name": "stdout",
     "output_type": "stream",
     "text": [
      "Not setting metadata\n",
      "Not setting metadata\n",
      "102 matching events found\n",
      "No baseline correction applied\n",
      "0 projection items activated\n",
      "Ready.\n",
      "(60, 1000)\n",
      "(60, 1000)\n",
      "Extracting parameters from E:/standard and novel/sub47/standard.set...\n"
     ]
    },
    {
     "name": "stderr",
     "output_type": "stream",
     "text": [
      "<ipython-input-27-5128ab89d92c>:9: RuntimeWarning: At least one epoch has multiple events. Only the latency of the first event will be retained.\n",
      "  standard_epochs = mne.io.read_epochs_eeglab(standard_data_path)\n"
     ]
    },
    {
     "name": "stdout",
     "output_type": "stream",
     "text": [
      "Not setting metadata\n",
      "Not setting metadata\n",
      "99 matching events found\n",
      "No baseline correction applied\n",
      "0 projection items activated\n",
      "Ready.\n",
      "(62, 1000)\n",
      "Extracting parameters from E:/standard and novel/sub47/novel.set...\n"
     ]
    },
    {
     "name": "stderr",
     "output_type": "stream",
     "text": [
      "<ipython-input-27-5128ab89d92c>:24: RuntimeWarning: At least one epoch has multiple events. Only the latency of the first event will be retained.\n",
      "  novel_epochs = mne.io.read_epochs_eeglab(novel_data_path)\n"
     ]
    },
    {
     "name": "stdout",
     "output_type": "stream",
     "text": [
      "Not setting metadata\n",
      "Not setting metadata\n",
      "100 matching events found\n",
      "No baseline correction applied\n",
      "0 projection items activated\n",
      "Ready.\n",
      "(62, 1000)\n",
      "(62, 1000)\n",
      "Extracting parameters from E:/standard and novel/sub48/standard.set...\n"
     ]
    },
    {
     "name": "stderr",
     "output_type": "stream",
     "text": [
      "<ipython-input-27-5128ab89d92c>:9: RuntimeWarning: At least one epoch has multiple events. Only the latency of the first event will be retained.\n",
      "  standard_epochs = mne.io.read_epochs_eeglab(standard_data_path)\n"
     ]
    },
    {
     "name": "stdout",
     "output_type": "stream",
     "text": [
      "Not setting metadata\n",
      "Not setting metadata\n",
      "101 matching events found\n",
      "No baseline correction applied\n",
      "0 projection items activated\n",
      "Ready.\n",
      "(62, 1000)\n",
      "Extracting parameters from E:/standard and novel/sub48/novel.set...\n"
     ]
    },
    {
     "name": "stderr",
     "output_type": "stream",
     "text": [
      "<ipython-input-27-5128ab89d92c>:24: RuntimeWarning: At least one epoch has multiple events. Only the latency of the first event will be retained.\n",
      "  novel_epochs = mne.io.read_epochs_eeglab(novel_data_path)\n"
     ]
    },
    {
     "name": "stdout",
     "output_type": "stream",
     "text": [
      "Not setting metadata\n",
      "Not setting metadata\n",
      "100 matching events found\n",
      "No baseline correction applied\n",
      "0 projection items activated\n",
      "Ready.\n",
      "(62, 1000)\n",
      "(62, 1000)\n",
      "Extracting parameters from E:/standard and novel/sub49/standard.set...\n"
     ]
    },
    {
     "name": "stderr",
     "output_type": "stream",
     "text": [
      "<ipython-input-27-5128ab89d92c>:9: RuntimeWarning: At least one epoch has multiple events. Only the latency of the first event will be retained.\n",
      "  standard_epochs = mne.io.read_epochs_eeglab(standard_data_path)\n"
     ]
    },
    {
     "name": "stdout",
     "output_type": "stream",
     "text": [
      "Not setting metadata\n",
      "Not setting metadata\n",
      "102 matching events found\n",
      "No baseline correction applied\n",
      "0 projection items activated\n",
      "Ready.\n",
      "(62, 1000)\n",
      "Extracting parameters from E:/standard and novel/sub49/novel.set...\n"
     ]
    },
    {
     "name": "stderr",
     "output_type": "stream",
     "text": [
      "<ipython-input-27-5128ab89d92c>:24: RuntimeWarning: At least one epoch has multiple events. Only the latency of the first event will be retained.\n",
      "  novel_epochs = mne.io.read_epochs_eeglab(novel_data_path)\n"
     ]
    },
    {
     "name": "stdout",
     "output_type": "stream",
     "text": [
      "Not setting metadata\n",
      "Not setting metadata\n",
      "102 matching events found\n",
      "No baseline correction applied\n",
      "0 projection items activated\n",
      "Ready.\n",
      "(62, 1000)\n",
      "(62, 1000)\n",
      "Extracting parameters from E:/standard and novel/sub50/standard.set...\n"
     ]
    },
    {
     "name": "stderr",
     "output_type": "stream",
     "text": [
      "<ipython-input-27-5128ab89d92c>:9: RuntimeWarning: At least one epoch has multiple events. Only the latency of the first event will be retained.\n",
      "  standard_epochs = mne.io.read_epochs_eeglab(standard_data_path)\n"
     ]
    },
    {
     "name": "stdout",
     "output_type": "stream",
     "text": [
      "Not setting metadata\n",
      "Not setting metadata\n",
      "99 matching events found\n",
      "No baseline correction applied\n",
      "0 projection items activated\n",
      "Ready.\n",
      "(62, 1000)\n",
      "Extracting parameters from E:/standard and novel/sub50/novel.set...\n"
     ]
    },
    {
     "name": "stderr",
     "output_type": "stream",
     "text": [
      "<ipython-input-27-5128ab89d92c>:24: RuntimeWarning: At least one epoch has multiple events. Only the latency of the first event will be retained.\n",
      "  novel_epochs = mne.io.read_epochs_eeglab(novel_data_path)\n"
     ]
    },
    {
     "name": "stdout",
     "output_type": "stream",
     "text": [
      "Not setting metadata\n",
      "Not setting metadata\n",
      "98 matching events found\n",
      "No baseline correction applied\n",
      "0 projection items activated\n",
      "Ready.\n",
      "(62, 1000)\n",
      "(62, 1000)\n",
      "Extracting parameters from E:/standard and novel/sub51/standard.set...\n"
     ]
    },
    {
     "name": "stderr",
     "output_type": "stream",
     "text": [
      "<ipython-input-27-5128ab89d92c>:9: RuntimeWarning: At least one epoch has multiple events. Only the latency of the first event will be retained.\n",
      "  standard_epochs = mne.io.read_epochs_eeglab(standard_data_path)\n"
     ]
    },
    {
     "name": "stdout",
     "output_type": "stream",
     "text": [
      "Not setting metadata\n",
      "Not setting metadata\n",
      "94 matching events found\n",
      "No baseline correction applied\n",
      "0 projection items activated\n",
      "Ready.\n",
      "(62, 1000)\n",
      "Extracting parameters from E:/standard and novel/sub51/novel.set...\n"
     ]
    },
    {
     "name": "stderr",
     "output_type": "stream",
     "text": [
      "<ipython-input-27-5128ab89d92c>:24: RuntimeWarning: At least one epoch has multiple events. Only the latency of the first event will be retained.\n",
      "  novel_epochs = mne.io.read_epochs_eeglab(novel_data_path)\n"
     ]
    },
    {
     "name": "stdout",
     "output_type": "stream",
     "text": [
      "Not setting metadata\n",
      "Not setting metadata\n",
      "90 matching events found\n",
      "No baseline correction applied\n",
      "0 projection items activated\n",
      "Ready.\n",
      "(62, 1000)\n",
      "(62, 1000)\n",
      "Extracting parameters from E:/standard and novel/sub52/standard.set...\n"
     ]
    },
    {
     "name": "stderr",
     "output_type": "stream",
     "text": [
      "<ipython-input-27-5128ab89d92c>:9: RuntimeWarning: At least one epoch has multiple events. Only the latency of the first event will be retained.\n",
      "  standard_epochs = mne.io.read_epochs_eeglab(standard_data_path)\n"
     ]
    },
    {
     "name": "stdout",
     "output_type": "stream",
     "text": [
      "Not setting metadata\n",
      "Not setting metadata\n",
      "101 matching events found\n",
      "No baseline correction applied\n",
      "0 projection items activated\n",
      "Ready.\n",
      "(62, 1000)\n",
      "Extracting parameters from E:/standard and novel/sub52/novel.set...\n"
     ]
    },
    {
     "name": "stderr",
     "output_type": "stream",
     "text": [
      "<ipython-input-27-5128ab89d92c>:24: RuntimeWarning: At least one epoch has multiple events. Only the latency of the first event will be retained.\n",
      "  novel_epochs = mne.io.read_epochs_eeglab(novel_data_path)\n"
     ]
    },
    {
     "name": "stdout",
     "output_type": "stream",
     "text": [
      "Not setting metadata\n",
      "Not setting metadata\n",
      "102 matching events found\n",
      "No baseline correction applied\n",
      "0 projection items activated\n",
      "Ready.\n",
      "(62, 1000)\n",
      "(62, 1000)\n",
      "Extracting parameters from E:/standard and novel/sub53/standard.set...\n"
     ]
    },
    {
     "name": "stderr",
     "output_type": "stream",
     "text": [
      "<ipython-input-27-5128ab89d92c>:9: RuntimeWarning: At least one epoch has multiple events. Only the latency of the first event will be retained.\n",
      "  standard_epochs = mne.io.read_epochs_eeglab(standard_data_path)\n"
     ]
    },
    {
     "name": "stdout",
     "output_type": "stream",
     "text": [
      "Not setting metadata\n",
      "Not setting metadata\n",
      "102 matching events found\n",
      "No baseline correction applied\n",
      "0 projection items activated\n",
      "Ready.\n",
      "(62, 1000)\n",
      "Extracting parameters from E:/standard and novel/sub53/novel.set...\n"
     ]
    },
    {
     "name": "stderr",
     "output_type": "stream",
     "text": [
      "<ipython-input-27-5128ab89d92c>:24: RuntimeWarning: At least one epoch has multiple events. Only the latency of the first event will be retained.\n",
      "  novel_epochs = mne.io.read_epochs_eeglab(novel_data_path)\n"
     ]
    },
    {
     "name": "stdout",
     "output_type": "stream",
     "text": [
      "Not setting metadata\n",
      "Not setting metadata\n",
      "102 matching events found\n",
      "No baseline correction applied\n",
      "0 projection items activated\n",
      "Ready.\n",
      "(62, 1000)\n",
      "(62, 1000)\n",
      "Extracting parameters from E:/standard and novel/sub54/standard.set...\n"
     ]
    },
    {
     "name": "stderr",
     "output_type": "stream",
     "text": [
      "<ipython-input-27-5128ab89d92c>:9: RuntimeWarning: At least one epoch has multiple events. Only the latency of the first event will be retained.\n",
      "  standard_epochs = mne.io.read_epochs_eeglab(standard_data_path)\n"
     ]
    },
    {
     "name": "stdout",
     "output_type": "stream",
     "text": [
      "Not setting metadata\n",
      "Not setting metadata\n",
      "102 matching events found\n",
      "No baseline correction applied\n",
      "0 projection items activated\n",
      "Ready.\n",
      "(62, 1000)\n",
      "Extracting parameters from E:/standard and novel/sub54/novel.set...\n"
     ]
    },
    {
     "name": "stderr",
     "output_type": "stream",
     "text": [
      "<ipython-input-27-5128ab89d92c>:24: RuntimeWarning: At least one epoch has multiple events. Only the latency of the first event will be retained.\n",
      "  novel_epochs = mne.io.read_epochs_eeglab(novel_data_path)\n"
     ]
    },
    {
     "name": "stdout",
     "output_type": "stream",
     "text": [
      "Not setting metadata\n",
      "Not setting metadata\n",
      "102 matching events found\n",
      "No baseline correction applied\n",
      "0 projection items activated\n",
      "Ready.\n",
      "(62, 1000)\n",
      "(62, 1000)\n",
      "Extracting parameters from E:/standard and novel/sub55/standard.set...\n"
     ]
    },
    {
     "name": "stderr",
     "output_type": "stream",
     "text": [
      "<ipython-input-27-5128ab89d92c>:9: RuntimeWarning: At least one epoch has multiple events. Only the latency of the first event will be retained.\n",
      "  standard_epochs = mne.io.read_epochs_eeglab(standard_data_path)\n"
     ]
    },
    {
     "name": "stdout",
     "output_type": "stream",
     "text": [
      "Not setting metadata\n",
      "Not setting metadata\n",
      "102 matching events found\n",
      "No baseline correction applied\n",
      "0 projection items activated\n",
      "Ready.\n",
      "(62, 1000)\n",
      "Extracting parameters from E:/standard and novel/sub55/novel.set...\n"
     ]
    },
    {
     "name": "stderr",
     "output_type": "stream",
     "text": [
      "<ipython-input-27-5128ab89d92c>:24: RuntimeWarning: At least one epoch has multiple events. Only the latency of the first event will be retained.\n",
      "  novel_epochs = mne.io.read_epochs_eeglab(novel_data_path)\n"
     ]
    },
    {
     "name": "stdout",
     "output_type": "stream",
     "text": [
      "Not setting metadata\n",
      "Not setting metadata\n",
      "102 matching events found\n",
      "No baseline correction applied\n",
      "0 projection items activated\n",
      "Ready.\n",
      "(62, 1000)\n",
      "(62, 1000)\n",
      "Extracting parameters from E:/standard and novel/sub56/standard.set...\n"
     ]
    },
    {
     "name": "stderr",
     "output_type": "stream",
     "text": [
      "<ipython-input-27-5128ab89d92c>:9: RuntimeWarning: At least one epoch has multiple events. Only the latency of the first event will be retained.\n",
      "  standard_epochs = mne.io.read_epochs_eeglab(standard_data_path)\n"
     ]
    },
    {
     "name": "stdout",
     "output_type": "stream",
     "text": [
      "Not setting metadata\n",
      "Not setting metadata\n",
      "102 matching events found\n",
      "No baseline correction applied\n",
      "0 projection items activated\n",
      "Ready.\n",
      "(62, 1000)\n",
      "Extracting parameters from E:/standard and novel/sub56/novel.set...\n"
     ]
    },
    {
     "name": "stderr",
     "output_type": "stream",
     "text": [
      "<ipython-input-27-5128ab89d92c>:24: RuntimeWarning: At least one epoch has multiple events. Only the latency of the first event will be retained.\n",
      "  novel_epochs = mne.io.read_epochs_eeglab(novel_data_path)\n"
     ]
    },
    {
     "name": "stdout",
     "output_type": "stream",
     "text": [
      "Not setting metadata\n",
      "Not setting metadata\n",
      "102 matching events found\n",
      "No baseline correction applied\n",
      "0 projection items activated\n",
      "Ready.\n",
      "(62, 1000)\n",
      "(62, 1000)\n",
      "Extracting parameters from E:/standard and novel/sub57/standard.set...\n"
     ]
    },
    {
     "name": "stderr",
     "output_type": "stream",
     "text": [
      "<ipython-input-27-5128ab89d92c>:9: RuntimeWarning: At least one epoch has multiple events. Only the latency of the first event will be retained.\n",
      "  standard_epochs = mne.io.read_epochs_eeglab(standard_data_path)\n"
     ]
    },
    {
     "name": "stdout",
     "output_type": "stream",
     "text": [
      "Not setting metadata\n",
      "Not setting metadata\n",
      "93 matching events found\n",
      "No baseline correction applied\n",
      "0 projection items activated\n",
      "Ready.\n",
      "(62, 1000)\n",
      "Extracting parameters from E:/standard and novel/sub57/novel.set...\n"
     ]
    },
    {
     "name": "stderr",
     "output_type": "stream",
     "text": [
      "<ipython-input-27-5128ab89d92c>:24: RuntimeWarning: At least one epoch has multiple events. Only the latency of the first event will be retained.\n",
      "  novel_epochs = mne.io.read_epochs_eeglab(novel_data_path)\n"
     ]
    },
    {
     "name": "stdout",
     "output_type": "stream",
     "text": [
      "Not setting metadata\n",
      "Not setting metadata\n",
      "93 matching events found\n",
      "No baseline correction applied\n",
      "0 projection items activated\n",
      "Ready.\n",
      "(62, 1000)\n",
      "(62, 1000)\n",
      "Extracting parameters from E:/standard and novel/sub58/standard.set...\n"
     ]
    },
    {
     "name": "stderr",
     "output_type": "stream",
     "text": [
      "<ipython-input-27-5128ab89d92c>:9: RuntimeWarning: At least one epoch has multiple events. Only the latency of the first event will be retained.\n",
      "  standard_epochs = mne.io.read_epochs_eeglab(standard_data_path)\n"
     ]
    },
    {
     "name": "stdout",
     "output_type": "stream",
     "text": [
      "Not setting metadata\n",
      "Not setting metadata\n",
      "102 matching events found\n",
      "No baseline correction applied\n",
      "0 projection items activated\n",
      "Ready.\n",
      "(62, 1000)\n",
      "Extracting parameters from E:/standard and novel/sub58/novel.set...\n"
     ]
    },
    {
     "name": "stderr",
     "output_type": "stream",
     "text": [
      "<ipython-input-27-5128ab89d92c>:24: RuntimeWarning: At least one epoch has multiple events. Only the latency of the first event will be retained.\n",
      "  novel_epochs = mne.io.read_epochs_eeglab(novel_data_path)\n"
     ]
    },
    {
     "name": "stdout",
     "output_type": "stream",
     "text": [
      "Not setting metadata\n",
      "Not setting metadata\n",
      "102 matching events found\n",
      "No baseline correction applied\n",
      "0 projection items activated\n",
      "Ready.\n",
      "(62, 1000)\n",
      "(62, 1000)\n",
      "Extracting parameters from E:/standard and novel/sub59/standard.set...\n"
     ]
    },
    {
     "name": "stderr",
     "output_type": "stream",
     "text": [
      "<ipython-input-27-5128ab89d92c>:9: RuntimeWarning: At least one epoch has multiple events. Only the latency of the first event will be retained.\n",
      "  standard_epochs = mne.io.read_epochs_eeglab(standard_data_path)\n"
     ]
    },
    {
     "name": "stdout",
     "output_type": "stream",
     "text": [
      "Not setting metadata\n",
      "Not setting metadata\n",
      "94 matching events found\n",
      "No baseline correction applied\n",
      "0 projection items activated\n",
      "Ready.\n",
      "(62, 1000)\n",
      "Extracting parameters from E:/standard and novel/sub59/novel.set...\n"
     ]
    },
    {
     "name": "stderr",
     "output_type": "stream",
     "text": [
      "<ipython-input-27-5128ab89d92c>:24: RuntimeWarning: At least one epoch has multiple events. Only the latency of the first event will be retained.\n",
      "  novel_epochs = mne.io.read_epochs_eeglab(novel_data_path)\n"
     ]
    },
    {
     "name": "stdout",
     "output_type": "stream",
     "text": [
      "Not setting metadata\n",
      "Not setting metadata\n",
      "97 matching events found\n",
      "No baseline correction applied\n",
      "0 projection items activated\n",
      "Ready.\n",
      "(62, 1000)\n",
      "(62, 1000)\n",
      "Extracting parameters from E:/standard and novel/sub60/standard.set...\n"
     ]
    },
    {
     "name": "stderr",
     "output_type": "stream",
     "text": [
      "<ipython-input-27-5128ab89d92c>:9: RuntimeWarning: At least one epoch has multiple events. Only the latency of the first event will be retained.\n",
      "  standard_epochs = mne.io.read_epochs_eeglab(standard_data_path)\n"
     ]
    },
    {
     "name": "stdout",
     "output_type": "stream",
     "text": [
      "Not setting metadata\n",
      "Not setting metadata\n",
      "96 matching events found\n",
      "No baseline correction applied\n",
      "0 projection items activated\n",
      "Ready.\n",
      "(62, 1000)\n",
      "Extracting parameters from E:/standard and novel/sub60/novel.set...\n"
     ]
    },
    {
     "name": "stderr",
     "output_type": "stream",
     "text": [
      "<ipython-input-27-5128ab89d92c>:24: RuntimeWarning: At least one epoch has multiple events. Only the latency of the first event will be retained.\n",
      "  novel_epochs = mne.io.read_epochs_eeglab(novel_data_path)\n"
     ]
    },
    {
     "name": "stdout",
     "output_type": "stream",
     "text": [
      "Not setting metadata\n",
      "Not setting metadata\n",
      "99 matching events found\n",
      "No baseline correction applied\n",
      "0 projection items activated\n",
      "Ready.\n",
      "(62, 1000)\n",
      "(62, 1000)\n",
      "Extracting parameters from E:/standard and novel/sub61/standard.set...\n"
     ]
    },
    {
     "name": "stderr",
     "output_type": "stream",
     "text": [
      "<ipython-input-27-5128ab89d92c>:9: RuntimeWarning: At least one epoch has multiple events. Only the latency of the first event will be retained.\n",
      "  standard_epochs = mne.io.read_epochs_eeglab(standard_data_path)\n"
     ]
    },
    {
     "name": "stdout",
     "output_type": "stream",
     "text": [
      "Not setting metadata\n",
      "Not setting metadata\n",
      "96 matching events found\n",
      "No baseline correction applied\n",
      "0 projection items activated\n",
      "Ready.\n",
      "(62, 1000)\n",
      "Extracting parameters from E:/standard and novel/sub61/novel.set...\n"
     ]
    },
    {
     "name": "stderr",
     "output_type": "stream",
     "text": [
      "<ipython-input-27-5128ab89d92c>:24: RuntimeWarning: At least one epoch has multiple events. Only the latency of the first event will be retained.\n",
      "  novel_epochs = mne.io.read_epochs_eeglab(novel_data_path)\n"
     ]
    },
    {
     "name": "stdout",
     "output_type": "stream",
     "text": [
      "Not setting metadata\n",
      "Not setting metadata\n",
      "94 matching events found\n",
      "No baseline correction applied\n",
      "0 projection items activated\n",
      "Ready.\n",
      "(62, 1000)\n",
      "(62, 1000)\n",
      "Extracting parameters from E:/standard and novel/sub62/standard.set...\n"
     ]
    },
    {
     "name": "stderr",
     "output_type": "stream",
     "text": [
      "<ipython-input-27-5128ab89d92c>:9: RuntimeWarning: At least one epoch has multiple events. Only the latency of the first event will be retained.\n",
      "  standard_epochs = mne.io.read_epochs_eeglab(standard_data_path)\n"
     ]
    },
    {
     "name": "stdout",
     "output_type": "stream",
     "text": [
      "Not setting metadata\n",
      "Not setting metadata\n",
      "100 matching events found\n",
      "No baseline correction applied\n",
      "0 projection items activated\n",
      "Ready.\n",
      "(62, 1000)\n",
      "Extracting parameters from E:/standard and novel/sub62/novel.set...\n"
     ]
    },
    {
     "name": "stderr",
     "output_type": "stream",
     "text": [
      "<ipython-input-27-5128ab89d92c>:24: RuntimeWarning: At least one epoch has multiple events. Only the latency of the first event will be retained.\n",
      "  novel_epochs = mne.io.read_epochs_eeglab(novel_data_path)\n"
     ]
    },
    {
     "name": "stdout",
     "output_type": "stream",
     "text": [
      "Not setting metadata\n",
      "Not setting metadata\n",
      "99 matching events found\n",
      "No baseline correction applied\n",
      "0 projection items activated\n",
      "Ready.\n",
      "(62, 1000)\n",
      "(62, 1000)\n",
      "Extracting parameters from E:/standard and novel/sub63/standard.set...\n"
     ]
    },
    {
     "name": "stderr",
     "output_type": "stream",
     "text": [
      "<ipython-input-27-5128ab89d92c>:9: RuntimeWarning: At least one epoch has multiple events. Only the latency of the first event will be retained.\n",
      "  standard_epochs = mne.io.read_epochs_eeglab(standard_data_path)\n"
     ]
    },
    {
     "name": "stdout",
     "output_type": "stream",
     "text": [
      "Not setting metadata\n",
      "Not setting metadata\n",
      "102 matching events found\n",
      "No baseline correction applied\n",
      "0 projection items activated\n",
      "Ready.\n",
      "(62, 1000)\n",
      "Extracting parameters from E:/standard and novel/sub63/novel.set...\n"
     ]
    },
    {
     "name": "stderr",
     "output_type": "stream",
     "text": [
      "<ipython-input-27-5128ab89d92c>:24: RuntimeWarning: At least one epoch has multiple events. Only the latency of the first event will be retained.\n",
      "  novel_epochs = mne.io.read_epochs_eeglab(novel_data_path)\n"
     ]
    },
    {
     "name": "stdout",
     "output_type": "stream",
     "text": [
      "Not setting metadata\n",
      "Not setting metadata\n",
      "102 matching events found\n",
      "No baseline correction applied\n",
      "0 projection items activated\n",
      "Ready.\n",
      "(62, 1000)\n",
      "(62, 1000)\n",
      "Extracting parameters from E:/standard and novel/sub64/standard.set...\n"
     ]
    },
    {
     "name": "stderr",
     "output_type": "stream",
     "text": [
      "<ipython-input-27-5128ab89d92c>:9: RuntimeWarning: At least one epoch has multiple events. Only the latency of the first event will be retained.\n",
      "  standard_epochs = mne.io.read_epochs_eeglab(standard_data_path)\n"
     ]
    },
    {
     "name": "stdout",
     "output_type": "stream",
     "text": [
      "Not setting metadata\n",
      "Not setting metadata\n",
      "98 matching events found\n",
      "No baseline correction applied\n",
      "0 projection items activated\n",
      "Ready.\n",
      "(61, 1000)\n",
      "Extracting parameters from E:/standard and novel/sub64/novel.set...\n"
     ]
    },
    {
     "name": "stderr",
     "output_type": "stream",
     "text": [
      "<ipython-input-27-5128ab89d92c>:24: RuntimeWarning: At least one epoch has multiple events. Only the latency of the first event will be retained.\n",
      "  novel_epochs = mne.io.read_epochs_eeglab(novel_data_path)\n"
     ]
    },
    {
     "name": "stdout",
     "output_type": "stream",
     "text": [
      "Not setting metadata\n",
      "Not setting metadata\n",
      "99 matching events found\n",
      "No baseline correction applied\n",
      "0 projection items activated\n",
      "Ready.\n",
      "(61, 1000)\n",
      "(61, 1000)\n",
      "Extracting parameters from E:/standard and novel/sub65/standard.set...\n"
     ]
    },
    {
     "name": "stderr",
     "output_type": "stream",
     "text": [
      "<ipython-input-27-5128ab89d92c>:9: RuntimeWarning: At least one epoch has multiple events. Only the latency of the first event will be retained.\n",
      "  standard_epochs = mne.io.read_epochs_eeglab(standard_data_path)\n"
     ]
    },
    {
     "name": "stdout",
     "output_type": "stream",
     "text": [
      "Not setting metadata\n",
      "Not setting metadata\n",
      "102 matching events found\n",
      "No baseline correction applied\n",
      "0 projection items activated\n",
      "Ready.\n",
      "(62, 1000)\n",
      "Extracting parameters from E:/standard and novel/sub65/novel.set...\n"
     ]
    },
    {
     "name": "stderr",
     "output_type": "stream",
     "text": [
      "<ipython-input-27-5128ab89d92c>:24: RuntimeWarning: At least one epoch has multiple events. Only the latency of the first event will be retained.\n",
      "  novel_epochs = mne.io.read_epochs_eeglab(novel_data_path)\n"
     ]
    },
    {
     "name": "stdout",
     "output_type": "stream",
     "text": [
      "Not setting metadata\n",
      "Not setting metadata\n",
      "102 matching events found\n",
      "No baseline correction applied\n",
      "0 projection items activated\n",
      "Ready.\n",
      "(62, 1000)\n",
      "(62, 1000)\n",
      "Extracting parameters from E:/standard and novel/sub66/standard.set...\n"
     ]
    },
    {
     "name": "stderr",
     "output_type": "stream",
     "text": [
      "<ipython-input-27-5128ab89d92c>:9: RuntimeWarning: At least one epoch has multiple events. Only the latency of the first event will be retained.\n",
      "  standard_epochs = mne.io.read_epochs_eeglab(standard_data_path)\n"
     ]
    },
    {
     "name": "stdout",
     "output_type": "stream",
     "text": [
      "Not setting metadata\n",
      "Not setting metadata\n",
      "88 matching events found\n",
      "No baseline correction applied\n",
      "0 projection items activated\n",
      "Ready.\n",
      "(62, 1000)\n",
      "Extracting parameters from E:/standard and novel/sub66/novel.set...\n"
     ]
    },
    {
     "name": "stderr",
     "output_type": "stream",
     "text": [
      "<ipython-input-27-5128ab89d92c>:24: RuntimeWarning: At least one epoch has multiple events. Only the latency of the first event will be retained.\n",
      "  novel_epochs = mne.io.read_epochs_eeglab(novel_data_path)\n"
     ]
    },
    {
     "name": "stdout",
     "output_type": "stream",
     "text": [
      "Not setting metadata\n",
      "Not setting metadata\n",
      "87 matching events found\n",
      "No baseline correction applied\n",
      "0 projection items activated\n",
      "Ready.\n",
      "(62, 1000)\n",
      "(62, 1000)\n",
      "Extracting parameters from E:/standard and novel/sub67/standard.set...\n"
     ]
    },
    {
     "name": "stderr",
     "output_type": "stream",
     "text": [
      "<ipython-input-27-5128ab89d92c>:9: RuntimeWarning: At least one epoch has multiple events. Only the latency of the first event will be retained.\n",
      "  standard_epochs = mne.io.read_epochs_eeglab(standard_data_path)\n"
     ]
    },
    {
     "name": "stdout",
     "output_type": "stream",
     "text": [
      "Not setting metadata\n",
      "Not setting metadata\n",
      "101 matching events found\n",
      "No baseline correction applied\n",
      "0 projection items activated\n",
      "Ready.\n",
      "(62, 1000)\n",
      "Extracting parameters from E:/standard and novel/sub67/novel.set...\n"
     ]
    },
    {
     "name": "stderr",
     "output_type": "stream",
     "text": [
      "<ipython-input-27-5128ab89d92c>:24: RuntimeWarning: At least one epoch has multiple events. Only the latency of the first event will be retained.\n",
      "  novel_epochs = mne.io.read_epochs_eeglab(novel_data_path)\n"
     ]
    },
    {
     "name": "stdout",
     "output_type": "stream",
     "text": [
      "Not setting metadata\n",
      "Not setting metadata\n",
      "101 matching events found\n",
      "No baseline correction applied\n",
      "0 projection items activated\n",
      "Ready.\n",
      "(62, 1000)\n",
      "(62, 1000)\n",
      "Extracting parameters from E:/standard and novel/sub68/standard.set...\n"
     ]
    },
    {
     "name": "stderr",
     "output_type": "stream",
     "text": [
      "<ipython-input-27-5128ab89d92c>:9: RuntimeWarning: At least one epoch has multiple events. Only the latency of the first event will be retained.\n",
      "  standard_epochs = mne.io.read_epochs_eeglab(standard_data_path)\n"
     ]
    },
    {
     "name": "stdout",
     "output_type": "stream",
     "text": [
      "Not setting metadata\n",
      "Not setting metadata\n",
      "102 matching events found\n",
      "No baseline correction applied\n",
      "0 projection items activated\n",
      "Ready.\n",
      "(62, 1000)\n",
      "Extracting parameters from E:/standard and novel/sub68/novel.set...\n"
     ]
    },
    {
     "name": "stderr",
     "output_type": "stream",
     "text": [
      "<ipython-input-27-5128ab89d92c>:24: RuntimeWarning: At least one epoch has multiple events. Only the latency of the first event will be retained.\n",
      "  novel_epochs = mne.io.read_epochs_eeglab(novel_data_path)\n"
     ]
    },
    {
     "name": "stdout",
     "output_type": "stream",
     "text": [
      "Not setting metadata\n",
      "Not setting metadata\n",
      "102 matching events found\n",
      "No baseline correction applied\n",
      "0 projection items activated\n",
      "Ready.\n",
      "(62, 1000)\n",
      "(62, 1000)\n",
      "Extracting parameters from E:/standard and novel/sub69/standard.set...\n"
     ]
    },
    {
     "name": "stderr",
     "output_type": "stream",
     "text": [
      "<ipython-input-27-5128ab89d92c>:9: RuntimeWarning: At least one epoch has multiple events. Only the latency of the first event will be retained.\n",
      "  standard_epochs = mne.io.read_epochs_eeglab(standard_data_path)\n"
     ]
    },
    {
     "name": "stdout",
     "output_type": "stream",
     "text": [
      "Not setting metadata\n",
      "Not setting metadata\n",
      "102 matching events found\n",
      "No baseline correction applied\n",
      "0 projection items activated\n",
      "Ready.\n",
      "(60, 1000)\n",
      "Extracting parameters from E:/standard and novel/sub69/novel.set...\n"
     ]
    },
    {
     "name": "stderr",
     "output_type": "stream",
     "text": [
      "<ipython-input-27-5128ab89d92c>:24: RuntimeWarning: At least one epoch has multiple events. Only the latency of the first event will be retained.\n",
      "  novel_epochs = mne.io.read_epochs_eeglab(novel_data_path)\n"
     ]
    },
    {
     "name": "stdout",
     "output_type": "stream",
     "text": [
      "Not setting metadata\n",
      "Not setting metadata\n",
      "102 matching events found\n",
      "No baseline correction applied\n",
      "0 projection items activated\n",
      "Ready.\n",
      "(60, 1000)\n",
      "(60, 1000)\n",
      "Extracting parameters from E:/standard and novel/sub70/standard.set...\n"
     ]
    },
    {
     "name": "stderr",
     "output_type": "stream",
     "text": [
      "<ipython-input-27-5128ab89d92c>:9: RuntimeWarning: At least one epoch has multiple events. Only the latency of the first event will be retained.\n",
      "  standard_epochs = mne.io.read_epochs_eeglab(standard_data_path)\n"
     ]
    },
    {
     "name": "stdout",
     "output_type": "stream",
     "text": [
      "Not setting metadata\n",
      "Not setting metadata\n",
      "96 matching events found\n",
      "No baseline correction applied\n",
      "0 projection items activated\n",
      "Ready.\n",
      "(62, 1000)\n",
      "Extracting parameters from E:/standard and novel/sub70/novel.set...\n"
     ]
    },
    {
     "name": "stderr",
     "output_type": "stream",
     "text": [
      "<ipython-input-27-5128ab89d92c>:24: RuntimeWarning: At least one epoch has multiple events. Only the latency of the first event will be retained.\n",
      "  novel_epochs = mne.io.read_epochs_eeglab(novel_data_path)\n"
     ]
    },
    {
     "name": "stdout",
     "output_type": "stream",
     "text": [
      "Not setting metadata\n",
      "Not setting metadata\n",
      "91 matching events found\n",
      "No baseline correction applied\n",
      "0 projection items activated\n",
      "Ready.\n",
      "(62, 1000)\n",
      "(62, 1000)\n",
      "Extracting parameters from E:/standard and novel/sub71/standard.set...\n"
     ]
    },
    {
     "name": "stderr",
     "output_type": "stream",
     "text": [
      "<ipython-input-27-5128ab89d92c>:9: RuntimeWarning: At least one epoch has multiple events. Only the latency of the first event will be retained.\n",
      "  standard_epochs = mne.io.read_epochs_eeglab(standard_data_path)\n"
     ]
    },
    {
     "name": "stdout",
     "output_type": "stream",
     "text": [
      "Not setting metadata\n",
      "Not setting metadata\n",
      "102 matching events found\n",
      "No baseline correction applied\n",
      "0 projection items activated\n",
      "Ready.\n",
      "(61, 1000)\n",
      "Extracting parameters from E:/standard and novel/sub71/novel.set...\n"
     ]
    },
    {
     "name": "stderr",
     "output_type": "stream",
     "text": [
      "<ipython-input-27-5128ab89d92c>:24: RuntimeWarning: At least one epoch has multiple events. Only the latency of the first event will be retained.\n",
      "  novel_epochs = mne.io.read_epochs_eeglab(novel_data_path)\n"
     ]
    },
    {
     "name": "stdout",
     "output_type": "stream",
     "text": [
      "Not setting metadata\n",
      "Not setting metadata\n",
      "102 matching events found\n",
      "No baseline correction applied\n",
      "0 projection items activated\n",
      "Ready.\n",
      "(61, 1000)\n",
      "(61, 1000)\n",
      "Extracting parameters from E:/standard and novel/sub72/standard.set...\n"
     ]
    },
    {
     "name": "stderr",
     "output_type": "stream",
     "text": [
      "<ipython-input-27-5128ab89d92c>:9: RuntimeWarning: At least one epoch has multiple events. Only the latency of the first event will be retained.\n",
      "  standard_epochs = mne.io.read_epochs_eeglab(standard_data_path)\n"
     ]
    },
    {
     "name": "stdout",
     "output_type": "stream",
     "text": [
      "Not setting metadata\n",
      "Not setting metadata\n",
      "100 matching events found\n",
      "No baseline correction applied\n",
      "0 projection items activated\n",
      "Ready.\n",
      "(62, 1000)\n",
      "Extracting parameters from E:/standard and novel/sub72/novel.set...\n"
     ]
    },
    {
     "name": "stderr",
     "output_type": "stream",
     "text": [
      "<ipython-input-27-5128ab89d92c>:24: RuntimeWarning: At least one epoch has multiple events. Only the latency of the first event will be retained.\n",
      "  novel_epochs = mne.io.read_epochs_eeglab(novel_data_path)\n"
     ]
    },
    {
     "name": "stdout",
     "output_type": "stream",
     "text": [
      "Not setting metadata\n",
      "Not setting metadata\n",
      "101 matching events found\n",
      "No baseline correction applied\n",
      "0 projection items activated\n",
      "Ready.\n",
      "(62, 1000)\n",
      "(62, 1000)\n",
      "Extracting parameters from E:/standard and novel/sub73/standard.set...\n"
     ]
    },
    {
     "name": "stderr",
     "output_type": "stream",
     "text": [
      "<ipython-input-27-5128ab89d92c>:9: RuntimeWarning: At least one epoch has multiple events. Only the latency of the first event will be retained.\n",
      "  standard_epochs = mne.io.read_epochs_eeglab(standard_data_path)\n"
     ]
    },
    {
     "name": "stdout",
     "output_type": "stream",
     "text": [
      "Not setting metadata\n",
      "Not setting metadata\n",
      "102 matching events found\n",
      "No baseline correction applied\n",
      "0 projection items activated\n",
      "Ready.\n",
      "(62, 1000)\n",
      "Extracting parameters from E:/standard and novel/sub73/novel.set...\n"
     ]
    },
    {
     "name": "stderr",
     "output_type": "stream",
     "text": [
      "<ipython-input-27-5128ab89d92c>:24: RuntimeWarning: At least one epoch has multiple events. Only the latency of the first event will be retained.\n",
      "  novel_epochs = mne.io.read_epochs_eeglab(novel_data_path)\n"
     ]
    },
    {
     "name": "stdout",
     "output_type": "stream",
     "text": [
      "Not setting metadata\n",
      "Not setting metadata\n",
      "102 matching events found\n",
      "No baseline correction applied\n",
      "0 projection items activated\n",
      "Ready.\n",
      "(62, 1000)\n",
      "(62, 1000)\n",
      "Extracting parameters from E:/standard and novel/sub74/standard.set...\n"
     ]
    },
    {
     "name": "stderr",
     "output_type": "stream",
     "text": [
      "<ipython-input-27-5128ab89d92c>:9: RuntimeWarning: At least one epoch has multiple events. Only the latency of the first event will be retained.\n",
      "  standard_epochs = mne.io.read_epochs_eeglab(standard_data_path)\n"
     ]
    },
    {
     "name": "stdout",
     "output_type": "stream",
     "text": [
      "Not setting metadata\n",
      "Not setting metadata\n",
      "102 matching events found\n",
      "No baseline correction applied\n",
      "0 projection items activated\n",
      "Ready.\n",
      "(62, 1000)\n",
      "Extracting parameters from E:/standard and novel/sub74/novel.set...\n"
     ]
    },
    {
     "name": "stderr",
     "output_type": "stream",
     "text": [
      "<ipython-input-27-5128ab89d92c>:24: RuntimeWarning: At least one epoch has multiple events. Only the latency of the first event will be retained.\n",
      "  novel_epochs = mne.io.read_epochs_eeglab(novel_data_path)\n"
     ]
    },
    {
     "name": "stdout",
     "output_type": "stream",
     "text": [
      "Not setting metadata\n",
      "Not setting metadata\n",
      "99 matching events found\n",
      "No baseline correction applied\n",
      "0 projection items activated\n",
      "Ready.\n",
      "(62, 1000)\n",
      "(62, 1000)\n",
      "Extracting parameters from E:/standard and novel/sub75/standard.set...\n"
     ]
    },
    {
     "name": "stderr",
     "output_type": "stream",
     "text": [
      "<ipython-input-27-5128ab89d92c>:9: RuntimeWarning: At least one epoch has multiple events. Only the latency of the first event will be retained.\n",
      "  standard_epochs = mne.io.read_epochs_eeglab(standard_data_path)\n"
     ]
    },
    {
     "name": "stdout",
     "output_type": "stream",
     "text": [
      "Not setting metadata\n",
      "Not setting metadata\n",
      "101 matching events found\n",
      "No baseline correction applied\n",
      "0 projection items activated\n",
      "Ready.\n",
      "(62, 1000)\n",
      "Extracting parameters from E:/standard and novel/sub75/novel.set...\n"
     ]
    },
    {
     "name": "stderr",
     "output_type": "stream",
     "text": [
      "<ipython-input-27-5128ab89d92c>:24: RuntimeWarning: At least one epoch has multiple events. Only the latency of the first event will be retained.\n",
      "  novel_epochs = mne.io.read_epochs_eeglab(novel_data_path)\n"
     ]
    },
    {
     "name": "stdout",
     "output_type": "stream",
     "text": [
      "Not setting metadata\n",
      "Not setting metadata\n",
      "100 matching events found\n",
      "No baseline correction applied\n",
      "0 projection items activated\n",
      "Ready.\n",
      "(62, 1000)\n",
      "(62, 1000)\n",
      "Extracting parameters from E:/standard and novel/sub76/standard.set...\n"
     ]
    },
    {
     "name": "stderr",
     "output_type": "stream",
     "text": [
      "<ipython-input-27-5128ab89d92c>:9: RuntimeWarning: At least one epoch has multiple events. Only the latency of the first event will be retained.\n",
      "  standard_epochs = mne.io.read_epochs_eeglab(standard_data_path)\n"
     ]
    },
    {
     "name": "stdout",
     "output_type": "stream",
     "text": [
      "Not setting metadata\n",
      "Not setting metadata\n",
      "83 matching events found\n",
      "No baseline correction applied\n",
      "0 projection items activated\n",
      "Ready.\n",
      "(60, 1000)\n",
      "Extracting parameters from E:/standard and novel/sub76/novel.set...\n"
     ]
    },
    {
     "name": "stderr",
     "output_type": "stream",
     "text": [
      "<ipython-input-27-5128ab89d92c>:24: RuntimeWarning: At least one epoch has multiple events. Only the latency of the first event will be retained.\n",
      "  novel_epochs = mne.io.read_epochs_eeglab(novel_data_path)\n"
     ]
    },
    {
     "name": "stdout",
     "output_type": "stream",
     "text": [
      "Not setting metadata\n",
      "Not setting metadata\n",
      "92 matching events found\n",
      "No baseline correction applied\n",
      "0 projection items activated\n",
      "Ready.\n",
      "(60, 1000)\n",
      "(60, 1000)\n",
      "Extracting parameters from E:/standard and novel/sub77/standard.set...\n"
     ]
    },
    {
     "name": "stderr",
     "output_type": "stream",
     "text": [
      "<ipython-input-27-5128ab89d92c>:9: RuntimeWarning: At least one epoch has multiple events. Only the latency of the first event will be retained.\n",
      "  standard_epochs = mne.io.read_epochs_eeglab(standard_data_path)\n"
     ]
    },
    {
     "name": "stdout",
     "output_type": "stream",
     "text": [
      "Not setting metadata\n",
      "Not setting metadata\n",
      "79 matching events found\n",
      "No baseline correction applied\n",
      "0 projection items activated\n",
      "Ready.\n",
      "(61, 1000)\n",
      "Extracting parameters from E:/standard and novel/sub77/novel.set...\n"
     ]
    },
    {
     "name": "stderr",
     "output_type": "stream",
     "text": [
      "<ipython-input-27-5128ab89d92c>:24: RuntimeWarning: At least one epoch has multiple events. Only the latency of the first event will be retained.\n",
      "  novel_epochs = mne.io.read_epochs_eeglab(novel_data_path)\n"
     ]
    },
    {
     "name": "stdout",
     "output_type": "stream",
     "text": [
      "Not setting metadata\n",
      "Not setting metadata\n",
      "87 matching events found\n",
      "No baseline correction applied\n",
      "0 projection items activated\n",
      "Ready.\n",
      "(61, 1000)\n",
      "(61, 1000)\n",
      "Extracting parameters from E:/standard and novel/sub78/standard.set...\n"
     ]
    },
    {
     "name": "stderr",
     "output_type": "stream",
     "text": [
      "<ipython-input-27-5128ab89d92c>:9: RuntimeWarning: At least one epoch has multiple events. Only the latency of the first event will be retained.\n",
      "  standard_epochs = mne.io.read_epochs_eeglab(standard_data_path)\n"
     ]
    },
    {
     "name": "stdout",
     "output_type": "stream",
     "text": [
      "Not setting metadata\n",
      "Not setting metadata\n",
      "102 matching events found\n",
      "No baseline correction applied\n",
      "0 projection items activated\n",
      "Ready.\n",
      "(62, 1000)\n",
      "Extracting parameters from E:/standard and novel/sub78/novel.set...\n"
     ]
    },
    {
     "name": "stderr",
     "output_type": "stream",
     "text": [
      "<ipython-input-27-5128ab89d92c>:24: RuntimeWarning: At least one epoch has multiple events. Only the latency of the first event will be retained.\n",
      "  novel_epochs = mne.io.read_epochs_eeglab(novel_data_path)\n"
     ]
    },
    {
     "name": "stdout",
     "output_type": "stream",
     "text": [
      "Not setting metadata\n",
      "Not setting metadata\n",
      "101 matching events found\n",
      "No baseline correction applied\n",
      "0 projection items activated\n",
      "Ready.\n",
      "(62, 1000)\n",
      "(62, 1000)\n",
      "(78, 15, 600)\n",
      "(78, 15, 600)\n"
     ]
    }
   ],
   "source": [
    "adult_standard_erp = []\n",
    "adult_novel_erp = []\n",
    "\n",
    "for i in range(78):\n",
    "    \n",
    "    ###读取standard\n",
    "    standard_data_path = \"E:/standard and novel/\" + \"sub\"+str(i+1)+\"/standard.set\"\n",
    "    #读取set文件中的epoch信息\n",
    "    standard_epochs = mne.io.read_epochs_eeglab(standard_data_path)\n",
    "    #对epoch进行叠加平均\n",
    "    standard_evoked = standard_epochs.average()\n",
    "    #读取叠加平均后指定电极*时间的矩阵（F1234z,fc1234Z,C1234Z)\n",
    "    #standard_erp = evoked.data[[7,8,9,10,11,16,17,18,19,20,25,26,27,28,29]][400:]\n",
    "    #取电极FZ 截取-100-500ms\n",
    "    standard_erp = standard_evoked.data[[7,8,9,10,11,16,17,18,19,20,25,26,27,28,29]]\n",
    "    standard_erp = standard_erp[:,400:]\n",
    "    print((standard_evoked.data).shape)\n",
    "    adult_standard_erp.append(standard_erp)\n",
    "    \n",
    "    \n",
    "    ###读取novel\n",
    "    novel_data_path = \"E:/standard and novel/\" + \"sub\"+str(i+1)+\"/novel.set\"\n",
    "    #读取set文件中的epoch信息\n",
    "    novel_epochs = mne.io.read_epochs_eeglab(novel_data_path)\n",
    "    #对epoch进行叠加平均\n",
    "    novel_evoked = novel_epochs.average()\n",
    "    print((novel_evoked.data).shape)\n",
    "    #读取叠加平均后指定电极*时间的矩阵（F1234z,fc1234Z,C1234Z)\n",
    "    novel_erp = novel_evoked.data[[7,8,9,10,11,16,17,18,19,20,25,26,27,28,29],]\n",
    "    novel_erp =  novel_erp[:,400:]\n",
    "    print((novel_evoked.data).shape)\n",
    "    adult_novel_erp.append(novel_erp)\n",
    "       \n",
    "adult_standard_erp = np.array(adult_standard_erp)\n",
    "print(adult_standard_erp.shape)\n",
    "adult_novel_erp = np.array(adult_novel_erp)\n",
    "print(adult_novel_erp.shape)"
   ]
  },
  {
   "cell_type": "markdown",
   "metadata": {},
   "source": [
    "## 1.2 算出差异波，分别计算MMN和P300"
   ]
  },
  {
   "cell_type": "markdown",
   "metadata": {},
   "source": [
    "### 1.2.1 MMN"
   ]
  },
  {
   "cell_type": "code",
   "execution_count": 32,
   "metadata": {},
   "outputs": [
    {
     "name": "stdout",
     "output_type": "stream",
     "text": [
      "0\n",
      "-0.25737329898777306\n",
      "(15, 20)\n",
      "(15,)\n",
      "-0.25737329898777306\n",
      "15\n",
      "-3.391069888579854\n",
      "(15, 20)\n",
      "(15,)\n",
      "-3.391069888579854\n",
      "35\n",
      "-5.421769055709931\n",
      "(15, 20)\n",
      "(15,)\n",
      "-5.421769055709931\n",
      "79\n",
      "-6.609900301595175\n",
      "(15, 20)\n",
      "(15,)\n",
      "-6.609900301595175\n",
      "74\n",
      "-2.493110977153774\n",
      "(15, 20)\n",
      "(15,)\n",
      "-2.493110977153774\n",
      "67\n",
      "-7.27354564611279\n",
      "(15, 20)\n",
      "(15,)\n",
      "-7.27354564611279\n",
      "72\n",
      "-6.807733705005144\n",
      "(15, 20)\n",
      "(15,)\n",
      "-6.807733705005144\n",
      "92\n",
      "-1.7442972728421553\n",
      "(15, 20)\n",
      "(15,)\n",
      "-1.7442972728421553\n",
      "70\n",
      "-6.39752759234343\n",
      "(15, 20)\n",
      "(15,)\n",
      "-6.39752759234343\n",
      "0\n",
      "-1.2038445607551378\n",
      "(15, 20)\n",
      "(15,)\n",
      "-1.2038445607551378\n",
      "65\n",
      "-4.846183598091709\n",
      "(15, 20)\n",
      "(15,)\n",
      "-4.846183598091709\n",
      "57\n",
      "-1.404888695452731\n",
      "(15, 20)\n",
      "(15,)\n",
      "-1.404888695452731\n",
      "42\n",
      "-8.823755095956628\n",
      "(15, 20)\n",
      "(15,)\n",
      "-8.823755095956628\n",
      "77\n",
      "-6.9688283758767895\n",
      "(15, 20)\n",
      "(15,)\n",
      "-6.9688283758767895\n",
      "55\n",
      "-2.74543875542095\n",
      "(15, 20)\n",
      "(15,)\n",
      "-2.74543875542095\n",
      "0\n",
      "-0.34827312707236735\n",
      "(15, 20)\n",
      "(15,)\n",
      "-0.34827312707236735\n",
      "70\n",
      "-3.3117452984301403\n",
      "(15, 20)\n",
      "(15,)\n",
      "-3.3117452984301403\n",
      "77\n",
      "-3.59546061245292\n",
      "(15, 20)\n",
      "(15,)\n",
      "-3.59546061245292\n",
      "81\n",
      "-0.9730266131850768\n",
      "(15, 20)\n",
      "(15,)\n",
      "-0.9730266131850768\n",
      "64\n",
      "-6.905304857686205\n",
      "(15, 20)\n",
      "(15,)\n",
      "-6.905304857686205\n",
      "51\n",
      "-1.505535329500598\n",
      "(15, 20)\n",
      "(15,)\n",
      "-1.505535329500598\n",
      "63\n",
      "-4.422364309365294\n",
      "(15, 20)\n",
      "(15,)\n",
      "-4.422364309365294\n",
      "46\n",
      "-8.29773230812325\n",
      "(15, 20)\n",
      "(15,)\n",
      "-8.29773230812325\n",
      "85\n",
      "-3.2168673634893326\n",
      "(15, 20)\n",
      "(15,)\n",
      "-3.2168673634893326\n",
      "53\n",
      "-3.6938912355626914\n",
      "(15, 20)\n",
      "(15,)\n",
      "-3.6938912355626914\n",
      "61\n",
      "-0.9008681481454804\n",
      "(15, 20)\n",
      "(15,)\n",
      "-0.9008681481454804\n",
      "23\n",
      "-2.9508963427616663\n",
      "(15, 20)\n",
      "(15,)\n",
      "-2.9508963427616663\n",
      "71\n",
      "-0.4945392325570851\n",
      "(15, 20)\n",
      "(15,)\n",
      "-0.4945392325570851\n",
      "161\n",
      "-0.4576475867715678\n",
      "(15, 20)\n",
      "(15,)\n",
      "-0.4576475867715678\n",
      "111\n",
      "-0.43185925715700674\n",
      "(15, 20)\n",
      "(15,)\n",
      "-0.43185925715700674\n",
      "100\n",
      "-2.374424159524238\n",
      "(15, 20)\n",
      "(15,)\n",
      "-2.374424159524238\n",
      "90\n",
      "-1.939957013266633\n",
      "(15, 20)\n",
      "(15,)\n",
      "-1.939957013266633\n",
      "58\n",
      "-3.1242964588207336\n",
      "(15, 20)\n",
      "(15,)\n",
      "-3.1242964588207336\n",
      "106\n",
      "-2.853290765751523\n",
      "(15, 20)\n",
      "(15,)\n",
      "-2.853290765751523\n",
      "10\n",
      "-1.371815366253238\n",
      "(15, 20)\n",
      "(15,)\n",
      "-1.371815366253238\n",
      "86\n",
      "-0.4638827695350639\n",
      "(15, 20)\n",
      "(15,)\n",
      "-0.4638827695350639\n",
      "62\n",
      "-0.2830006816840481\n",
      "(15, 20)\n",
      "(15,)\n",
      "-0.2830006816840481\n",
      "89\n",
      "-6.98125450785258\n",
      "(15, 20)\n",
      "(15,)\n",
      "-6.98125450785258\n",
      "78\n",
      "-4.563355326542521\n",
      "(15, 20)\n",
      "(15,)\n",
      "-4.563355326542521\n",
      "75\n",
      "-2.4079980681298654\n",
      "(15, 20)\n",
      "(15,)\n",
      "-2.4079980681298654\n",
      "105\n",
      "-4.747305810394213\n",
      "(15, 20)\n",
      "(15,)\n",
      "-4.747305810394213\n",
      "63\n",
      "-7.251830769933595\n",
      "(15, 20)\n",
      "(15,)\n",
      "-7.251830769933595\n",
      "69\n",
      "-6.277291374734839\n",
      "(15, 20)\n",
      "(15,)\n",
      "-6.277291374734839\n",
      "58\n",
      "-5.084804140163114\n",
      "(15, 20)\n",
      "(15,)\n",
      "-5.084804140163114\n",
      "80\n",
      "-1.7240778524040234\n",
      "(15, 20)\n",
      "(15,)\n",
      "-1.7240778524040234\n",
      "60\n",
      "0.011377711261625342\n",
      "(15, 20)\n",
      "(15,)\n",
      "0.011377711261625342\n",
      "31\n",
      "-3.541612988710975\n",
      "(15, 20)\n",
      "(15,)\n",
      "-3.541612988710975\n",
      "72\n",
      "-4.503526364669023\n",
      "(15, 20)\n",
      "(15,)\n",
      "-4.503526364669023\n",
      "46\n",
      "-4.291019332596539\n",
      "(15, 20)\n",
      "(15,)\n",
      "-4.291019332596539\n",
      "40\n",
      "-1.530289004297944\n",
      "(15, 20)\n",
      "(15,)\n",
      "-1.530289004297944\n",
      "88\n",
      "-0.876736232418192\n",
      "(15, 20)\n",
      "(15,)\n",
      "-0.876736232418192\n",
      "56\n",
      "-1.9510417562421285\n",
      "(15, 20)\n",
      "(15,)\n",
      "-1.9510417562421285\n",
      "42\n",
      "-0.8256558123696939\n",
      "(15, 20)\n",
      "(15,)\n",
      "-0.8256558123696939\n",
      "54\n",
      "-8.124200852813573\n",
      "(15, 20)\n",
      "(15,)\n",
      "-8.124200852813573\n",
      "169\n",
      "-0.6085847873820501\n",
      "(15, 20)\n",
      "(15,)\n",
      "-0.6085847873820501\n",
      "65\n",
      "-5.232576350365679\n",
      "(15, 20)\n",
      "(15,)\n",
      "-5.232576350365679\n",
      "76\n",
      "-4.048353504856188\n",
      "(15, 20)\n",
      "(15,)\n",
      "-4.048353504856188\n",
      "72\n",
      "-7.356514779399787\n",
      "(15, 20)\n",
      "(15,)\n",
      "-7.356514779399787\n",
      "98\n",
      "-6.812401859822145\n",
      "(15, 20)\n",
      "(15,)\n",
      "-6.812401859822145\n",
      "87\n",
      "-0.24717273542848875\n",
      "(15, 20)\n",
      "(15,)\n",
      "-0.24717273542848875\n",
      "77\n",
      "-4.378617996484284\n",
      "(15, 20)\n",
      "(15,)\n",
      "-4.378617996484284\n",
      "86\n",
      "-3.4142333742197692\n",
      "(15, 20)\n",
      "(15,)\n",
      "-3.4142333742197692\n",
      "61\n",
      "-4.514457940361941\n",
      "(15, 20)\n",
      "(15,)\n",
      "-4.514457940361941\n",
      "4\n",
      "-0.7090791757963671\n",
      "(15, 20)\n",
      "(15,)\n",
      "-0.7090791757963671\n",
      "61\n",
      "-1.9948601306482285\n",
      "(15, 20)\n",
      "(15,)\n",
      "-1.9948601306482285\n",
      "60\n",
      "-4.68476154448868\n",
      "(15, 20)\n",
      "(15,)\n",
      "-4.68476154448868\n",
      "48\n",
      "-2.3894119386075667\n",
      "(15, 20)\n",
      "(15,)\n",
      "-2.3894119386075667\n",
      "70\n",
      "-5.4044882144170066\n",
      "(15, 20)\n",
      "(15,)\n",
      "-5.4044882144170066\n",
      "93\n",
      "-2.969081630093227\n",
      "(15, 20)\n",
      "(15,)\n",
      "-2.969081630093227\n",
      "142\n",
      "-0.2523182186645299\n",
      "(15, 20)\n",
      "(15,)\n",
      "-0.2523182186645299\n",
      "132\n",
      "-0.0013896306994936418\n",
      "(15, 20)\n",
      "(15,)\n",
      "-0.0013896306994936418\n",
      "91\n",
      "-2.9019954293551375\n",
      "(15, 20)\n",
      "(15,)\n",
      "-2.9019954293551375\n",
      "92\n",
      "-0.3138526212186644\n",
      "(15, 20)\n",
      "(15,)\n",
      "-0.3138526212186644\n",
      "68\n",
      "-4.419678764275614\n",
      "(15, 20)\n",
      "(15,)\n",
      "-4.419678764275614\n",
      "64\n",
      "-1.294699359814196\n",
      "(15, 20)\n",
      "(15,)\n",
      "-1.294699359814196\n",
      "60\n",
      "-2.1362537812204616\n",
      "(15, 20)\n",
      "(15,)\n",
      "-2.1362537812204616\n",
      "16\n",
      "-0.959363037079476\n",
      "(15, 20)\n",
      "(15,)\n",
      "-0.959363037079476\n",
      "44\n",
      "-2.294136592864234\n",
      "(15, 20)\n",
      "(15,)\n",
      "-2.294136592864234\n"
     ]
    }
   ],
   "source": [
    "#计算新异刺激和标准刺激的差异波\n",
    "diff = adult_novel_erp - adult_standard_erp\n",
    "#基于FZ的活动取峰值和潜伏期\n",
    "diff_FCz = diff[:,7,:] \n",
    "\n",
    "mmn_amplitude = []\n",
    "#mmn_latency = []\n",
    "\n",
    "for i in range(78):\n",
    "    #选取80-250ms的数据\n",
    "    data_mmn_FCz = diff_FCz[i][180:350]\n",
    "    #基于FCz电极在80-250ms范围内选取最负的值\n",
    "    mmn_time_index = np.where(data_mmn_FCz == np.min(data_mmn_FCz))\n",
    "    mmn_peak_index = mmn_time_index[0][0]\n",
    "    #计算每个被试，15个电极上峰值前后10ms电压值的平均，并将单位从v转为uv\n",
    "    mmn_amplitude_all = diff[i]\n",
    "    mmn_amplitude_all = mmn_amplitude_all[:,mmn_peak_index + 170:mmn_peak_index + 190]\n",
    "    amplitude = math.pow(10,6) * np.average(mmn_amplitude_all, axis = 1)\n",
    "    #计算潜伏期\n",
    "    #latency = 80 + mmn_peak_index\n",
    "    mmn_amplitude.append(amplitude)\n",
    "    #mmn_latency.append(latency)\n",
    "\n",
    "#将数据存到excel\n",
    "MMN = np.mat(mmn_amplitude)\n",
    "adult_MMN = pd.DataFrame(MMN, columns = [\"F3\",\"F1\",\"FZ\",\"F2\",\"F4\",\"FC3\",\"FC1\",\"FCZ\",\"FC2\",\"FC4\",\"C3\",\"C1\",\"CZ\",\"C2\",\"C4\"])\n",
    "adult_MMN.to_excel('adult_MMN.xlsx')\n"
   ]
  },
  {
   "cell_type": "markdown",
   "metadata": {},
   "source": [
    "### 1.2.2 P300"
   ]
  },
  {
   "cell_type": "code",
   "execution_count": 39,
   "metadata": {},
   "outputs": [
    {
     "name": "stdout",
     "output_type": "stream",
     "text": [
      "118\n",
      "0.5879571177146407\n",
      "(15, 20)\n",
      "(15,)\n",
      "0.5879571177146407\n",
      "33\n",
      "6.794425272979048\n",
      "(15, 20)\n",
      "(15,)\n",
      "6.794425272979048\n",
      "44\n",
      "6.16537376656787\n",
      "(15, 20)\n",
      "(15,)\n",
      "6.16537376656787\n",
      "45\n",
      "7.660537708901457\n",
      "(15, 20)\n",
      "(15,)\n",
      "7.660537708901457\n",
      "57\n",
      "6.637974212076028\n",
      "(15, 20)\n",
      "(15,)\n",
      "6.637974212076028\n",
      "44\n",
      "11.763101693430103\n",
      "(15, 20)\n",
      "(15,)\n",
      "11.763101693430103\n",
      "54\n",
      "5.693697181320293\n",
      "(15, 20)\n",
      "(15,)\n",
      "5.693697181320293\n",
      "42\n",
      "8.596815886145633\n",
      "(15, 20)\n",
      "(15,)\n",
      "8.596815886145633\n",
      "40\n",
      "5.7815482696971285\n",
      "(15, 20)\n",
      "(15,)\n",
      "5.7815482696971285\n",
      "169\n",
      "1.5861570712709112\n",
      "(15, 20)\n",
      "(15,)\n",
      "1.5861570712709112\n",
      "56\n",
      "9.526176248347765\n",
      "(15, 20)\n",
      "(15,)\n",
      "9.526176248347765\n",
      "79\n",
      "1.0676829990223802\n",
      "(15, 20)\n",
      "(15,)\n",
      "1.0676829990223802\n",
      "6\n",
      "7.336763223597103\n",
      "(15, 20)\n",
      "(15,)\n",
      "7.336763223597103\n",
      "49\n",
      "8.856683741529721\n",
      "(15, 20)\n",
      "(15,)\n",
      "8.856683741529721\n",
      "84\n",
      "6.380331776850152\n",
      "(15, 20)\n",
      "(15,)\n",
      "6.380331776850152\n",
      "35\n",
      "3.6675646352214173\n",
      "(15, 20)\n",
      "(15,)\n",
      "3.6675646352214173\n",
      "39\n",
      "9.615603131137094\n",
      "(15, 20)\n",
      "(15,)\n",
      "9.615603131137094\n",
      "67\n",
      "2.2334127309649388\n",
      "(15, 20)\n",
      "(15,)\n",
      "2.2334127309649388\n",
      "38\n",
      "4.583508786933322\n",
      "(15, 20)\n",
      "(15,)\n",
      "4.583508786933322\n",
      "36\n",
      "7.517626400299683\n",
      "(15, 20)\n",
      "(15,)\n",
      "7.517626400299683\n",
      "138\n",
      "0.9166671912515144\n",
      "(15, 20)\n",
      "(15,)\n",
      "0.9166671912515144\n",
      "165\n",
      "5.295877720576063\n",
      "(15, 20)\n",
      "(15,)\n",
      "5.295877720576063\n",
      "115\n",
      "4.571829884044379\n",
      "(15, 20)\n",
      "(15,)\n",
      "4.571829884044379\n",
      "50\n",
      "10.078937383248915\n",
      "(15, 20)\n",
      "(15,)\n",
      "10.078937383248915\n",
      "32\n",
      "5.068119381869873\n",
      "(15, 20)\n",
      "(15,)\n",
      "5.068119381869873\n",
      "46\n",
      "0.7871836220110339\n",
      "(15, 20)\n",
      "(15,)\n",
      "0.7871836220110339\n",
      "108\n",
      "3.4591541792578786\n",
      "(15, 20)\n",
      "(15,)\n",
      "3.4591541792578786\n",
      "48\n",
      "12.79537111041479\n",
      "(15, 20)\n",
      "(15,)\n",
      "12.79537111041479\n",
      "6\n",
      "0.22621118057247847\n",
      "(15, 20)\n",
      "(15,)\n",
      "0.22621118057247847\n",
      "69\n",
      "1.2806005114654602\n",
      "(15, 20)\n",
      "(15,)\n",
      "1.2806005114654602\n",
      "82\n",
      "1.471201462752332\n",
      "(15, 20)\n",
      "(15,)\n",
      "1.471201462752332\n",
      "51\n",
      "3.5158284346353192\n",
      "(15, 20)\n",
      "(15,)\n",
      "3.5158284346353192\n",
      "31\n",
      "9.254771087527894\n",
      "(15, 20)\n",
      "(15,)\n",
      "9.254771087527894\n",
      "66\n",
      "3.8252589528743055\n",
      "(15, 20)\n",
      "(15,)\n",
      "3.8252589528743055\n",
      "91\n",
      "2.801627870555132\n",
      "(15, 20)\n",
      "(15,)\n",
      "2.801627870555132\n",
      "49\n",
      "3.546278244300914\n",
      "(15, 20)\n",
      "(15,)\n",
      "3.546278244300914\n",
      "15\n",
      "0.8822314443113835\n",
      "(15, 20)\n",
      "(15,)\n",
      "0.8822314443113835\n",
      "48\n",
      "10.653571435304555\n",
      "(15, 20)\n",
      "(15,)\n",
      "10.653571435304555\n",
      "24\n",
      "4.694163849976616\n",
      "(15, 20)\n",
      "(15,)\n",
      "4.694163849976616\n",
      "29\n",
      "5.555703646470475\n",
      "(15, 20)\n",
      "(15,)\n",
      "5.555703646470475\n",
      "41\n",
      "9.06552501569146\n",
      "(15, 20)\n",
      "(15,)\n",
      "9.06552501569146\n",
      "36\n",
      "6.175957961520697\n",
      "(15, 20)\n",
      "(15,)\n",
      "6.175957961520697\n",
      "50\n",
      "14.139687853235312\n",
      "(15, 20)\n",
      "(15,)\n",
      "14.139687853235312\n",
      "44\n",
      "8.038667782113247\n",
      "(15, 20)\n",
      "(15,)\n",
      "8.038667782113247\n",
      "35\n",
      "2.428794440794446\n",
      "(15, 20)\n",
      "(15,)\n",
      "2.428794440794446\n",
      "9\n",
      "2.1603687913308827\n",
      "(15, 20)\n",
      "(15,)\n",
      "2.1603687913308827\n",
      "41\n",
      "9.983301963156546\n",
      "(15, 20)\n",
      "(15,)\n",
      "9.983301963156546\n",
      "72\n",
      "4.825232241918516\n",
      "(15, 20)\n",
      "(15,)\n",
      "4.825232241918516\n",
      "37\n",
      "5.352403433314312\n",
      "(15, 20)\n",
      "(15,)\n",
      "5.352403433314312\n",
      "46\n",
      "4.587233361612543\n",
      "(15, 20)\n",
      "(15,)\n",
      "4.587233361612543\n",
      "33\n",
      "0.9667730616517912\n",
      "(15, 20)\n",
      "(15,)\n",
      "0.9667730616517912\n",
      "41\n",
      "1.3822560563040616\n",
      "(15, 20)\n",
      "(15,)\n",
      "1.3822560563040616\n",
      "111\n",
      "2.0380928157612184\n",
      "(15, 20)\n",
      "(15,)\n",
      "2.0380928157612184\n",
      "18\n",
      "12.09756411145876\n",
      "(15, 20)\n",
      "(15,)\n",
      "12.09756411145876\n",
      "0\n",
      "0.6101849969983781\n",
      "(15, 20)\n",
      "(15,)\n",
      "0.6101849969983781\n",
      "16\n",
      "8.734430188098443\n",
      "(15, 20)\n",
      "(15,)\n",
      "8.734430188098443\n",
      "70\n",
      "4.110681949077883\n",
      "(15, 20)\n",
      "(15,)\n",
      "4.110681949077883\n",
      "23\n",
      "2.602426130839683\n",
      "(15, 20)\n",
      "(15,)\n",
      "2.602426130839683\n",
      "65\n",
      "6.749698659481251\n",
      "(15, 20)\n",
      "(15,)\n",
      "6.749698659481251\n",
      "47\n",
      "1.01181701985326\n",
      "(15, 20)\n",
      "(15,)\n",
      "1.01181701985326\n",
      "69\n",
      "1.9859110688746089\n",
      "(15, 20)\n",
      "(15,)\n",
      "1.9859110688746089\n",
      "79\n",
      "6.837098808461982\n",
      "(15, 20)\n",
      "(15,)\n",
      "6.837098808461982\n",
      "52\n",
      "3.9588296062033965\n",
      "(15, 20)\n",
      "(15,)\n",
      "3.9588296062033965\n",
      "60\n",
      "1.908948338754854\n",
      "(15, 20)\n",
      "(15,)\n",
      "1.908948338754854\n",
      "86\n",
      "3.7150920717761844\n",
      "(15, 20)\n",
      "(15,)\n",
      "3.7150920717761844\n",
      "16\n",
      "8.965942761229371\n",
      "(15, 20)\n",
      "(15,)\n",
      "8.965942761229371\n",
      "40\n",
      "4.966614869542162\n",
      "(15, 20)\n",
      "(15,)\n",
      "4.966614869542162\n",
      "18\n",
      "6.118153522817638\n",
      "(15, 20)\n",
      "(15,)\n",
      "6.118153522817638\n",
      "28\n",
      "4.948867402759417\n",
      "(15, 20)\n",
      "(15,)\n",
      "4.948867402759417\n",
      "116\n",
      "2.1318885922306667\n",
      "(15, 20)\n",
      "(15,)\n",
      "2.1318885922306667\n",
      "67\n",
      "0.7632226325063647\n",
      "(15, 20)\n",
      "(15,)\n",
      "0.7632226325063647\n",
      "38\n",
      "9.967790717106212\n",
      "(15, 20)\n",
      "(15,)\n",
      "9.967790717106212\n",
      "28\n",
      "2.7801240796983406\n",
      "(15, 20)\n",
      "(15,)\n",
      "2.7801240796983406\n",
      "29\n",
      "7.146716740503661\n",
      "(15, 20)\n",
      "(15,)\n",
      "7.146716740503661\n",
      "39\n",
      "2.855359924907644\n",
      "(15, 20)\n",
      "(15,)\n",
      "2.855359924907644\n",
      "40\n",
      "12.588428507798183\n",
      "(15, 20)\n",
      "(15,)\n",
      "12.588428507798183\n",
      "26\n",
      "4.561408062798711\n",
      "(15, 20)\n",
      "(15,)\n",
      "4.561408062798711\n",
      "50\n",
      "9.648986701874012\n",
      "(15, 20)\n",
      "(15,)\n",
      "9.648986701874012\n"
     ]
    }
   ],
   "source": [
    "diff = adult_novel_erp - adult_standard_erp\n",
    "#基于FZ的活动取峰值和潜伏期\n",
    "diff_FCz = diff[:,7,:] \n",
    "\n",
    "P300_amplitude = []\n",
    "#P300_latency = []\n",
    "\n",
    "for i in range(78):\n",
    "    #选取80-250ms的数据\n",
    "    data_P300_FCz = diff_FCz[i][300:500]\n",
    "    P300_time_index = np.where(data_P300_FCz == np.max(data_P300_FCz))\n",
    "    P300_peak_index = P300_time_index[0][0]\n",
    "    print(P300_peak_index)\n",
    "    data_FCz = diff_FCz[i]\n",
    "    amplitude_FCz = math.pow(10,6)*np.average(diff_FCz[i][P300_peak_index + 290:P300_peak_index + 310])\n",
    "    print(amplitude_FCz)\n",
    "    amplitude_all = diff[i]\n",
    "    amplitude_all = amplitude_all[:,P300_peak_index + 290:P300_peak_index + 310]\n",
    "    print(amplitude_all.shape)\n",
    "    amplitude = math.pow(10,6) * np.average(amplitude_all, axis = 1)\n",
    "    print(amplitude.shape)\n",
    "    print(amplitude[7])\n",
    "    latency = 200 + P300_peak_index\n",
    "    P300_amplitude.append(amplitude)\n",
    "    #P300_latency.append(latency)\n",
    "\n",
    "\n",
    "P300 = np.mat(P300_amplitude)\n",
    "adult_P300 = pd.DataFrame(P300, columns = [\"F3\",\"F1\",\"FZ\",\"F2\",\"F4\",\"FC3\",\"FC1\",\"FCZ\",\"FC2\",\"FC4\",\"C3\",\"C1\",\"CZ\",\"C2\",\"C4\"])\n",
    "adult_P300.to_excel('adult_P300.xlsx')\n"
   ]
  },
  {
   "cell_type": "markdown",
   "metadata": {},
   "source": [
    "# 2. 计算儿童的MMN和P300"
   ]
  },
  {
   "cell_type": "markdown",
   "metadata": {},
   "source": [
    "## 2.1 分条件：在标准刺激和新异刺激下叠加平均"
   ]
  },
  {
   "cell_type": "code",
   "execution_count": 31,
   "metadata": {},
   "outputs": [
    {
     "name": "stdout",
     "output_type": "stream",
     "text": [
      "Extracting parameters from E:/standard and novel/sub79/standard.set...\n"
     ]
    },
    {
     "name": "stderr",
     "output_type": "stream",
     "text": [
      "<ipython-input-31-f599fd684862>:9: RuntimeWarning: At least one epoch has multiple events. Only the latency of the first event will be retained.\n",
      "  standard_epochs = mne.io.read_epochs_eeglab(standard_data_path)\n"
     ]
    },
    {
     "name": "stdout",
     "output_type": "stream",
     "text": [
      "Not setting metadata\n",
      "Not setting metadata\n",
      "99 matching events found\n",
      "No baseline correction applied\n",
      "0 projection items activated\n",
      "Ready.\n",
      "(70, 1000)\n",
      "Extracting parameters from E:/standard and novel/sub79/novel.set...\n"
     ]
    },
    {
     "name": "stderr",
     "output_type": "stream",
     "text": [
      "<ipython-input-31-f599fd684862>:25: RuntimeWarning: At least one epoch has multiple events. Only the latency of the first event will be retained.\n",
      "  novel_epochs = mne.io.read_epochs_eeglab(novel_data_path)\n"
     ]
    },
    {
     "name": "stdout",
     "output_type": "stream",
     "text": [
      "Not setting metadata\n",
      "Not setting metadata\n",
      "97 matching events found\n",
      "No baseline correction applied\n",
      "0 projection items activated\n",
      "Ready.\n",
      "(70, 1000)\n",
      "(70, 1000)\n",
      "Extracting parameters from E:/standard and novel/sub80/standard.set...\n"
     ]
    },
    {
     "name": "stderr",
     "output_type": "stream",
     "text": [
      "<ipython-input-31-f599fd684862>:9: RuntimeWarning: At least one epoch has multiple events. Only the latency of the first event will be retained.\n",
      "  standard_epochs = mne.io.read_epochs_eeglab(standard_data_path)\n"
     ]
    },
    {
     "name": "stdout",
     "output_type": "stream",
     "text": [
      "Not setting metadata\n",
      "Not setting metadata\n",
      "102 matching events found\n",
      "No baseline correction applied\n",
      "0 projection items activated\n",
      "Ready.\n",
      "(70, 1000)\n",
      "Extracting parameters from E:/standard and novel/sub80/novel.set...\n"
     ]
    },
    {
     "name": "stderr",
     "output_type": "stream",
     "text": [
      "<ipython-input-31-f599fd684862>:25: RuntimeWarning: At least one epoch has multiple events. Only the latency of the first event will be retained.\n",
      "  novel_epochs = mne.io.read_epochs_eeglab(novel_data_path)\n"
     ]
    },
    {
     "name": "stdout",
     "output_type": "stream",
     "text": [
      "Not setting metadata\n",
      "Not setting metadata\n",
      "102 matching events found\n",
      "No baseline correction applied\n",
      "0 projection items activated\n",
      "Ready.\n",
      "(70, 1000)\n",
      "(70, 1000)\n",
      "Extracting parameters from E:/standard and novel/sub81/standard.set...\n"
     ]
    },
    {
     "name": "stderr",
     "output_type": "stream",
     "text": [
      "<ipython-input-31-f599fd684862>:9: RuntimeWarning: At least one epoch has multiple events. Only the latency of the first event will be retained.\n",
      "  standard_epochs = mne.io.read_epochs_eeglab(standard_data_path)\n"
     ]
    },
    {
     "name": "stdout",
     "output_type": "stream",
     "text": [
      "Not setting metadata\n",
      "Not setting metadata\n",
      "95 matching events found\n",
      "No baseline correction applied\n",
      "0 projection items activated\n",
      "Ready.\n",
      "(70, 1000)\n",
      "Extracting parameters from E:/standard and novel/sub81/novel.set...\n"
     ]
    },
    {
     "name": "stderr",
     "output_type": "stream",
     "text": [
      "<ipython-input-31-f599fd684862>:25: RuntimeWarning: At least one epoch has multiple events. Only the latency of the first event will be retained.\n",
      "  novel_epochs = mne.io.read_epochs_eeglab(novel_data_path)\n"
     ]
    },
    {
     "name": "stdout",
     "output_type": "stream",
     "text": [
      "Not setting metadata\n",
      "Not setting metadata\n",
      "96 matching events found\n",
      "No baseline correction applied\n",
      "0 projection items activated\n",
      "Ready.\n",
      "(70, 1000)\n",
      "(70, 1000)\n",
      "Extracting parameters from E:/standard and novel/sub82/standard.set...\n"
     ]
    },
    {
     "name": "stderr",
     "output_type": "stream",
     "text": [
      "<ipython-input-31-f599fd684862>:9: RuntimeWarning: At least one epoch has multiple events. Only the latency of the first event will be retained.\n",
      "  standard_epochs = mne.io.read_epochs_eeglab(standard_data_path)\n"
     ]
    },
    {
     "name": "stdout",
     "output_type": "stream",
     "text": [
      "Not setting metadata\n",
      "Not setting metadata\n",
      "99 matching events found\n",
      "No baseline correction applied\n",
      "0 projection items activated\n",
      "Ready.\n",
      "(70, 1000)\n",
      "Extracting parameters from E:/standard and novel/sub82/novel.set...\n"
     ]
    },
    {
     "name": "stderr",
     "output_type": "stream",
     "text": [
      "<ipython-input-31-f599fd684862>:25: RuntimeWarning: At least one epoch has multiple events. Only the latency of the first event will be retained.\n",
      "  novel_epochs = mne.io.read_epochs_eeglab(novel_data_path)\n"
     ]
    },
    {
     "name": "stdout",
     "output_type": "stream",
     "text": [
      "Not setting metadata\n",
      "Not setting metadata\n",
      "102 matching events found\n",
      "No baseline correction applied\n",
      "0 projection items activated\n",
      "Ready.\n",
      "(70, 1000)\n",
      "(70, 1000)\n",
      "Extracting parameters from E:/standard and novel/sub83/standard.set...\n"
     ]
    },
    {
     "name": "stderr",
     "output_type": "stream",
     "text": [
      "<ipython-input-31-f599fd684862>:9: RuntimeWarning: At least one epoch has multiple events. Only the latency of the first event will be retained.\n",
      "  standard_epochs = mne.io.read_epochs_eeglab(standard_data_path)\n"
     ]
    },
    {
     "name": "stdout",
     "output_type": "stream",
     "text": [
      "Not setting metadata\n",
      "Not setting metadata\n",
      "99 matching events found\n",
      "No baseline correction applied\n",
      "0 projection items activated\n",
      "Ready.\n",
      "(70, 1000)\n",
      "Extracting parameters from E:/standard and novel/sub83/novel.set...\n"
     ]
    },
    {
     "name": "stderr",
     "output_type": "stream",
     "text": [
      "<ipython-input-31-f599fd684862>:25: RuntimeWarning: At least one epoch has multiple events. Only the latency of the first event will be retained.\n",
      "  novel_epochs = mne.io.read_epochs_eeglab(novel_data_path)\n"
     ]
    },
    {
     "name": "stdout",
     "output_type": "stream",
     "text": [
      "Not setting metadata\n",
      "Not setting metadata\n",
      "98 matching events found\n",
      "No baseline correction applied\n",
      "0 projection items activated\n",
      "Ready.\n",
      "(70, 1000)\n",
      "(70, 1000)\n",
      "Extracting parameters from E:/standard and novel/sub84/standard.set...\n"
     ]
    },
    {
     "name": "stderr",
     "output_type": "stream",
     "text": [
      "<ipython-input-31-f599fd684862>:9: RuntimeWarning: At least one epoch has multiple events. Only the latency of the first event will be retained.\n",
      "  standard_epochs = mne.io.read_epochs_eeglab(standard_data_path)\n"
     ]
    },
    {
     "name": "stdout",
     "output_type": "stream",
     "text": [
      "Not setting metadata\n",
      "Not setting metadata\n",
      "85 matching events found\n",
      "No baseline correction applied\n",
      "0 projection items activated\n",
      "Ready.\n",
      "(70, 1000)\n",
      "Extracting parameters from E:/standard and novel/sub84/novel.set...\n"
     ]
    },
    {
     "name": "stderr",
     "output_type": "stream",
     "text": [
      "<ipython-input-31-f599fd684862>:25: RuntimeWarning: At least one epoch has multiple events. Only the latency of the first event will be retained.\n",
      "  novel_epochs = mne.io.read_epochs_eeglab(novel_data_path)\n"
     ]
    },
    {
     "name": "stdout",
     "output_type": "stream",
     "text": [
      "Not setting metadata\n",
      "Not setting metadata\n",
      "88 matching events found\n",
      "No baseline correction applied\n",
      "0 projection items activated\n",
      "Ready.\n",
      "(70, 1000)\n",
      "(70, 1000)\n",
      "Extracting parameters from E:/standard and novel/sub85/standard.set...\n"
     ]
    },
    {
     "name": "stderr",
     "output_type": "stream",
     "text": [
      "<ipython-input-31-f599fd684862>:9: RuntimeWarning: At least one epoch has multiple events. Only the latency of the first event will be retained.\n",
      "  standard_epochs = mne.io.read_epochs_eeglab(standard_data_path)\n"
     ]
    },
    {
     "name": "stdout",
     "output_type": "stream",
     "text": [
      "Not setting metadata\n",
      "Not setting metadata\n",
      "101 matching events found\n",
      "No baseline correction applied\n",
      "0 projection items activated\n",
      "Ready.\n",
      "(70, 1000)\n",
      "Extracting parameters from E:/standard and novel/sub85/novel.set...\n"
     ]
    },
    {
     "name": "stderr",
     "output_type": "stream",
     "text": [
      "<ipython-input-31-f599fd684862>:25: RuntimeWarning: At least one epoch has multiple events. Only the latency of the first event will be retained.\n",
      "  novel_epochs = mne.io.read_epochs_eeglab(novel_data_path)\n"
     ]
    },
    {
     "name": "stdout",
     "output_type": "stream",
     "text": [
      "Not setting metadata\n",
      "Not setting metadata\n",
      "101 matching events found\n",
      "No baseline correction applied\n",
      "0 projection items activated\n",
      "Ready.\n",
      "(70, 1000)\n",
      "(70, 1000)\n",
      "Extracting parameters from E:/standard and novel/sub86/standard.set...\n"
     ]
    },
    {
     "name": "stderr",
     "output_type": "stream",
     "text": [
      "<ipython-input-31-f599fd684862>:9: RuntimeWarning: At least one epoch has multiple events. Only the latency of the first event will be retained.\n",
      "  standard_epochs = mne.io.read_epochs_eeglab(standard_data_path)\n"
     ]
    },
    {
     "name": "stdout",
     "output_type": "stream",
     "text": [
      "Not setting metadata\n",
      "Not setting metadata\n",
      "96 matching events found\n",
      "No baseline correction applied\n",
      "0 projection items activated\n",
      "Ready.\n",
      "(70, 1000)\n",
      "Extracting parameters from E:/standard and novel/sub86/novel.set...\n"
     ]
    },
    {
     "name": "stderr",
     "output_type": "stream",
     "text": [
      "<ipython-input-31-f599fd684862>:25: RuntimeWarning: At least one epoch has multiple events. Only the latency of the first event will be retained.\n",
      "  novel_epochs = mne.io.read_epochs_eeglab(novel_data_path)\n"
     ]
    },
    {
     "name": "stdout",
     "output_type": "stream",
     "text": [
      "Not setting metadata\n",
      "Not setting metadata\n",
      "99 matching events found\n",
      "No baseline correction applied\n",
      "0 projection items activated\n",
      "Ready.\n",
      "(70, 1000)\n",
      "(70, 1000)\n",
      "Extracting parameters from E:/standard and novel/sub87/standard.set...\n"
     ]
    },
    {
     "name": "stderr",
     "output_type": "stream",
     "text": [
      "<ipython-input-31-f599fd684862>:9: RuntimeWarning: At least one epoch has multiple events. Only the latency of the first event will be retained.\n",
      "  standard_epochs = mne.io.read_epochs_eeglab(standard_data_path)\n"
     ]
    },
    {
     "name": "stdout",
     "output_type": "stream",
     "text": [
      "Not setting metadata\n",
      "Not setting metadata\n",
      "101 matching events found\n",
      "No baseline correction applied\n",
      "0 projection items activated\n",
      "Ready.\n",
      "(70, 1000)\n",
      "Extracting parameters from E:/standard and novel/sub87/novel.set...\n"
     ]
    },
    {
     "name": "stderr",
     "output_type": "stream",
     "text": [
      "<ipython-input-31-f599fd684862>:25: RuntimeWarning: At least one epoch has multiple events. Only the latency of the first event will be retained.\n",
      "  novel_epochs = mne.io.read_epochs_eeglab(novel_data_path)\n"
     ]
    },
    {
     "name": "stdout",
     "output_type": "stream",
     "text": [
      "Not setting metadata\n",
      "Not setting metadata\n",
      "102 matching events found\n",
      "No baseline correction applied\n",
      "0 projection items activated\n",
      "Ready.\n",
      "(70, 1000)\n",
      "(70, 1000)\n",
      "Extracting parameters from E:/standard and novel/sub88/standard.set...\n"
     ]
    },
    {
     "name": "stderr",
     "output_type": "stream",
     "text": [
      "<ipython-input-31-f599fd684862>:9: RuntimeWarning: At least one epoch has multiple events. Only the latency of the first event will be retained.\n",
      "  standard_epochs = mne.io.read_epochs_eeglab(standard_data_path)\n"
     ]
    },
    {
     "name": "stdout",
     "output_type": "stream",
     "text": [
      "Not setting metadata\n",
      "Not setting metadata\n",
      "81 matching events found\n",
      "No baseline correction applied\n",
      "0 projection items activated\n",
      "Ready.\n",
      "(70, 1000)\n",
      "Extracting parameters from E:/standard and novel/sub88/novel.set...\n"
     ]
    },
    {
     "name": "stderr",
     "output_type": "stream",
     "text": [
      "<ipython-input-31-f599fd684862>:25: RuntimeWarning: At least one epoch has multiple events. Only the latency of the first event will be retained.\n",
      "  novel_epochs = mne.io.read_epochs_eeglab(novel_data_path)\n"
     ]
    },
    {
     "name": "stdout",
     "output_type": "stream",
     "text": [
      "Not setting metadata\n",
      "Not setting metadata\n",
      "77 matching events found\n",
      "No baseline correction applied\n",
      "0 projection items activated\n",
      "Ready.\n",
      "(70, 1000)\n",
      "(70, 1000)\n",
      "Extracting parameters from E:/standard and novel/sub89/standard.set...\n"
     ]
    },
    {
     "name": "stderr",
     "output_type": "stream",
     "text": [
      "<ipython-input-31-f599fd684862>:9: RuntimeWarning: At least one epoch has multiple events. Only the latency of the first event will be retained.\n",
      "  standard_epochs = mne.io.read_epochs_eeglab(standard_data_path)\n"
     ]
    },
    {
     "name": "stdout",
     "output_type": "stream",
     "text": [
      "Not setting metadata\n",
      "Not setting metadata\n",
      "101 matching events found\n",
      "No baseline correction applied\n",
      "0 projection items activated\n",
      "Ready.\n",
      "(70, 1000)\n",
      "Extracting parameters from E:/standard and novel/sub89/novel.set...\n"
     ]
    },
    {
     "name": "stderr",
     "output_type": "stream",
     "text": [
      "<ipython-input-31-f599fd684862>:25: RuntimeWarning: At least one epoch has multiple events. Only the latency of the first event will be retained.\n",
      "  novel_epochs = mne.io.read_epochs_eeglab(novel_data_path)\n"
     ]
    },
    {
     "name": "stdout",
     "output_type": "stream",
     "text": [
      "Not setting metadata\n",
      "Not setting metadata\n",
      "102 matching events found\n",
      "No baseline correction applied\n",
      "0 projection items activated\n",
      "Ready.\n",
      "(70, 1000)\n",
      "(70, 1000)\n",
      "Extracting parameters from E:/standard and novel/sub90/standard.set...\n"
     ]
    },
    {
     "name": "stderr",
     "output_type": "stream",
     "text": [
      "<ipython-input-31-f599fd684862>:9: RuntimeWarning: At least one epoch has multiple events. Only the latency of the first event will be retained.\n",
      "  standard_epochs = mne.io.read_epochs_eeglab(standard_data_path)\n"
     ]
    },
    {
     "name": "stdout",
     "output_type": "stream",
     "text": [
      "Not setting metadata\n",
      "Not setting metadata\n",
      "97 matching events found\n",
      "No baseline correction applied\n",
      "0 projection items activated\n",
      "Ready.\n",
      "(70, 1000)\n",
      "Extracting parameters from E:/standard and novel/sub90/novel.set...\n"
     ]
    },
    {
     "name": "stderr",
     "output_type": "stream",
     "text": [
      "<ipython-input-31-f599fd684862>:25: RuntimeWarning: At least one epoch has multiple events. Only the latency of the first event will be retained.\n",
      "  novel_epochs = mne.io.read_epochs_eeglab(novel_data_path)\n"
     ]
    },
    {
     "name": "stdout",
     "output_type": "stream",
     "text": [
      "Not setting metadata\n",
      "Not setting metadata\n",
      "99 matching events found\n",
      "No baseline correction applied\n",
      "0 projection items activated\n",
      "Ready.\n",
      "(70, 1000)\n",
      "(70, 1000)\n",
      "Extracting parameters from E:/standard and novel/sub91/standard.set...\n"
     ]
    },
    {
     "name": "stderr",
     "output_type": "stream",
     "text": [
      "<ipython-input-31-f599fd684862>:9: RuntimeWarning: At least one epoch has multiple events. Only the latency of the first event will be retained.\n",
      "  standard_epochs = mne.io.read_epochs_eeglab(standard_data_path)\n"
     ]
    },
    {
     "name": "stdout",
     "output_type": "stream",
     "text": [
      "Not setting metadata\n",
      "Not setting metadata\n",
      "98 matching events found\n",
      "No baseline correction applied\n",
      "0 projection items activated\n",
      "Ready.\n",
      "(70, 1000)\n",
      "Extracting parameters from E:/standard and novel/sub91/novel.set...\n"
     ]
    },
    {
     "name": "stderr",
     "output_type": "stream",
     "text": [
      "<ipython-input-31-f599fd684862>:25: RuntimeWarning: At least one epoch has multiple events. Only the latency of the first event will be retained.\n",
      "  novel_epochs = mne.io.read_epochs_eeglab(novel_data_path)\n"
     ]
    },
    {
     "name": "stdout",
     "output_type": "stream",
     "text": [
      "Not setting metadata\n",
      "Not setting metadata\n",
      "96 matching events found\n",
      "No baseline correction applied\n",
      "0 projection items activated\n",
      "Ready.\n",
      "(70, 1000)\n",
      "(70, 1000)\n",
      "Extracting parameters from E:/standard and novel/sub92/standard.set...\n"
     ]
    },
    {
     "name": "stderr",
     "output_type": "stream",
     "text": [
      "<ipython-input-31-f599fd684862>:9: RuntimeWarning: At least one epoch has multiple events. Only the latency of the first event will be retained.\n",
      "  standard_epochs = mne.io.read_epochs_eeglab(standard_data_path)\n"
     ]
    },
    {
     "name": "stdout",
     "output_type": "stream",
     "text": [
      "Not setting metadata\n",
      "Not setting metadata\n",
      "77 matching events found\n",
      "No baseline correction applied\n",
      "0 projection items activated\n",
      "Ready.\n",
      "(70, 1000)\n",
      "Extracting parameters from E:/standard and novel/sub92/novel.set...\n"
     ]
    },
    {
     "name": "stderr",
     "output_type": "stream",
     "text": [
      "<ipython-input-31-f599fd684862>:25: RuntimeWarning: At least one epoch has multiple events. Only the latency of the first event will be retained.\n",
      "  novel_epochs = mne.io.read_epochs_eeglab(novel_data_path)\n"
     ]
    },
    {
     "name": "stdout",
     "output_type": "stream",
     "text": [
      "Not setting metadata\n",
      "Not setting metadata\n",
      "76 matching events found\n",
      "No baseline correction applied\n",
      "0 projection items activated\n",
      "Ready.\n",
      "(70, 1000)\n",
      "(70, 1000)\n",
      "Extracting parameters from E:/standard and novel/sub93/standard.set...\n"
     ]
    },
    {
     "name": "stderr",
     "output_type": "stream",
     "text": [
      "<ipython-input-31-f599fd684862>:9: RuntimeWarning: At least one epoch has multiple events. Only the latency of the first event will be retained.\n",
      "  standard_epochs = mne.io.read_epochs_eeglab(standard_data_path)\n"
     ]
    },
    {
     "name": "stdout",
     "output_type": "stream",
     "text": [
      "Not setting metadata\n",
      "Not setting metadata\n",
      "99 matching events found\n",
      "No baseline correction applied\n",
      "0 projection items activated\n",
      "Ready.\n",
      "(70, 1000)\n",
      "Extracting parameters from E:/standard and novel/sub93/novel.set...\n"
     ]
    },
    {
     "name": "stderr",
     "output_type": "stream",
     "text": [
      "<ipython-input-31-f599fd684862>:25: RuntimeWarning: At least one epoch has multiple events. Only the latency of the first event will be retained.\n",
      "  novel_epochs = mne.io.read_epochs_eeglab(novel_data_path)\n"
     ]
    },
    {
     "name": "stdout",
     "output_type": "stream",
     "text": [
      "Not setting metadata\n",
      "Not setting metadata\n",
      "101 matching events found\n",
      "No baseline correction applied\n",
      "0 projection items activated\n",
      "Ready.\n",
      "(70, 1000)\n",
      "(70, 1000)\n",
      "Extracting parameters from E:/standard and novel/sub94/standard.set...\n"
     ]
    },
    {
     "name": "stderr",
     "output_type": "stream",
     "text": [
      "<ipython-input-31-f599fd684862>:9: RuntimeWarning: At least one epoch has multiple events. Only the latency of the first event will be retained.\n",
      "  standard_epochs = mne.io.read_epochs_eeglab(standard_data_path)\n"
     ]
    },
    {
     "name": "stdout",
     "output_type": "stream",
     "text": [
      "Not setting metadata\n",
      "Not setting metadata\n",
      "92 matching events found\n",
      "No baseline correction applied\n",
      "0 projection items activated\n",
      "Ready.\n",
      "(70, 1000)\n",
      "Extracting parameters from E:/standard and novel/sub94/novel.set...\n"
     ]
    },
    {
     "name": "stderr",
     "output_type": "stream",
     "text": [
      "<ipython-input-31-f599fd684862>:25: RuntimeWarning: At least one epoch has multiple events. Only the latency of the first event will be retained.\n",
      "  novel_epochs = mne.io.read_epochs_eeglab(novel_data_path)\n"
     ]
    },
    {
     "name": "stdout",
     "output_type": "stream",
     "text": [
      "Not setting metadata\n",
      "Not setting metadata\n",
      "96 matching events found\n",
      "No baseline correction applied\n",
      "0 projection items activated\n",
      "Ready.\n",
      "(70, 1000)\n",
      "(70, 1000)\n",
      "Extracting parameters from E:/standard and novel/sub95/standard.set...\n"
     ]
    },
    {
     "name": "stderr",
     "output_type": "stream",
     "text": [
      "<ipython-input-31-f599fd684862>:9: RuntimeWarning: At least one epoch has multiple events. Only the latency of the first event will be retained.\n",
      "  standard_epochs = mne.io.read_epochs_eeglab(standard_data_path)\n"
     ]
    },
    {
     "name": "stdout",
     "output_type": "stream",
     "text": [
      "Not setting metadata\n",
      "Not setting metadata\n",
      "80 matching events found\n",
      "No baseline correction applied\n",
      "0 projection items activated\n",
      "Ready.\n",
      "(70, 1000)\n",
      "Extracting parameters from E:/standard and novel/sub95/novel.set...\n"
     ]
    },
    {
     "name": "stderr",
     "output_type": "stream",
     "text": [
      "<ipython-input-31-f599fd684862>:25: RuntimeWarning: At least one epoch has multiple events. Only the latency of the first event will be retained.\n",
      "  novel_epochs = mne.io.read_epochs_eeglab(novel_data_path)\n"
     ]
    },
    {
     "name": "stdout",
     "output_type": "stream",
     "text": [
      "Not setting metadata\n",
      "Not setting metadata\n",
      "74 matching events found\n",
      "No baseline correction applied\n",
      "0 projection items activated\n",
      "Ready.\n",
      "(70, 1000)\n",
      "(70, 1000)\n",
      "Extracting parameters from E:/standard and novel/sub96/standard.set...\n"
     ]
    },
    {
     "name": "stderr",
     "output_type": "stream",
     "text": [
      "<ipython-input-31-f599fd684862>:9: RuntimeWarning: At least one epoch has multiple events. Only the latency of the first event will be retained.\n",
      "  standard_epochs = mne.io.read_epochs_eeglab(standard_data_path)\n"
     ]
    },
    {
     "name": "stdout",
     "output_type": "stream",
     "text": [
      "Not setting metadata\n",
      "Not setting metadata\n",
      "90 matching events found\n",
      "No baseline correction applied\n",
      "0 projection items activated\n",
      "Ready.\n",
      "(70, 1000)\n",
      "Extracting parameters from E:/standard and novel/sub96/novel.set...\n"
     ]
    },
    {
     "name": "stderr",
     "output_type": "stream",
     "text": [
      "<ipython-input-31-f599fd684862>:25: RuntimeWarning: At least one epoch has multiple events. Only the latency of the first event will be retained.\n",
      "  novel_epochs = mne.io.read_epochs_eeglab(novel_data_path)\n"
     ]
    },
    {
     "name": "stdout",
     "output_type": "stream",
     "text": [
      "Not setting metadata\n",
      "Not setting metadata\n",
      "89 matching events found\n",
      "No baseline correction applied\n",
      "0 projection items activated\n",
      "Ready.\n",
      "(70, 1000)\n",
      "(70, 1000)\n",
      "Extracting parameters from E:/standard and novel/sub97/standard.set...\n"
     ]
    },
    {
     "name": "stderr",
     "output_type": "stream",
     "text": [
      "<ipython-input-31-f599fd684862>:9: RuntimeWarning: At least one epoch has multiple events. Only the latency of the first event will be retained.\n",
      "  standard_epochs = mne.io.read_epochs_eeglab(standard_data_path)\n"
     ]
    },
    {
     "name": "stdout",
     "output_type": "stream",
     "text": [
      "Not setting metadata\n",
      "Not setting metadata\n",
      "101 matching events found\n",
      "No baseline correction applied\n",
      "0 projection items activated\n",
      "Ready.\n",
      "(70, 1000)\n",
      "Extracting parameters from E:/standard and novel/sub97/novel.set...\n"
     ]
    },
    {
     "name": "stderr",
     "output_type": "stream",
     "text": [
      "<ipython-input-31-f599fd684862>:25: RuntimeWarning: At least one epoch has multiple events. Only the latency of the first event will be retained.\n",
      "  novel_epochs = mne.io.read_epochs_eeglab(novel_data_path)\n"
     ]
    },
    {
     "name": "stdout",
     "output_type": "stream",
     "text": [
      "Not setting metadata\n",
      "Not setting metadata\n",
      "101 matching events found\n",
      "No baseline correction applied\n",
      "0 projection items activated\n",
      "Ready.\n",
      "(70, 1000)\n",
      "(70, 1000)\n",
      "Extracting parameters from E:/standard and novel/sub98/standard.set...\n"
     ]
    },
    {
     "name": "stderr",
     "output_type": "stream",
     "text": [
      "<ipython-input-31-f599fd684862>:9: RuntimeWarning: At least one epoch has multiple events. Only the latency of the first event will be retained.\n",
      "  standard_epochs = mne.io.read_epochs_eeglab(standard_data_path)\n"
     ]
    },
    {
     "name": "stdout",
     "output_type": "stream",
     "text": [
      "Not setting metadata\n",
      "Not setting metadata\n",
      "66 matching events found\n",
      "No baseline correction applied\n",
      "0 projection items activated\n",
      "Ready.\n",
      "(70, 1000)\n",
      "Extracting parameters from E:/standard and novel/sub98/novel.set...\n"
     ]
    },
    {
     "name": "stderr",
     "output_type": "stream",
     "text": [
      "<ipython-input-31-f599fd684862>:25: RuntimeWarning: At least one epoch has multiple events. Only the latency of the first event will be retained.\n",
      "  novel_epochs = mne.io.read_epochs_eeglab(novel_data_path)\n"
     ]
    },
    {
     "name": "stdout",
     "output_type": "stream",
     "text": [
      "Not setting metadata\n",
      "Not setting metadata\n",
      "66 matching events found\n",
      "No baseline correction applied\n",
      "0 projection items activated\n",
      "Ready.\n",
      "(70, 1000)\n",
      "(70, 1000)\n",
      "Extracting parameters from E:/standard and novel/sub99/standard.set...\n"
     ]
    },
    {
     "name": "stderr",
     "output_type": "stream",
     "text": [
      "<ipython-input-31-f599fd684862>:9: RuntimeWarning: At least one epoch has multiple events. Only the latency of the first event will be retained.\n",
      "  standard_epochs = mne.io.read_epochs_eeglab(standard_data_path)\n"
     ]
    },
    {
     "name": "stdout",
     "output_type": "stream",
     "text": [
      "Not setting metadata\n",
      "Not setting metadata\n",
      "99 matching events found\n",
      "No baseline correction applied\n",
      "0 projection items activated\n",
      "Ready.\n",
      "(70, 1000)\n",
      "Extracting parameters from E:/standard and novel/sub99/novel.set...\n"
     ]
    },
    {
     "name": "stderr",
     "output_type": "stream",
     "text": [
      "<ipython-input-31-f599fd684862>:25: RuntimeWarning: At least one epoch has multiple events. Only the latency of the first event will be retained.\n",
      "  novel_epochs = mne.io.read_epochs_eeglab(novel_data_path)\n"
     ]
    },
    {
     "name": "stdout",
     "output_type": "stream",
     "text": [
      "Not setting metadata\n",
      "Not setting metadata\n",
      "101 matching events found\n",
      "No baseline correction applied\n",
      "0 projection items activated\n",
      "Ready.\n",
      "(70, 1000)\n",
      "(70, 1000)\n",
      "Extracting parameters from E:/standard and novel/sub100/standard.set...\n"
     ]
    },
    {
     "name": "stderr",
     "output_type": "stream",
     "text": [
      "<ipython-input-31-f599fd684862>:9: RuntimeWarning: At least one epoch has multiple events. Only the latency of the first event will be retained.\n",
      "  standard_epochs = mne.io.read_epochs_eeglab(standard_data_path)\n"
     ]
    },
    {
     "name": "stdout",
     "output_type": "stream",
     "text": [
      "Not setting metadata\n",
      "Not setting metadata\n",
      "92 matching events found\n",
      "No baseline correction applied\n",
      "0 projection items activated\n",
      "Ready.\n",
      "(70, 1000)\n",
      "Extracting parameters from E:/standard and novel/sub100/novel.set...\n"
     ]
    },
    {
     "name": "stderr",
     "output_type": "stream",
     "text": [
      "<ipython-input-31-f599fd684862>:25: RuntimeWarning: At least one epoch has multiple events. Only the latency of the first event will be retained.\n",
      "  novel_epochs = mne.io.read_epochs_eeglab(novel_data_path)\n"
     ]
    },
    {
     "name": "stdout",
     "output_type": "stream",
     "text": [
      "Not setting metadata\n",
      "Not setting metadata\n",
      "91 matching events found\n",
      "No baseline correction applied\n",
      "0 projection items activated\n",
      "Ready.\n",
      "(70, 1000)\n",
      "(70, 1000)\n",
      "Extracting parameters from E:/standard and novel/sub101/standard.set...\n"
     ]
    },
    {
     "name": "stderr",
     "output_type": "stream",
     "text": [
      "<ipython-input-31-f599fd684862>:9: RuntimeWarning: At least one epoch has multiple events. Only the latency of the first event will be retained.\n",
      "  standard_epochs = mne.io.read_epochs_eeglab(standard_data_path)\n"
     ]
    },
    {
     "name": "stdout",
     "output_type": "stream",
     "text": [
      "Not setting metadata\n",
      "Not setting metadata\n",
      "100 matching events found\n",
      "No baseline correction applied\n",
      "0 projection items activated\n",
      "Ready.\n",
      "(70, 1000)\n",
      "Extracting parameters from E:/standard and novel/sub101/novel.set...\n"
     ]
    },
    {
     "name": "stderr",
     "output_type": "stream",
     "text": [
      "<ipython-input-31-f599fd684862>:25: RuntimeWarning: At least one epoch has multiple events. Only the latency of the first event will be retained.\n",
      "  novel_epochs = mne.io.read_epochs_eeglab(novel_data_path)\n"
     ]
    },
    {
     "name": "stdout",
     "output_type": "stream",
     "text": [
      "Not setting metadata\n",
      "Not setting metadata\n",
      "96 matching events found\n",
      "No baseline correction applied\n",
      "0 projection items activated\n",
      "Ready.\n",
      "(70, 1000)\n",
      "(70, 1000)\n",
      "Extracting parameters from E:/standard and novel/sub102/standard.set...\n"
     ]
    },
    {
     "name": "stderr",
     "output_type": "stream",
     "text": [
      "<ipython-input-31-f599fd684862>:9: RuntimeWarning: At least one epoch has multiple events. Only the latency of the first event will be retained.\n",
      "  standard_epochs = mne.io.read_epochs_eeglab(standard_data_path)\n"
     ]
    },
    {
     "name": "stdout",
     "output_type": "stream",
     "text": [
      "Not setting metadata\n",
      "Not setting metadata\n",
      "94 matching events found\n",
      "No baseline correction applied\n",
      "0 projection items activated\n",
      "Ready.\n",
      "(70, 1000)\n",
      "Extracting parameters from E:/standard and novel/sub102/novel.set...\n"
     ]
    },
    {
     "name": "stderr",
     "output_type": "stream",
     "text": [
      "<ipython-input-31-f599fd684862>:25: RuntimeWarning: At least one epoch has multiple events. Only the latency of the first event will be retained.\n",
      "  novel_epochs = mne.io.read_epochs_eeglab(novel_data_path)\n"
     ]
    },
    {
     "name": "stdout",
     "output_type": "stream",
     "text": [
      "Not setting metadata\n",
      "Not setting metadata\n",
      "90 matching events found\n",
      "No baseline correction applied\n",
      "0 projection items activated\n",
      "Ready.\n",
      "(70, 1000)\n",
      "(70, 1000)\n",
      "Extracting parameters from E:/standard and novel/sub103/standard.set...\n"
     ]
    },
    {
     "name": "stderr",
     "output_type": "stream",
     "text": [
      "<ipython-input-31-f599fd684862>:9: RuntimeWarning: At least one epoch has multiple events. Only the latency of the first event will be retained.\n",
      "  standard_epochs = mne.io.read_epochs_eeglab(standard_data_path)\n"
     ]
    },
    {
     "name": "stdout",
     "output_type": "stream",
     "text": [
      "Not setting metadata\n",
      "Not setting metadata\n",
      "101 matching events found\n",
      "No baseline correction applied\n",
      "0 projection items activated\n",
      "Ready.\n",
      "(70, 1000)\n",
      "Extracting parameters from E:/standard and novel/sub103/novel.set...\n"
     ]
    },
    {
     "name": "stderr",
     "output_type": "stream",
     "text": [
      "<ipython-input-31-f599fd684862>:25: RuntimeWarning: At least one epoch has multiple events. Only the latency of the first event will be retained.\n",
      "  novel_epochs = mne.io.read_epochs_eeglab(novel_data_path)\n"
     ]
    },
    {
     "name": "stdout",
     "output_type": "stream",
     "text": [
      "Not setting metadata\n",
      "Not setting metadata\n",
      "102 matching events found\n",
      "No baseline correction applied\n",
      "0 projection items activated\n",
      "Ready.\n",
      "(70, 1000)\n",
      "(70, 1000)\n",
      "Extracting parameters from E:/standard and novel/sub104/standard.set...\n"
     ]
    },
    {
     "name": "stderr",
     "output_type": "stream",
     "text": [
      "<ipython-input-31-f599fd684862>:9: RuntimeWarning: At least one epoch has multiple events. Only the latency of the first event will be retained.\n",
      "  standard_epochs = mne.io.read_epochs_eeglab(standard_data_path)\n"
     ]
    },
    {
     "name": "stdout",
     "output_type": "stream",
     "text": [
      "Not setting metadata\n",
      "Not setting metadata\n",
      "93 matching events found\n",
      "No baseline correction applied\n",
      "0 projection items activated\n",
      "Ready.\n",
      "(70, 1000)\n",
      "Extracting parameters from E:/standard and novel/sub104/novel.set...\n"
     ]
    },
    {
     "name": "stderr",
     "output_type": "stream",
     "text": [
      "<ipython-input-31-f599fd684862>:25: RuntimeWarning: At least one epoch has multiple events. Only the latency of the first event will be retained.\n",
      "  novel_epochs = mne.io.read_epochs_eeglab(novel_data_path)\n"
     ]
    },
    {
     "name": "stdout",
     "output_type": "stream",
     "text": [
      "Not setting metadata\n",
      "Not setting metadata\n",
      "90 matching events found\n",
      "No baseline correction applied\n",
      "0 projection items activated\n",
      "Ready.\n",
      "(70, 1000)\n",
      "(70, 1000)\n",
      "Extracting parameters from E:/standard and novel/sub105/standard.set...\n"
     ]
    },
    {
     "name": "stderr",
     "output_type": "stream",
     "text": [
      "<ipython-input-31-f599fd684862>:9: RuntimeWarning: At least one epoch has multiple events. Only the latency of the first event will be retained.\n",
      "  standard_epochs = mne.io.read_epochs_eeglab(standard_data_path)\n"
     ]
    },
    {
     "name": "stdout",
     "output_type": "stream",
     "text": [
      "Not setting metadata\n",
      "Not setting metadata\n",
      "90 matching events found\n",
      "No baseline correction applied\n",
      "0 projection items activated\n",
      "Ready.\n",
      "(70, 1000)\n",
      "Extracting parameters from E:/standard and novel/sub105/novel.set...\n"
     ]
    },
    {
     "name": "stderr",
     "output_type": "stream",
     "text": [
      "<ipython-input-31-f599fd684862>:25: RuntimeWarning: At least one epoch has multiple events. Only the latency of the first event will be retained.\n",
      "  novel_epochs = mne.io.read_epochs_eeglab(novel_data_path)\n"
     ]
    },
    {
     "name": "stdout",
     "output_type": "stream",
     "text": [
      "Not setting metadata\n",
      "Not setting metadata\n",
      "85 matching events found\n",
      "No baseline correction applied\n",
      "0 projection items activated\n",
      "Ready.\n",
      "(70, 1000)\n",
      "(70, 1000)\n",
      "Extracting parameters from E:/standard and novel/sub106/standard.set...\n"
     ]
    },
    {
     "name": "stderr",
     "output_type": "stream",
     "text": [
      "<ipython-input-31-f599fd684862>:9: RuntimeWarning: At least one epoch has multiple events. Only the latency of the first event will be retained.\n",
      "  standard_epochs = mne.io.read_epochs_eeglab(standard_data_path)\n"
     ]
    },
    {
     "name": "stdout",
     "output_type": "stream",
     "text": [
      "Not setting metadata\n",
      "Not setting metadata\n",
      "100 matching events found\n",
      "No baseline correction applied\n",
      "0 projection items activated\n",
      "Ready.\n",
      "(70, 1000)\n",
      "Extracting parameters from E:/standard and novel/sub106/novel.set...\n"
     ]
    },
    {
     "name": "stderr",
     "output_type": "stream",
     "text": [
      "<ipython-input-31-f599fd684862>:25: RuntimeWarning: At least one epoch has multiple events. Only the latency of the first event will be retained.\n",
      "  novel_epochs = mne.io.read_epochs_eeglab(novel_data_path)\n"
     ]
    },
    {
     "name": "stdout",
     "output_type": "stream",
     "text": [
      "Not setting metadata\n",
      "Not setting metadata\n",
      "99 matching events found\n",
      "No baseline correction applied\n",
      "0 projection items activated\n",
      "Ready.\n",
      "(70, 1000)\n",
      "(70, 1000)\n",
      "Extracting parameters from E:/standard and novel/sub107/standard.set...\n"
     ]
    },
    {
     "name": "stderr",
     "output_type": "stream",
     "text": [
      "<ipython-input-31-f599fd684862>:9: RuntimeWarning: At least one epoch has multiple events. Only the latency of the first event will be retained.\n",
      "  standard_epochs = mne.io.read_epochs_eeglab(standard_data_path)\n"
     ]
    },
    {
     "name": "stdout",
     "output_type": "stream",
     "text": [
      "Not setting metadata\n",
      "Not setting metadata\n",
      "102 matching events found\n",
      "No baseline correction applied\n",
      "0 projection items activated\n",
      "Ready.\n",
      "(70, 1000)\n",
      "Extracting parameters from E:/standard and novel/sub107/novel.set...\n"
     ]
    },
    {
     "name": "stderr",
     "output_type": "stream",
     "text": [
      "<ipython-input-31-f599fd684862>:25: RuntimeWarning: At least one epoch has multiple events. Only the latency of the first event will be retained.\n",
      "  novel_epochs = mne.io.read_epochs_eeglab(novel_data_path)\n"
     ]
    },
    {
     "name": "stdout",
     "output_type": "stream",
     "text": [
      "Not setting metadata\n",
      "Not setting metadata\n",
      "101 matching events found\n",
      "No baseline correction applied\n",
      "0 projection items activated\n",
      "Ready.\n",
      "(70, 1000)\n",
      "(70, 1000)\n",
      "Extracting parameters from E:/standard and novel/sub108/standard.set...\n"
     ]
    },
    {
     "name": "stderr",
     "output_type": "stream",
     "text": [
      "<ipython-input-31-f599fd684862>:9: RuntimeWarning: At least one epoch has multiple events. Only the latency of the first event will be retained.\n",
      "  standard_epochs = mne.io.read_epochs_eeglab(standard_data_path)\n"
     ]
    },
    {
     "name": "stdout",
     "output_type": "stream",
     "text": [
      "Not setting metadata\n",
      "Not setting metadata\n",
      "91 matching events found\n",
      "No baseline correction applied\n",
      "0 projection items activated\n",
      "Ready.\n",
      "(70, 1000)\n",
      "Extracting parameters from E:/standard and novel/sub108/novel.set...\n"
     ]
    },
    {
     "name": "stderr",
     "output_type": "stream",
     "text": [
      "<ipython-input-31-f599fd684862>:25: RuntimeWarning: At least one epoch has multiple events. Only the latency of the first event will be retained.\n",
      "  novel_epochs = mne.io.read_epochs_eeglab(novel_data_path)\n"
     ]
    },
    {
     "name": "stdout",
     "output_type": "stream",
     "text": [
      "Not setting metadata\n",
      "Not setting metadata\n",
      "98 matching events found\n",
      "No baseline correction applied\n",
      "0 projection items activated\n",
      "Ready.\n",
      "(70, 1000)\n",
      "(70, 1000)\n",
      "Extracting parameters from E:/standard and novel/sub109/standard.set...\n"
     ]
    },
    {
     "name": "stderr",
     "output_type": "stream",
     "text": [
      "<ipython-input-31-f599fd684862>:9: RuntimeWarning: At least one epoch has multiple events. Only the latency of the first event will be retained.\n",
      "  standard_epochs = mne.io.read_epochs_eeglab(standard_data_path)\n"
     ]
    },
    {
     "name": "stdout",
     "output_type": "stream",
     "text": [
      "Not setting metadata\n",
      "Not setting metadata\n",
      "101 matching events found\n",
      "No baseline correction applied\n",
      "0 projection items activated\n",
      "Ready.\n",
      "(70, 1000)\n",
      "Extracting parameters from E:/standard and novel/sub109/novel.set...\n"
     ]
    },
    {
     "name": "stderr",
     "output_type": "stream",
     "text": [
      "<ipython-input-31-f599fd684862>:25: RuntimeWarning: At least one epoch has multiple events. Only the latency of the first event will be retained.\n",
      "  novel_epochs = mne.io.read_epochs_eeglab(novel_data_path)\n"
     ]
    },
    {
     "name": "stdout",
     "output_type": "stream",
     "text": [
      "Not setting metadata\n",
      "Not setting metadata\n",
      "101 matching events found\n",
      "No baseline correction applied\n",
      "0 projection items activated\n",
      "Ready.\n",
      "(70, 1000)\n",
      "(70, 1000)\n",
      "Extracting parameters from E:/standard and novel/sub110/standard.set...\n"
     ]
    },
    {
     "name": "stderr",
     "output_type": "stream",
     "text": [
      "<ipython-input-31-f599fd684862>:9: RuntimeWarning: At least one epoch has multiple events. Only the latency of the first event will be retained.\n",
      "  standard_epochs = mne.io.read_epochs_eeglab(standard_data_path)\n"
     ]
    },
    {
     "name": "stdout",
     "output_type": "stream",
     "text": [
      "Not setting metadata\n",
      "Not setting metadata\n",
      "96 matching events found\n",
      "No baseline correction applied\n",
      "0 projection items activated\n",
      "Ready.\n",
      "(70, 1000)\n",
      "Extracting parameters from E:/standard and novel/sub110/novel.set...\n"
     ]
    },
    {
     "name": "stderr",
     "output_type": "stream",
     "text": [
      "<ipython-input-31-f599fd684862>:25: RuntimeWarning: At least one epoch has multiple events. Only the latency of the first event will be retained.\n",
      "  novel_epochs = mne.io.read_epochs_eeglab(novel_data_path)\n"
     ]
    },
    {
     "name": "stdout",
     "output_type": "stream",
     "text": [
      "Not setting metadata\n",
      "Not setting metadata\n",
      "95 matching events found\n",
      "No baseline correction applied\n",
      "0 projection items activated\n",
      "Ready.\n",
      "(70, 1000)\n",
      "(70, 1000)\n",
      "Extracting parameters from E:/standard and novel/sub111/standard.set...\n"
     ]
    },
    {
     "name": "stderr",
     "output_type": "stream",
     "text": [
      "<ipython-input-31-f599fd684862>:9: RuntimeWarning: At least one epoch has multiple events. Only the latency of the first event will be retained.\n",
      "  standard_epochs = mne.io.read_epochs_eeglab(standard_data_path)\n"
     ]
    },
    {
     "name": "stdout",
     "output_type": "stream",
     "text": [
      "Not setting metadata\n",
      "Not setting metadata\n",
      "101 matching events found\n",
      "No baseline correction applied\n",
      "0 projection items activated\n",
      "Ready.\n",
      "(70, 1000)\n",
      "Extracting parameters from E:/standard and novel/sub111/novel.set...\n"
     ]
    },
    {
     "name": "stderr",
     "output_type": "stream",
     "text": [
      "<ipython-input-31-f599fd684862>:25: RuntimeWarning: At least one epoch has multiple events. Only the latency of the first event will be retained.\n",
      "  novel_epochs = mne.io.read_epochs_eeglab(novel_data_path)\n"
     ]
    },
    {
     "name": "stdout",
     "output_type": "stream",
     "text": [
      "Not setting metadata\n",
      "Not setting metadata\n",
      "100 matching events found\n",
      "No baseline correction applied\n",
      "0 projection items activated\n",
      "Ready.\n",
      "(70, 1000)\n",
      "(70, 1000)\n",
      "Extracting parameters from E:/standard and novel/sub112/standard.set...\n"
     ]
    },
    {
     "name": "stderr",
     "output_type": "stream",
     "text": [
      "<ipython-input-31-f599fd684862>:9: RuntimeWarning: At least one epoch has multiple events. Only the latency of the first event will be retained.\n",
      "  standard_epochs = mne.io.read_epochs_eeglab(standard_data_path)\n"
     ]
    },
    {
     "name": "stdout",
     "output_type": "stream",
     "text": [
      "Not setting metadata\n",
      "Not setting metadata\n",
      "95 matching events found\n",
      "No baseline correction applied\n",
      "0 projection items activated\n",
      "Ready.\n",
      "(70, 1000)\n",
      "Extracting parameters from E:/standard and novel/sub112/novel.set...\n"
     ]
    },
    {
     "name": "stderr",
     "output_type": "stream",
     "text": [
      "<ipython-input-31-f599fd684862>:25: RuntimeWarning: At least one epoch has multiple events. Only the latency of the first event will be retained.\n",
      "  novel_epochs = mne.io.read_epochs_eeglab(novel_data_path)\n"
     ]
    },
    {
     "name": "stdout",
     "output_type": "stream",
     "text": [
      "Not setting metadata\n",
      "Not setting metadata\n",
      "85 matching events found\n",
      "No baseline correction applied\n",
      "0 projection items activated\n",
      "Ready.\n",
      "(70, 1000)\n",
      "(70, 1000)\n",
      "Extracting parameters from E:/standard and novel/sub113/standard.set...\n"
     ]
    },
    {
     "name": "stderr",
     "output_type": "stream",
     "text": [
      "<ipython-input-31-f599fd684862>:9: RuntimeWarning: At least one epoch has multiple events. Only the latency of the first event will be retained.\n",
      "  standard_epochs = mne.io.read_epochs_eeglab(standard_data_path)\n"
     ]
    },
    {
     "name": "stdout",
     "output_type": "stream",
     "text": [
      "Not setting metadata\n",
      "Not setting metadata\n",
      "82 matching events found\n",
      "No baseline correction applied\n",
      "0 projection items activated\n",
      "Ready.\n",
      "(70, 1000)\n",
      "Extracting parameters from E:/standard and novel/sub113/novel.set...\n"
     ]
    },
    {
     "name": "stderr",
     "output_type": "stream",
     "text": [
      "<ipython-input-31-f599fd684862>:25: RuntimeWarning: At least one epoch has multiple events. Only the latency of the first event will be retained.\n",
      "  novel_epochs = mne.io.read_epochs_eeglab(novel_data_path)\n"
     ]
    },
    {
     "name": "stdout",
     "output_type": "stream",
     "text": [
      "Not setting metadata\n",
      "Not setting metadata\n",
      "88 matching events found\n",
      "No baseline correction applied\n",
      "0 projection items activated\n",
      "Ready.\n",
      "(70, 1000)\n",
      "(70, 1000)\n",
      "Extracting parameters from E:/standard and novel/sub114/standard.set...\n"
     ]
    },
    {
     "name": "stderr",
     "output_type": "stream",
     "text": [
      "<ipython-input-31-f599fd684862>:9: RuntimeWarning: At least one epoch has multiple events. Only the latency of the first event will be retained.\n",
      "  standard_epochs = mne.io.read_epochs_eeglab(standard_data_path)\n"
     ]
    },
    {
     "name": "stdout",
     "output_type": "stream",
     "text": [
      "Not setting metadata\n",
      "Not setting metadata\n",
      "100 matching events found\n",
      "No baseline correction applied\n",
      "0 projection items activated\n",
      "Ready.\n",
      "(70, 1000)\n",
      "Extracting parameters from E:/standard and novel/sub114/novel.set...\n"
     ]
    },
    {
     "name": "stderr",
     "output_type": "stream",
     "text": [
      "<ipython-input-31-f599fd684862>:25: RuntimeWarning: At least one epoch has multiple events. Only the latency of the first event will be retained.\n",
      "  novel_epochs = mne.io.read_epochs_eeglab(novel_data_path)\n"
     ]
    },
    {
     "name": "stdout",
     "output_type": "stream",
     "text": [
      "Not setting metadata\n",
      "Not setting metadata\n",
      "98 matching events found\n",
      "No baseline correction applied\n",
      "0 projection items activated\n",
      "Ready.\n",
      "(70, 1000)\n",
      "(70, 1000)\n",
      "Extracting parameters from E:/standard and novel/sub115/standard.set...\n"
     ]
    },
    {
     "name": "stderr",
     "output_type": "stream",
     "text": [
      "<ipython-input-31-f599fd684862>:9: RuntimeWarning: At least one epoch has multiple events. Only the latency of the first event will be retained.\n",
      "  standard_epochs = mne.io.read_epochs_eeglab(standard_data_path)\n"
     ]
    },
    {
     "name": "stdout",
     "output_type": "stream",
     "text": [
      "Not setting metadata\n",
      "Not setting metadata\n",
      "97 matching events found\n",
      "No baseline correction applied\n",
      "0 projection items activated\n",
      "Ready.\n",
      "(70, 1000)\n",
      "Extracting parameters from E:/standard and novel/sub115/novel.set...\n"
     ]
    },
    {
     "name": "stderr",
     "output_type": "stream",
     "text": [
      "<ipython-input-31-f599fd684862>:25: RuntimeWarning: At least one epoch has multiple events. Only the latency of the first event will be retained.\n",
      "  novel_epochs = mne.io.read_epochs_eeglab(novel_data_path)\n"
     ]
    },
    {
     "name": "stdout",
     "output_type": "stream",
     "text": [
      "Not setting metadata\n",
      "Not setting metadata\n",
      "92 matching events found\n",
      "No baseline correction applied\n",
      "0 projection items activated\n",
      "Ready.\n",
      "(70, 1000)\n",
      "(70, 1000)\n",
      "Extracting parameters from E:/standard and novel/sub116/standard.set...\n"
     ]
    },
    {
     "name": "stderr",
     "output_type": "stream",
     "text": [
      "<ipython-input-31-f599fd684862>:9: RuntimeWarning: At least one epoch has multiple events. Only the latency of the first event will be retained.\n",
      "  standard_epochs = mne.io.read_epochs_eeglab(standard_data_path)\n"
     ]
    },
    {
     "name": "stdout",
     "output_type": "stream",
     "text": [
      "Not setting metadata\n",
      "Not setting metadata\n",
      "100 matching events found\n",
      "No baseline correction applied\n",
      "0 projection items activated\n",
      "Ready.\n",
      "(70, 1000)\n",
      "Extracting parameters from E:/standard and novel/sub116/novel.set...\n"
     ]
    },
    {
     "name": "stderr",
     "output_type": "stream",
     "text": [
      "<ipython-input-31-f599fd684862>:25: RuntimeWarning: At least one epoch has multiple events. Only the latency of the first event will be retained.\n",
      "  novel_epochs = mne.io.read_epochs_eeglab(novel_data_path)\n"
     ]
    },
    {
     "name": "stdout",
     "output_type": "stream",
     "text": [
      "Not setting metadata\n",
      "Not setting metadata\n",
      "100 matching events found\n",
      "No baseline correction applied\n",
      "0 projection items activated\n",
      "Ready.\n",
      "(70, 1000)\n",
      "(70, 1000)\n",
      "Extracting parameters from E:/standard and novel/sub117/standard.set...\n"
     ]
    },
    {
     "name": "stderr",
     "output_type": "stream",
     "text": [
      "<ipython-input-31-f599fd684862>:9: RuntimeWarning: At least one epoch has multiple events. Only the latency of the first event will be retained.\n",
      "  standard_epochs = mne.io.read_epochs_eeglab(standard_data_path)\n"
     ]
    },
    {
     "name": "stdout",
     "output_type": "stream",
     "text": [
      "Not setting metadata\n",
      "Not setting metadata\n",
      "100 matching events found\n",
      "No baseline correction applied\n",
      "0 projection items activated\n",
      "Ready.\n",
      "(70, 1000)\n",
      "Extracting parameters from E:/standard and novel/sub117/novel.set...\n"
     ]
    },
    {
     "name": "stderr",
     "output_type": "stream",
     "text": [
      "<ipython-input-31-f599fd684862>:25: RuntimeWarning: At least one epoch has multiple events. Only the latency of the first event will be retained.\n",
      "  novel_epochs = mne.io.read_epochs_eeglab(novel_data_path)\n"
     ]
    },
    {
     "name": "stdout",
     "output_type": "stream",
     "text": [
      "Not setting metadata\n",
      "Not setting metadata\n",
      "98 matching events found\n",
      "No baseline correction applied\n",
      "0 projection items activated\n",
      "Ready.\n",
      "(70, 1000)\n",
      "(70, 1000)\n",
      "Extracting parameters from E:/standard and novel/sub118/standard.set...\n"
     ]
    },
    {
     "name": "stderr",
     "output_type": "stream",
     "text": [
      "<ipython-input-31-f599fd684862>:9: RuntimeWarning: At least one epoch has multiple events. Only the latency of the first event will be retained.\n",
      "  standard_epochs = mne.io.read_epochs_eeglab(standard_data_path)\n"
     ]
    },
    {
     "name": "stdout",
     "output_type": "stream",
     "text": [
      "Not setting metadata\n",
      "Not setting metadata\n",
      "88 matching events found\n",
      "No baseline correction applied\n",
      "0 projection items activated\n",
      "Ready.\n",
      "(70, 1000)\n",
      "Extracting parameters from E:/standard and novel/sub118/novel.set...\n"
     ]
    },
    {
     "name": "stderr",
     "output_type": "stream",
     "text": [
      "<ipython-input-31-f599fd684862>:25: RuntimeWarning: At least one epoch has multiple events. Only the latency of the first event will be retained.\n",
      "  novel_epochs = mne.io.read_epochs_eeglab(novel_data_path)\n"
     ]
    },
    {
     "name": "stdout",
     "output_type": "stream",
     "text": [
      "Not setting metadata\n",
      "Not setting metadata\n",
      "94 matching events found\n",
      "No baseline correction applied\n",
      "0 projection items activated\n",
      "Ready.\n",
      "(70, 1000)\n",
      "(70, 1000)\n",
      "Extracting parameters from E:/standard and novel/sub119/standard.set...\n"
     ]
    },
    {
     "name": "stderr",
     "output_type": "stream",
     "text": [
      "<ipython-input-31-f599fd684862>:9: RuntimeWarning: At least one epoch has multiple events. Only the latency of the first event will be retained.\n",
      "  standard_epochs = mne.io.read_epochs_eeglab(standard_data_path)\n"
     ]
    },
    {
     "name": "stdout",
     "output_type": "stream",
     "text": [
      "Not setting metadata\n",
      "Not setting metadata\n",
      "87 matching events found\n",
      "No baseline correction applied\n",
      "0 projection items activated\n",
      "Ready.\n",
      "(70, 1000)\n",
      "Extracting parameters from E:/standard and novel/sub119/novel.set...\n"
     ]
    },
    {
     "name": "stderr",
     "output_type": "stream",
     "text": [
      "<ipython-input-31-f599fd684862>:25: RuntimeWarning: At least one epoch has multiple events. Only the latency of the first event will be retained.\n",
      "  novel_epochs = mne.io.read_epochs_eeglab(novel_data_path)\n"
     ]
    },
    {
     "name": "stdout",
     "output_type": "stream",
     "text": [
      "Not setting metadata\n",
      "Not setting metadata\n",
      "87 matching events found\n",
      "No baseline correction applied\n",
      "0 projection items activated\n",
      "Ready.\n",
      "(70, 1000)\n",
      "(70, 1000)\n",
      "Extracting parameters from E:/standard and novel/sub120/standard.set...\n"
     ]
    },
    {
     "name": "stderr",
     "output_type": "stream",
     "text": [
      "<ipython-input-31-f599fd684862>:9: RuntimeWarning: At least one epoch has multiple events. Only the latency of the first event will be retained.\n",
      "  standard_epochs = mne.io.read_epochs_eeglab(standard_data_path)\n"
     ]
    },
    {
     "name": "stdout",
     "output_type": "stream",
     "text": [
      "Not setting metadata\n",
      "Not setting metadata\n",
      "96 matching events found\n",
      "No baseline correction applied\n",
      "0 projection items activated\n",
      "Ready.\n",
      "(70, 1000)\n",
      "Extracting parameters from E:/standard and novel/sub120/novel.set...\n"
     ]
    },
    {
     "name": "stderr",
     "output_type": "stream",
     "text": [
      "<ipython-input-31-f599fd684862>:25: RuntimeWarning: At least one epoch has multiple events. Only the latency of the first event will be retained.\n",
      "  novel_epochs = mne.io.read_epochs_eeglab(novel_data_path)\n"
     ]
    },
    {
     "name": "stdout",
     "output_type": "stream",
     "text": [
      "Not setting metadata\n",
      "Not setting metadata\n",
      "96 matching events found\n",
      "No baseline correction applied\n",
      "0 projection items activated\n",
      "Ready.\n",
      "(70, 1000)\n",
      "(70, 1000)\n",
      "Extracting parameters from E:/standard and novel/sub121/standard.set...\n"
     ]
    },
    {
     "name": "stderr",
     "output_type": "stream",
     "text": [
      "<ipython-input-31-f599fd684862>:9: RuntimeWarning: At least one epoch has multiple events. Only the latency of the first event will be retained.\n",
      "  standard_epochs = mne.io.read_epochs_eeglab(standard_data_path)\n"
     ]
    },
    {
     "name": "stdout",
     "output_type": "stream",
     "text": [
      "Not setting metadata\n",
      "Not setting metadata\n",
      "102 matching events found\n",
      "No baseline correction applied\n",
      "0 projection items activated\n",
      "Ready.\n",
      "(70, 1000)\n",
      "Extracting parameters from E:/standard and novel/sub121/novel.set...\n"
     ]
    },
    {
     "name": "stderr",
     "output_type": "stream",
     "text": [
      "<ipython-input-31-f599fd684862>:25: RuntimeWarning: At least one epoch has multiple events. Only the latency of the first event will be retained.\n",
      "  novel_epochs = mne.io.read_epochs_eeglab(novel_data_path)\n"
     ]
    },
    {
     "name": "stdout",
     "output_type": "stream",
     "text": [
      "Not setting metadata\n",
      "Not setting metadata\n",
      "102 matching events found\n",
      "No baseline correction applied\n",
      "0 projection items activated\n",
      "Ready.\n",
      "(70, 1000)\n",
      "(70, 1000)\n",
      "Extracting parameters from E:/standard and novel/sub122/standard.set...\n"
     ]
    },
    {
     "name": "stderr",
     "output_type": "stream",
     "text": [
      "<ipython-input-31-f599fd684862>:9: RuntimeWarning: At least one epoch has multiple events. Only the latency of the first event will be retained.\n",
      "  standard_epochs = mne.io.read_epochs_eeglab(standard_data_path)\n"
     ]
    },
    {
     "name": "stdout",
     "output_type": "stream",
     "text": [
      "Not setting metadata\n",
      "Not setting metadata\n",
      "98 matching events found\n",
      "No baseline correction applied\n",
      "0 projection items activated\n",
      "Ready.\n",
      "(70, 1000)\n",
      "Extracting parameters from E:/standard and novel/sub122/novel.set...\n"
     ]
    },
    {
     "name": "stderr",
     "output_type": "stream",
     "text": [
      "<ipython-input-31-f599fd684862>:25: RuntimeWarning: At least one epoch has multiple events. Only the latency of the first event will be retained.\n",
      "  novel_epochs = mne.io.read_epochs_eeglab(novel_data_path)\n"
     ]
    },
    {
     "name": "stdout",
     "output_type": "stream",
     "text": [
      "Not setting metadata\n",
      "Not setting metadata\n",
      "94 matching events found\n",
      "No baseline correction applied\n",
      "0 projection items activated\n",
      "Ready.\n",
      "(70, 1000)\n",
      "(70, 1000)\n",
      "Extracting parameters from E:/standard and novel/sub123/standard.set...\n"
     ]
    },
    {
     "name": "stderr",
     "output_type": "stream",
     "text": [
      "<ipython-input-31-f599fd684862>:9: RuntimeWarning: At least one epoch has multiple events. Only the latency of the first event will be retained.\n",
      "  standard_epochs = mne.io.read_epochs_eeglab(standard_data_path)\n"
     ]
    },
    {
     "name": "stdout",
     "output_type": "stream",
     "text": [
      "Not setting metadata\n",
      "Not setting metadata\n",
      "96 matching events found\n",
      "No baseline correction applied\n",
      "0 projection items activated\n",
      "Ready.\n",
      "(70, 1000)\n",
      "Extracting parameters from E:/standard and novel/sub123/novel.set...\n"
     ]
    },
    {
     "name": "stderr",
     "output_type": "stream",
     "text": [
      "<ipython-input-31-f599fd684862>:25: RuntimeWarning: At least one epoch has multiple events. Only the latency of the first event will be retained.\n",
      "  novel_epochs = mne.io.read_epochs_eeglab(novel_data_path)\n"
     ]
    },
    {
     "name": "stdout",
     "output_type": "stream",
     "text": [
      "Not setting metadata\n",
      "Not setting metadata\n",
      "94 matching events found\n",
      "No baseline correction applied\n",
      "0 projection items activated\n",
      "Ready.\n",
      "(70, 1000)\n",
      "(70, 1000)\n",
      "Extracting parameters from E:/standard and novel/sub124/standard.set...\n"
     ]
    },
    {
     "name": "stderr",
     "output_type": "stream",
     "text": [
      "<ipython-input-31-f599fd684862>:9: RuntimeWarning: At least one epoch has multiple events. Only the latency of the first event will be retained.\n",
      "  standard_epochs = mne.io.read_epochs_eeglab(standard_data_path)\n"
     ]
    },
    {
     "name": "stdout",
     "output_type": "stream",
     "text": [
      "Not setting metadata\n",
      "Not setting metadata\n",
      "95 matching events found\n",
      "No baseline correction applied\n",
      "0 projection items activated\n",
      "Ready.\n",
      "(70, 1000)\n",
      "Extracting parameters from E:/standard and novel/sub124/novel.set...\n"
     ]
    },
    {
     "name": "stderr",
     "output_type": "stream",
     "text": [
      "<ipython-input-31-f599fd684862>:25: RuntimeWarning: At least one epoch has multiple events. Only the latency of the first event will be retained.\n",
      "  novel_epochs = mne.io.read_epochs_eeglab(novel_data_path)\n"
     ]
    },
    {
     "name": "stdout",
     "output_type": "stream",
     "text": [
      "Not setting metadata\n",
      "Not setting metadata\n",
      "94 matching events found\n",
      "No baseline correction applied\n",
      "0 projection items activated\n",
      "Ready.\n",
      "(70, 1000)\n",
      "(70, 1000)\n",
      "Extracting parameters from E:/standard and novel/sub125/standard.set...\n"
     ]
    },
    {
     "name": "stderr",
     "output_type": "stream",
     "text": [
      "<ipython-input-31-f599fd684862>:9: RuntimeWarning: At least one epoch has multiple events. Only the latency of the first event will be retained.\n",
      "  standard_epochs = mne.io.read_epochs_eeglab(standard_data_path)\n"
     ]
    },
    {
     "name": "stdout",
     "output_type": "stream",
     "text": [
      "Not setting metadata\n",
      "Not setting metadata\n",
      "99 matching events found\n",
      "No baseline correction applied\n",
      "0 projection items activated\n",
      "Ready.\n",
      "(70, 1000)\n",
      "Extracting parameters from E:/standard and novel/sub125/novel.set...\n"
     ]
    },
    {
     "name": "stderr",
     "output_type": "stream",
     "text": [
      "<ipython-input-31-f599fd684862>:25: RuntimeWarning: At least one epoch has multiple events. Only the latency of the first event will be retained.\n",
      "  novel_epochs = mne.io.read_epochs_eeglab(novel_data_path)\n"
     ]
    },
    {
     "name": "stdout",
     "output_type": "stream",
     "text": [
      "Not setting metadata\n",
      "Not setting metadata\n",
      "101 matching events found\n",
      "No baseline correction applied\n",
      "0 projection items activated\n",
      "Ready.\n",
      "(70, 1000)\n",
      "(70, 1000)\n",
      "Extracting parameters from E:/standard and novel/sub126/standard.set...\n"
     ]
    },
    {
     "name": "stderr",
     "output_type": "stream",
     "text": [
      "<ipython-input-31-f599fd684862>:9: RuntimeWarning: At least one epoch has multiple events. Only the latency of the first event will be retained.\n",
      "  standard_epochs = mne.io.read_epochs_eeglab(standard_data_path)\n"
     ]
    },
    {
     "name": "stdout",
     "output_type": "stream",
     "text": [
      "Not setting metadata\n",
      "Not setting metadata\n",
      "101 matching events found\n",
      "No baseline correction applied\n",
      "0 projection items activated\n",
      "Ready.\n",
      "(70, 1000)\n",
      "Extracting parameters from E:/standard and novel/sub126/novel.set...\n"
     ]
    },
    {
     "name": "stderr",
     "output_type": "stream",
     "text": [
      "<ipython-input-31-f599fd684862>:25: RuntimeWarning: At least one epoch has multiple events. Only the latency of the first event will be retained.\n",
      "  novel_epochs = mne.io.read_epochs_eeglab(novel_data_path)\n"
     ]
    },
    {
     "name": "stdout",
     "output_type": "stream",
     "text": [
      "Not setting metadata\n",
      "Not setting metadata\n",
      "100 matching events found\n",
      "No baseline correction applied\n",
      "0 projection items activated\n",
      "Ready.\n",
      "(70, 1000)\n",
      "(70, 1000)\n",
      "Extracting parameters from E:/standard and novel/sub127/standard.set...\n"
     ]
    },
    {
     "name": "stderr",
     "output_type": "stream",
     "text": [
      "<ipython-input-31-f599fd684862>:9: RuntimeWarning: At least one epoch has multiple events. Only the latency of the first event will be retained.\n",
      "  standard_epochs = mne.io.read_epochs_eeglab(standard_data_path)\n"
     ]
    },
    {
     "name": "stdout",
     "output_type": "stream",
     "text": [
      "Not setting metadata\n",
      "Not setting metadata\n",
      "99 matching events found\n",
      "No baseline correction applied\n",
      "0 projection items activated\n",
      "Ready.\n",
      "(70, 1000)\n",
      "Extracting parameters from E:/standard and novel/sub127/novel.set...\n"
     ]
    },
    {
     "name": "stderr",
     "output_type": "stream",
     "text": [
      "<ipython-input-31-f599fd684862>:25: RuntimeWarning: At least one epoch has multiple events. Only the latency of the first event will be retained.\n",
      "  novel_epochs = mne.io.read_epochs_eeglab(novel_data_path)\n"
     ]
    },
    {
     "name": "stdout",
     "output_type": "stream",
     "text": [
      "Not setting metadata\n",
      "Not setting metadata\n",
      "100 matching events found\n",
      "No baseline correction applied\n",
      "0 projection items activated\n",
      "Ready.\n",
      "(70, 1000)\n",
      "(70, 1000)\n",
      "Extracting parameters from E:/standard and novel/sub128/standard.set...\n"
     ]
    },
    {
     "name": "stderr",
     "output_type": "stream",
     "text": [
      "<ipython-input-31-f599fd684862>:9: RuntimeWarning: At least one epoch has multiple events. Only the latency of the first event will be retained.\n",
      "  standard_epochs = mne.io.read_epochs_eeglab(standard_data_path)\n"
     ]
    },
    {
     "name": "stdout",
     "output_type": "stream",
     "text": [
      "Not setting metadata\n",
      "Not setting metadata\n",
      "95 matching events found\n",
      "No baseline correction applied\n",
      "0 projection items activated\n",
      "Ready.\n",
      "(70, 1000)\n",
      "Extracting parameters from E:/standard and novel/sub128/novel.set...\n"
     ]
    },
    {
     "name": "stderr",
     "output_type": "stream",
     "text": [
      "<ipython-input-31-f599fd684862>:25: RuntimeWarning: At least one epoch has multiple events. Only the latency of the first event will be retained.\n",
      "  novel_epochs = mne.io.read_epochs_eeglab(novel_data_path)\n"
     ]
    },
    {
     "name": "stdout",
     "output_type": "stream",
     "text": [
      "Not setting metadata\n",
      "Not setting metadata\n",
      "94 matching events found\n",
      "No baseline correction applied\n",
      "0 projection items activated\n",
      "Ready.\n",
      "(70, 1000)\n",
      "(70, 1000)\n",
      "Extracting parameters from E:/standard and novel/sub129/standard.set...\n"
     ]
    },
    {
     "name": "stderr",
     "output_type": "stream",
     "text": [
      "<ipython-input-31-f599fd684862>:9: RuntimeWarning: At least one epoch has multiple events. Only the latency of the first event will be retained.\n",
      "  standard_epochs = mne.io.read_epochs_eeglab(standard_data_path)\n"
     ]
    },
    {
     "name": "stdout",
     "output_type": "stream",
     "text": [
      "Not setting metadata\n",
      "Not setting metadata\n",
      "98 matching events found\n",
      "No baseline correction applied\n",
      "0 projection items activated\n",
      "Ready.\n",
      "(70, 1000)\n",
      "Extracting parameters from E:/standard and novel/sub129/novel.set...\n"
     ]
    },
    {
     "name": "stderr",
     "output_type": "stream",
     "text": [
      "<ipython-input-31-f599fd684862>:25: RuntimeWarning: At least one epoch has multiple events. Only the latency of the first event will be retained.\n",
      "  novel_epochs = mne.io.read_epochs_eeglab(novel_data_path)\n"
     ]
    },
    {
     "name": "stdout",
     "output_type": "stream",
     "text": [
      "Not setting metadata\n",
      "Not setting metadata\n",
      "100 matching events found\n",
      "No baseline correction applied\n",
      "0 projection items activated\n",
      "Ready.\n",
      "(70, 1000)\n",
      "(70, 1000)\n",
      "Extracting parameters from E:/standard and novel/sub130/standard.set...\n"
     ]
    },
    {
     "name": "stderr",
     "output_type": "stream",
     "text": [
      "<ipython-input-31-f599fd684862>:9: RuntimeWarning: At least one epoch has multiple events. Only the latency of the first event will be retained.\n",
      "  standard_epochs = mne.io.read_epochs_eeglab(standard_data_path)\n"
     ]
    },
    {
     "name": "stdout",
     "output_type": "stream",
     "text": [
      "Not setting metadata\n",
      "Not setting metadata\n",
      "67 matching events found\n",
      "No baseline correction applied\n",
      "0 projection items activated\n",
      "Ready.\n",
      "(70, 1000)\n",
      "Extracting parameters from E:/standard and novel/sub130/novel.set...\n"
     ]
    },
    {
     "name": "stderr",
     "output_type": "stream",
     "text": [
      "<ipython-input-31-f599fd684862>:25: RuntimeWarning: At least one epoch has multiple events. Only the latency of the first event will be retained.\n",
      "  novel_epochs = mne.io.read_epochs_eeglab(novel_data_path)\n"
     ]
    },
    {
     "name": "stdout",
     "output_type": "stream",
     "text": [
      "Not setting metadata\n",
      "Not setting metadata\n",
      "62 matching events found\n",
      "No baseline correction applied\n",
      "0 projection items activated\n",
      "Ready.\n",
      "(70, 1000)\n",
      "(70, 1000)\n",
      "Extracting parameters from E:/standard and novel/sub131/standard.set...\n"
     ]
    },
    {
     "name": "stderr",
     "output_type": "stream",
     "text": [
      "<ipython-input-31-f599fd684862>:9: RuntimeWarning: At least one epoch has multiple events. Only the latency of the first event will be retained.\n",
      "  standard_epochs = mne.io.read_epochs_eeglab(standard_data_path)\n"
     ]
    },
    {
     "name": "stdout",
     "output_type": "stream",
     "text": [
      "Not setting metadata\n",
      "Not setting metadata\n",
      "99 matching events found\n",
      "No baseline correction applied\n",
      "0 projection items activated\n",
      "Ready.\n",
      "(70, 1000)\n",
      "Extracting parameters from E:/standard and novel/sub131/novel.set...\n"
     ]
    },
    {
     "name": "stderr",
     "output_type": "stream",
     "text": [
      "<ipython-input-31-f599fd684862>:25: RuntimeWarning: At least one epoch has multiple events. Only the latency of the first event will be retained.\n",
      "  novel_epochs = mne.io.read_epochs_eeglab(novel_data_path)\n"
     ]
    },
    {
     "name": "stdout",
     "output_type": "stream",
     "text": [
      "Not setting metadata\n",
      "Not setting metadata\n",
      "97 matching events found\n",
      "No baseline correction applied\n",
      "0 projection items activated\n",
      "Ready.\n",
      "(70, 1000)\n",
      "(70, 1000)\n",
      "Extracting parameters from E:/standard and novel/sub132/standard.set...\n"
     ]
    },
    {
     "name": "stderr",
     "output_type": "stream",
     "text": [
      "<ipython-input-31-f599fd684862>:9: RuntimeWarning: At least one epoch has multiple events. Only the latency of the first event will be retained.\n",
      "  standard_epochs = mne.io.read_epochs_eeglab(standard_data_path)\n"
     ]
    },
    {
     "name": "stdout",
     "output_type": "stream",
     "text": [
      "Not setting metadata\n",
      "Not setting metadata\n",
      "91 matching events found\n",
      "No baseline correction applied\n",
      "0 projection items activated\n",
      "Ready.\n",
      "(70, 1000)\n",
      "Extracting parameters from E:/standard and novel/sub132/novel.set...\n"
     ]
    },
    {
     "name": "stderr",
     "output_type": "stream",
     "text": [
      "<ipython-input-31-f599fd684862>:25: RuntimeWarning: At least one epoch has multiple events. Only the latency of the first event will be retained.\n",
      "  novel_epochs = mne.io.read_epochs_eeglab(novel_data_path)\n"
     ]
    },
    {
     "name": "stdout",
     "output_type": "stream",
     "text": [
      "Not setting metadata\n",
      "Not setting metadata\n",
      "89 matching events found\n",
      "No baseline correction applied\n",
      "0 projection items activated\n",
      "Ready.\n",
      "(70, 1000)\n",
      "(70, 1000)\n",
      "Extracting parameters from E:/standard and novel/sub133/standard.set...\n"
     ]
    },
    {
     "name": "stderr",
     "output_type": "stream",
     "text": [
      "<ipython-input-31-f599fd684862>:9: RuntimeWarning: At least one epoch has multiple events. Only the latency of the first event will be retained.\n",
      "  standard_epochs = mne.io.read_epochs_eeglab(standard_data_path)\n"
     ]
    },
    {
     "name": "stdout",
     "output_type": "stream",
     "text": [
      "Not setting metadata\n",
      "Not setting metadata\n",
      "93 matching events found\n",
      "No baseline correction applied\n",
      "0 projection items activated\n",
      "Ready.\n",
      "(70, 1000)\n",
      "Extracting parameters from E:/standard and novel/sub133/novel.set...\n"
     ]
    },
    {
     "name": "stderr",
     "output_type": "stream",
     "text": [
      "<ipython-input-31-f599fd684862>:25: RuntimeWarning: At least one epoch has multiple events. Only the latency of the first event will be retained.\n",
      "  novel_epochs = mne.io.read_epochs_eeglab(novel_data_path)\n"
     ]
    },
    {
     "name": "stdout",
     "output_type": "stream",
     "text": [
      "Not setting metadata\n",
      "Not setting metadata\n",
      "95 matching events found\n",
      "No baseline correction applied\n",
      "0 projection items activated\n",
      "Ready.\n",
      "(70, 1000)\n",
      "(70, 1000)\n",
      "Extracting parameters from E:/standard and novel/sub134/standard.set...\n"
     ]
    },
    {
     "name": "stderr",
     "output_type": "stream",
     "text": [
      "<ipython-input-31-f599fd684862>:9: RuntimeWarning: At least one epoch has multiple events. Only the latency of the first event will be retained.\n",
      "  standard_epochs = mne.io.read_epochs_eeglab(standard_data_path)\n"
     ]
    },
    {
     "name": "stdout",
     "output_type": "stream",
     "text": [
      "Not setting metadata\n",
      "Not setting metadata\n",
      "85 matching events found\n",
      "No baseline correction applied\n",
      "0 projection items activated\n",
      "Ready.\n",
      "(70, 1000)\n",
      "Extracting parameters from E:/standard and novel/sub134/novel.set...\n"
     ]
    },
    {
     "name": "stderr",
     "output_type": "stream",
     "text": [
      "<ipython-input-31-f599fd684862>:25: RuntimeWarning: At least one epoch has multiple events. Only the latency of the first event will be retained.\n",
      "  novel_epochs = mne.io.read_epochs_eeglab(novel_data_path)\n"
     ]
    },
    {
     "name": "stdout",
     "output_type": "stream",
     "text": [
      "Not setting metadata\n",
      "Not setting metadata\n",
      "87 matching events found\n",
      "No baseline correction applied\n",
      "0 projection items activated\n",
      "Ready.\n",
      "(70, 1000)\n",
      "(70, 1000)\n",
      "Extracting parameters from E:/standard and novel/sub135/standard.set...\n"
     ]
    },
    {
     "name": "stderr",
     "output_type": "stream",
     "text": [
      "<ipython-input-31-f599fd684862>:9: RuntimeWarning: At least one epoch has multiple events. Only the latency of the first event will be retained.\n",
      "  standard_epochs = mne.io.read_epochs_eeglab(standard_data_path)\n"
     ]
    },
    {
     "name": "stdout",
     "output_type": "stream",
     "text": [
      "Not setting metadata\n",
      "Not setting metadata\n",
      "96 matching events found\n",
      "No baseline correction applied\n",
      "0 projection items activated\n",
      "Ready.\n",
      "(70, 1000)\n",
      "Extracting parameters from E:/standard and novel/sub135/novel.set...\n"
     ]
    },
    {
     "name": "stderr",
     "output_type": "stream",
     "text": [
      "<ipython-input-31-f599fd684862>:25: RuntimeWarning: At least one epoch has multiple events. Only the latency of the first event will be retained.\n",
      "  novel_epochs = mne.io.read_epochs_eeglab(novel_data_path)\n"
     ]
    },
    {
     "name": "stdout",
     "output_type": "stream",
     "text": [
      "Not setting metadata\n",
      "Not setting metadata\n",
      "99 matching events found\n",
      "No baseline correction applied\n",
      "0 projection items activated\n",
      "Ready.\n",
      "(70, 1000)\n",
      "(70, 1000)\n",
      "Extracting parameters from E:/standard and novel/sub136/standard.set...\n"
     ]
    },
    {
     "name": "stderr",
     "output_type": "stream",
     "text": [
      "<ipython-input-31-f599fd684862>:9: RuntimeWarning: At least one epoch has multiple events. Only the latency of the first event will be retained.\n",
      "  standard_epochs = mne.io.read_epochs_eeglab(standard_data_path)\n"
     ]
    },
    {
     "name": "stdout",
     "output_type": "stream",
     "text": [
      "Not setting metadata\n",
      "Not setting metadata\n",
      "97 matching events found\n",
      "No baseline correction applied\n",
      "0 projection items activated\n",
      "Ready.\n",
      "(70, 1000)\n",
      "Extracting parameters from E:/standard and novel/sub136/novel.set...\n"
     ]
    },
    {
     "name": "stderr",
     "output_type": "stream",
     "text": [
      "<ipython-input-31-f599fd684862>:25: RuntimeWarning: At least one epoch has multiple events. Only the latency of the first event will be retained.\n",
      "  novel_epochs = mne.io.read_epochs_eeglab(novel_data_path)\n"
     ]
    },
    {
     "name": "stdout",
     "output_type": "stream",
     "text": [
      "Not setting metadata\n",
      "Not setting metadata\n",
      "97 matching events found\n",
      "No baseline correction applied\n",
      "0 projection items activated\n",
      "Ready.\n",
      "(70, 1000)\n",
      "(70, 1000)\n",
      "Extracting parameters from E:/standard and novel/sub137/standard.set...\n"
     ]
    },
    {
     "name": "stderr",
     "output_type": "stream",
     "text": [
      "<ipython-input-31-f599fd684862>:9: RuntimeWarning: At least one epoch has multiple events. Only the latency of the first event will be retained.\n",
      "  standard_epochs = mne.io.read_epochs_eeglab(standard_data_path)\n"
     ]
    },
    {
     "name": "stdout",
     "output_type": "stream",
     "text": [
      "Not setting metadata\n",
      "Not setting metadata\n",
      "93 matching events found\n",
      "No baseline correction applied\n",
      "0 projection items activated\n",
      "Ready.\n",
      "(70, 1000)\n",
      "Extracting parameters from E:/standard and novel/sub137/novel.set...\n"
     ]
    },
    {
     "name": "stderr",
     "output_type": "stream",
     "text": [
      "<ipython-input-31-f599fd684862>:25: RuntimeWarning: At least one epoch has multiple events. Only the latency of the first event will be retained.\n",
      "  novel_epochs = mne.io.read_epochs_eeglab(novel_data_path)\n"
     ]
    },
    {
     "name": "stdout",
     "output_type": "stream",
     "text": [
      "Not setting metadata\n",
      "Not setting metadata\n",
      "96 matching events found\n",
      "No baseline correction applied\n",
      "0 projection items activated\n",
      "Ready.\n",
      "(70, 1000)\n",
      "(70, 1000)\n",
      "Extracting parameters from E:/standard and novel/sub138/standard.set...\n"
     ]
    },
    {
     "name": "stderr",
     "output_type": "stream",
     "text": [
      "<ipython-input-31-f599fd684862>:9: RuntimeWarning: At least one epoch has multiple events. Only the latency of the first event will be retained.\n",
      "  standard_epochs = mne.io.read_epochs_eeglab(standard_data_path)\n"
     ]
    },
    {
     "name": "stdout",
     "output_type": "stream",
     "text": [
      "Not setting metadata\n",
      "Not setting metadata\n",
      "100 matching events found\n",
      "No baseline correction applied\n",
      "0 projection items activated\n",
      "Ready.\n",
      "(70, 1000)\n",
      "Extracting parameters from E:/standard and novel/sub138/novel.set...\n"
     ]
    },
    {
     "name": "stderr",
     "output_type": "stream",
     "text": [
      "<ipython-input-31-f599fd684862>:25: RuntimeWarning: At least one epoch has multiple events. Only the latency of the first event will be retained.\n",
      "  novel_epochs = mne.io.read_epochs_eeglab(novel_data_path)\n"
     ]
    },
    {
     "name": "stdout",
     "output_type": "stream",
     "text": [
      "Not setting metadata\n",
      "Not setting metadata\n",
      "98 matching events found\n",
      "No baseline correction applied\n",
      "0 projection items activated\n",
      "Ready.\n",
      "(70, 1000)\n",
      "(70, 1000)\n",
      "Extracting parameters from E:/standard and novel/sub139/standard.set...\n"
     ]
    },
    {
     "name": "stderr",
     "output_type": "stream",
     "text": [
      "<ipython-input-31-f599fd684862>:9: RuntimeWarning: At least one epoch has multiple events. Only the latency of the first event will be retained.\n",
      "  standard_epochs = mne.io.read_epochs_eeglab(standard_data_path)\n"
     ]
    },
    {
     "name": "stdout",
     "output_type": "stream",
     "text": [
      "Not setting metadata\n",
      "Not setting metadata\n",
      "92 matching events found\n",
      "No baseline correction applied\n",
      "0 projection items activated\n",
      "Ready.\n",
      "(70, 1000)\n",
      "Extracting parameters from E:/standard and novel/sub139/novel.set...\n"
     ]
    },
    {
     "name": "stderr",
     "output_type": "stream",
     "text": [
      "<ipython-input-31-f599fd684862>:25: RuntimeWarning: At least one epoch has multiple events. Only the latency of the first event will be retained.\n",
      "  novel_epochs = mne.io.read_epochs_eeglab(novel_data_path)\n"
     ]
    },
    {
     "name": "stdout",
     "output_type": "stream",
     "text": [
      "Not setting metadata\n",
      "Not setting metadata\n",
      "80 matching events found\n",
      "No baseline correction applied\n",
      "0 projection items activated\n",
      "Ready.\n",
      "(70, 1000)\n",
      "(70, 1000)\n",
      "Extracting parameters from E:/standard and novel/sub140/standard.set...\n"
     ]
    },
    {
     "name": "stderr",
     "output_type": "stream",
     "text": [
      "<ipython-input-31-f599fd684862>:9: RuntimeWarning: At least one epoch has multiple events. Only the latency of the first event will be retained.\n",
      "  standard_epochs = mne.io.read_epochs_eeglab(standard_data_path)\n"
     ]
    },
    {
     "name": "stdout",
     "output_type": "stream",
     "text": [
      "Not setting metadata\n",
      "Not setting metadata\n",
      "96 matching events found\n",
      "No baseline correction applied\n",
      "0 projection items activated\n",
      "Ready.\n",
      "(70, 1000)\n",
      "Extracting parameters from E:/standard and novel/sub140/novel.set...\n"
     ]
    },
    {
     "name": "stderr",
     "output_type": "stream",
     "text": [
      "<ipython-input-31-f599fd684862>:25: RuntimeWarning: At least one epoch has multiple events. Only the latency of the first event will be retained.\n",
      "  novel_epochs = mne.io.read_epochs_eeglab(novel_data_path)\n"
     ]
    },
    {
     "name": "stdout",
     "output_type": "stream",
     "text": [
      "Not setting metadata\n",
      "Not setting metadata\n",
      "101 matching events found\n",
      "No baseline correction applied\n",
      "0 projection items activated\n",
      "Ready.\n",
      "(70, 1000)\n",
      "(70, 1000)\n",
      "Extracting parameters from E:/standard and novel/sub141/standard.set...\n"
     ]
    },
    {
     "name": "stderr",
     "output_type": "stream",
     "text": [
      "<ipython-input-31-f599fd684862>:9: RuntimeWarning: At least one epoch has multiple events. Only the latency of the first event will be retained.\n",
      "  standard_epochs = mne.io.read_epochs_eeglab(standard_data_path)\n"
     ]
    },
    {
     "name": "stdout",
     "output_type": "stream",
     "text": [
      "Not setting metadata\n",
      "Not setting metadata\n",
      "91 matching events found\n",
      "No baseline correction applied\n",
      "0 projection items activated\n",
      "Ready.\n",
      "(70, 1000)\n",
      "Extracting parameters from E:/standard and novel/sub141/novel.set...\n"
     ]
    },
    {
     "name": "stderr",
     "output_type": "stream",
     "text": [
      "<ipython-input-31-f599fd684862>:25: RuntimeWarning: At least one epoch has multiple events. Only the latency of the first event will be retained.\n",
      "  novel_epochs = mne.io.read_epochs_eeglab(novel_data_path)\n"
     ]
    },
    {
     "name": "stdout",
     "output_type": "stream",
     "text": [
      "Not setting metadata\n",
      "Not setting metadata\n",
      "93 matching events found\n",
      "No baseline correction applied\n",
      "0 projection items activated\n",
      "Ready.\n",
      "(70, 1000)\n",
      "(70, 1000)\n",
      "Extracting parameters from E:/standard and novel/sub142/standard.set...\n"
     ]
    },
    {
     "name": "stderr",
     "output_type": "stream",
     "text": [
      "<ipython-input-31-f599fd684862>:9: RuntimeWarning: At least one epoch has multiple events. Only the latency of the first event will be retained.\n",
      "  standard_epochs = mne.io.read_epochs_eeglab(standard_data_path)\n"
     ]
    },
    {
     "name": "stdout",
     "output_type": "stream",
     "text": [
      "Not setting metadata\n",
      "Not setting metadata\n",
      "102 matching events found\n",
      "No baseline correction applied\n",
      "0 projection items activated\n",
      "Ready.\n",
      "(70, 1000)\n",
      "Extracting parameters from E:/standard and novel/sub142/novel.set...\n"
     ]
    },
    {
     "name": "stderr",
     "output_type": "stream",
     "text": [
      "<ipython-input-31-f599fd684862>:25: RuntimeWarning: At least one epoch has multiple events. Only the latency of the first event will be retained.\n",
      "  novel_epochs = mne.io.read_epochs_eeglab(novel_data_path)\n"
     ]
    },
    {
     "name": "stdout",
     "output_type": "stream",
     "text": [
      "Not setting metadata\n",
      "Not setting metadata\n",
      "102 matching events found\n",
      "No baseline correction applied\n",
      "0 projection items activated\n",
      "Ready.\n",
      "(70, 1000)\n",
      "(70, 1000)\n",
      "Extracting parameters from E:/standard and novel/sub143/standard.set...\n"
     ]
    },
    {
     "name": "stderr",
     "output_type": "stream",
     "text": [
      "<ipython-input-31-f599fd684862>:9: RuntimeWarning: At least one epoch has multiple events. Only the latency of the first event will be retained.\n",
      "  standard_epochs = mne.io.read_epochs_eeglab(standard_data_path)\n"
     ]
    },
    {
     "name": "stdout",
     "output_type": "stream",
     "text": [
      "Not setting metadata\n",
      "Not setting metadata\n",
      "100 matching events found\n",
      "No baseline correction applied\n",
      "0 projection items activated\n",
      "Ready.\n",
      "(70, 1000)\n",
      "Extracting parameters from E:/standard and novel/sub143/novel.set...\n"
     ]
    },
    {
     "name": "stderr",
     "output_type": "stream",
     "text": [
      "<ipython-input-31-f599fd684862>:25: RuntimeWarning: At least one epoch has multiple events. Only the latency of the first event will be retained.\n",
      "  novel_epochs = mne.io.read_epochs_eeglab(novel_data_path)\n"
     ]
    },
    {
     "name": "stdout",
     "output_type": "stream",
     "text": [
      "Not setting metadata\n",
      "Not setting metadata\n",
      "99 matching events found\n",
      "No baseline correction applied\n",
      "0 projection items activated\n",
      "Ready.\n",
      "(70, 1000)\n",
      "(70, 1000)\n",
      "Extracting parameters from E:/standard and novel/sub144/standard.set...\n"
     ]
    },
    {
     "name": "stderr",
     "output_type": "stream",
     "text": [
      "<ipython-input-31-f599fd684862>:9: RuntimeWarning: At least one epoch has multiple events. Only the latency of the first event will be retained.\n",
      "  standard_epochs = mne.io.read_epochs_eeglab(standard_data_path)\n"
     ]
    },
    {
     "name": "stdout",
     "output_type": "stream",
     "text": [
      "Not setting metadata\n",
      "Not setting metadata\n",
      "99 matching events found\n",
      "No baseline correction applied\n",
      "0 projection items activated\n",
      "Ready.\n",
      "(70, 1000)\n",
      "Extracting parameters from E:/standard and novel/sub144/novel.set...\n"
     ]
    },
    {
     "name": "stderr",
     "output_type": "stream",
     "text": [
      "<ipython-input-31-f599fd684862>:25: RuntimeWarning: At least one epoch has multiple events. Only the latency of the first event will be retained.\n",
      "  novel_epochs = mne.io.read_epochs_eeglab(novel_data_path)\n"
     ]
    },
    {
     "name": "stdout",
     "output_type": "stream",
     "text": [
      "Not setting metadata\n",
      "Not setting metadata\n",
      "101 matching events found\n",
      "No baseline correction applied\n",
      "0 projection items activated\n",
      "Ready.\n",
      "(70, 1000)\n",
      "(70, 1000)\n",
      "Extracting parameters from E:/standard and novel/sub145/standard.set...\n"
     ]
    },
    {
     "name": "stderr",
     "output_type": "stream",
     "text": [
      "<ipython-input-31-f599fd684862>:9: RuntimeWarning: At least one epoch has multiple events. Only the latency of the first event will be retained.\n",
      "  standard_epochs = mne.io.read_epochs_eeglab(standard_data_path)\n"
     ]
    },
    {
     "name": "stdout",
     "output_type": "stream",
     "text": [
      "Not setting metadata\n",
      "Not setting metadata\n",
      "90 matching events found\n",
      "No baseline correction applied\n",
      "0 projection items activated\n",
      "Ready.\n",
      "(70, 1000)\n",
      "Extracting parameters from E:/standard and novel/sub145/novel.set...\n"
     ]
    },
    {
     "name": "stderr",
     "output_type": "stream",
     "text": [
      "<ipython-input-31-f599fd684862>:25: RuntimeWarning: At least one epoch has multiple events. Only the latency of the first event will be retained.\n",
      "  novel_epochs = mne.io.read_epochs_eeglab(novel_data_path)\n"
     ]
    },
    {
     "name": "stdout",
     "output_type": "stream",
     "text": [
      "Not setting metadata\n",
      "Not setting metadata\n",
      "91 matching events found\n",
      "No baseline correction applied\n",
      "0 projection items activated\n",
      "Ready.\n",
      "(70, 1000)\n",
      "(70, 1000)\n",
      "Extracting parameters from E:/standard and novel/sub146/standard.set...\n"
     ]
    },
    {
     "name": "stderr",
     "output_type": "stream",
     "text": [
      "<ipython-input-31-f599fd684862>:9: RuntimeWarning: At least one epoch has multiple events. Only the latency of the first event will be retained.\n",
      "  standard_epochs = mne.io.read_epochs_eeglab(standard_data_path)\n"
     ]
    },
    {
     "name": "stdout",
     "output_type": "stream",
     "text": [
      "Not setting metadata\n",
      "Not setting metadata\n",
      "102 matching events found\n",
      "No baseline correction applied\n",
      "0 projection items activated\n",
      "Ready.\n",
      "(70, 1000)\n",
      "Extracting parameters from E:/standard and novel/sub146/novel.set...\n"
     ]
    },
    {
     "name": "stderr",
     "output_type": "stream",
     "text": [
      "<ipython-input-31-f599fd684862>:25: RuntimeWarning: At least one epoch has multiple events. Only the latency of the first event will be retained.\n",
      "  novel_epochs = mne.io.read_epochs_eeglab(novel_data_path)\n"
     ]
    },
    {
     "name": "stdout",
     "output_type": "stream",
     "text": [
      "Not setting metadata\n",
      "Not setting metadata\n",
      "102 matching events found\n",
      "No baseline correction applied\n",
      "0 projection items activated\n",
      "Ready.\n",
      "(70, 1000)\n",
      "(70, 1000)\n",
      "Extracting parameters from E:/standard and novel/sub147/standard.set...\n"
     ]
    },
    {
     "name": "stderr",
     "output_type": "stream",
     "text": [
      "<ipython-input-31-f599fd684862>:9: RuntimeWarning: At least one epoch has multiple events. Only the latency of the first event will be retained.\n",
      "  standard_epochs = mne.io.read_epochs_eeglab(standard_data_path)\n"
     ]
    },
    {
     "name": "stdout",
     "output_type": "stream",
     "text": [
      "Not setting metadata\n",
      "Not setting metadata\n",
      "99 matching events found\n",
      "No baseline correction applied\n",
      "0 projection items activated\n",
      "Ready.\n",
      "(70, 1000)\n",
      "Extracting parameters from E:/standard and novel/sub147/novel.set...\n"
     ]
    },
    {
     "name": "stderr",
     "output_type": "stream",
     "text": [
      "<ipython-input-31-f599fd684862>:25: RuntimeWarning: At least one epoch has multiple events. Only the latency of the first event will be retained.\n",
      "  novel_epochs = mne.io.read_epochs_eeglab(novel_data_path)\n"
     ]
    },
    {
     "name": "stdout",
     "output_type": "stream",
     "text": [
      "Not setting metadata\n",
      "Not setting metadata\n",
      "100 matching events found\n",
      "No baseline correction applied\n",
      "0 projection items activated\n",
      "Ready.\n",
      "(70, 1000)\n",
      "(70, 1000)\n",
      "Extracting parameters from E:/standard and novel/sub148/standard.set...\n"
     ]
    },
    {
     "name": "stderr",
     "output_type": "stream",
     "text": [
      "<ipython-input-31-f599fd684862>:9: RuntimeWarning: At least one epoch has multiple events. Only the latency of the first event will be retained.\n",
      "  standard_epochs = mne.io.read_epochs_eeglab(standard_data_path)\n"
     ]
    },
    {
     "name": "stdout",
     "output_type": "stream",
     "text": [
      "Not setting metadata\n",
      "Not setting metadata\n",
      "76 matching events found\n",
      "No baseline correction applied\n",
      "0 projection items activated\n",
      "Ready.\n",
      "(70, 1000)\n",
      "Extracting parameters from E:/standard and novel/sub148/novel.set...\n"
     ]
    },
    {
     "name": "stderr",
     "output_type": "stream",
     "text": [
      "<ipython-input-31-f599fd684862>:25: RuntimeWarning: At least one epoch has multiple events. Only the latency of the first event will be retained.\n",
      "  novel_epochs = mne.io.read_epochs_eeglab(novel_data_path)\n"
     ]
    },
    {
     "name": "stdout",
     "output_type": "stream",
     "text": [
      "Not setting metadata\n",
      "Not setting metadata\n",
      "70 matching events found\n",
      "No baseline correction applied\n",
      "0 projection items activated\n",
      "Ready.\n",
      "(70, 1000)\n",
      "(70, 1000)\n",
      "Extracting parameters from E:/standard and novel/sub149/standard.set...\n"
     ]
    },
    {
     "name": "stderr",
     "output_type": "stream",
     "text": [
      "<ipython-input-31-f599fd684862>:9: RuntimeWarning: At least one epoch has multiple events. Only the latency of the first event will be retained.\n",
      "  standard_epochs = mne.io.read_epochs_eeglab(standard_data_path)\n"
     ]
    },
    {
     "name": "stdout",
     "output_type": "stream",
     "text": [
      "Not setting metadata\n",
      "Not setting metadata\n",
      "94 matching events found\n",
      "No baseline correction applied\n",
      "0 projection items activated\n",
      "Ready.\n",
      "(70, 1000)\n",
      "Extracting parameters from E:/standard and novel/sub149/novel.set...\n"
     ]
    },
    {
     "name": "stderr",
     "output_type": "stream",
     "text": [
      "<ipython-input-31-f599fd684862>:25: RuntimeWarning: At least one epoch has multiple events. Only the latency of the first event will be retained.\n",
      "  novel_epochs = mne.io.read_epochs_eeglab(novel_data_path)\n"
     ]
    },
    {
     "name": "stdout",
     "output_type": "stream",
     "text": [
      "Not setting metadata\n",
      "Not setting metadata\n",
      "94 matching events found\n",
      "No baseline correction applied\n",
      "0 projection items activated\n",
      "Ready.\n",
      "(70, 1000)\n",
      "(70, 1000)\n",
      "Extracting parameters from E:/standard and novel/sub150/standard.set...\n"
     ]
    },
    {
     "name": "stderr",
     "output_type": "stream",
     "text": [
      "<ipython-input-31-f599fd684862>:9: RuntimeWarning: At least one epoch has multiple events. Only the latency of the first event will be retained.\n",
      "  standard_epochs = mne.io.read_epochs_eeglab(standard_data_path)\n"
     ]
    },
    {
     "name": "stdout",
     "output_type": "stream",
     "text": [
      "Not setting metadata\n",
      "Not setting metadata\n",
      "96 matching events found\n",
      "No baseline correction applied\n",
      "0 projection items activated\n",
      "Ready.\n",
      "(70, 1000)\n",
      "Extracting parameters from E:/standard and novel/sub150/novel.set...\n"
     ]
    },
    {
     "name": "stderr",
     "output_type": "stream",
     "text": [
      "<ipython-input-31-f599fd684862>:25: RuntimeWarning: At least one epoch has multiple events. Only the latency of the first event will be retained.\n",
      "  novel_epochs = mne.io.read_epochs_eeglab(novel_data_path)\n"
     ]
    },
    {
     "name": "stdout",
     "output_type": "stream",
     "text": [
      "Not setting metadata\n",
      "Not setting metadata\n",
      "96 matching events found\n",
      "No baseline correction applied\n",
      "0 projection items activated\n",
      "Ready.\n",
      "(70, 1000)\n",
      "(70, 1000)\n",
      "Extracting parameters from E:/standard and novel/sub151/standard.set...\n"
     ]
    },
    {
     "name": "stderr",
     "output_type": "stream",
     "text": [
      "<ipython-input-31-f599fd684862>:9: RuntimeWarning: At least one epoch has multiple events. Only the latency of the first event will be retained.\n",
      "  standard_epochs = mne.io.read_epochs_eeglab(standard_data_path)\n"
     ]
    },
    {
     "name": "stdout",
     "output_type": "stream",
     "text": [
      "Not setting metadata\n",
      "Not setting metadata\n",
      "101 matching events found\n",
      "No baseline correction applied\n",
      "0 projection items activated\n",
      "Ready.\n",
      "(70, 1000)\n",
      "Extracting parameters from E:/standard and novel/sub151/novel.set...\n"
     ]
    },
    {
     "name": "stderr",
     "output_type": "stream",
     "text": [
      "<ipython-input-31-f599fd684862>:25: RuntimeWarning: At least one epoch has multiple events. Only the latency of the first event will be retained.\n",
      "  novel_epochs = mne.io.read_epochs_eeglab(novel_data_path)\n"
     ]
    },
    {
     "name": "stdout",
     "output_type": "stream",
     "text": [
      "Not setting metadata\n",
      "Not setting metadata\n",
      "98 matching events found\n",
      "No baseline correction applied\n",
      "0 projection items activated\n",
      "Ready.\n",
      "(70, 1000)\n",
      "(70, 1000)\n",
      "Extracting parameters from E:/standard and novel/sub152/standard.set...\n"
     ]
    },
    {
     "name": "stderr",
     "output_type": "stream",
     "text": [
      "<ipython-input-31-f599fd684862>:9: RuntimeWarning: At least one epoch has multiple events. Only the latency of the first event will be retained.\n",
      "  standard_epochs = mne.io.read_epochs_eeglab(standard_data_path)\n"
     ]
    },
    {
     "name": "stdout",
     "output_type": "stream",
     "text": [
      "Not setting metadata\n",
      "Not setting metadata\n",
      "101 matching events found\n",
      "No baseline correction applied\n",
      "0 projection items activated\n",
      "Ready.\n",
      "(70, 1000)\n",
      "Extracting parameters from E:/standard and novel/sub152/novel.set...\n"
     ]
    },
    {
     "name": "stderr",
     "output_type": "stream",
     "text": [
      "<ipython-input-31-f599fd684862>:25: RuntimeWarning: At least one epoch has multiple events. Only the latency of the first event will be retained.\n",
      "  novel_epochs = mne.io.read_epochs_eeglab(novel_data_path)\n"
     ]
    },
    {
     "name": "stdout",
     "output_type": "stream",
     "text": [
      "Not setting metadata\n",
      "Not setting metadata\n",
      "98 matching events found\n",
      "No baseline correction applied\n",
      "0 projection items activated\n",
      "Ready.\n",
      "(70, 1000)\n",
      "(70, 1000)\n",
      "Extracting parameters from E:/standard and novel/sub153/standard.set...\n"
     ]
    },
    {
     "name": "stderr",
     "output_type": "stream",
     "text": [
      "<ipython-input-31-f599fd684862>:9: RuntimeWarning: At least one epoch has multiple events. Only the latency of the first event will be retained.\n",
      "  standard_epochs = mne.io.read_epochs_eeglab(standard_data_path)\n"
     ]
    },
    {
     "name": "stdout",
     "output_type": "stream",
     "text": [
      "Not setting metadata\n",
      "Not setting metadata\n",
      "90 matching events found\n",
      "No baseline correction applied\n",
      "0 projection items activated\n",
      "Ready.\n",
      "(70, 1000)\n",
      "Extracting parameters from E:/standard and novel/sub153/novel.set...\n"
     ]
    },
    {
     "name": "stderr",
     "output_type": "stream",
     "text": [
      "<ipython-input-31-f599fd684862>:25: RuntimeWarning: At least one epoch has multiple events. Only the latency of the first event will be retained.\n",
      "  novel_epochs = mne.io.read_epochs_eeglab(novel_data_path)\n"
     ]
    },
    {
     "name": "stdout",
     "output_type": "stream",
     "text": [
      "Not setting metadata\n",
      "Not setting metadata\n",
      "92 matching events found\n",
      "No baseline correction applied\n",
      "0 projection items activated\n",
      "Ready.\n",
      "(70, 1000)\n",
      "(70, 1000)\n",
      "Extracting parameters from E:/standard and novel/sub154/standard.set...\n"
     ]
    },
    {
     "name": "stderr",
     "output_type": "stream",
     "text": [
      "<ipython-input-31-f599fd684862>:9: RuntimeWarning: At least one epoch has multiple events. Only the latency of the first event will be retained.\n",
      "  standard_epochs = mne.io.read_epochs_eeglab(standard_data_path)\n"
     ]
    },
    {
     "name": "stdout",
     "output_type": "stream",
     "text": [
      "Not setting metadata\n",
      "Not setting metadata\n",
      "100 matching events found\n",
      "No baseline correction applied\n",
      "0 projection items activated\n",
      "Ready.\n",
      "(70, 1000)\n",
      "Extracting parameters from E:/standard and novel/sub154/novel.set...\n"
     ]
    },
    {
     "name": "stderr",
     "output_type": "stream",
     "text": [
      "<ipython-input-31-f599fd684862>:25: RuntimeWarning: At least one epoch has multiple events. Only the latency of the first event will be retained.\n",
      "  novel_epochs = mne.io.read_epochs_eeglab(novel_data_path)\n"
     ]
    },
    {
     "name": "stdout",
     "output_type": "stream",
     "text": [
      "Not setting metadata\n",
      "Not setting metadata\n",
      "97 matching events found\n",
      "No baseline correction applied\n",
      "0 projection items activated\n",
      "Ready.\n",
      "(70, 1000)\n",
      "(70, 1000)\n",
      "Extracting parameters from E:/standard and novel/sub155/standard.set...\n"
     ]
    },
    {
     "name": "stderr",
     "output_type": "stream",
     "text": [
      "<ipython-input-31-f599fd684862>:9: RuntimeWarning: At least one epoch has multiple events. Only the latency of the first event will be retained.\n",
      "  standard_epochs = mne.io.read_epochs_eeglab(standard_data_path)\n"
     ]
    },
    {
     "name": "stdout",
     "output_type": "stream",
     "text": [
      "Not setting metadata\n",
      "Not setting metadata\n",
      "102 matching events found\n",
      "No baseline correction applied\n",
      "0 projection items activated\n",
      "Ready.\n",
      "(70, 1000)\n",
      "Extracting parameters from E:/standard and novel/sub155/novel.set...\n"
     ]
    },
    {
     "name": "stderr",
     "output_type": "stream",
     "text": [
      "<ipython-input-31-f599fd684862>:25: RuntimeWarning: At least one epoch has multiple events. Only the latency of the first event will be retained.\n",
      "  novel_epochs = mne.io.read_epochs_eeglab(novel_data_path)\n"
     ]
    },
    {
     "name": "stdout",
     "output_type": "stream",
     "text": [
      "Not setting metadata\n",
      "Not setting metadata\n",
      "102 matching events found\n",
      "No baseline correction applied\n",
      "0 projection items activated\n",
      "Ready.\n",
      "(70, 1000)\n",
      "(70, 1000)\n",
      "Extracting parameters from E:/standard and novel/sub156/standard.set...\n"
     ]
    },
    {
     "name": "stderr",
     "output_type": "stream",
     "text": [
      "<ipython-input-31-f599fd684862>:9: RuntimeWarning: At least one epoch has multiple events. Only the latency of the first event will be retained.\n",
      "  standard_epochs = mne.io.read_epochs_eeglab(standard_data_path)\n"
     ]
    },
    {
     "name": "stdout",
     "output_type": "stream",
     "text": [
      "Not setting metadata\n",
      "Not setting metadata\n",
      "100 matching events found\n",
      "No baseline correction applied\n",
      "0 projection items activated\n",
      "Ready.\n",
      "(70, 1000)\n",
      "Extracting parameters from E:/standard and novel/sub156/novel.set...\n"
     ]
    },
    {
     "name": "stderr",
     "output_type": "stream",
     "text": [
      "<ipython-input-31-f599fd684862>:25: RuntimeWarning: At least one epoch has multiple events. Only the latency of the first event will be retained.\n",
      "  novel_epochs = mne.io.read_epochs_eeglab(novel_data_path)\n"
     ]
    },
    {
     "name": "stdout",
     "output_type": "stream",
     "text": [
      "Not setting metadata\n",
      "Not setting metadata\n",
      "100 matching events found\n",
      "No baseline correction applied\n",
      "0 projection items activated\n",
      "Ready.\n",
      "(70, 1000)\n",
      "(70, 1000)\n",
      "Extracting parameters from E:/standard and novel/sub157/standard.set...\n"
     ]
    },
    {
     "name": "stderr",
     "output_type": "stream",
     "text": [
      "<ipython-input-31-f599fd684862>:9: RuntimeWarning: At least one epoch has multiple events. Only the latency of the first event will be retained.\n",
      "  standard_epochs = mne.io.read_epochs_eeglab(standard_data_path)\n"
     ]
    },
    {
     "name": "stdout",
     "output_type": "stream",
     "text": [
      "Not setting metadata\n",
      "Not setting metadata\n",
      "86 matching events found\n",
      "No baseline correction applied\n",
      "0 projection items activated\n",
      "Ready.\n",
      "(70, 1000)\n",
      "Extracting parameters from E:/standard and novel/sub157/novel.set...\n"
     ]
    },
    {
     "name": "stderr",
     "output_type": "stream",
     "text": [
      "<ipython-input-31-f599fd684862>:25: RuntimeWarning: At least one epoch has multiple events. Only the latency of the first event will be retained.\n",
      "  novel_epochs = mne.io.read_epochs_eeglab(novel_data_path)\n"
     ]
    },
    {
     "name": "stdout",
     "output_type": "stream",
     "text": [
      "Not setting metadata\n",
      "Not setting metadata\n",
      "88 matching events found\n",
      "No baseline correction applied\n",
      "0 projection items activated\n",
      "Ready.\n",
      "(70, 1000)\n",
      "(70, 1000)\n",
      "Extracting parameters from E:/standard and novel/sub158/standard.set...\n"
     ]
    },
    {
     "name": "stderr",
     "output_type": "stream",
     "text": [
      "<ipython-input-31-f599fd684862>:9: RuntimeWarning: At least one epoch has multiple events. Only the latency of the first event will be retained.\n",
      "  standard_epochs = mne.io.read_epochs_eeglab(standard_data_path)\n"
     ]
    },
    {
     "name": "stdout",
     "output_type": "stream",
     "text": [
      "Not setting metadata\n",
      "Not setting metadata\n",
      "95 matching events found\n",
      "No baseline correction applied\n",
      "0 projection items activated\n",
      "Ready.\n",
      "(70, 1000)\n",
      "Extracting parameters from E:/standard and novel/sub158/novel.set...\n"
     ]
    },
    {
     "name": "stderr",
     "output_type": "stream",
     "text": [
      "<ipython-input-31-f599fd684862>:25: RuntimeWarning: At least one epoch has multiple events. Only the latency of the first event will be retained.\n",
      "  novel_epochs = mne.io.read_epochs_eeglab(novel_data_path)\n"
     ]
    },
    {
     "name": "stdout",
     "output_type": "stream",
     "text": [
      "Not setting metadata\n",
      "Not setting metadata\n",
      "93 matching events found\n",
      "No baseline correction applied\n",
      "0 projection items activated\n",
      "Ready.\n",
      "(70, 1000)\n",
      "(70, 1000)\n",
      "Extracting parameters from E:/standard and novel/sub159/standard.set...\n"
     ]
    },
    {
     "name": "stderr",
     "output_type": "stream",
     "text": [
      "<ipython-input-31-f599fd684862>:9: RuntimeWarning: At least one epoch has multiple events. Only the latency of the first event will be retained.\n",
      "  standard_epochs = mne.io.read_epochs_eeglab(standard_data_path)\n"
     ]
    },
    {
     "name": "stdout",
     "output_type": "stream",
     "text": [
      "Not setting metadata\n",
      "Not setting metadata\n",
      "91 matching events found\n",
      "No baseline correction applied\n",
      "0 projection items activated\n",
      "Ready.\n",
      "(70, 1000)\n",
      "Extracting parameters from E:/standard and novel/sub159/novel.set...\n"
     ]
    },
    {
     "name": "stderr",
     "output_type": "stream",
     "text": [
      "<ipython-input-31-f599fd684862>:25: RuntimeWarning: At least one epoch has multiple events. Only the latency of the first event will be retained.\n",
      "  novel_epochs = mne.io.read_epochs_eeglab(novel_data_path)\n"
     ]
    },
    {
     "name": "stdout",
     "output_type": "stream",
     "text": [
      "Not setting metadata\n",
      "Not setting metadata\n",
      "90 matching events found\n",
      "No baseline correction applied\n",
      "0 projection items activated\n",
      "Ready.\n",
      "(70, 1000)\n",
      "(70, 1000)\n",
      "Extracting parameters from E:/standard and novel/sub160/standard.set...\n"
     ]
    },
    {
     "name": "stderr",
     "output_type": "stream",
     "text": [
      "<ipython-input-31-f599fd684862>:9: RuntimeWarning: At least one epoch has multiple events. Only the latency of the first event will be retained.\n",
      "  standard_epochs = mne.io.read_epochs_eeglab(standard_data_path)\n"
     ]
    },
    {
     "name": "stdout",
     "output_type": "stream",
     "text": [
      "Not setting metadata\n",
      "Not setting metadata\n",
      "99 matching events found\n",
      "No baseline correction applied\n",
      "0 projection items activated\n",
      "Ready.\n",
      "(70, 1000)\n",
      "Extracting parameters from E:/standard and novel/sub160/novel.set...\n"
     ]
    },
    {
     "name": "stderr",
     "output_type": "stream",
     "text": [
      "<ipython-input-31-f599fd684862>:25: RuntimeWarning: At least one epoch has multiple events. Only the latency of the first event will be retained.\n",
      "  novel_epochs = mne.io.read_epochs_eeglab(novel_data_path)\n"
     ]
    },
    {
     "name": "stdout",
     "output_type": "stream",
     "text": [
      "Not setting metadata\n",
      "Not setting metadata\n",
      "100 matching events found\n",
      "No baseline correction applied\n",
      "0 projection items activated\n",
      "Ready.\n",
      "(70, 1000)\n",
      "(70, 1000)\n",
      "Extracting parameters from E:/standard and novel/sub161/standard.set...\n"
     ]
    },
    {
     "name": "stderr",
     "output_type": "stream",
     "text": [
      "<ipython-input-31-f599fd684862>:9: RuntimeWarning: At least one epoch has multiple events. Only the latency of the first event will be retained.\n",
      "  standard_epochs = mne.io.read_epochs_eeglab(standard_data_path)\n"
     ]
    },
    {
     "name": "stdout",
     "output_type": "stream",
     "text": [
      "Not setting metadata\n",
      "Not setting metadata\n",
      "102 matching events found\n",
      "No baseline correction applied\n",
      "0 projection items activated\n",
      "Ready.\n",
      "(70, 1000)\n",
      "Extracting parameters from E:/standard and novel/sub161/novel.set...\n"
     ]
    },
    {
     "name": "stderr",
     "output_type": "stream",
     "text": [
      "<ipython-input-31-f599fd684862>:25: RuntimeWarning: At least one epoch has multiple events. Only the latency of the first event will be retained.\n",
      "  novel_epochs = mne.io.read_epochs_eeglab(novel_data_path)\n"
     ]
    },
    {
     "name": "stdout",
     "output_type": "stream",
     "text": [
      "Not setting metadata\n",
      "Not setting metadata\n",
      "102 matching events found\n",
      "No baseline correction applied\n",
      "0 projection items activated\n",
      "Ready.\n",
      "(70, 1000)\n",
      "(70, 1000)\n",
      "Extracting parameters from E:/standard and novel/sub162/standard.set...\n"
     ]
    },
    {
     "name": "stderr",
     "output_type": "stream",
     "text": [
      "<ipython-input-31-f599fd684862>:9: RuntimeWarning: At least one epoch has multiple events. Only the latency of the first event will be retained.\n",
      "  standard_epochs = mne.io.read_epochs_eeglab(standard_data_path)\n"
     ]
    },
    {
     "name": "stdout",
     "output_type": "stream",
     "text": [
      "Not setting metadata\n",
      "Not setting metadata\n",
      "87 matching events found\n",
      "No baseline correction applied\n",
      "0 projection items activated\n",
      "Ready.\n",
      "(70, 1000)\n",
      "Extracting parameters from E:/standard and novel/sub162/novel.set...\n"
     ]
    },
    {
     "name": "stderr",
     "output_type": "stream",
     "text": [
      "<ipython-input-31-f599fd684862>:25: RuntimeWarning: At least one epoch has multiple events. Only the latency of the first event will be retained.\n",
      "  novel_epochs = mne.io.read_epochs_eeglab(novel_data_path)\n"
     ]
    },
    {
     "name": "stdout",
     "output_type": "stream",
     "text": [
      "Not setting metadata\n",
      "Not setting metadata\n",
      "88 matching events found\n",
      "No baseline correction applied\n",
      "0 projection items activated\n",
      "Ready.\n",
      "(70, 1000)\n",
      "(70, 1000)\n",
      "Extracting parameters from E:/standard and novel/sub163/standard.set...\n"
     ]
    },
    {
     "name": "stderr",
     "output_type": "stream",
     "text": [
      "<ipython-input-31-f599fd684862>:9: RuntimeWarning: At least one epoch has multiple events. Only the latency of the first event will be retained.\n",
      "  standard_epochs = mne.io.read_epochs_eeglab(standard_data_path)\n"
     ]
    },
    {
     "name": "stdout",
     "output_type": "stream",
     "text": [
      "Not setting metadata\n",
      "Not setting metadata\n",
      "94 matching events found\n",
      "No baseline correction applied\n",
      "0 projection items activated\n",
      "Ready.\n",
      "(70, 1000)\n",
      "Extracting parameters from E:/standard and novel/sub163/novel.set...\n"
     ]
    },
    {
     "name": "stderr",
     "output_type": "stream",
     "text": [
      "<ipython-input-31-f599fd684862>:25: RuntimeWarning: At least one epoch has multiple events. Only the latency of the first event will be retained.\n",
      "  novel_epochs = mne.io.read_epochs_eeglab(novel_data_path)\n"
     ]
    },
    {
     "name": "stdout",
     "output_type": "stream",
     "text": [
      "Not setting metadata\n",
      "Not setting metadata\n",
      "93 matching events found\n",
      "No baseline correction applied\n",
      "0 projection items activated\n",
      "Ready.\n",
      "(70, 1000)\n",
      "(70, 1000)\n",
      "Extracting parameters from E:/standard and novel/sub164/standard.set...\n"
     ]
    },
    {
     "name": "stderr",
     "output_type": "stream",
     "text": [
      "<ipython-input-31-f599fd684862>:9: RuntimeWarning: At least one epoch has multiple events. Only the latency of the first event will be retained.\n",
      "  standard_epochs = mne.io.read_epochs_eeglab(standard_data_path)\n"
     ]
    },
    {
     "name": "stdout",
     "output_type": "stream",
     "text": [
      "Not setting metadata\n",
      "Not setting metadata\n",
      "101 matching events found\n",
      "No baseline correction applied\n",
      "0 projection items activated\n",
      "Ready.\n",
      "(70, 1000)\n",
      "Extracting parameters from E:/standard and novel/sub164/novel.set...\n"
     ]
    },
    {
     "name": "stderr",
     "output_type": "stream",
     "text": [
      "<ipython-input-31-f599fd684862>:25: RuntimeWarning: At least one epoch has multiple events. Only the latency of the first event will be retained.\n",
      "  novel_epochs = mne.io.read_epochs_eeglab(novel_data_path)\n"
     ]
    },
    {
     "name": "stdout",
     "output_type": "stream",
     "text": [
      "Not setting metadata\n",
      "Not setting metadata\n",
      "101 matching events found\n",
      "No baseline correction applied\n",
      "0 projection items activated\n",
      "Ready.\n",
      "(70, 1000)\n",
      "(70, 1000)\n",
      "Extracting parameters from E:/standard and novel/sub165/standard.set...\n"
     ]
    },
    {
     "name": "stderr",
     "output_type": "stream",
     "text": [
      "<ipython-input-31-f599fd684862>:9: RuntimeWarning: At least one epoch has multiple events. Only the latency of the first event will be retained.\n",
      "  standard_epochs = mne.io.read_epochs_eeglab(standard_data_path)\n"
     ]
    },
    {
     "name": "stdout",
     "output_type": "stream",
     "text": [
      "Not setting metadata\n",
      "Not setting metadata\n",
      "91 matching events found\n",
      "No baseline correction applied\n",
      "0 projection items activated\n",
      "Ready.\n",
      "(70, 1000)\n",
      "Extracting parameters from E:/standard and novel/sub165/novel.set...\n"
     ]
    },
    {
     "name": "stderr",
     "output_type": "stream",
     "text": [
      "<ipython-input-31-f599fd684862>:25: RuntimeWarning: At least one epoch has multiple events. Only the latency of the first event will be retained.\n",
      "  novel_epochs = mne.io.read_epochs_eeglab(novel_data_path)\n"
     ]
    },
    {
     "name": "stdout",
     "output_type": "stream",
     "text": [
      "Not setting metadata\n",
      "Not setting metadata\n",
      "90 matching events found\n",
      "No baseline correction applied\n",
      "0 projection items activated\n",
      "Ready.\n",
      "(70, 1000)\n",
      "(70, 1000)\n",
      "Extracting parameters from E:/standard and novel/sub166/standard.set...\n"
     ]
    },
    {
     "name": "stderr",
     "output_type": "stream",
     "text": [
      "<ipython-input-31-f599fd684862>:9: RuntimeWarning: At least one epoch has multiple events. Only the latency of the first event will be retained.\n",
      "  standard_epochs = mne.io.read_epochs_eeglab(standard_data_path)\n"
     ]
    },
    {
     "name": "stdout",
     "output_type": "stream",
     "text": [
      "Not setting metadata\n",
      "Not setting metadata\n",
      "98 matching events found\n",
      "No baseline correction applied\n",
      "0 projection items activated\n",
      "Ready.\n",
      "(70, 1000)\n",
      "Extracting parameters from E:/standard and novel/sub166/novel.set...\n"
     ]
    },
    {
     "name": "stderr",
     "output_type": "stream",
     "text": [
      "<ipython-input-31-f599fd684862>:25: RuntimeWarning: At least one epoch has multiple events. Only the latency of the first event will be retained.\n",
      "  novel_epochs = mne.io.read_epochs_eeglab(novel_data_path)\n"
     ]
    },
    {
     "name": "stdout",
     "output_type": "stream",
     "text": [
      "Not setting metadata\n",
      "Not setting metadata\n",
      "101 matching events found\n",
      "No baseline correction applied\n",
      "0 projection items activated\n",
      "Ready.\n",
      "(70, 1000)\n",
      "(70, 1000)\n",
      "Extracting parameters from E:/standard and novel/sub167/standard.set...\n"
     ]
    },
    {
     "name": "stderr",
     "output_type": "stream",
     "text": [
      "<ipython-input-31-f599fd684862>:9: RuntimeWarning: At least one epoch has multiple events. Only the latency of the first event will be retained.\n",
      "  standard_epochs = mne.io.read_epochs_eeglab(standard_data_path)\n"
     ]
    },
    {
     "name": "stdout",
     "output_type": "stream",
     "text": [
      "Not setting metadata\n",
      "Not setting metadata\n",
      "95 matching events found\n",
      "No baseline correction applied\n",
      "0 projection items activated\n",
      "Ready.\n",
      "(70, 1000)\n",
      "Extracting parameters from E:/standard and novel/sub167/novel.set...\n"
     ]
    },
    {
     "name": "stderr",
     "output_type": "stream",
     "text": [
      "<ipython-input-31-f599fd684862>:25: RuntimeWarning: At least one epoch has multiple events. Only the latency of the first event will be retained.\n",
      "  novel_epochs = mne.io.read_epochs_eeglab(novel_data_path)\n"
     ]
    },
    {
     "name": "stdout",
     "output_type": "stream",
     "text": [
      "Not setting metadata\n",
      "Not setting metadata\n",
      "98 matching events found\n",
      "No baseline correction applied\n",
      "0 projection items activated\n",
      "Ready.\n",
      "(70, 1000)\n",
      "(70, 1000)\n",
      "Extracting parameters from E:/standard and novel/sub168/standard.set...\n"
     ]
    },
    {
     "name": "stderr",
     "output_type": "stream",
     "text": [
      "<ipython-input-31-f599fd684862>:9: RuntimeWarning: At least one epoch has multiple events. Only the latency of the first event will be retained.\n",
      "  standard_epochs = mne.io.read_epochs_eeglab(standard_data_path)\n"
     ]
    },
    {
     "name": "stdout",
     "output_type": "stream",
     "text": [
      "Not setting metadata\n",
      "Not setting metadata\n",
      "101 matching events found\n",
      "No baseline correction applied\n",
      "0 projection items activated\n",
      "Ready.\n",
      "(70, 1000)\n",
      "Extracting parameters from E:/standard and novel/sub168/novel.set...\n"
     ]
    },
    {
     "name": "stderr",
     "output_type": "stream",
     "text": [
      "<ipython-input-31-f599fd684862>:25: RuntimeWarning: At least one epoch has multiple events. Only the latency of the first event will be retained.\n",
      "  novel_epochs = mne.io.read_epochs_eeglab(novel_data_path)\n"
     ]
    },
    {
     "name": "stdout",
     "output_type": "stream",
     "text": [
      "Not setting metadata\n",
      "Not setting metadata\n",
      "101 matching events found\n",
      "No baseline correction applied\n",
      "0 projection items activated\n",
      "Ready.\n",
      "(70, 1000)\n",
      "(70, 1000)\n",
      "Extracting parameters from E:/standard and novel/sub169/standard.set...\n"
     ]
    },
    {
     "name": "stderr",
     "output_type": "stream",
     "text": [
      "<ipython-input-31-f599fd684862>:9: RuntimeWarning: At least one epoch has multiple events. Only the latency of the first event will be retained.\n",
      "  standard_epochs = mne.io.read_epochs_eeglab(standard_data_path)\n"
     ]
    },
    {
     "name": "stdout",
     "output_type": "stream",
     "text": [
      "Not setting metadata\n",
      "Not setting metadata\n",
      "101 matching events found\n",
      "No baseline correction applied\n",
      "0 projection items activated\n",
      "Ready.\n",
      "(70, 1000)\n",
      "Extracting parameters from E:/standard and novel/sub169/novel.set...\n"
     ]
    },
    {
     "name": "stderr",
     "output_type": "stream",
     "text": [
      "<ipython-input-31-f599fd684862>:25: RuntimeWarning: At least one epoch has multiple events. Only the latency of the first event will be retained.\n",
      "  novel_epochs = mne.io.read_epochs_eeglab(novel_data_path)\n"
     ]
    },
    {
     "name": "stdout",
     "output_type": "stream",
     "text": [
      "Not setting metadata\n",
      "Not setting metadata\n",
      "102 matching events found\n",
      "No baseline correction applied\n",
      "0 projection items activated\n",
      "Ready.\n",
      "(70, 1000)\n",
      "(70, 1000)\n",
      "Extracting parameters from E:/standard and novel/sub170/standard.set...\n"
     ]
    },
    {
     "name": "stderr",
     "output_type": "stream",
     "text": [
      "<ipython-input-31-f599fd684862>:9: RuntimeWarning: At least one epoch has multiple events. Only the latency of the first event will be retained.\n",
      "  standard_epochs = mne.io.read_epochs_eeglab(standard_data_path)\n"
     ]
    },
    {
     "name": "stdout",
     "output_type": "stream",
     "text": [
      "Not setting metadata\n",
      "Not setting metadata\n",
      "98 matching events found\n",
      "No baseline correction applied\n",
      "0 projection items activated\n",
      "Ready.\n",
      "(70, 1000)\n",
      "Extracting parameters from E:/standard and novel/sub170/novel.set...\n"
     ]
    },
    {
     "name": "stderr",
     "output_type": "stream",
     "text": [
      "<ipython-input-31-f599fd684862>:25: RuntimeWarning: At least one epoch has multiple events. Only the latency of the first event will be retained.\n",
      "  novel_epochs = mne.io.read_epochs_eeglab(novel_data_path)\n"
     ]
    },
    {
     "name": "stdout",
     "output_type": "stream",
     "text": [
      "Not setting metadata\n",
      "Not setting metadata\n",
      "97 matching events found\n",
      "No baseline correction applied\n",
      "0 projection items activated\n",
      "Ready.\n",
      "(70, 1000)\n",
      "(70, 1000)\n",
      "Extracting parameters from E:/standard and novel/sub171/standard.set...\n"
     ]
    },
    {
     "name": "stderr",
     "output_type": "stream",
     "text": [
      "<ipython-input-31-f599fd684862>:9: RuntimeWarning: At least one epoch has multiple events. Only the latency of the first event will be retained.\n",
      "  standard_epochs = mne.io.read_epochs_eeglab(standard_data_path)\n"
     ]
    },
    {
     "name": "stdout",
     "output_type": "stream",
     "text": [
      "Not setting metadata\n",
      "Not setting metadata\n",
      "101 matching events found\n",
      "No baseline correction applied\n",
      "0 projection items activated\n",
      "Ready.\n",
      "(70, 1000)\n",
      "Extracting parameters from E:/standard and novel/sub171/novel.set...\n"
     ]
    },
    {
     "name": "stderr",
     "output_type": "stream",
     "text": [
      "<ipython-input-31-f599fd684862>:25: RuntimeWarning: At least one epoch has multiple events. Only the latency of the first event will be retained.\n",
      "  novel_epochs = mne.io.read_epochs_eeglab(novel_data_path)\n"
     ]
    },
    {
     "name": "stdout",
     "output_type": "stream",
     "text": [
      "Not setting metadata\n",
      "Not setting metadata\n",
      "102 matching events found\n",
      "No baseline correction applied\n",
      "0 projection items activated\n",
      "Ready.\n",
      "(70, 1000)\n",
      "(70, 1000)\n",
      "Extracting parameters from E:/standard and novel/sub172/standard.set...\n"
     ]
    },
    {
     "name": "stderr",
     "output_type": "stream",
     "text": [
      "<ipython-input-31-f599fd684862>:9: RuntimeWarning: At least one epoch has multiple events. Only the latency of the first event will be retained.\n",
      "  standard_epochs = mne.io.read_epochs_eeglab(standard_data_path)\n"
     ]
    },
    {
     "name": "stdout",
     "output_type": "stream",
     "text": [
      "Not setting metadata\n",
      "Not setting metadata\n",
      "96 matching events found\n",
      "No baseline correction applied\n",
      "0 projection items activated\n",
      "Ready.\n",
      "(70, 1000)\n",
      "Extracting parameters from E:/standard and novel/sub172/novel.set...\n"
     ]
    },
    {
     "name": "stderr",
     "output_type": "stream",
     "text": [
      "<ipython-input-31-f599fd684862>:25: RuntimeWarning: At least one epoch has multiple events. Only the latency of the first event will be retained.\n",
      "  novel_epochs = mne.io.read_epochs_eeglab(novel_data_path)\n"
     ]
    },
    {
     "name": "stdout",
     "output_type": "stream",
     "text": [
      "Not setting metadata\n",
      "Not setting metadata\n",
      "99 matching events found\n",
      "No baseline correction applied\n",
      "0 projection items activated\n",
      "Ready.\n",
      "(70, 1000)\n",
      "(70, 1000)\n",
      "Extracting parameters from E:/standard and novel/sub173/standard.set...\n"
     ]
    },
    {
     "name": "stderr",
     "output_type": "stream",
     "text": [
      "<ipython-input-31-f599fd684862>:9: RuntimeWarning: At least one epoch has multiple events. Only the latency of the first event will be retained.\n",
      "  standard_epochs = mne.io.read_epochs_eeglab(standard_data_path)\n"
     ]
    },
    {
     "name": "stdout",
     "output_type": "stream",
     "text": [
      "Not setting metadata\n",
      "Not setting metadata\n",
      "81 matching events found\n",
      "No baseline correction applied\n",
      "0 projection items activated\n",
      "Ready.\n",
      "(70, 1000)\n",
      "Extracting parameters from E:/standard and novel/sub173/novel.set...\n"
     ]
    },
    {
     "name": "stderr",
     "output_type": "stream",
     "text": [
      "<ipython-input-31-f599fd684862>:25: RuntimeWarning: At least one epoch has multiple events. Only the latency of the first event will be retained.\n",
      "  novel_epochs = mne.io.read_epochs_eeglab(novel_data_path)\n"
     ]
    },
    {
     "name": "stdout",
     "output_type": "stream",
     "text": [
      "Not setting metadata\n",
      "Not setting metadata\n",
      "83 matching events found\n",
      "No baseline correction applied\n",
      "0 projection items activated\n",
      "Ready.\n",
      "(70, 1000)\n",
      "(70, 1000)\n",
      "Extracting parameters from E:/standard and novel/sub174/standard.set...\n"
     ]
    },
    {
     "name": "stderr",
     "output_type": "stream",
     "text": [
      "<ipython-input-31-f599fd684862>:9: RuntimeWarning: At least one epoch has multiple events. Only the latency of the first event will be retained.\n",
      "  standard_epochs = mne.io.read_epochs_eeglab(standard_data_path)\n"
     ]
    },
    {
     "name": "stdout",
     "output_type": "stream",
     "text": [
      "Not setting metadata\n",
      "Not setting metadata\n",
      "100 matching events found\n",
      "No baseline correction applied\n",
      "0 projection items activated\n",
      "Ready.\n",
      "(70, 1000)\n",
      "Extracting parameters from E:/standard and novel/sub174/novel.set...\n"
     ]
    },
    {
     "name": "stderr",
     "output_type": "stream",
     "text": [
      "<ipython-input-31-f599fd684862>:25: RuntimeWarning: At least one epoch has multiple events. Only the latency of the first event will be retained.\n",
      "  novel_epochs = mne.io.read_epochs_eeglab(novel_data_path)\n"
     ]
    },
    {
     "name": "stdout",
     "output_type": "stream",
     "text": [
      "Not setting metadata\n",
      "Not setting metadata\n",
      "100 matching events found\n",
      "No baseline correction applied\n",
      "0 projection items activated\n",
      "Ready.\n",
      "(70, 1000)\n",
      "(70, 1000)\n",
      "Extracting parameters from E:/standard and novel/sub175/standard.set...\n"
     ]
    },
    {
     "name": "stderr",
     "output_type": "stream",
     "text": [
      "<ipython-input-31-f599fd684862>:9: RuntimeWarning: At least one epoch has multiple events. Only the latency of the first event will be retained.\n",
      "  standard_epochs = mne.io.read_epochs_eeglab(standard_data_path)\n"
     ]
    },
    {
     "name": "stdout",
     "output_type": "stream",
     "text": [
      "Not setting metadata\n",
      "Not setting metadata\n",
      "95 matching events found\n",
      "No baseline correction applied\n",
      "0 projection items activated\n",
      "Ready.\n",
      "(70, 1000)\n",
      "Extracting parameters from E:/standard and novel/sub175/novel.set...\n"
     ]
    },
    {
     "name": "stderr",
     "output_type": "stream",
     "text": [
      "<ipython-input-31-f599fd684862>:25: RuntimeWarning: At least one epoch has multiple events. Only the latency of the first event will be retained.\n",
      "  novel_epochs = mne.io.read_epochs_eeglab(novel_data_path)\n"
     ]
    },
    {
     "name": "stdout",
     "output_type": "stream",
     "text": [
      "Not setting metadata\n",
      "Not setting metadata\n",
      "97 matching events found\n",
      "No baseline correction applied\n",
      "0 projection items activated\n",
      "Ready.\n",
      "(70, 1000)\n",
      "(70, 1000)\n",
      "Extracting parameters from E:/standard and novel/sub176/standard.set...\n"
     ]
    },
    {
     "name": "stderr",
     "output_type": "stream",
     "text": [
      "<ipython-input-31-f599fd684862>:9: RuntimeWarning: At least one epoch has multiple events. Only the latency of the first event will be retained.\n",
      "  standard_epochs = mne.io.read_epochs_eeglab(standard_data_path)\n"
     ]
    },
    {
     "name": "stdout",
     "output_type": "stream",
     "text": [
      "Not setting metadata\n",
      "Not setting metadata\n",
      "99 matching events found\n",
      "No baseline correction applied\n",
      "0 projection items activated\n",
      "Ready.\n",
      "(70, 1000)\n",
      "Extracting parameters from E:/standard and novel/sub176/novel.set...\n"
     ]
    },
    {
     "name": "stderr",
     "output_type": "stream",
     "text": [
      "<ipython-input-31-f599fd684862>:25: RuntimeWarning: At least one epoch has multiple events. Only the latency of the first event will be retained.\n",
      "  novel_epochs = mne.io.read_epochs_eeglab(novel_data_path)\n"
     ]
    },
    {
     "name": "stdout",
     "output_type": "stream",
     "text": [
      "Not setting metadata\n",
      "Not setting metadata\n",
      "96 matching events found\n",
      "No baseline correction applied\n",
      "0 projection items activated\n",
      "Ready.\n",
      "(70, 1000)\n",
      "(70, 1000)\n",
      "Extracting parameters from E:/standard and novel/sub177/standard.set...\n"
     ]
    },
    {
     "name": "stderr",
     "output_type": "stream",
     "text": [
      "<ipython-input-31-f599fd684862>:9: RuntimeWarning: At least one epoch has multiple events. Only the latency of the first event will be retained.\n",
      "  standard_epochs = mne.io.read_epochs_eeglab(standard_data_path)\n"
     ]
    },
    {
     "name": "stdout",
     "output_type": "stream",
     "text": [
      "Not setting metadata\n",
      "Not setting metadata\n",
      "99 matching events found\n",
      "No baseline correction applied\n",
      "0 projection items activated\n",
      "Ready.\n",
      "(70, 1000)\n",
      "Extracting parameters from E:/standard and novel/sub177/novel.set...\n"
     ]
    },
    {
     "name": "stderr",
     "output_type": "stream",
     "text": [
      "<ipython-input-31-f599fd684862>:25: RuntimeWarning: At least one epoch has multiple events. Only the latency of the first event will be retained.\n",
      "  novel_epochs = mne.io.read_epochs_eeglab(novel_data_path)\n"
     ]
    },
    {
     "name": "stdout",
     "output_type": "stream",
     "text": [
      "Not setting metadata\n",
      "Not setting metadata\n",
      "101 matching events found\n",
      "No baseline correction applied\n",
      "0 projection items activated\n",
      "Ready.\n",
      "(70, 1000)\n",
      "(70, 1000)\n",
      "Extracting parameters from E:/standard and novel/sub178/standard.set...\n"
     ]
    },
    {
     "name": "stderr",
     "output_type": "stream",
     "text": [
      "<ipython-input-31-f599fd684862>:9: RuntimeWarning: At least one epoch has multiple events. Only the latency of the first event will be retained.\n",
      "  standard_epochs = mne.io.read_epochs_eeglab(standard_data_path)\n"
     ]
    },
    {
     "name": "stdout",
     "output_type": "stream",
     "text": [
      "Not setting metadata\n",
      "Not setting metadata\n",
      "86 matching events found\n",
      "No baseline correction applied\n",
      "0 projection items activated\n",
      "Ready.\n",
      "(70, 1000)\n",
      "Extracting parameters from E:/standard and novel/sub178/novel.set...\n"
     ]
    },
    {
     "name": "stderr",
     "output_type": "stream",
     "text": [
      "<ipython-input-31-f599fd684862>:25: RuntimeWarning: At least one epoch has multiple events. Only the latency of the first event will be retained.\n",
      "  novel_epochs = mne.io.read_epochs_eeglab(novel_data_path)\n"
     ]
    },
    {
     "name": "stdout",
     "output_type": "stream",
     "text": [
      "Not setting metadata\n",
      "Not setting metadata\n",
      "84 matching events found\n",
      "No baseline correction applied\n",
      "0 projection items activated\n",
      "Ready.\n",
      "(70, 1000)\n",
      "(70, 1000)\n",
      "Extracting parameters from E:/standard and novel/sub179/standard.set...\n"
     ]
    },
    {
     "name": "stderr",
     "output_type": "stream",
     "text": [
      "<ipython-input-31-f599fd684862>:9: RuntimeWarning: At least one epoch has multiple events. Only the latency of the first event will be retained.\n",
      "  standard_epochs = mne.io.read_epochs_eeglab(standard_data_path)\n"
     ]
    },
    {
     "name": "stdout",
     "output_type": "stream",
     "text": [
      "Not setting metadata\n",
      "Not setting metadata\n",
      "95 matching events found\n",
      "No baseline correction applied\n",
      "0 projection items activated\n",
      "Ready.\n",
      "(70, 1000)\n",
      "Extracting parameters from E:/standard and novel/sub179/novel.set...\n"
     ]
    },
    {
     "name": "stderr",
     "output_type": "stream",
     "text": [
      "<ipython-input-31-f599fd684862>:25: RuntimeWarning: At least one epoch has multiple events. Only the latency of the first event will be retained.\n",
      "  novel_epochs = mne.io.read_epochs_eeglab(novel_data_path)\n"
     ]
    },
    {
     "name": "stdout",
     "output_type": "stream",
     "text": [
      "Not setting metadata\n",
      "Not setting metadata\n",
      "98 matching events found\n",
      "No baseline correction applied\n",
      "0 projection items activated\n",
      "Ready.\n",
      "(70, 1000)\n",
      "(70, 1000)\n",
      "Extracting parameters from E:/standard and novel/sub180/standard.set...\n"
     ]
    },
    {
     "name": "stderr",
     "output_type": "stream",
     "text": [
      "<ipython-input-31-f599fd684862>:9: RuntimeWarning: At least one epoch has multiple events. Only the latency of the first event will be retained.\n",
      "  standard_epochs = mne.io.read_epochs_eeglab(standard_data_path)\n"
     ]
    },
    {
     "name": "stdout",
     "output_type": "stream",
     "text": [
      "Not setting metadata\n",
      "Not setting metadata\n",
      "100 matching events found\n",
      "No baseline correction applied\n",
      "0 projection items activated\n",
      "Ready.\n",
      "(70, 1000)\n",
      "Extracting parameters from E:/standard and novel/sub180/novel.set...\n"
     ]
    },
    {
     "name": "stderr",
     "output_type": "stream",
     "text": [
      "<ipython-input-31-f599fd684862>:25: RuntimeWarning: At least one epoch has multiple events. Only the latency of the first event will be retained.\n",
      "  novel_epochs = mne.io.read_epochs_eeglab(novel_data_path)\n"
     ]
    },
    {
     "name": "stdout",
     "output_type": "stream",
     "text": [
      "Not setting metadata\n",
      "Not setting metadata\n",
      "101 matching events found\n",
      "No baseline correction applied\n",
      "0 projection items activated\n",
      "Ready.\n",
      "(70, 1000)\n",
      "(70, 1000)\n",
      "Extracting parameters from E:/standard and novel/sub181/standard.set...\n"
     ]
    },
    {
     "name": "stderr",
     "output_type": "stream",
     "text": [
      "<ipython-input-31-f599fd684862>:9: RuntimeWarning: At least one epoch has multiple events. Only the latency of the first event will be retained.\n",
      "  standard_epochs = mne.io.read_epochs_eeglab(standard_data_path)\n"
     ]
    },
    {
     "name": "stdout",
     "output_type": "stream",
     "text": [
      "Not setting metadata\n",
      "Not setting metadata\n",
      "92 matching events found\n",
      "No baseline correction applied\n",
      "0 projection items activated\n",
      "Ready.\n",
      "(70, 1000)\n",
      "Extracting parameters from E:/standard and novel/sub181/novel.set...\n"
     ]
    },
    {
     "name": "stderr",
     "output_type": "stream",
     "text": [
      "<ipython-input-31-f599fd684862>:25: RuntimeWarning: At least one epoch has multiple events. Only the latency of the first event will be retained.\n",
      "  novel_epochs = mne.io.read_epochs_eeglab(novel_data_path)\n"
     ]
    },
    {
     "name": "stdout",
     "output_type": "stream",
     "text": [
      "Not setting metadata\n",
      "Not setting metadata\n",
      "93 matching events found\n",
      "No baseline correction applied\n",
      "0 projection items activated\n",
      "Ready.\n",
      "(70, 1000)\n",
      "(70, 1000)\n",
      "Extracting parameters from E:/standard and novel/sub182/standard.set...\n"
     ]
    },
    {
     "name": "stderr",
     "output_type": "stream",
     "text": [
      "<ipython-input-31-f599fd684862>:9: RuntimeWarning: At least one epoch has multiple events. Only the latency of the first event will be retained.\n",
      "  standard_epochs = mne.io.read_epochs_eeglab(standard_data_path)\n"
     ]
    },
    {
     "name": "stdout",
     "output_type": "stream",
     "text": [
      "Not setting metadata\n",
      "Not setting metadata\n",
      "96 matching events found\n",
      "No baseline correction applied\n",
      "0 projection items activated\n",
      "Ready.\n",
      "(70, 1000)\n",
      "Extracting parameters from E:/standard and novel/sub182/novel.set...\n"
     ]
    },
    {
     "name": "stderr",
     "output_type": "stream",
     "text": [
      "<ipython-input-31-f599fd684862>:25: RuntimeWarning: At least one epoch has multiple events. Only the latency of the first event will be retained.\n",
      "  novel_epochs = mne.io.read_epochs_eeglab(novel_data_path)\n"
     ]
    },
    {
     "name": "stdout",
     "output_type": "stream",
     "text": [
      "Not setting metadata\n",
      "Not setting metadata\n",
      "99 matching events found\n",
      "No baseline correction applied\n",
      "0 projection items activated\n",
      "Ready.\n",
      "(70, 1000)\n",
      "(70, 1000)\n",
      "Extracting parameters from E:/standard and novel/sub183/standard.set...\n"
     ]
    },
    {
     "name": "stderr",
     "output_type": "stream",
     "text": [
      "<ipython-input-31-f599fd684862>:9: RuntimeWarning: At least one epoch has multiple events. Only the latency of the first event will be retained.\n",
      "  standard_epochs = mne.io.read_epochs_eeglab(standard_data_path)\n"
     ]
    },
    {
     "name": "stdout",
     "output_type": "stream",
     "text": [
      "Not setting metadata\n",
      "Not setting metadata\n",
      "102 matching events found\n",
      "No baseline correction applied\n",
      "0 projection items activated\n",
      "Ready.\n",
      "(70, 1000)\n",
      "Extracting parameters from E:/standard and novel/sub183/novel.set...\n"
     ]
    },
    {
     "name": "stderr",
     "output_type": "stream",
     "text": [
      "<ipython-input-31-f599fd684862>:25: RuntimeWarning: At least one epoch has multiple events. Only the latency of the first event will be retained.\n",
      "  novel_epochs = mne.io.read_epochs_eeglab(novel_data_path)\n"
     ]
    },
    {
     "name": "stdout",
     "output_type": "stream",
     "text": [
      "Not setting metadata\n",
      "Not setting metadata\n",
      "102 matching events found\n",
      "No baseline correction applied\n",
      "0 projection items activated\n",
      "Ready.\n",
      "(70, 1000)\n",
      "(70, 1000)\n",
      "Extracting parameters from E:/standard and novel/sub184/standard.set...\n"
     ]
    },
    {
     "name": "stderr",
     "output_type": "stream",
     "text": [
      "<ipython-input-31-f599fd684862>:9: RuntimeWarning: At least one epoch has multiple events. Only the latency of the first event will be retained.\n",
      "  standard_epochs = mne.io.read_epochs_eeglab(standard_data_path)\n"
     ]
    },
    {
     "name": "stdout",
     "output_type": "stream",
     "text": [
      "Not setting metadata\n",
      "Not setting metadata\n",
      "102 matching events found\n",
      "No baseline correction applied\n",
      "0 projection items activated\n",
      "Ready.\n",
      "(70, 1000)\n",
      "Extracting parameters from E:/standard and novel/sub184/novel.set...\n"
     ]
    },
    {
     "name": "stderr",
     "output_type": "stream",
     "text": [
      "<ipython-input-31-f599fd684862>:25: RuntimeWarning: At least one epoch has multiple events. Only the latency of the first event will be retained.\n",
      "  novel_epochs = mne.io.read_epochs_eeglab(novel_data_path)\n"
     ]
    },
    {
     "name": "stdout",
     "output_type": "stream",
     "text": [
      "Not setting metadata\n",
      "Not setting metadata\n",
      "102 matching events found\n",
      "No baseline correction applied\n",
      "0 projection items activated\n",
      "Ready.\n",
      "(70, 1000)\n",
      "(70, 1000)\n",
      "Extracting parameters from E:/standard and novel/sub185/standard.set...\n"
     ]
    },
    {
     "name": "stderr",
     "output_type": "stream",
     "text": [
      "<ipython-input-31-f599fd684862>:9: RuntimeWarning: At least one epoch has multiple events. Only the latency of the first event will be retained.\n",
      "  standard_epochs = mne.io.read_epochs_eeglab(standard_data_path)\n"
     ]
    },
    {
     "name": "stdout",
     "output_type": "stream",
     "text": [
      "Not setting metadata\n",
      "Not setting metadata\n",
      "100 matching events found\n",
      "No baseline correction applied\n",
      "0 projection items activated\n",
      "Ready.\n",
      "(70, 1000)\n",
      "Extracting parameters from E:/standard and novel/sub185/novel.set...\n"
     ]
    },
    {
     "name": "stderr",
     "output_type": "stream",
     "text": [
      "<ipython-input-31-f599fd684862>:25: RuntimeWarning: At least one epoch has multiple events. Only the latency of the first event will be retained.\n",
      "  novel_epochs = mne.io.read_epochs_eeglab(novel_data_path)\n"
     ]
    },
    {
     "name": "stdout",
     "output_type": "stream",
     "text": [
      "Not setting metadata\n",
      "Not setting metadata\n",
      "100 matching events found\n",
      "No baseline correction applied\n",
      "0 projection items activated\n",
      "Ready.\n",
      "(70, 1000)\n",
      "(70, 1000)\n",
      "Extracting parameters from E:/standard and novel/sub186/standard.set...\n"
     ]
    },
    {
     "name": "stderr",
     "output_type": "stream",
     "text": [
      "<ipython-input-31-f599fd684862>:9: RuntimeWarning: At least one epoch has multiple events. Only the latency of the first event will be retained.\n",
      "  standard_epochs = mne.io.read_epochs_eeglab(standard_data_path)\n"
     ]
    },
    {
     "name": "stdout",
     "output_type": "stream",
     "text": [
      "Not setting metadata\n",
      "Not setting metadata\n",
      "101 matching events found\n",
      "No baseline correction applied\n",
      "0 projection items activated\n",
      "Ready.\n",
      "(70, 1000)\n",
      "Extracting parameters from E:/standard and novel/sub186/novel.set...\n"
     ]
    },
    {
     "name": "stderr",
     "output_type": "stream",
     "text": [
      "<ipython-input-31-f599fd684862>:25: RuntimeWarning: At least one epoch has multiple events. Only the latency of the first event will be retained.\n",
      "  novel_epochs = mne.io.read_epochs_eeglab(novel_data_path)\n"
     ]
    },
    {
     "name": "stdout",
     "output_type": "stream",
     "text": [
      "Not setting metadata\n",
      "Not setting metadata\n",
      "99 matching events found\n",
      "No baseline correction applied\n",
      "0 projection items activated\n",
      "Ready.\n",
      "(70, 1000)\n",
      "(70, 1000)\n",
      "Extracting parameters from E:/standard and novel/sub187/standard.set...\n"
     ]
    },
    {
     "name": "stderr",
     "output_type": "stream",
     "text": [
      "<ipython-input-31-f599fd684862>:9: RuntimeWarning: At least one epoch has multiple events. Only the latency of the first event will be retained.\n",
      "  standard_epochs = mne.io.read_epochs_eeglab(standard_data_path)\n"
     ]
    },
    {
     "name": "stdout",
     "output_type": "stream",
     "text": [
      "Not setting metadata\n",
      "Not setting metadata\n",
      "101 matching events found\n",
      "No baseline correction applied\n",
      "0 projection items activated\n",
      "Ready.\n",
      "(70, 1000)\n",
      "Extracting parameters from E:/standard and novel/sub187/novel.set...\n"
     ]
    },
    {
     "name": "stderr",
     "output_type": "stream",
     "text": [
      "<ipython-input-31-f599fd684862>:25: RuntimeWarning: At least one epoch has multiple events. Only the latency of the first event will be retained.\n",
      "  novel_epochs = mne.io.read_epochs_eeglab(novel_data_path)\n"
     ]
    },
    {
     "name": "stdout",
     "output_type": "stream",
     "text": [
      "Not setting metadata\n",
      "Not setting metadata\n",
      "101 matching events found\n",
      "No baseline correction applied\n",
      "0 projection items activated\n",
      "Ready.\n",
      "(70, 1000)\n",
      "(70, 1000)\n",
      "Extracting parameters from E:/standard and novel/sub188/standard.set...\n"
     ]
    },
    {
     "name": "stderr",
     "output_type": "stream",
     "text": [
      "<ipython-input-31-f599fd684862>:9: RuntimeWarning: At least one epoch has multiple events. Only the latency of the first event will be retained.\n",
      "  standard_epochs = mne.io.read_epochs_eeglab(standard_data_path)\n"
     ]
    },
    {
     "name": "stdout",
     "output_type": "stream",
     "text": [
      "Not setting metadata\n",
      "Not setting metadata\n",
      "99 matching events found\n",
      "No baseline correction applied\n",
      "0 projection items activated\n",
      "Ready.\n",
      "(70, 1000)\n",
      "Extracting parameters from E:/standard and novel/sub188/novel.set...\n"
     ]
    },
    {
     "name": "stderr",
     "output_type": "stream",
     "text": [
      "<ipython-input-31-f599fd684862>:25: RuntimeWarning: At least one epoch has multiple events. Only the latency of the first event will be retained.\n",
      "  novel_epochs = mne.io.read_epochs_eeglab(novel_data_path)\n"
     ]
    },
    {
     "name": "stdout",
     "output_type": "stream",
     "text": [
      "Not setting metadata\n",
      "Not setting metadata\n",
      "102 matching events found\n",
      "No baseline correction applied\n",
      "0 projection items activated\n",
      "Ready.\n",
      "(70, 1000)\n",
      "(70, 1000)\n",
      "Extracting parameters from E:/standard and novel/sub189/standard.set...\n"
     ]
    },
    {
     "name": "stderr",
     "output_type": "stream",
     "text": [
      "<ipython-input-31-f599fd684862>:9: RuntimeWarning: At least one epoch has multiple events. Only the latency of the first event will be retained.\n",
      "  standard_epochs = mne.io.read_epochs_eeglab(standard_data_path)\n"
     ]
    },
    {
     "name": "stdout",
     "output_type": "stream",
     "text": [
      "Not setting metadata\n",
      "Not setting metadata\n",
      "101 matching events found\n",
      "No baseline correction applied\n",
      "0 projection items activated\n",
      "Ready.\n",
      "(70, 1000)\n",
      "Extracting parameters from E:/standard and novel/sub189/novel.set...\n"
     ]
    },
    {
     "name": "stderr",
     "output_type": "stream",
     "text": [
      "<ipython-input-31-f599fd684862>:25: RuntimeWarning: At least one epoch has multiple events. Only the latency of the first event will be retained.\n",
      "  novel_epochs = mne.io.read_epochs_eeglab(novel_data_path)\n"
     ]
    },
    {
     "name": "stdout",
     "output_type": "stream",
     "text": [
      "Not setting metadata\n",
      "Not setting metadata\n",
      "102 matching events found\n",
      "No baseline correction applied\n",
      "0 projection items activated\n",
      "Ready.\n",
      "(70, 1000)\n",
      "(70, 1000)\n",
      "Extracting parameters from E:/standard and novel/sub190/standard.set...\n"
     ]
    },
    {
     "name": "stderr",
     "output_type": "stream",
     "text": [
      "<ipython-input-31-f599fd684862>:9: RuntimeWarning: At least one epoch has multiple events. Only the latency of the first event will be retained.\n",
      "  standard_epochs = mne.io.read_epochs_eeglab(standard_data_path)\n"
     ]
    },
    {
     "name": "stdout",
     "output_type": "stream",
     "text": [
      "Not setting metadata\n",
      "Not setting metadata\n",
      "100 matching events found\n",
      "No baseline correction applied\n",
      "0 projection items activated\n",
      "Ready.\n",
      "(70, 1000)\n",
      "Extracting parameters from E:/standard and novel/sub190/novel.set...\n"
     ]
    },
    {
     "name": "stderr",
     "output_type": "stream",
     "text": [
      "<ipython-input-31-f599fd684862>:25: RuntimeWarning: At least one epoch has multiple events. Only the latency of the first event will be retained.\n",
      "  novel_epochs = mne.io.read_epochs_eeglab(novel_data_path)\n"
     ]
    },
    {
     "name": "stdout",
     "output_type": "stream",
     "text": [
      "Not setting metadata\n",
      "Not setting metadata\n",
      "100 matching events found\n",
      "No baseline correction applied\n",
      "0 projection items activated\n",
      "Ready.\n",
      "(70, 1000)\n",
      "(70, 1000)\n",
      "Extracting parameters from E:/standard and novel/sub191/standard.set...\n"
     ]
    },
    {
     "name": "stderr",
     "output_type": "stream",
     "text": [
      "<ipython-input-31-f599fd684862>:9: RuntimeWarning: At least one epoch has multiple events. Only the latency of the first event will be retained.\n",
      "  standard_epochs = mne.io.read_epochs_eeglab(standard_data_path)\n"
     ]
    },
    {
     "name": "stdout",
     "output_type": "stream",
     "text": [
      "Not setting metadata\n",
      "Not setting metadata\n",
      "95 matching events found\n",
      "No baseline correction applied\n",
      "0 projection items activated\n",
      "Ready.\n",
      "(70, 1000)\n",
      "Extracting parameters from E:/standard and novel/sub191/novel.set...\n"
     ]
    },
    {
     "name": "stderr",
     "output_type": "stream",
     "text": [
      "<ipython-input-31-f599fd684862>:25: RuntimeWarning: At least one epoch has multiple events. Only the latency of the first event will be retained.\n",
      "  novel_epochs = mne.io.read_epochs_eeglab(novel_data_path)\n"
     ]
    },
    {
     "name": "stdout",
     "output_type": "stream",
     "text": [
      "Not setting metadata\n",
      "Not setting metadata\n",
      "97 matching events found\n",
      "No baseline correction applied\n",
      "0 projection items activated\n",
      "Ready.\n",
      "(70, 1000)\n",
      "(70, 1000)\n",
      "(113, 15, 600)\n",
      "(113, 15, 600)\n"
     ]
    }
   ],
   "source": [
    "child_standard_erp = []\n",
    "child_novel_erp = []\n",
    "\n",
    "for i in range(113):\n",
    "    \n",
    "    ###读取standard\n",
    "    standard_data_path = \"E:/standard and novel/\" + \"sub\"+str(i+79)+\"/standard.set\"\n",
    "    #读取set文件中的epoch信息\n",
    "    standard_epochs = mne.io.read_epochs_eeglab(standard_data_path)\n",
    "    #对epoch进行叠加平均\n",
    "    standard_evoked = standard_epochs.average()\n",
    "    #读取叠加平均后指定电极*时间的矩阵（F2,FCZ,FZ,FC1,F1,F3,FC3,C1,C3,C4,C2,FC4,FC2,F4,CZ)\n",
    "    ################################   [3,4,6,7,9,12,16,17,21,57,58,60,61,68,69]\n",
    "    #将数据转成和成年人一样的电极顺序\n",
    "    #standard_erp = evoked.data[[7,8,9,10,11,16,17,18,19,20,25,26,27,28,29]][400:]\n",
    "    #取电极FZ 截取-100-500ms[F3,F1,FZ,F2,F4,FC3,FC1.FCZ,FC2,FC4,C3,C1,CZ,C2,C4]\n",
    "    standard_erp = standard_evoked.data[[12,9,6,3,68,16,7,4,61,60,21,17,69,58,57]]\n",
    "    standard_erp = standard_erp[:,400:]\n",
    "    print((standard_evoked.data).shape)\n",
    "    child_standard_erp.append(standard_erp)\n",
    "    \n",
    "    \n",
    "    ###读取novel\n",
    "    novel_data_path = \"E:/standard and novel/\" + \"sub\"+str(i+79)+\"/novel.set\"\n",
    "    #读取set文件中的epoch信息\n",
    "    novel_epochs = mne.io.read_epochs_eeglab(novel_data_path)\n",
    "    #对epoch进行叠加平均\n",
    "    novel_evoked = novel_epochs.average()\n",
    "    print((novel_evoked.data).shape)\n",
    "    #读取叠加平均后指定电极*时间的矩阵（F1234z,fc1234Z,C1234Z)\n",
    "    novel_erp = novel_evoked.data[[12,9,6,3,68,16,7,4,61,60,21,17,69,58,57]]\n",
    "    novel_erp =  novel_erp[:,400:]\n",
    "    print((novel_evoked.data).shape)\n",
    "    child_novel_erp.append(novel_erp)\n",
    "       \n",
    "child_standard_erp = np.array(child_standard_erp)\n",
    "print(child_standard_erp.shape)\n",
    "child_novel_erp = np.array(child_novel_erp)\n",
    "print(child_novel_erp.shape)"
   ]
  },
  {
   "cell_type": "markdown",
   "metadata": {},
   "source": [
    "## 2.2 算出差异波，计算MMN和P300"
   ]
  },
  {
   "cell_type": "markdown",
   "metadata": {},
   "source": [
    "### 2.2.1 MMN"
   ]
  },
  {
   "cell_type": "code",
   "execution_count": 32,
   "metadata": {},
   "outputs": [
    {
     "name": "stdout",
     "output_type": "stream",
     "text": [
      "1\n",
      "(15, 600)\n",
      "[-2.96914665 -3.05235848 -3.73161566 -2.15212651 -1.46392107 -1.7221247\n",
      " -2.75127236 -3.08216387 -1.5473509   0.6222449  -1.3695942  -1.51903275\n",
      " -0.90231592  0.30236174  0.74583419]\n",
      "35\n",
      "(15, 600)\n",
      "[-2.55268303 -1.60975994 -1.32468091 -0.37591417 -0.71106243 -4.34868513\n",
      " -3.37726693 -2.85393028 -1.90408594 -1.77643497 -4.75485882 -3.96438942\n",
      " -2.40529794 -1.60315228 -0.90071516]\n",
      "78\n",
      "(15, 600)\n",
      "[-3.05267286 -3.10369353 -2.57078258 -1.74921285 -1.20537222 -1.9146027\n",
      " -3.36764432 -3.19411069 -1.7590211   0.12910257 -0.25491538 -1.20021323\n",
      " -1.50383676 -0.44996072  1.4973451 ]\n",
      "81\n",
      "(15, 600)\n",
      "[ 0.66119554 -0.12489919  0.26459001  0.89962614  0.89401173 -1.07503192\n",
      " -0.25152297 -0.56481581 -0.30155048 -0.73784508 -2.23621456 -1.21936406\n",
      " -1.13381144 -1.80725816 -2.79816298]\n",
      "0\n",
      "(15, 600)\n",
      "[-2.23489473 -2.38202787 -1.5755909  -0.70972593 -0.42371364 -0.64449949\n",
      " -0.39396896 -0.31376812 -0.0740118   0.32872728 -0.01658234  0.24447989\n",
      "  0.30408908  0.7548414   0.53546359]\n",
      "65\n",
      "(15, 600)\n",
      "[-3.02749257 -3.74635696 -2.99397643 -1.24648445 -1.17620623 -3.00558581\n",
      " -4.66618189 -4.65358282 -2.84228164 -1.78726442 -2.89531318 -5.4104036\n",
      " -5.01511424 -5.40365555 -3.58857454]\n",
      "38\n",
      "(15, 600)\n",
      "[-5.27141297 -4.81886756 -3.4425257  -2.11265736 -2.02340646 -4.20442924\n",
      " -3.61118544 -2.68996561 -2.13243492 -2.03939051 -3.42658453 -2.8870218\n",
      " -2.5313736  -1.48745477 -0.92459895]\n",
      "31\n",
      "(15, 600)\n",
      "[-0.28429179 -1.73799225 -1.14626822 -1.01873006 -1.5962621   0.57747665\n",
      " -0.57894929 -1.64486809 -1.04923963 -0.71768349  1.48240705  0.66721586\n",
      "  0.41615731  0.23861892  1.0320789 ]\n",
      "26\n",
      "(15, 600)\n",
      "[ 0.4956642  -0.74282324 -0.28139344 -0.54238543 -0.41276492  0.46498648\n",
      "  0.46855641 -0.48370571  0.11733353  0.19612045 -0.01181074  0.64030916\n",
      "  0.52768137  0.80095581  1.05990247]\n",
      "8\n",
      "(15, 600)\n",
      "[-3.09965565 -3.82803442 -4.55641323 -3.41544359 -2.05222106 -1.24139626\n",
      " -2.8192282  -4.18293934 -1.7821961  -2.28552591  0.96001964  0.37322039\n",
      " -0.87051146 -1.23760354 -0.52798684]\n",
      "9\n",
      "(15, 600)\n",
      "[-3.64341319 -4.80898008 -3.5792004  -2.80927161 -1.41608958 -2.24146718\n",
      " -3.77126549 -3.17884614 -2.46682371 -1.41753664 -0.6236279  -2.84431501\n",
      " -2.76306017 -1.48541895 -0.11895584]\n",
      "0\n",
      "(15, 600)\n",
      "[-2.56746128 -1.54763657 -0.22615514 -0.1415323   0.54347227 -2.32216075\n",
      " -0.05392036  0.60702601  1.45812521  2.50604498 -1.68627926 -1.322416\n",
      "  0.32451116  2.2716238   3.53148577]\n",
      "4\n",
      "(15, 600)\n",
      "[-0.05621232  0.0207722   1.0107261   0.79891168  0.56926315 -0.33240724\n",
      " -0.56813382  0.25800119  0.18445913  0.22513127 -0.40275137 -0.24112969\n",
      "  0.11035694  0.48933876  0.26223304]\n",
      "0\n",
      "(15, 600)\n",
      "[-2.8479858  -1.93885036 -0.79561043  0.29598751  2.07576088 -0.26542955\n",
      " -2.34261945  0.62396461  1.01720889  0.65900731 -2.213587   -2.27985652\n",
      " -3.26448479 -0.84382878 -0.00357819]\n",
      "63\n",
      "(15, 600)\n",
      "[-0.73516049  0.88256731  2.45744865  3.37126016  1.83972385 -4.0833671\n",
      " -3.4178692  -1.25885453 -0.96070064 -0.37208779 -3.93671873 -4.14606207\n",
      " -3.14428586 -0.82981755  0.32864295]\n",
      "0\n",
      "(15, 600)\n",
      "[-3.8365822  -4.31400195 -4.96980584 -3.10751905 -1.43239613 -0.30122135\n",
      " -1.84553695 -1.71467729 -1.324842   -0.76214914 -0.17791234  0.44545634\n",
      "  0.45770748 -0.77630004 -0.41857931]\n",
      "102\n",
      "(15, 600)\n",
      "[-0.90528684 -0.32807519 -1.46488557 -2.86288458 -1.82258756  0.08128464\n",
      " -0.87574721 -0.82165286 -1.52682685 -4.7530078  -0.48037476  3.98673895\n",
      "  0.05577254 -4.83740978 -3.47583102]\n",
      "0\n",
      "(15, 600)\n",
      "[-3.07306948 -2.04754034 -0.09935661 -0.17031736  0.24145438 -3.57331465\n",
      " -2.93548764 -1.45891671 -1.0339201   0.28030406 -3.98071205 -3.75986756\n",
      " -2.1047225  -0.93764143 -1.87996732]\n",
      "12\n",
      "(15, 600)\n",
      "[ 0.55816735 -0.1785936  -0.66844644 -0.29377303  0.08018386  0.16613574\n",
      " -1.42850977 -2.67221121 -2.5437896  -1.166103    0.36812994 -0.1488302\n",
      " -1.53643252 -1.39442733 -1.37552166]\n",
      "2\n",
      "(15, 600)\n",
      "[-1.55524306 -1.86430424 -2.12019077 -1.59809967 -1.39743279 -2.3920047\n",
      " -2.58590651 -3.55954032 -1.69391843 -0.3742336  -2.25768408 -2.33246301\n",
      " -1.66445716 -0.71382685 -1.09486426]\n",
      "30\n",
      "(15, 600)\n",
      "[-0.04874311  0.43905171  1.11058252 -0.56246914 -1.8654734  -0.56735442\n",
      " -0.25629579 -1.70259691 -2.24897967 -2.39869524 -0.67944618 -0.57113913\n",
      " -1.41261629 -2.25270363 -2.17993079]\n",
      "0\n",
      "(15, 600)\n",
      "[-1.69300563 -1.85766601 -3.49128464 -3.23125699 -2.82702272 -0.84008774\n",
      " -1.85117267 -2.12745405 -0.55918649  0.3974209  -0.38467043 -1.49196643\n",
      "  0.32819567  0.03534675  0.60214353]\n",
      "102\n",
      "(15, 600)\n",
      "[-6.47014456 -6.42207413 -6.83246093 -1.65289566 -0.45479805 -4.33916282\n",
      " -5.56514979 -3.00473365 -1.39548571  0.86117556 -1.28779911 -2.27305225\n",
      " -1.47600118 -0.37543561  2.0289946 ]\n",
      "0\n",
      "(15, 600)\n",
      "[ 1.40905799  1.02842736  0.71654454 -0.43758519 -2.99523626  1.8791711\n",
      "  2.11916751  0.9405769   0.00619589 -2.05871526  1.00168758  1.48440279\n",
      "  1.10640662 -0.59499081 -3.89466289]\n",
      "13\n",
      "(15, 600)\n",
      "[-0.33699972 -0.9904063  -1.43029879 -1.6976394  -1.09455534 -1.26363684\n",
      " -1.54540384 -1.62953911 -2.12762323 -0.80748742 -1.56770384 -1.92507593\n",
      " -1.72875322 -0.82338519  0.03988107]\n",
      "57\n",
      "(15, 600)\n",
      "[ 0.34043702  2.35040327  1.87198334 -0.06777801 -0.82472372  1.52348528\n",
      " -2.08857155 -2.36370155 -0.56269368 -0.76807817  1.63359421 -2.32500451\n",
      " -2.53585976 -1.5684028  -0.39893509]\n",
      "85\n",
      "(15, 600)\n",
      "[-8.18268066 -5.62407327 -2.87095145 -7.37520013 -4.54256126 -8.97780108\n",
      " -5.78558262 -4.33074488 -6.70082456 -5.69981815 -9.41002242 -6.07229152\n",
      " -3.56946488 -2.48548019 -4.58036888]\n",
      "59\n",
      "(15, 600)\n",
      "[ 0.468477   -0.16703385 -0.98507067  0.23620145  0.7119702   1.53942416\n",
      "  2.01450898 -0.35622641 -0.0854763  -0.75891294  2.97322457  1.52769659\n",
      "  0.39487391  0.27664772  0.58319139]\n",
      "16\n",
      "(15, 600)\n",
      "[-0.72586984 -0.53655945 -0.83488632 -1.36201455 -1.28196359  0.26412621\n",
      " -0.73924518 -1.28424504 -1.07560725 -0.50026865 -0.27350899 -0.56930887\n",
      " -0.63745919 -0.40971356  0.24477515]\n",
      "12\n",
      "(15, 600)\n",
      "[-0.91772938 -1.2030877  -2.27921392 -1.61466676 -0.74910743 -0.785049\n",
      " -1.52323262 -2.7189758  -2.58759051 -0.82607449 -0.43955793 -1.21523323\n",
      " -0.98495666 -1.0017708  -1.43616848]\n",
      "80\n",
      "(15, 600)\n",
      "[-0.46372773 -0.14946779 -0.1925373  -0.62605641 -0.37632676 -0.57979485\n",
      " -0.56036953 -0.19792443 -0.40500081 -0.16579994 -0.92109896 -1.19603393\n",
      " -0.86600237 -0.25145814 -0.37340762]\n",
      "16\n",
      "(15, 600)\n",
      "[-0.72532843 -0.91090128  0.27046448 -1.1093256  -0.51140408  0.58919749\n",
      " -0.30150783 -0.82992621 -1.2797103  -2.26245103 -0.31671683  0.13977474\n",
      " -0.612143   -0.98413326 -1.18370979]\n",
      "93\n",
      "(15, 600)\n",
      "[-1.88720235 -2.14812405 -1.35361201 -0.54799476 -0.83516408 -2.58411142\n",
      " -2.60897448 -2.27899918 -2.19600402 -2.11118152 -3.27830412 -2.70014734\n",
      " -2.59464206 -2.32655459 -2.61510996]\n",
      "66\n",
      "(15, 600)\n",
      "[-0.80657254 -0.58601489 -1.13071808 -0.17399899  0.07270833 -2.02165626\n",
      " -2.81758375 -2.77190721 -2.51747232 -1.87123233 -0.4863731  -2.50975674\n",
      " -4.16798479 -3.51583844 -2.68195152]\n",
      "47\n",
      "(15, 600)\n",
      "[-1.70343887 -3.64981097 -4.1120075  -3.18710603 -2.47086077 -1.53903094\n",
      " -2.72801378 -2.97950514 -3.02031924 -7.88805598 -1.99145752 -2.45136369\n",
      " -2.19975909 -2.52248128 -2.13745231]\n",
      "43\n",
      "(15, 600)\n",
      "[ 0.16668362 -0.34761401 -0.45678916 -1.3395261  -0.40824827  1.72505228\n",
      "  1.26584636  0.08146625  0.30456661  0.18814341  1.38976753  1.38184112\n",
      "  0.47626982  0.23294325  0.16239626]\n",
      "48\n",
      "(15, 600)\n",
      "[ 2.63267192 -0.55520461 -1.80720985 -1.91855978 -2.19380282  1.52059063\n",
      " -0.11652932 -2.38276268 -1.87464069 -1.25155299  0.95002584  3.07384704\n",
      "  0.29326032 -0.56506622 -0.82942489]\n",
      "126\n",
      "(15, 600)\n",
      "[ 1.78796155  2.1478942   1.33663202  0.8761769   0.35086113  1.30733419\n",
      "  0.10215912 -0.91544403 -1.66839865 -1.21692224 -0.12816666 -0.45331071\n",
      " -1.1432688  -1.82441986 -1.54541211]\n",
      "103\n",
      "(15, 600)\n",
      "[ 1.66910214  0.72035449 -0.96090771 -1.09437943 -1.28513898  1.21383359\n",
      " -0.15557791 -2.21589053 -1.76787718 -2.18086414  1.8669504   1.19181019\n",
      " -1.31791051 -2.22043462 -2.94100179]\n",
      "51\n",
      "(15, 600)\n",
      "[ 1.00970983  0.82229273 -2.39342638 -2.68640391 -2.6531117   1.00212111\n",
      "  0.33809685 -0.91027096 -2.60108582 -2.9178767   0.72066534  0.29631734\n",
      "  0.04640085 -3.09167774 -1.38008049]\n",
      "51\n",
      "(15, 600)\n",
      "[-0.39864424 -0.90640376 -2.74869064 -0.98133004  0.29004126 -0.18952682\n",
      " -0.11741856 -2.60835054  0.85938042  0.72577986  0.40483597  0.74217044\n",
      "  1.7489468   0.81087876  0.71048725]\n",
      "4\n",
      "(15, 600)\n",
      "[-1.66620729 -3.43164773 -5.12957398 -3.18351805 -1.42714536 -0.64338707\n",
      " -2.40218324 -3.52655667 -2.75323943 -0.81129635 -0.04527914 -1.03107507\n",
      " -1.23981835 -1.04738229 -0.05075351]\n",
      "60\n",
      "(15, 600)\n",
      "[-2.74633589 -3.60533698 -2.7589945  -3.24413114 -2.82117191 -1.26051561\n",
      " -2.35445803 -2.79866386 -3.24374296 -3.42202234 -0.44787205 -1.0923944\n",
      " -1.65844179 -3.28264967 -2.77105041]\n",
      "67\n",
      "(15, 600)\n",
      "[-3.67263426 -3.56290925 -4.93023432 -3.82719077 -2.58534321 -4.29982747\n",
      " -5.57482941 -5.98385659 -3.34879171 -3.28067648 -3.98430566 -4.66174202\n",
      " -4.36294549 -4.81493354 -2.64494693]\n",
      "63\n",
      "(15, 600)\n",
      "[-2.80244022 -2.91431337 -1.87385224 -0.84075708 -0.21003693 -3.13916979\n",
      " -2.75852668 -2.01473098 -1.64321909  0.20016188 -2.65522189 -2.52192942\n",
      " -1.19164413  0.26497262  1.24551135]\n",
      "107\n",
      "(15, 600)\n",
      "[-0.80402769  0.25792586 -0.51705196 -0.97972361 -2.02809318 -0.16621686\n",
      " -2.3686361  -2.51329055 -1.66197392 -2.34254682 -0.92105901 -2.14319696\n",
      " -3.65989992 -4.16604698 -2.00344036]\n",
      "50\n",
      "(15, 600)\n",
      "[-0.93318433 -1.00347096 -1.75773695 -2.11105619 -1.39944044 -0.91888259\n",
      " -1.61053879 -1.50279685 -1.39578612 -1.79737875 -0.96256452 -1.34440607\n",
      " -1.55556292 -1.55164056 -0.76241572]\n",
      "84\n",
      "(15, 600)\n",
      "[-3.39872387 -3.86092184 -3.9635416  -5.09365733 -5.48265127 -2.13329503\n",
      " -1.66368294 -1.71742285 -2.15882699 -2.40044808 -2.05978261 -1.19820674\n",
      " -1.02078051 -2.36571088 -2.2073899 ]\n",
      "78\n",
      "(15, 600)\n",
      "[-2.1880872  -3.94227776 -2.58352298 -1.98552423 -2.33498375 -0.17394171\n",
      " -0.96216968 -1.50717598 -1.58324141 -2.4195358   0.56107409  0.2653837\n",
      " -0.11878448 -1.93352899 -3.11626032]\n",
      "47\n",
      "(15, 600)\n",
      "[-1.62777785 -3.00667833 -2.31987753 -1.73862385 -1.15402979 -1.58635992\n",
      " -1.74575535 -1.10514774 -1.30225738 -0.9106897  -0.88022779 -1.07030767\n",
      " -0.25524022 -0.50551772 -0.4265342 ]\n",
      "78\n",
      "(15, 600)\n",
      "[-0.55502214  0.83505913  0.93118706  0.76117334  0.45547239 -0.3964228\n",
      " -2.30908172 -1.15726831 -1.3251706  -1.64333148 -3.84363772 -4.68743915\n",
      " -3.58176928 -1.40695137 -2.295196  ]\n",
      "96\n",
      "(15, 600)\n",
      "[-0.37503093 -2.13480943 -5.89067467 -3.49218444 -2.0430657  -3.35540731\n",
      " -5.17820657 -6.14876616 -3.81320446 -0.9590017  -2.97705547 -4.61487749\n",
      " -4.34071034 -1.74428693  0.66839006]\n",
      "8\n",
      "(15, 600)\n",
      "[-1.7061292  -1.71228086 -1.57671993 -1.59133762 -1.39246977 -1.43106633\n",
      " -2.0202577  -2.31984348 -1.79803107 -0.68165392 -0.93265035 -1.10937072\n",
      " -1.80639884 -2.10804051 -1.40514882]\n",
      "108\n",
      "(15, 600)\n",
      "[-2.50000057 -1.75055751 -2.92799113  1.48284645  0.99614299 -2.59642111\n",
      " -2.34928204 -0.99239422  0.7980159   0.67966547 -1.36319701 -2.69672809\n",
      " -0.19968074  0.54099908  0.62200695]\n",
      "93\n",
      "(15, 600)\n",
      "[-2.14250603 -0.86175933 -1.3280273  -3.21238139 -1.95674073 -1.62891032\n",
      " -0.50784369 -1.27046245 -1.6083274  -2.84352133 -1.88546764 -1.82100089\n",
      " -1.30979704 -1.86559139 -3.53671522]\n",
      "55\n",
      "(15, 600)\n",
      "[-2.16783338 -3.18597859 -2.20951874 -3.43850427 -3.38192493 -2.11260916\n",
      " -1.9262741  -2.71542088 -2.90937235 -2.9286468  -1.47024531 -1.4657096\n",
      " -0.7184608  -3.58604761 -0.68368405]\n",
      "44\n",
      "(15, 600)\n",
      "[ 0.33941127  0.03126569  0.10010948 -1.33865693  0.41545939  0.1857602\n",
      " -0.13153686 -0.92740815 -1.34379221 -1.6829022  -0.47932506  0.62248128\n",
      " -1.0968867  -1.47294686 -2.16501254]\n",
      "136\n",
      "(15, 600)\n",
      "[ 5.07797103  6.08533283  1.21113323 -0.61335771 -0.98234195  3.6706949\n",
      "  3.02039736 -1.39712679 -0.86985706 -1.38169334  3.27962549  2.91069068\n",
      " -0.04265047 -1.2310817  -2.70249125]\n",
      "56\n",
      "(15, 600)\n",
      "[-3.62236248 -3.67900567 -3.95700747 -2.06845828 -0.80164286 -2.82633886\n",
      " -2.8159996  -3.7196899   0.26651087  0.66670728  0.10837869 -2.63276966\n",
      " -1.76763549  0.44071495  1.99198566]\n",
      "1\n",
      "(15, 600)\n",
      "[-0.59732759 -1.59374077 -0.97071861 -0.89097157 -1.31279521  0.83320545\n",
      " -0.11707437 -1.11013192 -1.31742178  1.1142627   1.12084277  0.7684605\n",
      "  0.36037713 -0.24811711 -0.08761991]\n",
      "34\n",
      "(15, 600)\n",
      "[ 1.37468627 -0.40041591  1.11027119 -0.73537759 -0.66204656  0.77747668\n",
      "  0.4356652  -0.08926471 -0.31355165 -1.53861579  2.01160937  0.41898515\n",
      " -0.5375426  -1.94928565 -1.64288612]\n",
      "107\n",
      "(15, 600)\n",
      "[-0.58814923 -0.28233231  0.44714235  1.12820994 -0.6717888  -0.06525389\n",
      " -0.2756216  -0.34099707  1.07840001 -0.0787197   0.88284284  0.74925323\n",
      "  0.31450367  0.75250902  0.54229383]\n",
      "0\n",
      "(15, 600)\n",
      "[-5.04274194 -2.34380875  0.18814336 -1.83552417 -2.59517735 -2.51177835\n",
      " -2.74704268  0.42237346 -1.649579   -1.91722453 -3.1290075  -1.79488281\n",
      " -1.09949591 -0.83668089 -2.24851146]\n",
      "84\n",
      "(15, 600)\n",
      "[-1.39680193  0.07191891 -2.45243151 -2.69336146 -2.32550332 -1.76393305\n",
      " -1.95948989 -2.13623681 -2.84276063 -3.56777397 -1.66788664 -0.16165354\n",
      " -1.64361527 -3.7414063  -3.34383632]\n",
      "52\n",
      "(15, 600)\n",
      "[-0.83548621 -1.93794069 -3.18388542 -5.21047922 -5.0627137  -2.02789702\n",
      " -3.25654548 -4.93828638 -5.44060869 -4.20757413 -1.30972643 -2.525823\n",
      " -3.63859218 -4.46159508 -3.54853207]\n",
      "90\n",
      "(15, 600)\n",
      "[-1.52714977 -1.54731433 -1.18073025  0.70270246  1.01279901 -2.07047258\n",
      " -1.56223379 -0.47513502 -0.19305804 -0.33510158 -2.21157208 -1.53903138\n",
      " -0.98054468 -0.8243663  -1.35211749]\n",
      "100\n",
      "(15, 600)\n",
      "[-3.45531336 -2.37326852  0.55220514 -2.30935939 -2.1672385  -3.12277531\n",
      " -2.41907607 -3.21262668 -2.09678777 -3.56881437 -3.91772674 -3.01796991\n",
      " -2.50244788 -1.30968473 -1.27077383]\n",
      "0\n",
      "(15, 600)\n",
      "[-1.23723285 -1.04183084 -0.41965329  0.20320776  1.67099846 -1.2587725\n",
      " -1.40283286 -1.35387927  0.08577855  1.49131421 -1.47771891 -1.51039374\n",
      " -0.95777214  0.73445304  1.95800812]\n",
      "76\n",
      "(15, 600)\n",
      "[-0.73843866  0.01240152 -3.33267819 -2.45012214 -1.73827124 -1.44078801\n",
      " -0.98865005  0.29200998  0.41137911 -1.2537785  -0.80412027 -0.39578471\n",
      "  1.30152996  2.49181461  2.12119953]\n",
      "17\n",
      "(15, 600)\n",
      "[-0.42936672 -0.33287241 -0.75384403 -0.50764357 -0.03845778  0.2067626\n",
      " -0.24425257 -0.03168468 -0.44634057 -0.93604889  0.03699754 -0.70156912\n",
      " -1.21769314 -1.04605922  1.04770382]\n",
      "118\n",
      "(15, 600)\n",
      "[-0.82277965 -1.17054103 -1.3292082  -1.06559977 -2.94249968 -2.08718454\n",
      " -3.42180956 -3.19751156 -2.96201017 -3.75924907 -1.76420993 -4.02995986\n",
      " -3.48321122 -3.78445786 -4.72120259]\n",
      "122\n",
      "(15, 600)\n",
      "[-3.31514241 -1.13321095 -5.15751484 -3.71803313 -2.05497122  0.36866975\n",
      " -2.23756398 -4.70139976 -1.75044739 -2.33626515 -4.80004562 -2.68031571\n",
      " -3.05110484 -2.57539764 -1.75149371]\n",
      "44\n",
      "(15, 600)\n",
      "[-0.66345348 -0.97163296 -1.08397201 -0.64443488 -0.86322953 -0.87451918\n",
      " -1.70486175 -1.83549633 -1.23585682 -1.04334792 -1.49822478 -1.59289734\n",
      " -1.80185979 -1.27303448 -1.60289698]\n",
      "45\n",
      "(15, 600)\n",
      "[-0.49131378 -0.63338697 -0.48366318 -0.33034679 -0.62431509 -0.79833473\n",
      " -1.47568759 -1.68637466 -1.05653724 -0.94304372 -1.50547677 -1.51476457\n",
      " -1.70222694 -1.16269098 -1.58933101]\n",
      "76\n",
      "(15, 600)\n",
      "[-3.91275589 -3.79015451 -1.54617532 -0.90960671  0.23964644 -2.93858049\n",
      " -1.54532806 -1.96235908 -1.23445658 -0.40213362 -1.73084194 -0.76913993\n",
      " -1.3446053  -1.65678737 -0.21674955]\n",
      "6\n",
      "(15, 600)\n",
      "[-0.84257545 -0.61614495 -0.32691991 -0.35074009  0.0188523  -0.56594122\n",
      " -0.96897006 -0.95299064 -0.78754343 -0.37942383 -1.51261285  0.11357761\n",
      "  0.06588077  0.06228737  0.64464878]\n",
      "79\n",
      "(15, 600)\n",
      "[-3.74383711 -3.82400394 -2.81331324 -3.37459793 -3.66277685 -4.89852252\n",
      " -3.96174674 -3.82117585 -3.80681176 -5.46312354 -4.83735054 -4.44073914\n",
      " -4.06774134 -4.58073552 -4.80364226]\n",
      "54\n",
      "(15, 600)\n",
      "[-1.58798874 -0.12678481 -0.85229038 -1.28726214 -1.04918118 -0.43075743\n",
      " -0.23829083 -0.1697298  -0.70708974 -0.99501192 -0.51622732 -0.43004903\n",
      " -0.22291795 -1.10805393 -1.08500066]\n",
      "43\n",
      "(15, 600)\n",
      "[-1.74312212 -1.29321775 -1.17922684 -2.83372624 -2.11509699 -1.07981267\n",
      " -0.72030639 -1.01073866  0.80482701 -0.15161572 -0.18948865 -0.73100905\n",
      "  0.80886717  1.76126967  1.34439711]\n",
      "93\n",
      "(15, 600)\n",
      "[-1.21030118 -2.50527042 -0.80570222 -1.50772209  0.27782284 -0.27583803\n",
      " -1.31066258 -1.53793163 -0.80784686 -0.88829158 -0.31958741 -0.63141114\n",
      " -1.17987928 -1.27914843 -1.11164109]\n",
      "55\n",
      "(15, 600)\n",
      "[-2.17791771 -1.98179216 -3.02252202 -2.84700109 -2.18635721  0.19066731\n",
      " -0.71740885 -1.94967161  0.25579583  0.20290496  2.38105831  0.51844629\n",
      "  0.92380863  0.30868688  1.39394798]\n",
      "71\n",
      "(15, 600)\n",
      "[-6.17916537 -5.49936626 -5.93516688 -6.4678836  -4.5483377  -3.16645607\n",
      " -4.42570636 -4.11576873 -3.56785048 -3.1576832   0.4167069   0.1298263\n",
      " -1.51236266 -2.63669053 -2.47839032]\n",
      "79\n",
      "(15, 600)\n",
      "[-1.10959066 -2.22566416 -2.90261995 -2.15571087 -1.58327852 -1.19310199\n",
      " -1.56230174 -1.38066069 -1.2674436  -2.03890628 -0.87327293 -1.33659348\n",
      " -0.45589938 -1.2847567  -1.59693265]\n",
      "0\n",
      "(15, 600)\n",
      "[-2.15802749 -0.85930128  0.40476693  0.73879264  1.08390204 -0.71205073\n",
      " -1.27549996 -0.86068938  0.54550212 -0.0030173  -2.27120146 -1.54291666\n",
      " -0.85355867  0.70215801  0.60834222]\n",
      "135\n",
      "(15, 600)\n",
      "[-2.16253305 -2.44913267 -2.80884301 -2.92541706 -3.67601573 -0.48320385\n",
      " -0.50041247 -1.05699669 -0.87825746 -1.83227946  0.99260555  0.34133311\n",
      "  0.26270581 -0.99970063 -1.83410853]\n",
      "38\n",
      "(15, 600)\n",
      "[-3.83716814 -6.18854698 -6.53644472 -5.12281706 -3.57576206 -2.26695586\n",
      " -5.01993825 -4.38614075 -3.20595712 -2.86947923 -2.62667713 -2.66638325\n",
      " -2.85874887 -1.59147636  0.01781583]\n",
      "0\n",
      "(15, 600)\n",
      "[3.64011847 1.61229632 1.0306985  0.69417237 0.91976677 2.38647636\n",
      " 1.31711204 1.1181244  0.95501358 0.78362209 1.52520841 1.52684796\n",
      " 1.03630863 0.9420401  0.43429978]\n",
      "94\n",
      "(15, 600)\n",
      "[ 2.43089605 -1.58881565 -3.56693758 -1.92132933 -0.38943277 -3.25777563\n",
      " -3.84021453 -5.59335059 -4.00571068 -4.86997032 -3.76901015 -3.61788807\n",
      " -3.66259399 -4.17890255 -3.95110312]\n",
      "120\n",
      "(15, 600)\n",
      "[-1.75193096 -2.56081494 -2.2843217  -0.92768617 -0.29623499 -3.507514\n",
      " -2.18883766 -1.20954023 -1.16493969 -0.9760231  -2.19246862 -1.45012346\n",
      " -1.19134157 -0.79966377 -1.10627975]\n",
      "169\n",
      "(15, 600)\n",
      "[-0.30162576 -0.87815767  0.33158584  0.824492   -0.32158191 -0.33590519\n",
      " -0.63155037 -0.18119452  0.24279265  0.51745239 -0.47780399  1.40424883\n",
      "  1.57741531  0.2696004  -0.4115598 ]\n",
      "0\n",
      "(15, 600)\n",
      "[-0.75987245 -0.42760549 -1.16051868 -2.82973527 -2.82011228 -0.44490188\n",
      " -1.40764748 -2.28267641 -2.09661202 -2.2466644  -0.64479147 -1.17535687\n",
      " -1.67863367 -2.11831206 -2.73811562]\n",
      "92\n",
      "(15, 600)\n",
      "[ 0.24231148  0.18294882 -1.54737656 -1.47365594 -1.60843536 -1.31986441\n",
      " -1.15391609 -1.37113578 -2.66491528 -1.78797424 -0.41731394 -1.78606087\n",
      " -1.42574872 -1.31002509 -2.37806026]\n",
      "0\n",
      "(15, 600)\n",
      "[2.91342052 1.70086402 1.06647028 1.02228989 1.34651255 2.08850366\n",
      " 1.40027673 1.22532427 1.26371813 1.18481691 1.73777998 1.57541345\n",
      " 1.1466376  1.24055065 1.05042786]\n",
      "73\n",
      "(15, 600)\n",
      "[-1.48654231 -0.89824603 -1.30493912 -1.98608927 -3.7424274  -1.33732865\n",
      " -1.82273857 -1.68125095 -2.56511105 -3.61616919 -1.60101363 -1.41610051\n",
      " -1.2052793  -2.74172395 -1.21788527]\n",
      "82\n",
      "(15, 600)\n",
      "[-2.87602085 -4.43530556 -3.06015319 -4.0148112  -4.70855723 -3.4910546\n",
      " -5.23275737 -6.91839056 -6.11413542 -5.9751841  -2.49579677 -5.63422708\n",
      " -7.69276072 -7.7791556  -5.9347096 ]\n",
      "34\n",
      "(15, 600)\n",
      "[ 1.6091048   1.2121536  -1.48248055 -0.57571511 -0.11310623  0.95779478\n",
      " -1.43028037 -4.36165513 -3.86709323 -1.57341385  0.70878523 -0.09731359\n",
      " -2.94563051 -3.91690068 -2.76398117]\n",
      "85\n",
      "(15, 600)\n",
      "[-1.36161992 -1.75869715 -1.06122913 -3.11252296 -1.42874466 -1.76756478\n",
      " -0.77312724 -1.08265655 -2.61673595 -2.78946729 -2.00396212 -1.46448106\n",
      " -1.97329443 -2.17986147 -1.65840936]\n",
      "80\n",
      "(15, 600)\n",
      "[-3.82202952 -4.89735376 -7.01485216 -7.31241507 -4.19105892 -1.71175871\n",
      " -7.97629397 -8.4059342  -1.74305907 -4.04664774 -4.66392384  0.24218565\n",
      " -6.20329428 -5.61795043 -3.87503575]\n",
      "77\n",
      "(15, 600)\n",
      "[-2.86993402 -1.48665038 -1.81134153 -0.51925307  0.33791266  1.64424851\n",
      " -1.8304107  -0.61967689  0.19919123  0.77540447 -1.70313709 -1.69510688\n",
      " -0.45106738  0.7220861   0.88276325]\n",
      "80\n",
      "(15, 600)\n",
      "[-1.16856117 -1.34420529 -1.08536566 -1.21339233  0.31598956 -4.02104046\n",
      " -3.33694641 -2.28337002 -0.67166776  1.82624527 -5.77721919 -4.58761187\n",
      " -2.50976391  0.36142752  2.36111062]\n",
      "94\n",
      "(15, 600)\n",
      "[-1.12616613 -0.75557952  0.93041796  0.25326413 -1.10088946 -1.69516809\n",
      " -0.84429669 -0.38260486 -1.59036113 -3.22593196 -2.17735933 -1.15607995\n",
      " -1.6513918  -3.10669882 -4.05708211]\n",
      "22\n",
      "(15, 600)\n",
      "[-0.02634768 -0.46451276 -0.40011504 -2.03388793 -0.91248334 -0.46155242\n",
      " -0.22427558 -0.40684472 -0.52518619 -0.46976052 -0.70097937 -0.48843001\n",
      "  0.12254851 -0.826828   -0.64616307]\n",
      "95\n",
      "(15, 600)\n",
      "[-0.89251638 -2.33936828 -3.94114482 -2.21154793  0.76186652 -0.1968683\n",
      " -1.40249291 -2.52199371 -1.7077612   1.07337344 -0.37972458 -0.12284518\n",
      "  0.03133585  0.53841088  1.2928378 ]\n",
      "75\n",
      "(15, 600)\n",
      "[ 0.12316542 -0.80065819 -2.23481917 -1.96673922 -1.84411349 -2.43399155\n",
      " -1.63904452 -2.61939281 -2.77301624 -2.57527084 -3.21923139 -2.8923287\n",
      " -2.60757795 -2.96754324 -1.93927913]\n",
      "80\n",
      "(15, 600)\n",
      "[-0.38915975 -0.28789075 -0.08911472  0.42881687  0.12675545 -0.02540036\n",
      " -0.05510301  0.29866004  0.43754007  0.14176787  0.48991491  0.4158699\n",
      "  0.49395245  0.77457513  0.45453267]\n",
      "107\n",
      "(15, 600)\n",
      "[ 0.9545131   2.29853218  1.31701647  2.10989672  2.17063407  0.057641\n",
      "  1.12969968  0.89294712  1.07423341  0.23537562 -0.76132092  0.24100226\n",
      "  0.93631077  0.08408221 -2.71614146]\n",
      "94\n",
      "(15, 600)\n",
      "[-3.38279505 -4.64845858 -5.91412226 -3.36730078 -3.0908392  -4.0354124\n",
      " -5.65003026 -5.95869886 -4.73166209 -5.8441493  -2.44671721 -4.7625586\n",
      " -4.13997012 -5.30514734 -4.31389886]\n",
      "115\n",
      "(15, 600)\n",
      "[-2.58770643 -3.38687447 -3.73645954 -3.44999843 -2.83354342 -2.02605368\n",
      " -3.28942467 -4.2876594  -4.48457638 -3.55696776 -0.75540769 -3.23293412\n",
      " -3.02168253 -3.52083898 -2.63792441]\n",
      "104\n",
      "(15, 600)\n",
      "[-0.83373307 -1.64715313 -2.16068956 -2.03647778 -2.15572027 -2.13762633\n",
      " -2.22220309 -3.49736496 -3.54979563 -2.50141223 -1.7842975  -2.77569138\n",
      " -3.11520579 -3.41349234 -2.43866633]\n",
      "25\n",
      "(15, 600)\n",
      "[ 0.5397962   0.37452811 -1.17526015 -0.75588033 -0.87861042  0.44794177\n",
      " -0.37629706 -0.99406201 -1.27143884 -0.52319201  0.93080982  0.26119422\n",
      " -0.97972061 -0.58982164 -0.41302924]\n",
      "43\n",
      "(15, 600)\n",
      "[-2.98614822 -1.94832337 -1.19645248 -0.66637925  0.21182019 -4.26749338\n",
      " -4.44755632 -3.60381119 -1.21919886 -1.73601526 -4.52072728 -5.40992832\n",
      " -3.95985372 -1.66710675 -1.30259643]\n",
      "75\n",
      "(15, 600)\n",
      "[-0.08267974 -0.75640825 -1.68850462 -1.0113902  -0.55137046 -0.14973626\n",
      " -0.87905779 -1.66805643 -1.2465973  -0.22456479 -0.02872201  0.33125531\n",
      " -0.6213392  -0.27505059 -0.06615868]\n",
      "111\n",
      "(15, 600)\n",
      "[-1.65077239 -4.31709597 -2.59076906 -0.2520212   0.80380676  0.14213495\n",
      " -2.07043426 -1.14301176 -0.02456944  2.22755395 -3.37828959 -1.08695625\n",
      " -0.59220813  0.15764614  1.31206922]\n"
     ]
    }
   ],
   "source": [
    "#计算新异刺激和标准刺激的差异波\n",
    "diff = child_novel_erp - child_standard_erp\n",
    "#基于FZ的活动取峰值和潜伏期\n",
    "diff_FCz = diff[:,7,:] \n",
    "\n",
    "mmn_amplitude = []\n",
    "#mmn_latency = []\n",
    "\n",
    "for i in range(113):\n",
    "    #选取80-250ms的数据\n",
    "    data_mmn_FCz = diff_FCz[i][180:350]\n",
    "    #基于FCz电极在80-250ms范围内选取最负的值\n",
    "    mmn_time_index = np.where(data_mmn_FCz == np.min(data_mmn_FCz))\n",
    "    mmn_peak_index = mmn_time_index[0][0]\n",
    "    print(mmn_peak_index)\n",
    "    #计算每个被试，15个电极上峰值前后10ms电压值的平均，并将单位从v转为uv\n",
    "    mmn_amplitude_all = diff[i]\n",
    "    print(mmn_amplitude_all.shape)\n",
    "    mmn_amplitude_all = mmn_amplitude_all[:,mmn_peak_index + 170:mmn_peak_index + 190]\n",
    "    amplitude = math.pow(10,6) * np.average(mmn_amplitude_all, axis = 1)\n",
    "    print(amplitude)\n",
    "    #计算潜伏期\n",
    "    #latency = 80 + mmn_peak_index\n",
    "    mmn_amplitude.append(amplitude)\n",
    "    #mmn_latency.append(latency)\n",
    "\n",
    "#将数据存到excel\n",
    "MMN = np.mat(mmn_amplitude)\n",
    "child_MMN = pd.DataFrame(MMN, columns = [\"F3\",\"F1\",\"FZ\",\"F2\",\"F4\",\"FC3\",\"FC1\",\"FCZ\",\"FC2\",\"FC4\",\"C3\",\"C1\",\"CZ\",\"C2\",\"C4\"])\n",
    "child_MMN.to_excel('child_MMN.xlsx')"
   ]
  },
  {
   "cell_type": "markdown",
   "metadata": {},
   "source": [
    "### 2.2.2 P300"
   ]
  },
  {
   "cell_type": "code",
   "execution_count": 35,
   "metadata": {},
   "outputs": [
    {
     "name": "stdout",
     "output_type": "stream",
     "text": [
      "187\n",
      "1.8942204636394597\n",
      "(15, 20)\n",
      "(15,)\n",
      "1.8942204636394597\n",
      "80\n",
      "13.687972933031148\n",
      "(15, 20)\n",
      "(15,)\n",
      "13.687972933031148\n",
      "67\n",
      "5.515930025064676\n",
      "(15, 20)\n",
      "(15,)\n",
      "5.515930025064676\n",
      "69\n",
      "6.735454830329005\n",
      "(15, 20)\n",
      "(15,)\n",
      "6.735454830329005\n",
      "83\n",
      "4.602230522964256\n",
      "(15, 20)\n",
      "(15,)\n",
      "4.602230522964256\n",
      "66\n",
      "11.784674330497184\n",
      "(15, 20)\n",
      "(15,)\n",
      "11.784674330497184\n",
      "89\n",
      "7.171149686554857\n",
      "(15, 20)\n",
      "(15,)\n",
      "7.171149686554857\n",
      "51\n",
      "2.7091977044882376\n",
      "(15, 20)\n",
      "(15,)\n",
      "2.7091977044882376\n",
      "60\n",
      "8.792501713643903\n",
      "(15, 20)\n",
      "(15,)\n",
      "8.792501713643903\n",
      "66\n",
      "6.277279549831987\n",
      "(15, 20)\n",
      "(15,)\n",
      "6.277279549831987\n",
      "70\n",
      "6.305829382192666\n",
      "(15, 20)\n",
      "(15,)\n",
      "6.305829382192666\n",
      "69\n",
      "7.118893312990903\n",
      "(15, 20)\n",
      "(15,)\n",
      "7.118893312990903\n",
      "99\n",
      "7.10088272536533\n",
      "(15, 20)\n",
      "(15,)\n",
      "7.10088272536533\n",
      "107\n",
      "7.670856759261637\n",
      "(15, 20)\n",
      "(15,)\n",
      "7.670856759261637\n",
      "115\n",
      "8.294678128815242\n",
      "(15, 20)\n",
      "(15,)\n",
      "8.294678128815242\n",
      "90\n",
      "5.814942456819973\n",
      "(15, 20)\n",
      "(15,)\n",
      "5.814942456819973\n",
      "106\n",
      "4.093162685738517\n",
      "(15, 20)\n",
      "(15,)\n",
      "4.093162685738517\n",
      "79\n",
      "9.58653182801142\n",
      "(15, 20)\n",
      "(15,)\n",
      "9.58653182801142\n",
      "96\n",
      "12.40247105586499\n",
      "(15, 20)\n",
      "(15,)\n",
      "12.40247105586499\n",
      "78\n",
      "7.582571207341793\n",
      "(15, 20)\n",
      "(15,)\n",
      "7.582571207341793\n",
      "64\n",
      "6.773985062487513\n",
      "(15, 20)\n",
      "(15,)\n",
      "6.773985062487513\n",
      "39\n",
      "3.2145134543481775\n",
      "(15, 20)\n",
      "(15,)\n",
      "3.2145134543481775\n",
      "89\n",
      "6.895896940255363\n",
      "(15, 20)\n",
      "(15,)\n",
      "6.895896940255363\n",
      "101\n",
      "10.225177798322047\n",
      "(15, 20)\n",
      "(15,)\n",
      "10.225177798322047\n",
      "51\n",
      "5.730076873629593\n",
      "(15, 20)\n",
      "(15,)\n",
      "5.730076873629593\n",
      "30\n",
      "5.8926652516185465\n",
      "(15, 20)\n",
      "(15,)\n",
      "5.8926652516185465\n",
      "53\n",
      "10.565553253525382\n",
      "(15, 20)\n",
      "(15,)\n",
      "10.565553253525382\n",
      "74\n",
      "6.008381670953812\n",
      "(15, 20)\n",
      "(15,)\n",
      "6.008381670953812\n",
      "58\n",
      "8.309238412406565\n",
      "(15, 20)\n",
      "(15,)\n",
      "8.309238412406565\n",
      "69\n",
      "9.295010356809913\n",
      "(15, 20)\n",
      "(15,)\n",
      "9.295010356809913\n",
      "74\n",
      "5.953173921758074\n",
      "(15, 20)\n",
      "(15,)\n",
      "5.953173921758074\n",
      "34\n",
      "4.455507508500417\n",
      "(15, 20)\n",
      "(15,)\n",
      "4.455507508500417\n",
      "89\n",
      "13.019154941422853\n",
      "(15, 20)\n",
      "(15,)\n",
      "13.019154941422853\n",
      "69\n",
      "12.314758331445232\n",
      "(15, 20)\n",
      "(15,)\n",
      "12.314758331445232\n",
      "84\n",
      "6.780086248123817\n",
      "(15, 20)\n",
      "(15,)\n",
      "6.780086248123817\n",
      "77\n",
      "4.852740431505076\n",
      "(15, 20)\n",
      "(15,)\n",
      "4.852740431505076\n",
      "64\n",
      "4.650083403933052\n",
      "(15, 20)\n",
      "(15,)\n",
      "4.650083403933052\n",
      "88\n",
      "2.9022005964377895\n",
      "(15, 20)\n",
      "(15,)\n",
      "2.9022005964377895\n",
      "49\n",
      "3.8800211069016353\n",
      "(15, 20)\n",
      "(15,)\n",
      "3.8800211069016353\n",
      "95\n",
      "6.763289668535933\n",
      "(15, 20)\n",
      "(15,)\n",
      "6.763289668535933\n",
      "46\n",
      "4.1963680477555965\n",
      "(15, 20)\n",
      "(15,)\n",
      "4.1963680477555965\n",
      "65\n",
      "6.099861554732282\n",
      "(15, 20)\n",
      "(15,)\n",
      "6.099861554732282\n",
      "57\n",
      "8.353602290561984\n",
      "(15, 20)\n",
      "(15,)\n",
      "8.353602290561984\n",
      "88\n",
      "9.509613475118329\n",
      "(15, 20)\n",
      "(15,)\n",
      "9.509613475118329\n",
      "83\n",
      "6.678899024947576\n",
      "(15, 20)\n",
      "(15,)\n",
      "6.678899024947576\n",
      "64\n",
      "11.970695177011818\n",
      "(15, 20)\n",
      "(15,)\n",
      "11.970695177011818\n",
      "67\n",
      "4.075026545196481\n",
      "(15, 20)\n",
      "(15,)\n",
      "4.075026545196481\n",
      "83\n",
      "16.128512587963403\n",
      "(15, 20)\n",
      "(15,)\n",
      "16.128512587963403\n",
      "23\n",
      "5.141367264084137\n",
      "(15, 20)\n",
      "(15,)\n",
      "5.141367264084137\n",
      "138\n",
      "2.2795703489273227\n",
      "(15, 20)\n",
      "(15,)\n",
      "2.2795703489273227\n",
      "29\n",
      "7.081639181655423\n",
      "(15, 20)\n",
      "(15,)\n",
      "7.081639181655423\n",
      "81\n",
      "7.940079664662883\n",
      "(15, 20)\n",
      "(15,)\n",
      "7.940079664662883\n",
      "85\n",
      "5.475000663912098\n",
      "(15, 20)\n",
      "(15,)\n",
      "5.475000663912098\n",
      "57\n",
      "6.801022743162817\n",
      "(15, 20)\n",
      "(15,)\n",
      "6.801022743162817\n",
      "103\n",
      "6.400121204834966\n",
      "(15, 20)\n",
      "(15,)\n",
      "6.400121204834966\n",
      "70\n",
      "2.1870181593382947\n",
      "(15, 20)\n",
      "(15,)\n",
      "2.1870181593382947\n",
      "47\n",
      "10.181975192930341\n",
      "(15, 20)\n",
      "(15,)\n",
      "10.181975192930341\n",
      "70\n",
      "-0.000689712278040759\n",
      "(15, 20)\n",
      "(15,)\n",
      "-0.000689712278040759\n",
      "59\n",
      "3.1884704938636887\n",
      "(15, 20)\n",
      "(15,)\n",
      "3.1884704938636887\n",
      "113\n",
      "6.0457605363585705\n",
      "(15, 20)\n",
      "(15,)\n",
      "6.0457605363585705\n",
      "52\n",
      "7.9374177906400005\n",
      "(15, 20)\n",
      "(15,)\n",
      "7.9374177906400005\n",
      "64\n",
      "6.4216213956777555\n",
      "(15, 20)\n",
      "(15,)\n",
      "6.4216213956777555\n",
      "68\n",
      "9.895911560115595\n",
      "(15, 20)\n",
      "(15,)\n",
      "9.895911560115595\n",
      "86\n",
      "9.99652168148291\n",
      "(15, 20)\n",
      "(15,)\n",
      "9.99652168148291\n",
      "68\n",
      "2.9209228394588838\n",
      "(15, 20)\n",
      "(15,)\n",
      "2.9209228394588838\n",
      "199\n",
      "5.056294315776792\n",
      "(15, 20)\n",
      "(15,)\n",
      "5.056294315776792\n",
      "91\n",
      "4.832012798416406\n",
      "(15, 20)\n",
      "(15,)\n",
      "4.832012798416406\n",
      "75\n",
      "6.463082473528543\n",
      "(15, 20)\n",
      "(15,)\n",
      "6.463082473528543\n",
      "64\n",
      "11.804560970898233\n",
      "(15, 20)\n",
      "(15,)\n",
      "11.804560970898233\n",
      "63\n",
      "12.00061039038068\n",
      "(15, 20)\n",
      "(15,)\n",
      "12.00061039038068\n",
      "89\n",
      "6.550757220650754\n",
      "(15, 20)\n",
      "(15,)\n",
      "6.550757220650754\n",
      "73\n",
      "2.6613309913226812\n",
      "(15, 20)\n",
      "(15,)\n",
      "2.6613309913226812\n",
      "35\n",
      "8.954676044536932\n",
      "(15, 20)\n",
      "(15,)\n",
      "8.954676044536932\n",
      "36\n",
      "8.409346341724596\n",
      "(15, 20)\n",
      "(15,)\n",
      "8.409346341724596\n",
      "59\n",
      "11.771735786371462\n",
      "(15, 20)\n",
      "(15,)\n",
      "11.771735786371462\n",
      "74\n",
      "7.2468239483607\n",
      "(15, 20)\n",
      "(15,)\n",
      "7.2468239483607\n",
      "52\n",
      "3.5703979761809954\n",
      "(15, 20)\n",
      "(15,)\n",
      "3.5703979761809954\n",
      "74\n",
      "10.947387364863417\n",
      "(15, 20)\n",
      "(15,)\n",
      "10.947387364863417\n",
      "105\n",
      "5.644289733762211\n",
      "(15, 20)\n",
      "(15,)\n",
      "5.644289733762211\n",
      "82\n",
      "9.212112249663628\n",
      "(15, 20)\n",
      "(15,)\n",
      "9.212112249663628\n",
      "82\n",
      "1.1871423059773445\n",
      "(15, 20)\n",
      "(15,)\n",
      "1.1871423059773445\n",
      "80\n",
      "10.417185548368609\n",
      "(15, 20)\n",
      "(15,)\n",
      "10.417185548368609\n",
      "50\n",
      "4.7182380496410135\n",
      "(15, 20)\n",
      "(15,)\n",
      "4.7182380496410135\n",
      "93\n",
      "10.883845211012481\n",
      "(15, 20)\n",
      "(15,)\n",
      "10.883845211012481\n",
      "108\n",
      "8.63428330865541\n",
      "(15, 20)\n",
      "(15,)\n",
      "8.63428330865541\n",
      "75\n",
      "8.846034685759168\n",
      "(15, 20)\n",
      "(15,)\n",
      "8.846034685759168\n",
      "66\n",
      "8.368260071861828\n",
      "(15, 20)\n",
      "(15,)\n",
      "8.368260071861828\n",
      "85\n",
      "12.821388223662252\n",
      "(15, 20)\n",
      "(15,)\n",
      "12.821388223662252\n",
      "78\n",
      "3.953092435408641\n",
      "(15, 20)\n",
      "(15,)\n",
      "3.953092435408641\n",
      "0\n",
      "1.1348306039557443\n",
      "(15, 20)\n",
      "(15,)\n",
      "1.1348306039557443\n",
      "93\n",
      "5.649133173435066\n",
      "(15, 20)\n",
      "(15,)\n",
      "5.649133173435066\n",
      "60\n",
      "4.656978200885076\n",
      "(15, 20)\n",
      "(15,)\n",
      "4.656978200885076\n",
      "66\n",
      "7.5041503297934415\n",
      "(15, 20)\n",
      "(15,)\n",
      "7.5041503297934415\n",
      "77\n",
      "9.485827178599603\n",
      "(15, 20)\n",
      "(15,)\n",
      "9.485827178599603\n",
      "64\n",
      "6.5876090922984165\n",
      "(15, 20)\n",
      "(15,)\n",
      "6.5876090922984165\n",
      "46\n",
      "5.026030122364754\n",
      "(15, 20)\n",
      "(15,)\n",
      "5.026030122364754\n",
      "79\n",
      "9.20203663913485\n",
      "(15, 20)\n",
      "(15,)\n",
      "9.20203663913485\n",
      "73\n",
      "7.075611162856056\n",
      "(15, 20)\n",
      "(15,)\n",
      "7.075611162856056\n",
      "66\n",
      "5.053755435512289\n",
      "(15, 20)\n",
      "(15,)\n",
      "5.053755435512289\n",
      "77\n",
      "15.581951581092683\n",
      "(15, 20)\n",
      "(15,)\n",
      "15.581951581092683\n",
      "62\n",
      "8.96213067814681\n",
      "(15, 20)\n",
      "(15,)\n",
      "8.96213067814681\n",
      "81\n",
      "12.749666732433392\n",
      "(15, 20)\n",
      "(15,)\n",
      "12.749666732433392\n",
      "85\n",
      "8.75398360376144\n",
      "(15, 20)\n",
      "(15,)\n",
      "8.75398360376144\n",
      "36\n",
      "8.964195271795397\n",
      "(15, 20)\n",
      "(15,)\n",
      "8.964195271795397\n",
      "50\n",
      "6.501691972696127\n",
      "(15, 20)\n",
      "(15,)\n",
      "6.501691972696127\n",
      "74\n",
      "9.6021104764619\n",
      "(15, 20)\n",
      "(15,)\n",
      "9.6021104764619\n",
      "57\n",
      "7.819785240836645\n",
      "(15, 20)\n",
      "(15,)\n",
      "7.819785240836645\n",
      "71\n",
      "6.383299486538461\n",
      "(15, 20)\n",
      "(15,)\n",
      "6.383299486538461\n",
      "50\n",
      "3.3927623533266864\n",
      "(15, 20)\n",
      "(15,)\n",
      "3.3927623533266864\n",
      "92\n",
      "4.595409329883994\n",
      "(15, 20)\n",
      "(15,)\n",
      "4.595409329883994\n",
      "90\n",
      "9.240782340309726\n",
      "(15, 20)\n",
      "(15,)\n",
      "9.240782340309726\n",
      "56\n",
      "8.134177056301384\n",
      "(15, 20)\n",
      "(15,)\n",
      "8.134177056301384\n",
      "76\n",
      "8.984456405393344\n",
      "(15, 20)\n",
      "(15,)\n",
      "8.984456405393344\n"
     ]
    }
   ],
   "source": [
    "diff = child_novel_erp - child_standard_erp\n",
    "#基于FZ的活动取峰值和潜伏期\n",
    "diff_FCz = diff[:,7,:] \n",
    "\n",
    "P300_amplitude = []\n",
    "#P300_latency = []\n",
    "\n",
    "for i in range(113):\n",
    "    #选取80-250ms的数据\n",
    "    data_P300_FCz = diff_FCz[i][300:500]\n",
    "    P300_time_index = np.where(data_P300_FCz == np.max(data_P300_FCz))\n",
    "    P300_peak_index = P300_time_index[0][0]\n",
    "    print(P300_peak_index)\n",
    "    data_FCz = diff_FCz[i]\n",
    "    amplitude_FCz = math.pow(10,6)*np.average(diff_FCz[i][P300_peak_index + 290:P300_peak_index + 310])\n",
    "    print(amplitude_FCz)\n",
    "    amplitude_all = diff[i]\n",
    "    amplitude_all = amplitude_all[:,P300_peak_index + 290:P300_peak_index + 310]\n",
    "    print(amplitude_all.shape)\n",
    "    amplitude = math.pow(10,6) * np.average(amplitude_all, axis = 1)\n",
    "    print(amplitude.shape)\n",
    "    print(amplitude[7])\n",
    "    latency = 200 + P300_peak_index\n",
    "    P300_amplitude.append(amplitude)\n",
    "    #P300_latency.append(latency)\n",
    "\n",
    "\n",
    "P300 = np.mat(P300_amplitude)\n",
    "child_P300 = pd.DataFrame(P300, columns = [\"F3\",\"F1\",\"FZ\",\"F2\",\"F4\",\"FC3\",\"FC1\",\"FCZ\",\"FC2\",\"FC4\",\"C3\",\"C1\",\"CZ\",\"C2\",\"C4\"])\n",
    "child_P300.to_excel('child_P300.xlsx')\n"
   ]
  },
  {
   "cell_type": "markdown",
   "metadata": {},
   "source": [
    "# 绘制单个条件下的波形图"
   ]
  },
  {
   "cell_type": "code",
   "execution_count": 21,
   "metadata": {},
   "outputs": [],
   "source": [
    "def plot_erp_results(erp, times):\n",
    "    \"\"\"\n",
    "    参数：\n",
    "    erp: shape为[n_subs, n_times]的矩阵，对应每个被试的ERP\n",
    "    times: shape为[n_times]的array，代表时间点（对应x轴的时间范围及时间点）\n",
    "    \"\"\"\n",
    "    n_subjects = np.shape(erp)[0]\n",
    "    # 被试ERP均值\n",
    "    avg = np.average(erp, axis=0)\n",
    "    # ERP的标准误SEM\n",
    "    err = np.std(erp, axis=0, ddof=0)/np.sqrt(n_subjects)\n",
    "    # 绘制ERP\n",
    "    plt.fill_between(times, avg+err, avg-err, alpha=0.2)\n",
    "    plt.plot(times, avg, alpha=0.9)\n",
    "    plt.show()"
   ]
  },
  {
   "cell_type": "code",
   "execution_count": 28,
   "metadata": {},
   "outputs": [
    {
     "ename": "TypeError",
     "evalue": "plot_erp_results() missing 1 required positional argument: 'times'",
     "output_type": "error",
     "traceback": [
      "\u001b[1;31m---------------------------------------------------------------------------\u001b[0m",
      "\u001b[1;31mTypeError\u001b[0m                                 Traceback (most recent call last)",
      "\u001b[1;32m<ipython-input-28-6a7ae62d59df>\u001b[0m in \u001b[0;36m<module>\u001b[1;34m\u001b[0m\n\u001b[0;32m      1\u001b[0m \u001b[0mtimes\u001b[0m \u001b[1;33m=\u001b[0m \u001b[0mnp\u001b[0m\u001b[1;33m.\u001b[0m\u001b[0marange\u001b[0m\u001b[1;33m(\u001b[0m\u001b[1;33m-\u001b[0m\u001b[1;36m100\u001b[0m\u001b[1;33m,\u001b[0m \u001b[1;36m500\u001b[0m\u001b[1;33m,\u001b[0m\u001b[1;36m1\u001b[0m\u001b[1;33m)\u001b[0m\u001b[1;33m\u001b[0m\u001b[1;33m\u001b[0m\u001b[0m\n\u001b[1;32m----> 2\u001b[1;33m \u001b[0mplot_erp_results\u001b[0m\u001b[1;33m(\u001b[0m\u001b[0mdiff\u001b[0m\u001b[1;33m,\u001b[0m \u001b[0mtimes\u001b[0m\u001b[1;33m)\u001b[0m\u001b[1;33m\u001b[0m\u001b[1;33m\u001b[0m\u001b[0m\n\u001b[0m",
      "\u001b[1;31mTypeError\u001b[0m: plot_erp_results() missing 1 required positional argument: 'times'"
     ]
    }
   ],
   "source": [
    "times = np.arange(-100, 500,1)\n",
    "plot_erp_results(diff, times)"
   ]
  },
  {
   "cell_type": "markdown",
   "metadata": {},
   "source": [
    "# 绘制两种条件的波形图"
   ]
  },
  {
   "cell_type": "code",
   "execution_count": 73,
   "metadata": {},
   "outputs": [],
   "source": [
    "def plot_erp_results(erp1, erp2, times, con_labels=['condition1', 'condition2'],p_threshold=0.05):\n",
    "    \"\"\"\n",
    "    参数：\n",
    "    erp1: shape为[n_subs, n_times]的矩阵，对应每个被试条件1下的ERP\n",
    "    erp2: shape为[n_subs, n_times]的矩阵，对应每个被试条件2下的ERP\n",
    "    con_labels: ⼀个List或array，[条件1名称，条件2名称]，\n",
    "    默认为['Condition1', 'Condition2']\n",
    "    p_threshold : ⼀个浮点型数字，默认为0.05，代表p值的阈值\n",
    "    times: shape为[n_times]的array，代表时间点（对应x轴的时间范围及时间点）\n",
    "    \"\"\"\n",
    "    n_subjects = np.shape(erp1)[0]\n",
    "    # 被试ERP均值\n",
    "    avg1 = np.average(erp1, axis=0)\n",
    "    avg2 = np.average(erp2, axis=0)\n",
    "    # ERP的标准误SEM\n",
    "    err1 = np.std(erp1, axis=0, ddof=0)/np.sqrt(n_subjects)\n",
    "    err2 = np.std(erp2, axis=0, ddof=0)/np.sqrt(n_subjects)\n",
    "    # 统计分析\n",
    "    t_vals, p_vals = ttest_rel(erp1, erp2, axis=0)\n",
    "    # FDR矫正\n",
    "    rejects, p_fdr_corrected = fdr_correction(p_vals, alpha=p_threshold)\n",
    "    # 绘制显著性区域标记\n",
    "    #for i, p_fdr_corrected in enumerate(p_fdr_corrected):\n",
    "    #    if p_fdr_corrected < 0.05:\n",
    "     #       plt.axvline(x=times[i], color='grey', alpha=0.1)\n",
    "    # 绘制带SEM的ERP\n",
    "    plt.fill_between(times, avg1+err1, avg1-err1, alpha=0.4, label=con_labels[0])\n",
    "    plt.fill_between(times, avg2+err2, avg2-err2, alpha=0.4, label=con_labels[1])\n",
    "    plt.plot(times, avg1, alpha=0.9)\n",
    "    plt.plot(times, avg2, alpha=0.9)\n",
    "    plt.legend()\n",
    "    plt.show()"
   ]
  },
  {
   "cell_type": "code",
   "execution_count": 75,
   "metadata": {},
   "outputs": [
    {
     "ename": "NameError",
     "evalue": "name 'child_standard_erp' is not defined",
     "output_type": "error",
     "traceback": [
      "\u001b[1;31m---------------------------------------------------------------------------\u001b[0m",
      "\u001b[1;31mNameError\u001b[0m                                 Traceback (most recent call last)",
      "\u001b[1;32m<ipython-input-75-7692aed15f31>\u001b[0m in \u001b[0;36m<module>\u001b[1;34m\u001b[0m\n\u001b[0;32m      1\u001b[0m \u001b[0mtimes\u001b[0m \u001b[1;33m=\u001b[0m \u001b[0mnp\u001b[0m\u001b[1;33m.\u001b[0m\u001b[0marange\u001b[0m\u001b[1;33m(\u001b[0m\u001b[1;33m-\u001b[0m\u001b[1;36m100\u001b[0m\u001b[1;33m,\u001b[0m\u001b[1;36m500\u001b[0m\u001b[1;33m,\u001b[0m\u001b[1;36m1\u001b[0m\u001b[1;33m)\u001b[0m\u001b[1;33m\u001b[0m\u001b[1;33m\u001b[0m\u001b[0m\n\u001b[1;32m----> 2\u001b[1;33m \u001b[0mchild_standard\u001b[0m \u001b[1;33m=\u001b[0m \u001b[0mchild_standard_erp\u001b[0m\u001b[1;33m[\u001b[0m\u001b[1;33m:\u001b[0m\u001b[1;33m,\u001b[0m\u001b[1;36m1\u001b[0m\u001b[1;33m,\u001b[0m\u001b[1;33m:\u001b[0m\u001b[1;33m]\u001b[0m\u001b[1;33m\u001b[0m\u001b[1;33m\u001b[0m\u001b[0m\n\u001b[0m\u001b[0;32m      3\u001b[0m \u001b[0mchild_novel\u001b[0m \u001b[1;33m=\u001b[0m \u001b[0mchild_novel_erp\u001b[0m\u001b[1;33m[\u001b[0m\u001b[1;33m:\u001b[0m\u001b[1;33m,\u001b[0m\u001b[1;36m1\u001b[0m\u001b[1;33m,\u001b[0m\u001b[1;33m:\u001b[0m\u001b[1;33m]\u001b[0m\u001b[1;33m\u001b[0m\u001b[1;33m\u001b[0m\u001b[0m\n\u001b[0;32m      4\u001b[0m \u001b[0mplot_erp_results\u001b[0m\u001b[1;33m(\u001b[0m\u001b[0mchild_standard\u001b[0m\u001b[1;33m,\u001b[0m \u001b[0mchild_novel\u001b[0m\u001b[1;33m,\u001b[0m \u001b[0mtimes\u001b[0m\u001b[1;33m,\u001b[0m \u001b[0mcon_labels\u001b[0m\u001b[1;33m=\u001b[0m\u001b[1;33m[\u001b[0m\u001b[1;34m'standard'\u001b[0m\u001b[1;33m,\u001b[0m \u001b[1;34m'novel'\u001b[0m\u001b[1;33m]\u001b[0m\u001b[1;33m,\u001b[0m \u001b[0mp_threshold\u001b[0m\u001b[1;33m=\u001b[0m\u001b[1;36m0.05\u001b[0m\u001b[1;33m)\u001b[0m\u001b[1;33m\u001b[0m\u001b[1;33m\u001b[0m\u001b[0m\n\u001b[0;32m      5\u001b[0m \u001b[0mdiff\u001b[0m \u001b[1;33m=\u001b[0m \u001b[0mchild_novel\u001b[0m\u001b[1;33m-\u001b[0m\u001b[0mchild_standard\u001b[0m\u001b[1;33m\u001b[0m\u001b[1;33m\u001b[0m\u001b[0m\n",
      "\u001b[1;31mNameError\u001b[0m: name 'child_standard_erp' is not defined"
     ]
    }
   ],
   "source": [
    "times = np.arange(-100,500,1)\n",
    "child_standard = child_standard_erp[:,1,:]\n",
    "child_novel = child_novel_erp[:,1,:]\n",
    "plot_erp_results(child_standard, child_novel, times, con_labels=['standard', 'novel'], p_threshold=0.05)\n",
    "diff = child_novel-child_standard"
   ]
  },
  {
   "cell_type": "code",
   "execution_count": 29,
   "metadata": {
    "scrolled": true
   },
   "outputs": [
    {
     "data": {
      "image/png": "[encoded data removed]",
      "text/plain": [
       "<Figure size 432x288 with 1 Axes>"
      ]
     },
     "metadata": {
      "needs_background": "light"
     },
     "output_type": "display_data"
    }
   ],
   "source": [
    "times = np.arange(-100,500,1)\n",
    "adult_standard = adult_standard_erp[:,7,:]\n",
    "adult_novel = adult_novel_erp[:,7,:]\n",
    "plot_erp_results(adult_standard, adult_novel, times, con_labels=['standard', 'novel'], p_threshold=0.05)\n",
    "diff = adult_novel-adult_standard"
   ]
  },
  {
   "cell_type": "code",
   "execution_count": 5,
   "metadata": {},
   "outputs": [
    {
     "data": {
      "text/plain": [
       "array([ 1,  3,  5,  7,  9, 11, 13, 15, 17, 19, 21, 23, 25, 27, 29, 31, 33,\n",
       "       35, 37, 39])"
      ]
     },
     "execution_count": 5,
     "metadata": {},
     "output_type": "execute_result"
    }
   ],
   "source": [
    "freqs = np.arange(1, 40, 2)\n",
    "freqs"
   ]
  },
  {
   "cell_type": "markdown",
   "metadata": {},
   "source": [
    "# 时频分析"
   ]
  },
  {
   "cell_type": "markdown",
   "metadata": {},
   "source": [
    "## 计算成年人在AV任务上的power值"
   ]
  },
  {
   "cell_type": "code",
   "execution_count": 6,
   "metadata": {},
   "outputs": [
    {
     "name": "stdout",
     "output_type": "stream",
     "text": [
      "Extracting parameters from E:/standard and novel/sub1/standard.set...\n"
     ]
    },
    {
     "name": "stderr",
     "output_type": "stream",
     "text": [
      "<ipython-input-6-c623e3af7c63>:13: RuntimeWarning: At least one epoch has multiple events. Only the latency of the first event will be retained.\n",
      "  standard_epochs = mne.io.read_epochs_eeglab(standard_data_path)\n"
     ]
    },
    {
     "name": "stdout",
     "output_type": "stream",
     "text": [
      "Not setting metadata\n",
      "Not setting metadata\n",
      "102 matching events found\n",
      "No baseline correction applied\n",
      "0 projection items activated\n",
      "Ready.\n",
      "(62, 20, 1000)\n",
      "Extracting parameters from E:/standard and novel/sub1/novel.set...\n"
     ]
    },
    {
     "name": "stderr",
     "output_type": "stream",
     "text": [
      "<ipython-input-6-c623e3af7c63>:38: RuntimeWarning: At least one epoch has multiple events. Only the latency of the first event will be retained.\n",
      "  novel_epochs = mne.io.read_epochs_eeglab(novel_data_path)\n"
     ]
    },
    {
     "name": "stdout",
     "output_type": "stream",
     "text": [
      "Not setting metadata\n",
      "Not setting metadata\n",
      "102 matching events found\n",
      "No baseline correction applied\n",
      "0 projection items activated\n",
      "Ready.\n",
      "(62, 20, 1000)\n",
      "(15, 20, 600)\n",
      "Extracting parameters from E:/standard and novel/sub2/standard.set...\n"
     ]
    },
    {
     "name": "stderr",
     "output_type": "stream",
     "text": [
      "<ipython-input-6-c623e3af7c63>:13: RuntimeWarning: At least one epoch has multiple events. Only the latency of the first event will be retained.\n",
      "  standard_epochs = mne.io.read_epochs_eeglab(standard_data_path)\n"
     ]
    },
    {
     "name": "stdout",
     "output_type": "stream",
     "text": [
      "Not setting metadata\n",
      "Not setting metadata\n",
      "102 matching events found\n",
      "No baseline correction applied\n",
      "0 projection items activated\n",
      "Ready.\n",
      "(62, 20, 1000)\n",
      "Extracting parameters from E:/standard and novel/sub2/novel.set...\n"
     ]
    },
    {
     "name": "stderr",
     "output_type": "stream",
     "text": [
      "<ipython-input-6-c623e3af7c63>:38: RuntimeWarning: At least one epoch has multiple events. Only the latency of the first event will be retained.\n",
      "  novel_epochs = mne.io.read_epochs_eeglab(novel_data_path)\n"
     ]
    },
    {
     "name": "stdout",
     "output_type": "stream",
     "text": [
      "Not setting metadata\n",
      "Not setting metadata\n",
      "101 matching events found\n",
      "No baseline correction applied\n",
      "0 projection items activated\n",
      "Ready.\n",
      "(62, 20, 1000)\n",
      "(15, 20, 600)\n",
      "Extracting parameters from E:/standard and novel/sub3/standard.set...\n"
     ]
    },
    {
     "name": "stderr",
     "output_type": "stream",
     "text": [
      "<ipython-input-6-c623e3af7c63>:13: RuntimeWarning: At least one epoch has multiple events. Only the latency of the first event will be retained.\n",
      "  standard_epochs = mne.io.read_epochs_eeglab(standard_data_path)\n"
     ]
    },
    {
     "name": "stdout",
     "output_type": "stream",
     "text": [
      "Not setting metadata\n",
      "Not setting metadata\n",
      "98 matching events found\n",
      "No baseline correction applied\n",
      "0 projection items activated\n",
      "Ready.\n",
      "(62, 20, 1000)\n",
      "Extracting parameters from E:/standard and novel/sub3/novel.set...\n"
     ]
    },
    {
     "name": "stderr",
     "output_type": "stream",
     "text": [
      "<ipython-input-6-c623e3af7c63>:38: RuntimeWarning: At least one epoch has multiple events. Only the latency of the first event will be retained.\n",
      "  novel_epochs = mne.io.read_epochs_eeglab(novel_data_path)\n"
     ]
    },
    {
     "name": "stdout",
     "output_type": "stream",
     "text": [
      "Not setting metadata\n",
      "Not setting metadata\n",
      "100 matching events found\n",
      "No baseline correction applied\n",
      "0 projection items activated\n",
      "Ready.\n",
      "(62, 20, 1000)\n",
      "(15, 20, 600)\n",
      "Extracting parameters from E:/standard and novel/sub4/standard.set...\n"
     ]
    },
    {
     "name": "stderr",
     "output_type": "stream",
     "text": [
      "<ipython-input-6-c623e3af7c63>:13: RuntimeWarning: At least one epoch has multiple events. Only the latency of the first event will be retained.\n",
      "  standard_epochs = mne.io.read_epochs_eeglab(standard_data_path)\n"
     ]
    },
    {
     "name": "stdout",
     "output_type": "stream",
     "text": [
      "Not setting metadata\n",
      "Not setting metadata\n",
      "100 matching events found\n",
      "No baseline correction applied\n",
      "0 projection items activated\n",
      "Ready.\n",
      "(62, 20, 1000)\n",
      "Extracting parameters from E:/standard and novel/sub4/novel.set...\n"
     ]
    },
    {
     "name": "stderr",
     "output_type": "stream",
     "text": [
      "<ipython-input-6-c623e3af7c63>:38: RuntimeWarning: At least one epoch has multiple events. Only the latency of the first event will be retained.\n",
      "  novel_epochs = mne.io.read_epochs_eeglab(novel_data_path)\n"
     ]
    },
    {
     "name": "stdout",
     "output_type": "stream",
     "text": [
      "Not setting metadata\n",
      "Not setting metadata\n",
      "96 matching events found\n",
      "No baseline correction applied\n",
      "0 projection items activated\n",
      "Ready.\n",
      "(62, 20, 1000)\n",
      "(15, 20, 600)\n",
      "Extracting parameters from E:/standard and novel/sub5/standard.set...\n"
     ]
    },
    {
     "name": "stderr",
     "output_type": "stream",
     "text": [
      "<ipython-input-6-c623e3af7c63>:13: RuntimeWarning: At least one epoch has multiple events. Only the latency of the first event will be retained.\n",
      "  standard_epochs = mne.io.read_epochs_eeglab(standard_data_path)\n"
     ]
    },
    {
     "name": "stdout",
     "output_type": "stream",
     "text": [
      "Not setting metadata\n",
      "Not setting metadata\n",
      "100 matching events found\n",
      "No baseline correction applied\n",
      "0 projection items activated\n",
      "Ready.\n",
      "(61, 20, 1000)\n",
      "Extracting parameters from E:/standard and novel/sub5/novel.set...\n"
     ]
    },
    {
     "name": "stderr",
     "output_type": "stream",
     "text": [
      "<ipython-input-6-c623e3af7c63>:38: RuntimeWarning: At least one epoch has multiple events. Only the latency of the first event will be retained.\n",
      "  novel_epochs = mne.io.read_epochs_eeglab(novel_data_path)\n"
     ]
    },
    {
     "name": "stdout",
     "output_type": "stream",
     "text": [
      "Not setting metadata\n",
      "Not setting metadata\n",
      "102 matching events found\n",
      "No baseline correction applied\n",
      "0 projection items activated\n",
      "Ready.\n",
      "(61, 20, 1000)\n",
      "(15, 20, 600)\n",
      "Extracting parameters from E:/standard and novel/sub6/standard.set...\n"
     ]
    },
    {
     "name": "stderr",
     "output_type": "stream",
     "text": [
      "<ipython-input-6-c623e3af7c63>:13: RuntimeWarning: At least one epoch has multiple events. Only the latency of the first event will be retained.\n",
      "  standard_epochs = mne.io.read_epochs_eeglab(standard_data_path)\n"
     ]
    },
    {
     "name": "stdout",
     "output_type": "stream",
     "text": [
      "Not setting metadata\n",
      "Not setting metadata\n",
      "99 matching events found\n",
      "No baseline correction applied\n",
      "0 projection items activated\n",
      "Ready.\n",
      "(62, 20, 1000)\n",
      "Extracting parameters from E:/standard and novel/sub6/novel.set...\n"
     ]
    },
    {
     "name": "stderr",
     "output_type": "stream",
     "text": [
      "<ipython-input-6-c623e3af7c63>:38: RuntimeWarning: At least one epoch has multiple events. Only the latency of the first event will be retained.\n",
      "  novel_epochs = mne.io.read_epochs_eeglab(novel_data_path)\n"
     ]
    },
    {
     "name": "stdout",
     "output_type": "stream",
     "text": [
      "Not setting metadata\n",
      "Not setting metadata\n",
      "98 matching events found\n",
      "No baseline correction applied\n",
      "0 projection items activated\n",
      "Ready.\n",
      "(62, 20, 1000)\n",
      "(15, 20, 600)\n",
      "Extracting parameters from E:/standard and novel/sub7/standard.set...\n"
     ]
    },
    {
     "name": "stderr",
     "output_type": "stream",
     "text": [
      "<ipython-input-6-c623e3af7c63>:13: RuntimeWarning: At least one epoch has multiple events. Only the latency of the first event will be retained.\n",
      "  standard_epochs = mne.io.read_epochs_eeglab(standard_data_path)\n"
     ]
    },
    {
     "name": "stdout",
     "output_type": "stream",
     "text": [
      "Not setting metadata\n",
      "Not setting metadata\n",
      "102 matching events found\n",
      "No baseline correction applied\n",
      "0 projection items activated\n",
      "Ready.\n",
      "(62, 20, 1000)\n",
      "Extracting parameters from E:/standard and novel/sub7/novel.set...\n"
     ]
    },
    {
     "name": "stderr",
     "output_type": "stream",
     "text": [
      "<ipython-input-6-c623e3af7c63>:38: RuntimeWarning: At least one epoch has multiple events. Only the latency of the first event will be retained.\n",
      "  novel_epochs = mne.io.read_epochs_eeglab(novel_data_path)\n"
     ]
    },
    {
     "name": "stdout",
     "output_type": "stream",
     "text": [
      "Not setting metadata\n",
      "Not setting metadata\n",
      "102 matching events found\n",
      "No baseline correction applied\n",
      "0 projection items activated\n",
      "Ready.\n",
      "(62, 20, 1000)\n",
      "(15, 20, 600)\n",
      "Extracting parameters from E:/standard and novel/sub8/standard.set...\n"
     ]
    },
    {
     "name": "stderr",
     "output_type": "stream",
     "text": [
      "<ipython-input-6-c623e3af7c63>:13: RuntimeWarning: At least one epoch has multiple events. Only the latency of the first event will be retained.\n",
      "  standard_epochs = mne.io.read_epochs_eeglab(standard_data_path)\n"
     ]
    },
    {
     "name": "stdout",
     "output_type": "stream",
     "text": [
      "Not setting metadata\n",
      "Not setting metadata\n",
      "93 matching events found\n",
      "No baseline correction applied\n",
      "0 projection items activated\n",
      "Ready.\n",
      "(62, 20, 1000)\n",
      "Extracting parameters from E:/standard and novel/sub8/novel.set...\n"
     ]
    },
    {
     "name": "stderr",
     "output_type": "stream",
     "text": [
      "<ipython-input-6-c623e3af7c63>:38: RuntimeWarning: At least one epoch has multiple events. Only the latency of the first event will be retained.\n",
      "  novel_epochs = mne.io.read_epochs_eeglab(novel_data_path)\n"
     ]
    },
    {
     "name": "stdout",
     "output_type": "stream",
     "text": [
      "Not setting metadata\n",
      "Not setting metadata\n",
      "97 matching events found\n",
      "No baseline correction applied\n",
      "0 projection items activated\n",
      "Ready.\n",
      "(62, 20, 1000)\n",
      "(15, 20, 600)\n",
      "Extracting parameters from E:/standard and novel/sub9/standard.set...\n"
     ]
    },
    {
     "name": "stderr",
     "output_type": "stream",
     "text": [
      "<ipython-input-6-c623e3af7c63>:13: RuntimeWarning: At least one epoch has multiple events. Only the latency of the first event will be retained.\n",
      "  standard_epochs = mne.io.read_epochs_eeglab(standard_data_path)\n"
     ]
    },
    {
     "name": "stdout",
     "output_type": "stream",
     "text": [
      "Not setting metadata\n",
      "Not setting metadata\n",
      "101 matching events found\n",
      "No baseline correction applied\n",
      "0 projection items activated\n",
      "Ready.\n",
      "(62, 20, 1000)\n",
      "Extracting parameters from E:/standard and novel/sub9/novel.set...\n"
     ]
    },
    {
     "name": "stderr",
     "output_type": "stream",
     "text": [
      "<ipython-input-6-c623e3af7c63>:38: RuntimeWarning: At least one epoch has multiple events. Only the latency of the first event will be retained.\n",
      "  novel_epochs = mne.io.read_epochs_eeglab(novel_data_path)\n"
     ]
    },
    {
     "name": "stdout",
     "output_type": "stream",
     "text": [
      "Not setting metadata\n",
      "Not setting metadata\n",
      "101 matching events found\n",
      "No baseline correction applied\n",
      "0 projection items activated\n",
      "Ready.\n",
      "(62, 20, 1000)\n",
      "(15, 20, 600)\n",
      "Extracting parameters from E:/standard and novel/sub10/standard.set...\n"
     ]
    },
    {
     "name": "stderr",
     "output_type": "stream",
     "text": [
      "<ipython-input-6-c623e3af7c63>:13: RuntimeWarning: At least one epoch has multiple events. Only the latency of the first event will be retained.\n",
      "  standard_epochs = mne.io.read_epochs_eeglab(standard_data_path)\n"
     ]
    },
    {
     "name": "stdout",
     "output_type": "stream",
     "text": [
      "Not setting metadata\n",
      "Not setting metadata\n",
      "85 matching events found\n",
      "No baseline correction applied\n",
      "0 projection items activated\n",
      "Ready.\n",
      "(62, 20, 1000)\n",
      "Extracting parameters from E:/standard and novel/sub10/novel.set...\n"
     ]
    },
    {
     "name": "stderr",
     "output_type": "stream",
     "text": [
      "<ipython-input-6-c623e3af7c63>:38: RuntimeWarning: At least one epoch has multiple events. Only the latency of the first event will be retained.\n",
      "  novel_epochs = mne.io.read_epochs_eeglab(novel_data_path)\n"
     ]
    },
    {
     "name": "stdout",
     "output_type": "stream",
     "text": [
      "Not setting metadata\n",
      "Not setting metadata\n",
      "91 matching events found\n",
      "No baseline correction applied\n",
      "0 projection items activated\n",
      "Ready.\n",
      "(62, 20, 1000)\n",
      "(15, 20, 600)\n",
      "Extracting parameters from E:/standard and novel/sub11/standard.set...\n"
     ]
    },
    {
     "name": "stderr",
     "output_type": "stream",
     "text": [
      "<ipython-input-6-c623e3af7c63>:13: RuntimeWarning: At least one epoch has multiple events. Only the latency of the first event will be retained.\n",
      "  standard_epochs = mne.io.read_epochs_eeglab(standard_data_path)\n"
     ]
    },
    {
     "name": "stdout",
     "output_type": "stream",
     "text": [
      "Not setting metadata\n",
      "Not setting metadata\n",
      "96 matching events found\n",
      "No baseline correction applied\n",
      "0 projection items activated\n",
      "Ready.\n",
      "(62, 20, 1000)\n",
      "Extracting parameters from E:/standard and novel/sub11/novel.set...\n"
     ]
    },
    {
     "name": "stderr",
     "output_type": "stream",
     "text": [
      "<ipython-input-6-c623e3af7c63>:38: RuntimeWarning: At least one epoch has multiple events. Only the latency of the first event will be retained.\n",
      "  novel_epochs = mne.io.read_epochs_eeglab(novel_data_path)\n"
     ]
    },
    {
     "name": "stdout",
     "output_type": "stream",
     "text": [
      "Not setting metadata\n",
      "Not setting metadata\n",
      "99 matching events found\n",
      "No baseline correction applied\n",
      "0 projection items activated\n",
      "Ready.\n",
      "(62, 20, 1000)\n",
      "(15, 20, 600)\n",
      "Extracting parameters from E:/standard and novel/sub12/standard.set...\n"
     ]
    },
    {
     "name": "stderr",
     "output_type": "stream",
     "text": [
      "<ipython-input-6-c623e3af7c63>:13: RuntimeWarning: At least one epoch has multiple events. Only the latency of the first event will be retained.\n",
      "  standard_epochs = mne.io.read_epochs_eeglab(standard_data_path)\n"
     ]
    },
    {
     "name": "stdout",
     "output_type": "stream",
     "text": [
      "Not setting metadata\n",
      "Not setting metadata\n",
      "102 matching events found\n",
      "No baseline correction applied\n",
      "0 projection items activated\n",
      "Ready.\n",
      "(62, 20, 1000)\n",
      "Extracting parameters from E:/standard and novel/sub12/novel.set...\n"
     ]
    },
    {
     "name": "stderr",
     "output_type": "stream",
     "text": [
      "<ipython-input-6-c623e3af7c63>:38: RuntimeWarning: At least one epoch has multiple events. Only the latency of the first event will be retained.\n",
      "  novel_epochs = mne.io.read_epochs_eeglab(novel_data_path)\n"
     ]
    },
    {
     "name": "stdout",
     "output_type": "stream",
     "text": [
      "Not setting metadata\n",
      "Not setting metadata\n",
      "102 matching events found\n",
      "No baseline correction applied\n",
      "0 projection items activated\n",
      "Ready.\n",
      "(62, 20, 1000)\n",
      "(15, 20, 600)\n",
      "Extracting parameters from E:/standard and novel/sub13/standard.set...\n"
     ]
    },
    {
     "name": "stderr",
     "output_type": "stream",
     "text": [
      "<ipython-input-6-c623e3af7c63>:13: RuntimeWarning: At least one epoch has multiple events. Only the latency of the first event will be retained.\n",
      "  standard_epochs = mne.io.read_epochs_eeglab(standard_data_path)\n"
     ]
    },
    {
     "name": "stdout",
     "output_type": "stream",
     "text": [
      "Not setting metadata\n",
      "Not setting metadata\n",
      "102 matching events found\n",
      "No baseline correction applied\n",
      "0 projection items activated\n",
      "Ready.\n",
      "(62, 20, 1000)\n",
      "Extracting parameters from E:/standard and novel/sub13/novel.set...\n"
     ]
    },
    {
     "name": "stderr",
     "output_type": "stream",
     "text": [
      "<ipython-input-6-c623e3af7c63>:38: RuntimeWarning: At least one epoch has multiple events. Only the latency of the first event will be retained.\n",
      "  novel_epochs = mne.io.read_epochs_eeglab(novel_data_path)\n"
     ]
    },
    {
     "name": "stdout",
     "output_type": "stream",
     "text": [
      "Not setting metadata\n",
      "Not setting metadata\n",
      "102 matching events found\n",
      "No baseline correction applied\n",
      "0 projection items activated\n",
      "Ready.\n",
      "(62, 20, 1000)\n",
      "(15, 20, 600)\n",
      "Extracting parameters from E:/standard and novel/sub14/standard.set...\n"
     ]
    },
    {
     "name": "stderr",
     "output_type": "stream",
     "text": [
      "<ipython-input-6-c623e3af7c63>:13: RuntimeWarning: At least one epoch has multiple events. Only the latency of the first event will be retained.\n",
      "  standard_epochs = mne.io.read_epochs_eeglab(standard_data_path)\n"
     ]
    },
    {
     "name": "stdout",
     "output_type": "stream",
     "text": [
      "Not setting metadata\n",
      "Not setting metadata\n",
      "94 matching events found\n",
      "No baseline correction applied\n",
      "0 projection items activated\n",
      "Ready.\n",
      "(62, 20, 1000)\n",
      "Extracting parameters from E:/standard and novel/sub14/novel.set...\n"
     ]
    },
    {
     "name": "stderr",
     "output_type": "stream",
     "text": [
      "<ipython-input-6-c623e3af7c63>:38: RuntimeWarning: At least one epoch has multiple events. Only the latency of the first event will be retained.\n",
      "  novel_epochs = mne.io.read_epochs_eeglab(novel_data_path)\n"
     ]
    },
    {
     "name": "stdout",
     "output_type": "stream",
     "text": [
      "Not setting metadata\n",
      "Not setting metadata\n",
      "99 matching events found\n",
      "No baseline correction applied\n",
      "0 projection items activated\n",
      "Ready.\n",
      "(62, 20, 1000)\n",
      "(15, 20, 600)\n",
      "Extracting parameters from E:/standard and novel/sub15/standard.set...\n"
     ]
    },
    {
     "name": "stderr",
     "output_type": "stream",
     "text": [
      "<ipython-input-6-c623e3af7c63>:13: RuntimeWarning: At least one epoch has multiple events. Only the latency of the first event will be retained.\n",
      "  standard_epochs = mne.io.read_epochs_eeglab(standard_data_path)\n"
     ]
    },
    {
     "name": "stdout",
     "output_type": "stream",
     "text": [
      "Not setting metadata\n",
      "Not setting metadata\n",
      "102 matching events found\n",
      "No baseline correction applied\n",
      "0 projection items activated\n",
      "Ready.\n",
      "(62, 20, 1000)\n",
      "Extracting parameters from E:/standard and novel/sub15/novel.set...\n"
     ]
    },
    {
     "name": "stderr",
     "output_type": "stream",
     "text": [
      "<ipython-input-6-c623e3af7c63>:38: RuntimeWarning: At least one epoch has multiple events. Only the latency of the first event will be retained.\n",
      "  novel_epochs = mne.io.read_epochs_eeglab(novel_data_path)\n"
     ]
    },
    {
     "name": "stdout",
     "output_type": "stream",
     "text": [
      "Not setting metadata\n",
      "Not setting metadata\n",
      "102 matching events found\n",
      "No baseline correction applied\n",
      "0 projection items activated\n",
      "Ready.\n",
      "(62, 20, 1000)\n",
      "(15, 20, 600)\n",
      "Extracting parameters from E:/standard and novel/sub16/standard.set...\n"
     ]
    },
    {
     "name": "stderr",
     "output_type": "stream",
     "text": [
      "<ipython-input-6-c623e3af7c63>:13: RuntimeWarning: At least one epoch has multiple events. Only the latency of the first event will be retained.\n",
      "  standard_epochs = mne.io.read_epochs_eeglab(standard_data_path)\n"
     ]
    },
    {
     "name": "stdout",
     "output_type": "stream",
     "text": [
      "Not setting metadata\n",
      "Not setting metadata\n",
      "102 matching events found\n",
      "No baseline correction applied\n",
      "0 projection items activated\n",
      "Ready.\n",
      "(62, 20, 1000)\n",
      "Extracting parameters from E:/standard and novel/sub16/novel.set...\n"
     ]
    },
    {
     "name": "stderr",
     "output_type": "stream",
     "text": [
      "<ipython-input-6-c623e3af7c63>:38: RuntimeWarning: At least one epoch has multiple events. Only the latency of the first event will be retained.\n",
      "  novel_epochs = mne.io.read_epochs_eeglab(novel_data_path)\n"
     ]
    },
    {
     "name": "stdout",
     "output_type": "stream",
     "text": [
      "Not setting metadata\n",
      "Not setting metadata\n",
      "102 matching events found\n",
      "No baseline correction applied\n",
      "0 projection items activated\n",
      "Ready.\n",
      "(62, 20, 1000)\n",
      "(15, 20, 600)\n",
      "Extracting parameters from E:/standard and novel/sub17/standard.set...\n"
     ]
    },
    {
     "name": "stderr",
     "output_type": "stream",
     "text": [
      "<ipython-input-6-c623e3af7c63>:13: RuntimeWarning: At least one epoch has multiple events. Only the latency of the first event will be retained.\n",
      "  standard_epochs = mne.io.read_epochs_eeglab(standard_data_path)\n"
     ]
    },
    {
     "name": "stdout",
     "output_type": "stream",
     "text": [
      "Not setting metadata\n",
      "Not setting metadata\n",
      "102 matching events found\n",
      "No baseline correction applied\n",
      "0 projection items activated\n",
      "Ready.\n",
      "(62, 20, 1000)\n",
      "Extracting parameters from E:/standard and novel/sub17/novel.set...\n"
     ]
    },
    {
     "name": "stderr",
     "output_type": "stream",
     "text": [
      "<ipython-input-6-c623e3af7c63>:38: RuntimeWarning: At least one epoch has multiple events. Only the latency of the first event will be retained.\n",
      "  novel_epochs = mne.io.read_epochs_eeglab(novel_data_path)\n"
     ]
    },
    {
     "name": "stdout",
     "output_type": "stream",
     "text": [
      "Not setting metadata\n",
      "Not setting metadata\n",
      "102 matching events found\n",
      "No baseline correction applied\n",
      "0 projection items activated\n",
      "Ready.\n",
      "(62, 20, 1000)\n",
      "(15, 20, 600)\n",
      "Extracting parameters from E:/standard and novel/sub18/standard.set...\n"
     ]
    },
    {
     "name": "stderr",
     "output_type": "stream",
     "text": [
      "<ipython-input-6-c623e3af7c63>:13: RuntimeWarning: At least one epoch has multiple events. Only the latency of the first event will be retained.\n",
      "  standard_epochs = mne.io.read_epochs_eeglab(standard_data_path)\n"
     ]
    },
    {
     "name": "stdout",
     "output_type": "stream",
     "text": [
      "Not setting metadata\n",
      "Not setting metadata\n",
      "102 matching events found\n",
      "No baseline correction applied\n",
      "0 projection items activated\n",
      "Ready.\n",
      "(62, 20, 1000)\n",
      "Extracting parameters from E:/standard and novel/sub18/novel.set...\n"
     ]
    },
    {
     "name": "stderr",
     "output_type": "stream",
     "text": [
      "<ipython-input-6-c623e3af7c63>:38: RuntimeWarning: At least one epoch has multiple events. Only the latency of the first event will be retained.\n",
      "  novel_epochs = mne.io.read_epochs_eeglab(novel_data_path)\n"
     ]
    },
    {
     "name": "stdout",
     "output_type": "stream",
     "text": [
      "Not setting metadata\n",
      "Not setting metadata\n",
      "102 matching events found\n",
      "No baseline correction applied\n",
      "0 projection items activated\n",
      "Ready.\n",
      "(62, 20, 1000)\n",
      "(15, 20, 600)\n",
      "Extracting parameters from E:/standard and novel/sub19/standard.set...\n"
     ]
    },
    {
     "name": "stderr",
     "output_type": "stream",
     "text": [
      "<ipython-input-6-c623e3af7c63>:13: RuntimeWarning: At least one epoch has multiple events. Only the latency of the first event will be retained.\n",
      "  standard_epochs = mne.io.read_epochs_eeglab(standard_data_path)\n"
     ]
    },
    {
     "name": "stdout",
     "output_type": "stream",
     "text": [
      "Not setting metadata\n",
      "Not setting metadata\n",
      "98 matching events found\n",
      "No baseline correction applied\n",
      "0 projection items activated\n",
      "Ready.\n",
      "(62, 20, 1000)\n",
      "Extracting parameters from E:/standard and novel/sub19/novel.set...\n"
     ]
    },
    {
     "name": "stderr",
     "output_type": "stream",
     "text": [
      "<ipython-input-6-c623e3af7c63>:38: RuntimeWarning: At least one epoch has multiple events. Only the latency of the first event will be retained.\n",
      "  novel_epochs = mne.io.read_epochs_eeglab(novel_data_path)\n"
     ]
    },
    {
     "name": "stdout",
     "output_type": "stream",
     "text": [
      "Not setting metadata\n",
      "Not setting metadata\n",
      "101 matching events found\n",
      "No baseline correction applied\n",
      "0 projection items activated\n",
      "Ready.\n",
      "(62, 20, 1000)\n",
      "(15, 20, 600)\n",
      "Extracting parameters from E:/standard and novel/sub20/standard.set...\n"
     ]
    },
    {
     "name": "stderr",
     "output_type": "stream",
     "text": [
      "<ipython-input-6-c623e3af7c63>:13: RuntimeWarning: At least one epoch has multiple events. Only the latency of the first event will be retained.\n",
      "  standard_epochs = mne.io.read_epochs_eeglab(standard_data_path)\n"
     ]
    },
    {
     "name": "stdout",
     "output_type": "stream",
     "text": [
      "Not setting metadata\n",
      "Not setting metadata\n",
      "85 matching events found\n",
      "No baseline correction applied\n",
      "0 projection items activated\n",
      "Ready.\n",
      "(62, 20, 1000)\n",
      "Extracting parameters from E:/standard and novel/sub20/novel.set...\n"
     ]
    },
    {
     "name": "stderr",
     "output_type": "stream",
     "text": [
      "<ipython-input-6-c623e3af7c63>:38: RuntimeWarning: At least one epoch has multiple events. Only the latency of the first event will be retained.\n",
      "  novel_epochs = mne.io.read_epochs_eeglab(novel_data_path)\n"
     ]
    },
    {
     "name": "stdout",
     "output_type": "stream",
     "text": [
      "Not setting metadata\n",
      "Not setting metadata\n",
      "91 matching events found\n",
      "No baseline correction applied\n",
      "0 projection items activated\n",
      "Ready.\n",
      "(62, 20, 1000)\n",
      "(15, 20, 600)\n",
      "Extracting parameters from E:/standard and novel/sub21/standard.set...\n"
     ]
    },
    {
     "name": "stderr",
     "output_type": "stream",
     "text": [
      "<ipython-input-6-c623e3af7c63>:13: RuntimeWarning: At least one epoch has multiple events. Only the latency of the first event will be retained.\n",
      "  standard_epochs = mne.io.read_epochs_eeglab(standard_data_path)\n"
     ]
    },
    {
     "name": "stdout",
     "output_type": "stream",
     "text": [
      "Not setting metadata\n",
      "Not setting metadata\n",
      "96 matching events found\n",
      "No baseline correction applied\n",
      "0 projection items activated\n",
      "Ready.\n",
      "(62, 20, 1000)\n",
      "Extracting parameters from E:/standard and novel/sub21/novel.set...\n"
     ]
    },
    {
     "name": "stderr",
     "output_type": "stream",
     "text": [
      "<ipython-input-6-c623e3af7c63>:38: RuntimeWarning: At least one epoch has multiple events. Only the latency of the first event will be retained.\n",
      "  novel_epochs = mne.io.read_epochs_eeglab(novel_data_path)\n"
     ]
    },
    {
     "name": "stdout",
     "output_type": "stream",
     "text": [
      "Not setting metadata\n",
      "Not setting metadata\n",
      "97 matching events found\n",
      "No baseline correction applied\n",
      "0 projection items activated\n",
      "Ready.\n",
      "(62, 20, 1000)\n",
      "(15, 20, 600)\n",
      "Extracting parameters from E:/standard and novel/sub22/standard.set...\n"
     ]
    },
    {
     "name": "stderr",
     "output_type": "stream",
     "text": [
      "<ipython-input-6-c623e3af7c63>:13: RuntimeWarning: At least one epoch has multiple events. Only the latency of the first event will be retained.\n",
      "  standard_epochs = mne.io.read_epochs_eeglab(standard_data_path)\n"
     ]
    },
    {
     "name": "stdout",
     "output_type": "stream",
     "text": [
      "Not setting metadata\n",
      "Not setting metadata\n",
      "102 matching events found\n",
      "No baseline correction applied\n",
      "0 projection items activated\n",
      "Ready.\n",
      "(62, 20, 1000)\n",
      "Extracting parameters from E:/standard and novel/sub22/novel.set...\n"
     ]
    },
    {
     "name": "stderr",
     "output_type": "stream",
     "text": [
      "<ipython-input-6-c623e3af7c63>:38: RuntimeWarning: At least one epoch has multiple events. Only the latency of the first event will be retained.\n",
      "  novel_epochs = mne.io.read_epochs_eeglab(novel_data_path)\n"
     ]
    },
    {
     "name": "stdout",
     "output_type": "stream",
     "text": [
      "Not setting metadata\n",
      "Not setting metadata\n",
      "102 matching events found\n",
      "No baseline correction applied\n",
      "0 projection items activated\n",
      "Ready.\n",
      "(62, 20, 1000)\n",
      "(15, 20, 600)\n",
      "Extracting parameters from E:/standard and novel/sub23/standard.set...\n"
     ]
    },
    {
     "name": "stderr",
     "output_type": "stream",
     "text": [
      "<ipython-input-6-c623e3af7c63>:13: RuntimeWarning: At least one epoch has multiple events. Only the latency of the first event will be retained.\n",
      "  standard_epochs = mne.io.read_epochs_eeglab(standard_data_path)\n"
     ]
    },
    {
     "name": "stdout",
     "output_type": "stream",
     "text": [
      "Not setting metadata\n",
      "Not setting metadata\n",
      "102 matching events found\n",
      "No baseline correction applied\n",
      "0 projection items activated\n",
      "Ready.\n",
      "(62, 20, 1000)\n",
      "Extracting parameters from E:/standard and novel/sub23/novel.set...\n"
     ]
    },
    {
     "name": "stderr",
     "output_type": "stream",
     "text": [
      "<ipython-input-6-c623e3af7c63>:38: RuntimeWarning: At least one epoch has multiple events. Only the latency of the first event will be retained.\n",
      "  novel_epochs = mne.io.read_epochs_eeglab(novel_data_path)\n"
     ]
    },
    {
     "name": "stdout",
     "output_type": "stream",
     "text": [
      "Not setting metadata\n",
      "Not setting metadata\n",
      "102 matching events found\n",
      "No baseline correction applied\n",
      "0 projection items activated\n",
      "Ready.\n",
      "(62, 20, 1000)\n",
      "(15, 20, 600)\n",
      "Extracting parameters from E:/standard and novel/sub24/standard.set...\n"
     ]
    },
    {
     "name": "stderr",
     "output_type": "stream",
     "text": [
      "<ipython-input-6-c623e3af7c63>:13: RuntimeWarning: At least one epoch has multiple events. Only the latency of the first event will be retained.\n",
      "  standard_epochs = mne.io.read_epochs_eeglab(standard_data_path)\n"
     ]
    },
    {
     "name": "stdout",
     "output_type": "stream",
     "text": [
      "Not setting metadata\n",
      "Not setting metadata\n",
      "93 matching events found\n",
      "No baseline correction applied\n",
      "0 projection items activated\n",
      "Ready.\n",
      "(62, 20, 1000)\n",
      "Extracting parameters from E:/standard and novel/sub24/novel.set...\n"
     ]
    },
    {
     "name": "stderr",
     "output_type": "stream",
     "text": [
      "<ipython-input-6-c623e3af7c63>:38: RuntimeWarning: At least one epoch has multiple events. Only the latency of the first event will be retained.\n",
      "  novel_epochs = mne.io.read_epochs_eeglab(novel_data_path)\n"
     ]
    },
    {
     "name": "stdout",
     "output_type": "stream",
     "text": [
      "Not setting metadata\n",
      "Not setting metadata\n",
      "100 matching events found\n",
      "No baseline correction applied\n",
      "0 projection items activated\n",
      "Ready.\n",
      "(62, 20, 1000)\n",
      "(15, 20, 600)\n",
      "Extracting parameters from E:/standard and novel/sub25/standard.set...\n"
     ]
    },
    {
     "name": "stderr",
     "output_type": "stream",
     "text": [
      "<ipython-input-6-c623e3af7c63>:13: RuntimeWarning: At least one epoch has multiple events. Only the latency of the first event will be retained.\n",
      "  standard_epochs = mne.io.read_epochs_eeglab(standard_data_path)\n"
     ]
    },
    {
     "name": "stdout",
     "output_type": "stream",
     "text": [
      "Not setting metadata\n",
      "Not setting metadata\n",
      "102 matching events found\n",
      "No baseline correction applied\n",
      "0 projection items activated\n",
      "Ready.\n",
      "(62, 20, 1000)\n",
      "Extracting parameters from E:/standard and novel/sub25/novel.set...\n"
     ]
    },
    {
     "name": "stderr",
     "output_type": "stream",
     "text": [
      "<ipython-input-6-c623e3af7c63>:38: RuntimeWarning: At least one epoch has multiple events. Only the latency of the first event will be retained.\n",
      "  novel_epochs = mne.io.read_epochs_eeglab(novel_data_path)\n"
     ]
    },
    {
     "name": "stdout",
     "output_type": "stream",
     "text": [
      "Not setting metadata\n",
      "Not setting metadata\n",
      "102 matching events found\n",
      "No baseline correction applied\n",
      "0 projection items activated\n",
      "Ready.\n",
      "(62, 20, 1000)\n",
      "(15, 20, 600)\n",
      "Extracting parameters from E:/standard and novel/sub26/standard.set...\n"
     ]
    },
    {
     "name": "stderr",
     "output_type": "stream",
     "text": [
      "<ipython-input-6-c623e3af7c63>:13: RuntimeWarning: At least one epoch has multiple events. Only the latency of the first event will be retained.\n",
      "  standard_epochs = mne.io.read_epochs_eeglab(standard_data_path)\n"
     ]
    },
    {
     "name": "stdout",
     "output_type": "stream",
     "text": [
      "Not setting metadata\n",
      "Not setting metadata\n",
      "97 matching events found\n",
      "No baseline correction applied\n",
      "0 projection items activated\n",
      "Ready.\n",
      "(62, 20, 1000)\n",
      "Extracting parameters from E:/standard and novel/sub26/novel.set...\n"
     ]
    },
    {
     "name": "stderr",
     "output_type": "stream",
     "text": [
      "<ipython-input-6-c623e3af7c63>:38: RuntimeWarning: At least one epoch has multiple events. Only the latency of the first event will be retained.\n",
      "  novel_epochs = mne.io.read_epochs_eeglab(novel_data_path)\n"
     ]
    },
    {
     "name": "stdout",
     "output_type": "stream",
     "text": [
      "Not setting metadata\n",
      "Not setting metadata\n",
      "95 matching events found\n",
      "No baseline correction applied\n",
      "0 projection items activated\n",
      "Ready.\n",
      "(62, 20, 1000)\n",
      "(15, 20, 600)\n",
      "Extracting parameters from E:/standard and novel/sub27/standard.set...\n"
     ]
    },
    {
     "name": "stderr",
     "output_type": "stream",
     "text": [
      "<ipython-input-6-c623e3af7c63>:13: RuntimeWarning: At least one epoch has multiple events. Only the latency of the first event will be retained.\n",
      "  standard_epochs = mne.io.read_epochs_eeglab(standard_data_path)\n"
     ]
    },
    {
     "name": "stdout",
     "output_type": "stream",
     "text": [
      "Not setting metadata\n",
      "Not setting metadata\n",
      "102 matching events found\n",
      "No baseline correction applied\n",
      "0 projection items activated\n",
      "Ready.\n",
      "(62, 20, 1000)\n",
      "Extracting parameters from E:/standard and novel/sub27/novel.set...\n"
     ]
    },
    {
     "name": "stderr",
     "output_type": "stream",
     "text": [
      "<ipython-input-6-c623e3af7c63>:38: RuntimeWarning: At least one epoch has multiple events. Only the latency of the first event will be retained.\n",
      "  novel_epochs = mne.io.read_epochs_eeglab(novel_data_path)\n"
     ]
    },
    {
     "name": "stdout",
     "output_type": "stream",
     "text": [
      "Not setting metadata\n",
      "Not setting metadata\n",
      "102 matching events found\n",
      "No baseline correction applied\n",
      "0 projection items activated\n",
      "Ready.\n",
      "(62, 20, 1000)\n",
      "(15, 20, 600)\n",
      "Extracting parameters from E:/standard and novel/sub28/standard.set...\n"
     ]
    },
    {
     "name": "stderr",
     "output_type": "stream",
     "text": [
      "<ipython-input-6-c623e3af7c63>:13: RuntimeWarning: At least one epoch has multiple events. Only the latency of the first event will be retained.\n",
      "  standard_epochs = mne.io.read_epochs_eeglab(standard_data_path)\n"
     ]
    },
    {
     "name": "stdout",
     "output_type": "stream",
     "text": [
      "Not setting metadata\n",
      "Not setting metadata\n",
      "95 matching events found\n",
      "No baseline correction applied\n",
      "0 projection items activated\n",
      "Ready.\n",
      "(62, 20, 1000)\n",
      "Extracting parameters from E:/standard and novel/sub28/novel.set...\n"
     ]
    },
    {
     "name": "stderr",
     "output_type": "stream",
     "text": [
      "<ipython-input-6-c623e3af7c63>:38: RuntimeWarning: At least one epoch has multiple events. Only the latency of the first event will be retained.\n",
      "  novel_epochs = mne.io.read_epochs_eeglab(novel_data_path)\n"
     ]
    },
    {
     "name": "stdout",
     "output_type": "stream",
     "text": [
      "Not setting metadata\n",
      "Not setting metadata\n",
      "95 matching events found\n",
      "No baseline correction applied\n",
      "0 projection items activated\n",
      "Ready.\n",
      "(62, 20, 1000)\n",
      "(15, 20, 600)\n",
      "Extracting parameters from E:/standard and novel/sub29/standard.set...\n"
     ]
    },
    {
     "name": "stderr",
     "output_type": "stream",
     "text": [
      "<ipython-input-6-c623e3af7c63>:13: RuntimeWarning: At least one epoch has multiple events. Only the latency of the first event will be retained.\n",
      "  standard_epochs = mne.io.read_epochs_eeglab(standard_data_path)\n"
     ]
    },
    {
     "name": "stdout",
     "output_type": "stream",
     "text": [
      "Not setting metadata\n",
      "Not setting metadata\n",
      "102 matching events found\n",
      "No baseline correction applied\n",
      "0 projection items activated\n",
      "Ready.\n",
      "(62, 20, 1000)\n",
      "Extracting parameters from E:/standard and novel/sub29/novel.set...\n"
     ]
    },
    {
     "name": "stderr",
     "output_type": "stream",
     "text": [
      "<ipython-input-6-c623e3af7c63>:38: RuntimeWarning: At least one epoch has multiple events. Only the latency of the first event will be retained.\n",
      "  novel_epochs = mne.io.read_epochs_eeglab(novel_data_path)\n"
     ]
    },
    {
     "name": "stdout",
     "output_type": "stream",
     "text": [
      "Not setting metadata\n",
      "Not setting metadata\n",
      "102 matching events found\n",
      "No baseline correction applied\n",
      "0 projection items activated\n",
      "Ready.\n",
      "(62, 20, 1000)\n",
      "(15, 20, 600)\n",
      "Extracting parameters from E:/standard and novel/sub30/standard.set...\n"
     ]
    },
    {
     "name": "stderr",
     "output_type": "stream",
     "text": [
      "<ipython-input-6-c623e3af7c63>:13: RuntimeWarning: At least one epoch has multiple events. Only the latency of the first event will be retained.\n",
      "  standard_epochs = mne.io.read_epochs_eeglab(standard_data_path)\n"
     ]
    },
    {
     "name": "stdout",
     "output_type": "stream",
     "text": [
      "Not setting metadata\n",
      "Not setting metadata\n",
      "100 matching events found\n",
      "No baseline correction applied\n",
      "0 projection items activated\n",
      "Ready.\n",
      "(62, 20, 1000)\n",
      "Extracting parameters from E:/standard and novel/sub30/novel.set...\n"
     ]
    },
    {
     "name": "stderr",
     "output_type": "stream",
     "text": [
      "<ipython-input-6-c623e3af7c63>:38: RuntimeWarning: At least one epoch has multiple events. Only the latency of the first event will be retained.\n",
      "  novel_epochs = mne.io.read_epochs_eeglab(novel_data_path)\n"
     ]
    },
    {
     "name": "stdout",
     "output_type": "stream",
     "text": [
      "Not setting metadata\n",
      "Not setting metadata\n",
      "101 matching events found\n",
      "No baseline correction applied\n",
      "0 projection items activated\n",
      "Ready.\n",
      "(62, 20, 1000)\n",
      "(15, 20, 600)\n",
      "Extracting parameters from E:/standard and novel/sub31/standard.set...\n"
     ]
    },
    {
     "name": "stderr",
     "output_type": "stream",
     "text": [
      "<ipython-input-6-c623e3af7c63>:13: RuntimeWarning: At least one epoch has multiple events. Only the latency of the first event will be retained.\n",
      "  standard_epochs = mne.io.read_epochs_eeglab(standard_data_path)\n"
     ]
    },
    {
     "name": "stdout",
     "output_type": "stream",
     "text": [
      "Not setting metadata\n",
      "Not setting metadata\n",
      "101 matching events found\n",
      "No baseline correction applied\n",
      "0 projection items activated\n",
      "Ready.\n",
      "(61, 20, 1000)\n",
      "Extracting parameters from E:/standard and novel/sub31/novel.set...\n"
     ]
    },
    {
     "name": "stderr",
     "output_type": "stream",
     "text": [
      "<ipython-input-6-c623e3af7c63>:38: RuntimeWarning: At least one epoch has multiple events. Only the latency of the first event will be retained.\n",
      "  novel_epochs = mne.io.read_epochs_eeglab(novel_data_path)\n"
     ]
    },
    {
     "name": "stdout",
     "output_type": "stream",
     "text": [
      "Not setting metadata\n",
      "Not setting metadata\n",
      "100 matching events found\n",
      "No baseline correction applied\n",
      "0 projection items activated\n",
      "Ready.\n",
      "(61, 20, 1000)\n",
      "(15, 20, 600)\n",
      "Extracting parameters from E:/standard and novel/sub32/standard.set...\n"
     ]
    },
    {
     "name": "stderr",
     "output_type": "stream",
     "text": [
      "<ipython-input-6-c623e3af7c63>:13: RuntimeWarning: At least one epoch has multiple events. Only the latency of the first event will be retained.\n",
      "  standard_epochs = mne.io.read_epochs_eeglab(standard_data_path)\n"
     ]
    },
    {
     "name": "stdout",
     "output_type": "stream",
     "text": [
      "Not setting metadata\n",
      "Not setting metadata\n",
      "102 matching events found\n",
      "No baseline correction applied\n",
      "0 projection items activated\n",
      "Ready.\n",
      "(62, 20, 1000)\n",
      "Extracting parameters from E:/standard and novel/sub32/novel.set...\n"
     ]
    },
    {
     "name": "stderr",
     "output_type": "stream",
     "text": [
      "<ipython-input-6-c623e3af7c63>:38: RuntimeWarning: At least one epoch has multiple events. Only the latency of the first event will be retained.\n",
      "  novel_epochs = mne.io.read_epochs_eeglab(novel_data_path)\n"
     ]
    },
    {
     "name": "stdout",
     "output_type": "stream",
     "text": [
      "Not setting metadata\n",
      "Not setting metadata\n",
      "101 matching events found\n",
      "No baseline correction applied\n",
      "0 projection items activated\n",
      "Ready.\n",
      "(62, 20, 1000)\n",
      "(15, 20, 600)\n",
      "Extracting parameters from E:/standard and novel/sub33/standard.set...\n"
     ]
    },
    {
     "name": "stderr",
     "output_type": "stream",
     "text": [
      "<ipython-input-6-c623e3af7c63>:13: RuntimeWarning: At least one epoch has multiple events. Only the latency of the first event will be retained.\n",
      "  standard_epochs = mne.io.read_epochs_eeglab(standard_data_path)\n"
     ]
    },
    {
     "name": "stdout",
     "output_type": "stream",
     "text": [
      "Not setting metadata\n",
      "Not setting metadata\n",
      "91 matching events found\n",
      "No baseline correction applied\n",
      "0 projection items activated\n",
      "Ready.\n",
      "(62, 20, 1000)\n",
      "Extracting parameters from E:/standard and novel/sub33/novel.set...\n"
     ]
    },
    {
     "name": "stderr",
     "output_type": "stream",
     "text": [
      "<ipython-input-6-c623e3af7c63>:38: RuntimeWarning: At least one epoch has multiple events. Only the latency of the first event will be retained.\n",
      "  novel_epochs = mne.io.read_epochs_eeglab(novel_data_path)\n"
     ]
    },
    {
     "name": "stdout",
     "output_type": "stream",
     "text": [
      "Not setting metadata\n",
      "Not setting metadata\n",
      "89 matching events found\n",
      "No baseline correction applied\n",
      "0 projection items activated\n",
      "Ready.\n",
      "(62, 20, 1000)\n",
      "(15, 20, 600)\n",
      "Extracting parameters from E:/standard and novel/sub34/standard.set...\n"
     ]
    },
    {
     "name": "stderr",
     "output_type": "stream",
     "text": [
      "<ipython-input-6-c623e3af7c63>:13: RuntimeWarning: At least one epoch has multiple events. Only the latency of the first event will be retained.\n",
      "  standard_epochs = mne.io.read_epochs_eeglab(standard_data_path)\n"
     ]
    },
    {
     "name": "stdout",
     "output_type": "stream",
     "text": [
      "Not setting metadata\n",
      "Not setting metadata\n",
      "102 matching events found\n",
      "No baseline correction applied\n",
      "0 projection items activated\n",
      "Ready.\n",
      "(62, 20, 1000)\n",
      "Extracting parameters from E:/standard and novel/sub34/novel.set...\n"
     ]
    },
    {
     "name": "stderr",
     "output_type": "stream",
     "text": [
      "<ipython-input-6-c623e3af7c63>:38: RuntimeWarning: At least one epoch has multiple events. Only the latency of the first event will be retained.\n",
      "  novel_epochs = mne.io.read_epochs_eeglab(novel_data_path)\n"
     ]
    },
    {
     "name": "stdout",
     "output_type": "stream",
     "text": [
      "Not setting metadata\n",
      "Not setting metadata\n",
      "102 matching events found\n",
      "No baseline correction applied\n",
      "0 projection items activated\n",
      "Ready.\n",
      "(62, 20, 1000)\n",
      "(15, 20, 600)\n",
      "Extracting parameters from E:/standard and novel/sub35/standard.set...\n"
     ]
    },
    {
     "name": "stderr",
     "output_type": "stream",
     "text": [
      "<ipython-input-6-c623e3af7c63>:13: RuntimeWarning: At least one epoch has multiple events. Only the latency of the first event will be retained.\n",
      "  standard_epochs = mne.io.read_epochs_eeglab(standard_data_path)\n"
     ]
    },
    {
     "name": "stdout",
     "output_type": "stream",
     "text": [
      "Not setting metadata\n",
      "Not setting metadata\n",
      "101 matching events found\n",
      "No baseline correction applied\n",
      "0 projection items activated\n",
      "Ready.\n",
      "(62, 20, 1000)\n",
      "Extracting parameters from E:/standard and novel/sub35/novel.set...\n"
     ]
    },
    {
     "name": "stderr",
     "output_type": "stream",
     "text": [
      "<ipython-input-6-c623e3af7c63>:38: RuntimeWarning: At least one epoch has multiple events. Only the latency of the first event will be retained.\n",
      "  novel_epochs = mne.io.read_epochs_eeglab(novel_data_path)\n"
     ]
    },
    {
     "name": "stdout",
     "output_type": "stream",
     "text": [
      "Not setting metadata\n",
      "Not setting metadata\n",
      "101 matching events found\n",
      "No baseline correction applied\n",
      "0 projection items activated\n",
      "Ready.\n",
      "(62, 20, 1000)\n",
      "(15, 20, 600)\n",
      "Extracting parameters from E:/standard and novel/sub36/standard.set...\n"
     ]
    },
    {
     "name": "stderr",
     "output_type": "stream",
     "text": [
      "<ipython-input-6-c623e3af7c63>:13: RuntimeWarning: At least one epoch has multiple events. Only the latency of the first event will be retained.\n",
      "  standard_epochs = mne.io.read_epochs_eeglab(standard_data_path)\n"
     ]
    },
    {
     "name": "stdout",
     "output_type": "stream",
     "text": [
      "Not setting metadata\n",
      "Not setting metadata\n",
      "102 matching events found\n",
      "No baseline correction applied\n",
      "0 projection items activated\n",
      "Ready.\n",
      "(62, 20, 1000)\n",
      "Extracting parameters from E:/standard and novel/sub36/novel.set...\n"
     ]
    },
    {
     "name": "stderr",
     "output_type": "stream",
     "text": [
      "<ipython-input-6-c623e3af7c63>:38: RuntimeWarning: At least one epoch has multiple events. Only the latency of the first event will be retained.\n",
      "  novel_epochs = mne.io.read_epochs_eeglab(novel_data_path)\n"
     ]
    },
    {
     "name": "stdout",
     "output_type": "stream",
     "text": [
      "Not setting metadata\n",
      "Not setting metadata\n",
      "102 matching events found\n",
      "No baseline correction applied\n",
      "0 projection items activated\n",
      "Ready.\n",
      "(62, 20, 1000)\n",
      "(15, 20, 600)\n",
      "Extracting parameters from E:/standard and novel/sub37/standard.set...\n"
     ]
    },
    {
     "name": "stderr",
     "output_type": "stream",
     "text": [
      "<ipython-input-6-c623e3af7c63>:13: RuntimeWarning: At least one epoch has multiple events. Only the latency of the first event will be retained.\n",
      "  standard_epochs = mne.io.read_epochs_eeglab(standard_data_path)\n"
     ]
    },
    {
     "name": "stdout",
     "output_type": "stream",
     "text": [
      "Not setting metadata\n",
      "Not setting metadata\n",
      "95 matching events found\n",
      "No baseline correction applied\n",
      "0 projection items activated\n",
      "Ready.\n",
      "(62, 20, 1000)\n",
      "Extracting parameters from E:/standard and novel/sub37/novel.set...\n"
     ]
    },
    {
     "name": "stderr",
     "output_type": "stream",
     "text": [
      "<ipython-input-6-c623e3af7c63>:38: RuntimeWarning: At least one epoch has multiple events. Only the latency of the first event will be retained.\n",
      "  novel_epochs = mne.io.read_epochs_eeglab(novel_data_path)\n"
     ]
    },
    {
     "name": "stdout",
     "output_type": "stream",
     "text": [
      "Not setting metadata\n",
      "Not setting metadata\n",
      "89 matching events found\n",
      "No baseline correction applied\n",
      "0 projection items activated\n",
      "Ready.\n",
      "(62, 20, 1000)\n",
      "(15, 20, 600)\n",
      "Extracting parameters from E:/standard and novel/sub38/standard.set...\n"
     ]
    },
    {
     "name": "stderr",
     "output_type": "stream",
     "text": [
      "<ipython-input-6-c623e3af7c63>:13: RuntimeWarning: At least one epoch has multiple events. Only the latency of the first event will be retained.\n",
      "  standard_epochs = mne.io.read_epochs_eeglab(standard_data_path)\n"
     ]
    },
    {
     "name": "stdout",
     "output_type": "stream",
     "text": [
      "Not setting metadata\n",
      "Not setting metadata\n",
      "102 matching events found\n",
      "No baseline correction applied\n",
      "0 projection items activated\n",
      "Ready.\n",
      "(62, 20, 1000)\n",
      "Extracting parameters from E:/standard and novel/sub38/novel.set...\n"
     ]
    },
    {
     "name": "stderr",
     "output_type": "stream",
     "text": [
      "<ipython-input-6-c623e3af7c63>:38: RuntimeWarning: At least one epoch has multiple events. Only the latency of the first event will be retained.\n",
      "  novel_epochs = mne.io.read_epochs_eeglab(novel_data_path)\n"
     ]
    },
    {
     "name": "stdout",
     "output_type": "stream",
     "text": [
      "Not setting metadata\n",
      "Not setting metadata\n",
      "102 matching events found\n",
      "No baseline correction applied\n",
      "0 projection items activated\n",
      "Ready.\n",
      "(62, 20, 1000)\n",
      "(15, 20, 600)\n",
      "Extracting parameters from E:/standard and novel/sub39/standard.set...\n"
     ]
    },
    {
     "name": "stderr",
     "output_type": "stream",
     "text": [
      "<ipython-input-6-c623e3af7c63>:13: RuntimeWarning: At least one epoch has multiple events. Only the latency of the first event will be retained.\n",
      "  standard_epochs = mne.io.read_epochs_eeglab(standard_data_path)\n"
     ]
    },
    {
     "name": "stdout",
     "output_type": "stream",
     "text": [
      "Not setting metadata\n",
      "Not setting metadata\n",
      "95 matching events found\n",
      "No baseline correction applied\n",
      "0 projection items activated\n",
      "Ready.\n",
      "(62, 20, 1000)\n",
      "Extracting parameters from E:/standard and novel/sub39/novel.set...\n"
     ]
    },
    {
     "name": "stderr",
     "output_type": "stream",
     "text": [
      "<ipython-input-6-c623e3af7c63>:38: RuntimeWarning: At least one epoch has multiple events. Only the latency of the first event will be retained.\n",
      "  novel_epochs = mne.io.read_epochs_eeglab(novel_data_path)\n"
     ]
    },
    {
     "name": "stdout",
     "output_type": "stream",
     "text": [
      "Not setting metadata\n",
      "Not setting metadata\n",
      "87 matching events found\n",
      "No baseline correction applied\n",
      "0 projection items activated\n",
      "Ready.\n",
      "(62, 20, 1000)\n",
      "(15, 20, 600)\n",
      "Extracting parameters from E:/standard and novel/sub40/standard.set...\n"
     ]
    },
    {
     "name": "stderr",
     "output_type": "stream",
     "text": [
      "<ipython-input-6-c623e3af7c63>:13: RuntimeWarning: At least one epoch has multiple events. Only the latency of the first event will be retained.\n",
      "  standard_epochs = mne.io.read_epochs_eeglab(standard_data_path)\n"
     ]
    },
    {
     "name": "stdout",
     "output_type": "stream",
     "text": [
      "Not setting metadata\n",
      "Not setting metadata\n",
      "101 matching events found\n",
      "No baseline correction applied\n",
      "0 projection items activated\n",
      "Ready.\n",
      "(61, 20, 1000)\n",
      "Extracting parameters from E:/standard and novel/sub40/novel.set...\n"
     ]
    },
    {
     "name": "stderr",
     "output_type": "stream",
     "text": [
      "<ipython-input-6-c623e3af7c63>:38: RuntimeWarning: At least one epoch has multiple events. Only the latency of the first event will be retained.\n",
      "  novel_epochs = mne.io.read_epochs_eeglab(novel_data_path)\n"
     ]
    },
    {
     "name": "stdout",
     "output_type": "stream",
     "text": [
      "Not setting metadata\n",
      "Not setting metadata\n",
      "96 matching events found\n",
      "No baseline correction applied\n",
      "0 projection items activated\n",
      "Ready.\n",
      "(61, 20, 1000)\n",
      "(15, 20, 600)\n",
      "Extracting parameters from E:/standard and novel/sub41/standard.set...\n"
     ]
    },
    {
     "name": "stderr",
     "output_type": "stream",
     "text": [
      "<ipython-input-6-c623e3af7c63>:13: RuntimeWarning: At least one epoch has multiple events. Only the latency of the first event will be retained.\n",
      "  standard_epochs = mne.io.read_epochs_eeglab(standard_data_path)\n"
     ]
    },
    {
     "name": "stdout",
     "output_type": "stream",
     "text": [
      "Not setting metadata\n",
      "Not setting metadata\n",
      "102 matching events found\n",
      "No baseline correction applied\n",
      "0 projection items activated\n",
      "Ready.\n",
      "(60, 20, 1000)\n",
      "Extracting parameters from E:/standard and novel/sub41/novel.set...\n"
     ]
    },
    {
     "name": "stderr",
     "output_type": "stream",
     "text": [
      "<ipython-input-6-c623e3af7c63>:38: RuntimeWarning: At least one epoch has multiple events. Only the latency of the first event will be retained.\n",
      "  novel_epochs = mne.io.read_epochs_eeglab(novel_data_path)\n"
     ]
    },
    {
     "name": "stdout",
     "output_type": "stream",
     "text": [
      "Not setting metadata\n",
      "Not setting metadata\n",
      "102 matching events found\n",
      "No baseline correction applied\n",
      "0 projection items activated\n",
      "Ready.\n",
      "(60, 20, 1000)\n",
      "(15, 20, 600)\n",
      "Extracting parameters from E:/standard and novel/sub42/standard.set...\n"
     ]
    },
    {
     "name": "stderr",
     "output_type": "stream",
     "text": [
      "<ipython-input-6-c623e3af7c63>:13: RuntimeWarning: At least one epoch has multiple events. Only the latency of the first event will be retained.\n",
      "  standard_epochs = mne.io.read_epochs_eeglab(standard_data_path)\n"
     ]
    },
    {
     "name": "stdout",
     "output_type": "stream",
     "text": [
      "Not setting metadata\n",
      "Not setting metadata\n",
      "100 matching events found\n",
      "No baseline correction applied\n",
      "0 projection items activated\n",
      "Ready.\n",
      "(60, 20, 1000)\n",
      "Extracting parameters from E:/standard and novel/sub42/novel.set...\n"
     ]
    },
    {
     "name": "stderr",
     "output_type": "stream",
     "text": [
      "<ipython-input-6-c623e3af7c63>:38: RuntimeWarning: At least one epoch has multiple events. Only the latency of the first event will be retained.\n",
      "  novel_epochs = mne.io.read_epochs_eeglab(novel_data_path)\n"
     ]
    },
    {
     "name": "stdout",
     "output_type": "stream",
     "text": [
      "Not setting metadata\n",
      "Not setting metadata\n",
      "101 matching events found\n",
      "No baseline correction applied\n",
      "0 projection items activated\n",
      "Ready.\n",
      "(60, 20, 1000)\n",
      "(15, 20, 600)\n",
      "Extracting parameters from E:/standard and novel/sub43/standard.set...\n"
     ]
    },
    {
     "name": "stderr",
     "output_type": "stream",
     "text": [
      "<ipython-input-6-c623e3af7c63>:13: RuntimeWarning: At least one epoch has multiple events. Only the latency of the first event will be retained.\n",
      "  standard_epochs = mne.io.read_epochs_eeglab(standard_data_path)\n"
     ]
    },
    {
     "name": "stdout",
     "output_type": "stream",
     "text": [
      "Not setting metadata\n",
      "Not setting metadata\n",
      "102 matching events found\n",
      "No baseline correction applied\n",
      "0 projection items activated\n",
      "Ready.\n",
      "(62, 20, 1000)\n",
      "Extracting parameters from E:/standard and novel/sub43/novel.set...\n"
     ]
    },
    {
     "name": "stderr",
     "output_type": "stream",
     "text": [
      "<ipython-input-6-c623e3af7c63>:38: RuntimeWarning: At least one epoch has multiple events. Only the latency of the first event will be retained.\n",
      "  novel_epochs = mne.io.read_epochs_eeglab(novel_data_path)\n"
     ]
    },
    {
     "name": "stdout",
     "output_type": "stream",
     "text": [
      "Not setting metadata\n",
      "Not setting metadata\n",
      "102 matching events found\n",
      "No baseline correction applied\n",
      "0 projection items activated\n",
      "Ready.\n",
      "(62, 20, 1000)\n",
      "(15, 20, 600)\n",
      "Extracting parameters from E:/standard and novel/sub44/standard.set...\n"
     ]
    },
    {
     "name": "stderr",
     "output_type": "stream",
     "text": [
      "<ipython-input-6-c623e3af7c63>:13: RuntimeWarning: At least one epoch has multiple events. Only the latency of the first event will be retained.\n",
      "  standard_epochs = mne.io.read_epochs_eeglab(standard_data_path)\n"
     ]
    },
    {
     "name": "stdout",
     "output_type": "stream",
     "text": [
      "Not setting metadata\n",
      "Not setting metadata\n",
      "102 matching events found\n",
      "No baseline correction applied\n",
      "0 projection items activated\n",
      "Ready.\n",
      "(61, 20, 1000)\n",
      "Extracting parameters from E:/standard and novel/sub44/novel.set...\n"
     ]
    },
    {
     "name": "stderr",
     "output_type": "stream",
     "text": [
      "<ipython-input-6-c623e3af7c63>:38: RuntimeWarning: At least one epoch has multiple events. Only the latency of the first event will be retained.\n",
      "  novel_epochs = mne.io.read_epochs_eeglab(novel_data_path)\n"
     ]
    },
    {
     "name": "stdout",
     "output_type": "stream",
     "text": [
      "Not setting metadata\n",
      "Not setting metadata\n",
      "101 matching events found\n",
      "No baseline correction applied\n",
      "0 projection items activated\n",
      "Ready.\n",
      "(61, 20, 1000)\n",
      "(15, 20, 600)\n",
      "Extracting parameters from E:/standard and novel/sub45/standard.set...\n"
     ]
    },
    {
     "name": "stderr",
     "output_type": "stream",
     "text": [
      "<ipython-input-6-c623e3af7c63>:13: RuntimeWarning: At least one epoch has multiple events. Only the latency of the first event will be retained.\n",
      "  standard_epochs = mne.io.read_epochs_eeglab(standard_data_path)\n"
     ]
    },
    {
     "name": "stdout",
     "output_type": "stream",
     "text": [
      "Not setting metadata\n",
      "Not setting metadata\n",
      "102 matching events found\n",
      "No baseline correction applied\n",
      "0 projection items activated\n",
      "Ready.\n",
      "(62, 20, 1000)\n",
      "Extracting parameters from E:/standard and novel/sub45/novel.set...\n"
     ]
    },
    {
     "name": "stderr",
     "output_type": "stream",
     "text": [
      "<ipython-input-6-c623e3af7c63>:38: RuntimeWarning: At least one epoch has multiple events. Only the latency of the first event will be retained.\n",
      "  novel_epochs = mne.io.read_epochs_eeglab(novel_data_path)\n"
     ]
    },
    {
     "name": "stdout",
     "output_type": "stream",
     "text": [
      "Not setting metadata\n",
      "Not setting metadata\n",
      "101 matching events found\n",
      "No baseline correction applied\n",
      "0 projection items activated\n",
      "Ready.\n",
      "(62, 20, 1000)\n",
      "(15, 20, 600)\n",
      "Extracting parameters from E:/standard and novel/sub46/standard.set...\n"
     ]
    },
    {
     "name": "stderr",
     "output_type": "stream",
     "text": [
      "<ipython-input-6-c623e3af7c63>:13: RuntimeWarning: At least one epoch has multiple events. Only the latency of the first event will be retained.\n",
      "  standard_epochs = mne.io.read_epochs_eeglab(standard_data_path)\n"
     ]
    },
    {
     "name": "stdout",
     "output_type": "stream",
     "text": [
      "Not setting metadata\n",
      "Not setting metadata\n",
      "101 matching events found\n",
      "No baseline correction applied\n",
      "0 projection items activated\n",
      "Ready.\n",
      "(60, 20, 1000)\n",
      "Extracting parameters from E:/standard and novel/sub46/novel.set...\n"
     ]
    },
    {
     "name": "stderr",
     "output_type": "stream",
     "text": [
      "<ipython-input-6-c623e3af7c63>:38: RuntimeWarning: At least one epoch has multiple events. Only the latency of the first event will be retained.\n",
      "  novel_epochs = mne.io.read_epochs_eeglab(novel_data_path)\n"
     ]
    },
    {
     "name": "stdout",
     "output_type": "stream",
     "text": [
      "Not setting metadata\n",
      "Not setting metadata\n",
      "102 matching events found\n",
      "No baseline correction applied\n",
      "0 projection items activated\n",
      "Ready.\n",
      "(60, 20, 1000)\n",
      "(15, 20, 600)\n",
      "Extracting parameters from E:/standard and novel/sub47/standard.set...\n"
     ]
    },
    {
     "name": "stderr",
     "output_type": "stream",
     "text": [
      "<ipython-input-6-c623e3af7c63>:13: RuntimeWarning: At least one epoch has multiple events. Only the latency of the first event will be retained.\n",
      "  standard_epochs = mne.io.read_epochs_eeglab(standard_data_path)\n"
     ]
    },
    {
     "name": "stdout",
     "output_type": "stream",
     "text": [
      "Not setting metadata\n",
      "Not setting metadata\n",
      "99 matching events found\n",
      "No baseline correction applied\n",
      "0 projection items activated\n",
      "Ready.\n",
      "(62, 20, 1000)\n",
      "Extracting parameters from E:/standard and novel/sub47/novel.set...\n"
     ]
    },
    {
     "name": "stderr",
     "output_type": "stream",
     "text": [
      "<ipython-input-6-c623e3af7c63>:38: RuntimeWarning: At least one epoch has multiple events. Only the latency of the first event will be retained.\n",
      "  novel_epochs = mne.io.read_epochs_eeglab(novel_data_path)\n"
     ]
    },
    {
     "name": "stdout",
     "output_type": "stream",
     "text": [
      "Not setting metadata\n",
      "Not setting metadata\n",
      "100 matching events found\n",
      "No baseline correction applied\n",
      "0 projection items activated\n",
      "Ready.\n",
      "(62, 20, 1000)\n",
      "(15, 20, 600)\n",
      "Extracting parameters from E:/standard and novel/sub48/standard.set...\n"
     ]
    },
    {
     "name": "stderr",
     "output_type": "stream",
     "text": [
      "<ipython-input-6-c623e3af7c63>:13: RuntimeWarning: At least one epoch has multiple events. Only the latency of the first event will be retained.\n",
      "  standard_epochs = mne.io.read_epochs_eeglab(standard_data_path)\n"
     ]
    },
    {
     "name": "stdout",
     "output_type": "stream",
     "text": [
      "Not setting metadata\n",
      "Not setting metadata\n",
      "101 matching events found\n",
      "No baseline correction applied\n",
      "0 projection items activated\n",
      "Ready.\n",
      "(62, 20, 1000)\n",
      "Extracting parameters from E:/standard and novel/sub48/novel.set...\n"
     ]
    },
    {
     "name": "stderr",
     "output_type": "stream",
     "text": [
      "<ipython-input-6-c623e3af7c63>:38: RuntimeWarning: At least one epoch has multiple events. Only the latency of the first event will be retained.\n",
      "  novel_epochs = mne.io.read_epochs_eeglab(novel_data_path)\n"
     ]
    },
    {
     "name": "stdout",
     "output_type": "stream",
     "text": [
      "Not setting metadata\n",
      "Not setting metadata\n",
      "100 matching events found\n",
      "No baseline correction applied\n",
      "0 projection items activated\n",
      "Ready.\n",
      "(62, 20, 1000)\n",
      "(15, 20, 600)\n",
      "Extracting parameters from E:/standard and novel/sub49/standard.set...\n"
     ]
    },
    {
     "name": "stderr",
     "output_type": "stream",
     "text": [
      "<ipython-input-6-c623e3af7c63>:13: RuntimeWarning: At least one epoch has multiple events. Only the latency of the first event will be retained.\n",
      "  standard_epochs = mne.io.read_epochs_eeglab(standard_data_path)\n"
     ]
    },
    {
     "name": "stdout",
     "output_type": "stream",
     "text": [
      "Not setting metadata\n",
      "Not setting metadata\n",
      "102 matching events found\n",
      "No baseline correction applied\n",
      "0 projection items activated\n",
      "Ready.\n",
      "(62, 20, 1000)\n",
      "Extracting parameters from E:/standard and novel/sub49/novel.set...\n"
     ]
    },
    {
     "name": "stderr",
     "output_type": "stream",
     "text": [
      "<ipython-input-6-c623e3af7c63>:38: RuntimeWarning: At least one epoch has multiple events. Only the latency of the first event will be retained.\n",
      "  novel_epochs = mne.io.read_epochs_eeglab(novel_data_path)\n"
     ]
    },
    {
     "name": "stdout",
     "output_type": "stream",
     "text": [
      "Not setting metadata\n",
      "Not setting metadata\n",
      "102 matching events found\n",
      "No baseline correction applied\n",
      "0 projection items activated\n",
      "Ready.\n",
      "(62, 20, 1000)\n",
      "(15, 20, 600)\n",
      "Extracting parameters from E:/standard and novel/sub50/standard.set...\n"
     ]
    },
    {
     "name": "stderr",
     "output_type": "stream",
     "text": [
      "<ipython-input-6-c623e3af7c63>:13: RuntimeWarning: At least one epoch has multiple events. Only the latency of the first event will be retained.\n",
      "  standard_epochs = mne.io.read_epochs_eeglab(standard_data_path)\n"
     ]
    },
    {
     "name": "stdout",
     "output_type": "stream",
     "text": [
      "Not setting metadata\n",
      "Not setting metadata\n",
      "99 matching events found\n",
      "No baseline correction applied\n",
      "0 projection items activated\n",
      "Ready.\n",
      "(62, 20, 1000)\n",
      "Extracting parameters from E:/standard and novel/sub50/novel.set...\n"
     ]
    },
    {
     "name": "stderr",
     "output_type": "stream",
     "text": [
      "<ipython-input-6-c623e3af7c63>:38: RuntimeWarning: At least one epoch has multiple events. Only the latency of the first event will be retained.\n",
      "  novel_epochs = mne.io.read_epochs_eeglab(novel_data_path)\n"
     ]
    },
    {
     "name": "stdout",
     "output_type": "stream",
     "text": [
      "Not setting metadata\n",
      "Not setting metadata\n",
      "98 matching events found\n",
      "No baseline correction applied\n",
      "0 projection items activated\n",
      "Ready.\n",
      "(62, 20, 1000)\n",
      "(15, 20, 600)\n",
      "Extracting parameters from E:/standard and novel/sub51/standard.set...\n"
     ]
    },
    {
     "name": "stderr",
     "output_type": "stream",
     "text": [
      "<ipython-input-6-c623e3af7c63>:13: RuntimeWarning: At least one epoch has multiple events. Only the latency of the first event will be retained.\n",
      "  standard_epochs = mne.io.read_epochs_eeglab(standard_data_path)\n"
     ]
    },
    {
     "name": "stdout",
     "output_type": "stream",
     "text": [
      "Not setting metadata\n",
      "Not setting metadata\n",
      "94 matching events found\n",
      "No baseline correction applied\n",
      "0 projection items activated\n",
      "Ready.\n",
      "(62, 20, 1000)\n",
      "Extracting parameters from E:/standard and novel/sub51/novel.set...\n"
     ]
    },
    {
     "name": "stderr",
     "output_type": "stream",
     "text": [
      "<ipython-input-6-c623e3af7c63>:38: RuntimeWarning: At least one epoch has multiple events. Only the latency of the first event will be retained.\n",
      "  novel_epochs = mne.io.read_epochs_eeglab(novel_data_path)\n"
     ]
    },
    {
     "name": "stdout",
     "output_type": "stream",
     "text": [
      "Not setting metadata\n",
      "Not setting metadata\n",
      "90 matching events found\n",
      "No baseline correction applied\n",
      "0 projection items activated\n",
      "Ready.\n",
      "(62, 20, 1000)\n",
      "(15, 20, 600)\n",
      "Extracting parameters from E:/standard and novel/sub52/standard.set...\n"
     ]
    },
    {
     "name": "stderr",
     "output_type": "stream",
     "text": [
      "<ipython-input-6-c623e3af7c63>:13: RuntimeWarning: At least one epoch has multiple events. Only the latency of the first event will be retained.\n",
      "  standard_epochs = mne.io.read_epochs_eeglab(standard_data_path)\n"
     ]
    },
    {
     "name": "stdout",
     "output_type": "stream",
     "text": [
      "Not setting metadata\n",
      "Not setting metadata\n",
      "101 matching events found\n",
      "No baseline correction applied\n",
      "0 projection items activated\n",
      "Ready.\n",
      "(62, 20, 1000)\n",
      "Extracting parameters from E:/standard and novel/sub52/novel.set...\n"
     ]
    },
    {
     "name": "stderr",
     "output_type": "stream",
     "text": [
      "<ipython-input-6-c623e3af7c63>:38: RuntimeWarning: At least one epoch has multiple events. Only the latency of the first event will be retained.\n",
      "  novel_epochs = mne.io.read_epochs_eeglab(novel_data_path)\n"
     ]
    },
    {
     "name": "stdout",
     "output_type": "stream",
     "text": [
      "Not setting metadata\n",
      "Not setting metadata\n",
      "102 matching events found\n",
      "No baseline correction applied\n",
      "0 projection items activated\n",
      "Ready.\n",
      "(62, 20, 1000)\n",
      "(15, 20, 600)\n",
      "Extracting parameters from E:/standard and novel/sub53/standard.set...\n"
     ]
    },
    {
     "name": "stderr",
     "output_type": "stream",
     "text": [
      "<ipython-input-6-c623e3af7c63>:13: RuntimeWarning: At least one epoch has multiple events. Only the latency of the first event will be retained.\n",
      "  standard_epochs = mne.io.read_epochs_eeglab(standard_data_path)\n"
     ]
    },
    {
     "name": "stdout",
     "output_type": "stream",
     "text": [
      "Not setting metadata\n",
      "Not setting metadata\n",
      "102 matching events found\n",
      "No baseline correction applied\n",
      "0 projection items activated\n",
      "Ready.\n",
      "(62, 20, 1000)\n",
      "Extracting parameters from E:/standard and novel/sub53/novel.set...\n"
     ]
    },
    {
     "name": "stderr",
     "output_type": "stream",
     "text": [
      "<ipython-input-6-c623e3af7c63>:38: RuntimeWarning: At least one epoch has multiple events. Only the latency of the first event will be retained.\n",
      "  novel_epochs = mne.io.read_epochs_eeglab(novel_data_path)\n"
     ]
    },
    {
     "name": "stdout",
     "output_type": "stream",
     "text": [
      "Not setting metadata\n",
      "Not setting metadata\n",
      "102 matching events found\n",
      "No baseline correction applied\n",
      "0 projection items activated\n",
      "Ready.\n",
      "(62, 20, 1000)\n",
      "(15, 20, 600)\n",
      "Extracting parameters from E:/standard and novel/sub54/standard.set...\n"
     ]
    },
    {
     "name": "stderr",
     "output_type": "stream",
     "text": [
      "<ipython-input-6-c623e3af7c63>:13: RuntimeWarning: At least one epoch has multiple events. Only the latency of the first event will be retained.\n",
      "  standard_epochs = mne.io.read_epochs_eeglab(standard_data_path)\n"
     ]
    },
    {
     "name": "stdout",
     "output_type": "stream",
     "text": [
      "Not setting metadata\n",
      "Not setting metadata\n",
      "102 matching events found\n",
      "No baseline correction applied\n",
      "0 projection items activated\n",
      "Ready.\n",
      "(62, 20, 1000)\n",
      "Extracting parameters from E:/standard and novel/sub54/novel.set...\n"
     ]
    },
    {
     "name": "stderr",
     "output_type": "stream",
     "text": [
      "<ipython-input-6-c623e3af7c63>:38: RuntimeWarning: At least one epoch has multiple events. Only the latency of the first event will be retained.\n",
      "  novel_epochs = mne.io.read_epochs_eeglab(novel_data_path)\n"
     ]
    },
    {
     "name": "stdout",
     "output_type": "stream",
     "text": [
      "Not setting metadata\n",
      "Not setting metadata\n",
      "102 matching events found\n",
      "No baseline correction applied\n",
      "0 projection items activated\n",
      "Ready.\n",
      "(62, 20, 1000)\n",
      "(15, 20, 600)\n",
      "Extracting parameters from E:/standard and novel/sub55/standard.set...\n"
     ]
    },
    {
     "name": "stderr",
     "output_type": "stream",
     "text": [
      "<ipython-input-6-c623e3af7c63>:13: RuntimeWarning: At least one epoch has multiple events. Only the latency of the first event will be retained.\n",
      "  standard_epochs = mne.io.read_epochs_eeglab(standard_data_path)\n"
     ]
    },
    {
     "name": "stdout",
     "output_type": "stream",
     "text": [
      "Not setting metadata\n",
      "Not setting metadata\n",
      "102 matching events found\n",
      "No baseline correction applied\n",
      "0 projection items activated\n",
      "Ready.\n",
      "(62, 20, 1000)\n",
      "Extracting parameters from E:/standard and novel/sub55/novel.set...\n"
     ]
    },
    {
     "name": "stderr",
     "output_type": "stream",
     "text": [
      "<ipython-input-6-c623e3af7c63>:38: RuntimeWarning: At least one epoch has multiple events. Only the latency of the first event will be retained.\n",
      "  novel_epochs = mne.io.read_epochs_eeglab(novel_data_path)\n"
     ]
    },
    {
     "name": "stdout",
     "output_type": "stream",
     "text": [
      "Not setting metadata\n",
      "Not setting metadata\n",
      "102 matching events found\n",
      "No baseline correction applied\n",
      "0 projection items activated\n",
      "Ready.\n",
      "(62, 20, 1000)\n",
      "(15, 20, 600)\n",
      "Extracting parameters from E:/standard and novel/sub56/standard.set...\n"
     ]
    },
    {
     "name": "stderr",
     "output_type": "stream",
     "text": [
      "<ipython-input-6-c623e3af7c63>:13: RuntimeWarning: At least one epoch has multiple events. Only the latency of the first event will be retained.\n",
      "  standard_epochs = mne.io.read_epochs_eeglab(standard_data_path)\n"
     ]
    },
    {
     "name": "stdout",
     "output_type": "stream",
     "text": [
      "Not setting metadata\n",
      "Not setting metadata\n",
      "102 matching events found\n",
      "No baseline correction applied\n",
      "0 projection items activated\n",
      "Ready.\n",
      "(62, 20, 1000)\n",
      "Extracting parameters from E:/standard and novel/sub56/novel.set...\n"
     ]
    },
    {
     "name": "stderr",
     "output_type": "stream",
     "text": [
      "<ipython-input-6-c623e3af7c63>:38: RuntimeWarning: At least one epoch has multiple events. Only the latency of the first event will be retained.\n",
      "  novel_epochs = mne.io.read_epochs_eeglab(novel_data_path)\n"
     ]
    },
    {
     "name": "stdout",
     "output_type": "stream",
     "text": [
      "Not setting metadata\n",
      "Not setting metadata\n",
      "102 matching events found\n",
      "No baseline correction applied\n",
      "0 projection items activated\n",
      "Ready.\n",
      "(62, 20, 1000)\n",
      "(15, 20, 600)\n",
      "Extracting parameters from E:/standard and novel/sub57/standard.set...\n"
     ]
    },
    {
     "name": "stderr",
     "output_type": "stream",
     "text": [
      "<ipython-input-6-c623e3af7c63>:13: RuntimeWarning: At least one epoch has multiple events. Only the latency of the first event will be retained.\n",
      "  standard_epochs = mne.io.read_epochs_eeglab(standard_data_path)\n"
     ]
    },
    {
     "name": "stdout",
     "output_type": "stream",
     "text": [
      "Not setting metadata\n",
      "Not setting metadata\n",
      "93 matching events found\n",
      "No baseline correction applied\n",
      "0 projection items activated\n",
      "Ready.\n",
      "(62, 20, 1000)\n",
      "Extracting parameters from E:/standard and novel/sub57/novel.set...\n"
     ]
    },
    {
     "name": "stderr",
     "output_type": "stream",
     "text": [
      "<ipython-input-6-c623e3af7c63>:38: RuntimeWarning: At least one epoch has multiple events. Only the latency of the first event will be retained.\n",
      "  novel_epochs = mne.io.read_epochs_eeglab(novel_data_path)\n"
     ]
    },
    {
     "name": "stdout",
     "output_type": "stream",
     "text": [
      "Not setting metadata\n",
      "Not setting metadata\n",
      "93 matching events found\n",
      "No baseline correction applied\n",
      "0 projection items activated\n",
      "Ready.\n",
      "(62, 20, 1000)\n",
      "(15, 20, 600)\n",
      "Extracting parameters from E:/standard and novel/sub58/standard.set...\n"
     ]
    },
    {
     "name": "stderr",
     "output_type": "stream",
     "text": [
      "<ipython-input-6-c623e3af7c63>:13: RuntimeWarning: At least one epoch has multiple events. Only the latency of the first event will be retained.\n",
      "  standard_epochs = mne.io.read_epochs_eeglab(standard_data_path)\n"
     ]
    },
    {
     "name": "stdout",
     "output_type": "stream",
     "text": [
      "Not setting metadata\n",
      "Not setting metadata\n",
      "102 matching events found\n",
      "No baseline correction applied\n",
      "0 projection items activated\n",
      "Ready.\n",
      "(62, 20, 1000)\n",
      "Extracting parameters from E:/standard and novel/sub58/novel.set...\n"
     ]
    },
    {
     "name": "stderr",
     "output_type": "stream",
     "text": [
      "<ipython-input-6-c623e3af7c63>:38: RuntimeWarning: At least one epoch has multiple events. Only the latency of the first event will be retained.\n",
      "  novel_epochs = mne.io.read_epochs_eeglab(novel_data_path)\n"
     ]
    },
    {
     "name": "stdout",
     "output_type": "stream",
     "text": [
      "Not setting metadata\n",
      "Not setting metadata\n",
      "102 matching events found\n",
      "No baseline correction applied\n",
      "0 projection items activated\n",
      "Ready.\n",
      "(62, 20, 1000)\n",
      "(15, 20, 600)\n",
      "Extracting parameters from E:/standard and novel/sub59/standard.set...\n"
     ]
    },
    {
     "name": "stderr",
     "output_type": "stream",
     "text": [
      "<ipython-input-6-c623e3af7c63>:13: RuntimeWarning: At least one epoch has multiple events. Only the latency of the first event will be retained.\n",
      "  standard_epochs = mne.io.read_epochs_eeglab(standard_data_path)\n"
     ]
    },
    {
     "name": "stdout",
     "output_type": "stream",
     "text": [
      "Not setting metadata\n",
      "Not setting metadata\n",
      "94 matching events found\n",
      "No baseline correction applied\n",
      "0 projection items activated\n",
      "Ready.\n",
      "(62, 20, 1000)\n",
      "Extracting parameters from E:/standard and novel/sub59/novel.set...\n"
     ]
    },
    {
     "name": "stderr",
     "output_type": "stream",
     "text": [
      "<ipython-input-6-c623e3af7c63>:38: RuntimeWarning: At least one epoch has multiple events. Only the latency of the first event will be retained.\n",
      "  novel_epochs = mne.io.read_epochs_eeglab(novel_data_path)\n"
     ]
    },
    {
     "name": "stdout",
     "output_type": "stream",
     "text": [
      "Not setting metadata\n",
      "Not setting metadata\n",
      "97 matching events found\n",
      "No baseline correction applied\n",
      "0 projection items activated\n",
      "Ready.\n",
      "(62, 20, 1000)\n",
      "(15, 20, 600)\n",
      "Extracting parameters from E:/standard and novel/sub60/standard.set...\n"
     ]
    },
    {
     "name": "stderr",
     "output_type": "stream",
     "text": [
      "<ipython-input-6-c623e3af7c63>:13: RuntimeWarning: At least one epoch has multiple events. Only the latency of the first event will be retained.\n",
      "  standard_epochs = mne.io.read_epochs_eeglab(standard_data_path)\n"
     ]
    },
    {
     "name": "stdout",
     "output_type": "stream",
     "text": [
      "Not setting metadata\n",
      "Not setting metadata\n",
      "96 matching events found\n",
      "No baseline correction applied\n",
      "0 projection items activated\n",
      "Ready.\n",
      "(62, 20, 1000)\n",
      "Extracting parameters from E:/standard and novel/sub60/novel.set...\n"
     ]
    },
    {
     "name": "stderr",
     "output_type": "stream",
     "text": [
      "<ipython-input-6-c623e3af7c63>:38: RuntimeWarning: At least one epoch has multiple events. Only the latency of the first event will be retained.\n",
      "  novel_epochs = mne.io.read_epochs_eeglab(novel_data_path)\n"
     ]
    },
    {
     "name": "stdout",
     "output_type": "stream",
     "text": [
      "Not setting metadata\n",
      "Not setting metadata\n",
      "99 matching events found\n",
      "No baseline correction applied\n",
      "0 projection items activated\n",
      "Ready.\n",
      "(62, 20, 1000)\n",
      "(15, 20, 600)\n",
      "Extracting parameters from E:/standard and novel/sub61/standard.set...\n"
     ]
    },
    {
     "name": "stderr",
     "output_type": "stream",
     "text": [
      "<ipython-input-6-c623e3af7c63>:13: RuntimeWarning: At least one epoch has multiple events. Only the latency of the first event will be retained.\n",
      "  standard_epochs = mne.io.read_epochs_eeglab(standard_data_path)\n"
     ]
    },
    {
     "name": "stdout",
     "output_type": "stream",
     "text": [
      "Not setting metadata\n",
      "Not setting metadata\n",
      "96 matching events found\n",
      "No baseline correction applied\n",
      "0 projection items activated\n",
      "Ready.\n",
      "(62, 20, 1000)\n",
      "Extracting parameters from E:/standard and novel/sub61/novel.set...\n"
     ]
    },
    {
     "name": "stderr",
     "output_type": "stream",
     "text": [
      "<ipython-input-6-c623e3af7c63>:38: RuntimeWarning: At least one epoch has multiple events. Only the latency of the first event will be retained.\n",
      "  novel_epochs = mne.io.read_epochs_eeglab(novel_data_path)\n"
     ]
    },
    {
     "name": "stdout",
     "output_type": "stream",
     "text": [
      "Not setting metadata\n",
      "Not setting metadata\n",
      "94 matching events found\n",
      "No baseline correction applied\n",
      "0 projection items activated\n",
      "Ready.\n",
      "(62, 20, 1000)\n",
      "(15, 20, 600)\n",
      "Extracting parameters from E:/standard and novel/sub62/standard.set...\n"
     ]
    },
    {
     "name": "stderr",
     "output_type": "stream",
     "text": [
      "<ipython-input-6-c623e3af7c63>:13: RuntimeWarning: At least one epoch has multiple events. Only the latency of the first event will be retained.\n",
      "  standard_epochs = mne.io.read_epochs_eeglab(standard_data_path)\n"
     ]
    },
    {
     "name": "stdout",
     "output_type": "stream",
     "text": [
      "Not setting metadata\n",
      "Not setting metadata\n",
      "100 matching events found\n",
      "No baseline correction applied\n",
      "0 projection items activated\n",
      "Ready.\n",
      "(62, 20, 1000)\n",
      "Extracting parameters from E:/standard and novel/sub62/novel.set...\n"
     ]
    },
    {
     "name": "stderr",
     "output_type": "stream",
     "text": [
      "<ipython-input-6-c623e3af7c63>:38: RuntimeWarning: At least one epoch has multiple events. Only the latency of the first event will be retained.\n",
      "  novel_epochs = mne.io.read_epochs_eeglab(novel_data_path)\n"
     ]
    },
    {
     "name": "stdout",
     "output_type": "stream",
     "text": [
      "Not setting metadata\n",
      "Not setting metadata\n",
      "99 matching events found\n",
      "No baseline correction applied\n",
      "0 projection items activated\n",
      "Ready.\n",
      "(62, 20, 1000)\n",
      "(15, 20, 600)\n",
      "Extracting parameters from E:/standard and novel/sub63/standard.set...\n"
     ]
    },
    {
     "name": "stderr",
     "output_type": "stream",
     "text": [
      "<ipython-input-6-c623e3af7c63>:13: RuntimeWarning: At least one epoch has multiple events. Only the latency of the first event will be retained.\n",
      "  standard_epochs = mne.io.read_epochs_eeglab(standard_data_path)\n"
     ]
    },
    {
     "name": "stdout",
     "output_type": "stream",
     "text": [
      "Not setting metadata\n",
      "Not setting metadata\n",
      "102 matching events found\n",
      "No baseline correction applied\n",
      "0 projection items activated\n",
      "Ready.\n",
      "(62, 20, 1000)\n",
      "Extracting parameters from E:/standard and novel/sub63/novel.set...\n"
     ]
    },
    {
     "name": "stderr",
     "output_type": "stream",
     "text": [
      "<ipython-input-6-c623e3af7c63>:38: RuntimeWarning: At least one epoch has multiple events. Only the latency of the first event will be retained.\n",
      "  novel_epochs = mne.io.read_epochs_eeglab(novel_data_path)\n"
     ]
    },
    {
     "name": "stdout",
     "output_type": "stream",
     "text": [
      "Not setting metadata\n",
      "Not setting metadata\n",
      "102 matching events found\n",
      "No baseline correction applied\n",
      "0 projection items activated\n",
      "Ready.\n",
      "(62, 20, 1000)\n",
      "(15, 20, 600)\n",
      "Extracting parameters from E:/standard and novel/sub64/standard.set...\n"
     ]
    },
    {
     "name": "stderr",
     "output_type": "stream",
     "text": [
      "<ipython-input-6-c623e3af7c63>:13: RuntimeWarning: At least one epoch has multiple events. Only the latency of the first event will be retained.\n",
      "  standard_epochs = mne.io.read_epochs_eeglab(standard_data_path)\n"
     ]
    },
    {
     "name": "stdout",
     "output_type": "stream",
     "text": [
      "Not setting metadata\n",
      "Not setting metadata\n",
      "98 matching events found\n",
      "No baseline correction applied\n",
      "0 projection items activated\n",
      "Ready.\n",
      "(61, 20, 1000)\n",
      "Extracting parameters from E:/standard and novel/sub64/novel.set...\n"
     ]
    },
    {
     "name": "stderr",
     "output_type": "stream",
     "text": [
      "<ipython-input-6-c623e3af7c63>:38: RuntimeWarning: At least one epoch has multiple events. Only the latency of the first event will be retained.\n",
      "  novel_epochs = mne.io.read_epochs_eeglab(novel_data_path)\n"
     ]
    },
    {
     "name": "stdout",
     "output_type": "stream",
     "text": [
      "Not setting metadata\n",
      "Not setting metadata\n",
      "99 matching events found\n",
      "No baseline correction applied\n",
      "0 projection items activated\n",
      "Ready.\n",
      "(61, 20, 1000)\n",
      "(15, 20, 600)\n",
      "Extracting parameters from E:/standard and novel/sub65/standard.set...\n"
     ]
    },
    {
     "name": "stderr",
     "output_type": "stream",
     "text": [
      "<ipython-input-6-c623e3af7c63>:13: RuntimeWarning: At least one epoch has multiple events. Only the latency of the first event will be retained.\n",
      "  standard_epochs = mne.io.read_epochs_eeglab(standard_data_path)\n"
     ]
    },
    {
     "name": "stdout",
     "output_type": "stream",
     "text": [
      "Not setting metadata\n",
      "Not setting metadata\n",
      "102 matching events found\n",
      "No baseline correction applied\n",
      "0 projection items activated\n",
      "Ready.\n",
      "(62, 20, 1000)\n",
      "Extracting parameters from E:/standard and novel/sub65/novel.set...\n"
     ]
    },
    {
     "name": "stderr",
     "output_type": "stream",
     "text": [
      "<ipython-input-6-c623e3af7c63>:38: RuntimeWarning: At least one epoch has multiple events. Only the latency of the first event will be retained.\n",
      "  novel_epochs = mne.io.read_epochs_eeglab(novel_data_path)\n"
     ]
    },
    {
     "name": "stdout",
     "output_type": "stream",
     "text": [
      "Not setting metadata\n",
      "Not setting metadata\n",
      "102 matching events found\n",
      "No baseline correction applied\n",
      "0 projection items activated\n",
      "Ready.\n",
      "(62, 20, 1000)\n",
      "(15, 20, 600)\n",
      "Extracting parameters from E:/standard and novel/sub66/standard.set...\n"
     ]
    },
    {
     "name": "stderr",
     "output_type": "stream",
     "text": [
      "<ipython-input-6-c623e3af7c63>:13: RuntimeWarning: At least one epoch has multiple events. Only the latency of the first event will be retained.\n",
      "  standard_epochs = mne.io.read_epochs_eeglab(standard_data_path)\n"
     ]
    },
    {
     "name": "stdout",
     "output_type": "stream",
     "text": [
      "Not setting metadata\n",
      "Not setting metadata\n",
      "88 matching events found\n",
      "No baseline correction applied\n",
      "0 projection items activated\n",
      "Ready.\n",
      "(62, 20, 1000)\n",
      "Extracting parameters from E:/standard and novel/sub66/novel.set...\n"
     ]
    },
    {
     "name": "stderr",
     "output_type": "stream",
     "text": [
      "<ipython-input-6-c623e3af7c63>:38: RuntimeWarning: At least one epoch has multiple events. Only the latency of the first event will be retained.\n",
      "  novel_epochs = mne.io.read_epochs_eeglab(novel_data_path)\n"
     ]
    },
    {
     "name": "stdout",
     "output_type": "stream",
     "text": [
      "Not setting metadata\n",
      "Not setting metadata\n",
      "87 matching events found\n",
      "No baseline correction applied\n",
      "0 projection items activated\n",
      "Ready.\n",
      "(62, 20, 1000)\n",
      "(15, 20, 600)\n",
      "Extracting parameters from E:/standard and novel/sub67/standard.set...\n"
     ]
    },
    {
     "name": "stderr",
     "output_type": "stream",
     "text": [
      "<ipython-input-6-c623e3af7c63>:13: RuntimeWarning: At least one epoch has multiple events. Only the latency of the first event will be retained.\n",
      "  standard_epochs = mne.io.read_epochs_eeglab(standard_data_path)\n"
     ]
    },
    {
     "name": "stdout",
     "output_type": "stream",
     "text": [
      "Not setting metadata\n",
      "Not setting metadata\n",
      "101 matching events found\n",
      "No baseline correction applied\n",
      "0 projection items activated\n",
      "Ready.\n",
      "(62, 20, 1000)\n",
      "Extracting parameters from E:/standard and novel/sub67/novel.set...\n"
     ]
    },
    {
     "name": "stderr",
     "output_type": "stream",
     "text": [
      "<ipython-input-6-c623e3af7c63>:38: RuntimeWarning: At least one epoch has multiple events. Only the latency of the first event will be retained.\n",
      "  novel_epochs = mne.io.read_epochs_eeglab(novel_data_path)\n"
     ]
    },
    {
     "name": "stdout",
     "output_type": "stream",
     "text": [
      "Not setting metadata\n",
      "Not setting metadata\n",
      "101 matching events found\n",
      "No baseline correction applied\n",
      "0 projection items activated\n",
      "Ready.\n",
      "(62, 20, 1000)\n",
      "(15, 20, 600)\n",
      "Extracting parameters from E:/standard and novel/sub68/standard.set...\n"
     ]
    },
    {
     "name": "stderr",
     "output_type": "stream",
     "text": [
      "<ipython-input-6-c623e3af7c63>:13: RuntimeWarning: At least one epoch has multiple events. Only the latency of the first event will be retained.\n",
      "  standard_epochs = mne.io.read_epochs_eeglab(standard_data_path)\n"
     ]
    },
    {
     "name": "stdout",
     "output_type": "stream",
     "text": [
      "Not setting metadata\n",
      "Not setting metadata\n",
      "102 matching events found\n",
      "No baseline correction applied\n",
      "0 projection items activated\n",
      "Ready.\n",
      "(62, 20, 1000)\n",
      "Extracting parameters from E:/standard and novel/sub68/novel.set...\n"
     ]
    },
    {
     "name": "stderr",
     "output_type": "stream",
     "text": [
      "<ipython-input-6-c623e3af7c63>:38: RuntimeWarning: At least one epoch has multiple events. Only the latency of the first event will be retained.\n",
      "  novel_epochs = mne.io.read_epochs_eeglab(novel_data_path)\n"
     ]
    },
    {
     "name": "stdout",
     "output_type": "stream",
     "text": [
      "Not setting metadata\n",
      "Not setting metadata\n",
      "102 matching events found\n",
      "No baseline correction applied\n",
      "0 projection items activated\n",
      "Ready.\n",
      "(62, 20, 1000)\n",
      "(15, 20, 600)\n",
      "Extracting parameters from E:/standard and novel/sub69/standard.set...\n"
     ]
    },
    {
     "name": "stderr",
     "output_type": "stream",
     "text": [
      "<ipython-input-6-c623e3af7c63>:13: RuntimeWarning: At least one epoch has multiple events. Only the latency of the first event will be retained.\n",
      "  standard_epochs = mne.io.read_epochs_eeglab(standard_data_path)\n"
     ]
    },
    {
     "name": "stdout",
     "output_type": "stream",
     "text": [
      "Not setting metadata\n",
      "Not setting metadata\n",
      "102 matching events found\n",
      "No baseline correction applied\n",
      "0 projection items activated\n",
      "Ready.\n",
      "(60, 20, 1000)\n",
      "Extracting parameters from E:/standard and novel/sub69/novel.set...\n"
     ]
    },
    {
     "name": "stderr",
     "output_type": "stream",
     "text": [
      "<ipython-input-6-c623e3af7c63>:38: RuntimeWarning: At least one epoch has multiple events. Only the latency of the first event will be retained.\n",
      "  novel_epochs = mne.io.read_epochs_eeglab(novel_data_path)\n"
     ]
    },
    {
     "name": "stdout",
     "output_type": "stream",
     "text": [
      "Not setting metadata\n",
      "Not setting metadata\n",
      "102 matching events found\n",
      "No baseline correction applied\n",
      "0 projection items activated\n",
      "Ready.\n",
      "(60, 20, 1000)\n",
      "(15, 20, 600)\n",
      "Extracting parameters from E:/standard and novel/sub70/standard.set...\n"
     ]
    },
    {
     "name": "stderr",
     "output_type": "stream",
     "text": [
      "<ipython-input-6-c623e3af7c63>:13: RuntimeWarning: At least one epoch has multiple events. Only the latency of the first event will be retained.\n",
      "  standard_epochs = mne.io.read_epochs_eeglab(standard_data_path)\n"
     ]
    },
    {
     "name": "stdout",
     "output_type": "stream",
     "text": [
      "Not setting metadata\n",
      "Not setting metadata\n",
      "96 matching events found\n",
      "No baseline correction applied\n",
      "0 projection items activated\n",
      "Ready.\n",
      "(62, 20, 1000)\n",
      "Extracting parameters from E:/standard and novel/sub70/novel.set...\n"
     ]
    },
    {
     "name": "stderr",
     "output_type": "stream",
     "text": [
      "<ipython-input-6-c623e3af7c63>:38: RuntimeWarning: At least one epoch has multiple events. Only the latency of the first event will be retained.\n",
      "  novel_epochs = mne.io.read_epochs_eeglab(novel_data_path)\n"
     ]
    },
    {
     "name": "stdout",
     "output_type": "stream",
     "text": [
      "Not setting metadata\n",
      "Not setting metadata\n",
      "91 matching events found\n",
      "No baseline correction applied\n",
      "0 projection items activated\n",
      "Ready.\n",
      "(62, 20, 1000)\n",
      "(15, 20, 600)\n",
      "Extracting parameters from E:/standard and novel/sub71/standard.set...\n"
     ]
    },
    {
     "name": "stderr",
     "output_type": "stream",
     "text": [
      "<ipython-input-6-c623e3af7c63>:13: RuntimeWarning: At least one epoch has multiple events. Only the latency of the first event will be retained.\n",
      "  standard_epochs = mne.io.read_epochs_eeglab(standard_data_path)\n"
     ]
    },
    {
     "name": "stdout",
     "output_type": "stream",
     "text": [
      "Not setting metadata\n",
      "Not setting metadata\n",
      "102 matching events found\n",
      "No baseline correction applied\n",
      "0 projection items activated\n",
      "Ready.\n",
      "(61, 20, 1000)\n",
      "Extracting parameters from E:/standard and novel/sub71/novel.set...\n"
     ]
    },
    {
     "name": "stderr",
     "output_type": "stream",
     "text": [
      "<ipython-input-6-c623e3af7c63>:38: RuntimeWarning: At least one epoch has multiple events. Only the latency of the first event will be retained.\n",
      "  novel_epochs = mne.io.read_epochs_eeglab(novel_data_path)\n"
     ]
    },
    {
     "name": "stdout",
     "output_type": "stream",
     "text": [
      "Not setting metadata\n",
      "Not setting metadata\n",
      "102 matching events found\n",
      "No baseline correction applied\n",
      "0 projection items activated\n",
      "Ready.\n",
      "(61, 20, 1000)\n",
      "(15, 20, 600)\n",
      "Extracting parameters from E:/standard and novel/sub72/standard.set...\n"
     ]
    },
    {
     "name": "stderr",
     "output_type": "stream",
     "text": [
      "<ipython-input-6-c623e3af7c63>:13: RuntimeWarning: At least one epoch has multiple events. Only the latency of the first event will be retained.\n",
      "  standard_epochs = mne.io.read_epochs_eeglab(standard_data_path)\n"
     ]
    },
    {
     "name": "stdout",
     "output_type": "stream",
     "text": [
      "Not setting metadata\n",
      "Not setting metadata\n",
      "100 matching events found\n",
      "No baseline correction applied\n",
      "0 projection items activated\n",
      "Ready.\n",
      "(62, 20, 1000)\n",
      "Extracting parameters from E:/standard and novel/sub72/novel.set...\n"
     ]
    },
    {
     "name": "stderr",
     "output_type": "stream",
     "text": [
      "<ipython-input-6-c623e3af7c63>:38: RuntimeWarning: At least one epoch has multiple events. Only the latency of the first event will be retained.\n",
      "  novel_epochs = mne.io.read_epochs_eeglab(novel_data_path)\n"
     ]
    },
    {
     "name": "stdout",
     "output_type": "stream",
     "text": [
      "Not setting metadata\n",
      "Not setting metadata\n",
      "101 matching events found\n",
      "No baseline correction applied\n",
      "0 projection items activated\n",
      "Ready.\n",
      "(62, 20, 1000)\n",
      "(15, 20, 600)\n",
      "Extracting parameters from E:/standard and novel/sub73/standard.set...\n"
     ]
    },
    {
     "name": "stderr",
     "output_type": "stream",
     "text": [
      "<ipython-input-6-c623e3af7c63>:13: RuntimeWarning: At least one epoch has multiple events. Only the latency of the first event will be retained.\n",
      "  standard_epochs = mne.io.read_epochs_eeglab(standard_data_path)\n"
     ]
    },
    {
     "name": "stdout",
     "output_type": "stream",
     "text": [
      "Not setting metadata\n",
      "Not setting metadata\n",
      "102 matching events found\n",
      "No baseline correction applied\n",
      "0 projection items activated\n",
      "Ready.\n",
      "(62, 20, 1000)\n",
      "Extracting parameters from E:/standard and novel/sub73/novel.set...\n"
     ]
    },
    {
     "name": "stderr",
     "output_type": "stream",
     "text": [
      "<ipython-input-6-c623e3af7c63>:38: RuntimeWarning: At least one epoch has multiple events. Only the latency of the first event will be retained.\n",
      "  novel_epochs = mne.io.read_epochs_eeglab(novel_data_path)\n"
     ]
    },
    {
     "name": "stdout",
     "output_type": "stream",
     "text": [
      "Not setting metadata\n",
      "Not setting metadata\n",
      "102 matching events found\n",
      "No baseline correction applied\n",
      "0 projection items activated\n",
      "Ready.\n",
      "(62, 20, 1000)\n",
      "(15, 20, 600)\n",
      "Extracting parameters from E:/standard and novel/sub74/standard.set...\n"
     ]
    },
    {
     "name": "stderr",
     "output_type": "stream",
     "text": [
      "<ipython-input-6-c623e3af7c63>:13: RuntimeWarning: At least one epoch has multiple events. Only the latency of the first event will be retained.\n",
      "  standard_epochs = mne.io.read_epochs_eeglab(standard_data_path)\n"
     ]
    },
    {
     "name": "stdout",
     "output_type": "stream",
     "text": [
      "Not setting metadata\n",
      "Not setting metadata\n",
      "102 matching events found\n",
      "No baseline correction applied\n",
      "0 projection items activated\n",
      "Ready.\n",
      "(62, 20, 1000)\n",
      "Extracting parameters from E:/standard and novel/sub74/novel.set...\n"
     ]
    },
    {
     "name": "stderr",
     "output_type": "stream",
     "text": [
      "<ipython-input-6-c623e3af7c63>:38: RuntimeWarning: At least one epoch has multiple events. Only the latency of the first event will be retained.\n",
      "  novel_epochs = mne.io.read_epochs_eeglab(novel_data_path)\n"
     ]
    },
    {
     "name": "stdout",
     "output_type": "stream",
     "text": [
      "Not setting metadata\n",
      "Not setting metadata\n",
      "99 matching events found\n",
      "No baseline correction applied\n",
      "0 projection items activated\n",
      "Ready.\n",
      "(62, 20, 1000)\n",
      "(15, 20, 600)\n",
      "Extracting parameters from E:/standard and novel/sub75/standard.set...\n"
     ]
    },
    {
     "name": "stderr",
     "output_type": "stream",
     "text": [
      "<ipython-input-6-c623e3af7c63>:13: RuntimeWarning: At least one epoch has multiple events. Only the latency of the first event will be retained.\n",
      "  standard_epochs = mne.io.read_epochs_eeglab(standard_data_path)\n"
     ]
    },
    {
     "name": "stdout",
     "output_type": "stream",
     "text": [
      "Not setting metadata\n",
      "Not setting metadata\n",
      "101 matching events found\n",
      "No baseline correction applied\n",
      "0 projection items activated\n",
      "Ready.\n",
      "(62, 20, 1000)\n",
      "Extracting parameters from E:/standard and novel/sub75/novel.set...\n"
     ]
    },
    {
     "name": "stderr",
     "output_type": "stream",
     "text": [
      "<ipython-input-6-c623e3af7c63>:38: RuntimeWarning: At least one epoch has multiple events. Only the latency of the first event will be retained.\n",
      "  novel_epochs = mne.io.read_epochs_eeglab(novel_data_path)\n"
     ]
    },
    {
     "name": "stdout",
     "output_type": "stream",
     "text": [
      "Not setting metadata\n",
      "Not setting metadata\n",
      "100 matching events found\n",
      "No baseline correction applied\n",
      "0 projection items activated\n",
      "Ready.\n",
      "(62, 20, 1000)\n",
      "(15, 20, 600)\n",
      "Extracting parameters from E:/standard and novel/sub76/standard.set...\n"
     ]
    },
    {
     "name": "stderr",
     "output_type": "stream",
     "text": [
      "<ipython-input-6-c623e3af7c63>:13: RuntimeWarning: At least one epoch has multiple events. Only the latency of the first event will be retained.\n",
      "  standard_epochs = mne.io.read_epochs_eeglab(standard_data_path)\n"
     ]
    },
    {
     "name": "stdout",
     "output_type": "stream",
     "text": [
      "Not setting metadata\n",
      "Not setting metadata\n",
      "83 matching events found\n",
      "No baseline correction applied\n",
      "0 projection items activated\n",
      "Ready.\n",
      "(60, 20, 1000)\n",
      "Extracting parameters from E:/standard and novel/sub76/novel.set...\n"
     ]
    },
    {
     "name": "stderr",
     "output_type": "stream",
     "text": [
      "<ipython-input-6-c623e3af7c63>:38: RuntimeWarning: At least one epoch has multiple events. Only the latency of the first event will be retained.\n",
      "  novel_epochs = mne.io.read_epochs_eeglab(novel_data_path)\n"
     ]
    },
    {
     "name": "stdout",
     "output_type": "stream",
     "text": [
      "Not setting metadata\n",
      "Not setting metadata\n",
      "92 matching events found\n",
      "No baseline correction applied\n",
      "0 projection items activated\n",
      "Ready.\n",
      "(60, 20, 1000)\n",
      "(15, 20, 600)\n",
      "Extracting parameters from E:/standard and novel/sub77/standard.set...\n"
     ]
    },
    {
     "name": "stderr",
     "output_type": "stream",
     "text": [
      "<ipython-input-6-c623e3af7c63>:13: RuntimeWarning: At least one epoch has multiple events. Only the latency of the first event will be retained.\n",
      "  standard_epochs = mne.io.read_epochs_eeglab(standard_data_path)\n"
     ]
    },
    {
     "name": "stdout",
     "output_type": "stream",
     "text": [
      "Not setting metadata\n",
      "Not setting metadata\n",
      "79 matching events found\n",
      "No baseline correction applied\n",
      "0 projection items activated\n",
      "Ready.\n",
      "(61, 20, 1000)\n",
      "Extracting parameters from E:/standard and novel/sub77/novel.set...\n"
     ]
    },
    {
     "name": "stderr",
     "output_type": "stream",
     "text": [
      "<ipython-input-6-c623e3af7c63>:38: RuntimeWarning: At least one epoch has multiple events. Only the latency of the first event will be retained.\n",
      "  novel_epochs = mne.io.read_epochs_eeglab(novel_data_path)\n"
     ]
    },
    {
     "name": "stdout",
     "output_type": "stream",
     "text": [
      "Not setting metadata\n",
      "Not setting metadata\n",
      "87 matching events found\n",
      "No baseline correction applied\n",
      "0 projection items activated\n",
      "Ready.\n",
      "(61, 20, 1000)\n",
      "(15, 20, 600)\n",
      "Extracting parameters from E:/standard and novel/sub78/standard.set...\n"
     ]
    },
    {
     "name": "stderr",
     "output_type": "stream",
     "text": [
      "<ipython-input-6-c623e3af7c63>:13: RuntimeWarning: At least one epoch has multiple events. Only the latency of the first event will be retained.\n",
      "  standard_epochs = mne.io.read_epochs_eeglab(standard_data_path)\n"
     ]
    },
    {
     "name": "stdout",
     "output_type": "stream",
     "text": [
      "Not setting metadata\n",
      "Not setting metadata\n",
      "102 matching events found\n",
      "No baseline correction applied\n",
      "0 projection items activated\n",
      "Ready.\n",
      "(62, 20, 1000)\n",
      "Extracting parameters from E:/standard and novel/sub78/novel.set...\n"
     ]
    },
    {
     "name": "stderr",
     "output_type": "stream",
     "text": [
      "<ipython-input-6-c623e3af7c63>:38: RuntimeWarning: At least one epoch has multiple events. Only the latency of the first event will be retained.\n",
      "  novel_epochs = mne.io.read_epochs_eeglab(novel_data_path)\n"
     ]
    },
    {
     "name": "stdout",
     "output_type": "stream",
     "text": [
      "Not setting metadata\n",
      "Not setting metadata\n",
      "101 matching events found\n",
      "No baseline correction applied\n",
      "0 projection items activated\n",
      "Ready.\n",
      "(62, 20, 1000)\n",
      "(15, 20, 600)\n"
     ]
    },
    {
     "ename": "NameError",
     "evalue": "name 'tfr_standard' is not defined",
     "output_type": "error",
     "traceback": [
      "\u001b[1;31m---------------------------------------------------------------------------\u001b[0m",
      "\u001b[1;31mNameError\u001b[0m                                 Traceback (most recent call last)",
      "\u001b[1;32m<ipython-input-6-c623e3af7c63>\u001b[0m in \u001b[0;36m<module>\u001b[1;34m\u001b[0m\n\u001b[0;32m     54\u001b[0m \u001b[1;33m\u001b[0m\u001b[0m\n\u001b[0;32m     55\u001b[0m \u001b[0madult_standard_tfr_all\u001b[0m \u001b[1;33m=\u001b[0m \u001b[0mnp\u001b[0m\u001b[1;33m.\u001b[0m\u001b[0marray\u001b[0m\u001b[1;33m(\u001b[0m\u001b[0madult_standard_tfr\u001b[0m\u001b[1;33m)\u001b[0m\u001b[1;33m\u001b[0m\u001b[1;33m\u001b[0m\u001b[0m\n\u001b[1;32m---> 56\u001b[1;33m \u001b[0mprint\u001b[0m\u001b[1;33m(\u001b[0m\u001b[0mtfr_standard\u001b[0m\u001b[1;33m.\u001b[0m\u001b[0mshape\u001b[0m\u001b[1;33m)\u001b[0m\u001b[1;33m\u001b[0m\u001b[1;33m\u001b[0m\u001b[0m\n\u001b[0m\u001b[0;32m     57\u001b[0m \u001b[0madult_novel_tfr_all\u001b[0m \u001b[1;33m=\u001b[0m \u001b[0mnp\u001b[0m\u001b[1;33m.\u001b[0m\u001b[0marray\u001b[0m\u001b[1;33m(\u001b[0m\u001b[0madult_novel_tfr\u001b[0m\u001b[1;33m)\u001b[0m\u001b[1;33m\u001b[0m\u001b[1;33m\u001b[0m\u001b[0m\n\u001b[0;32m     58\u001b[0m \u001b[0mprint\u001b[0m\u001b[1;33m(\u001b[0m\u001b[0madult_novel_tfr_all\u001b[0m\u001b[1;33m.\u001b[0m\u001b[0mshape\u001b[0m\u001b[1;33m)\u001b[0m\u001b[1;33m\u001b[0m\u001b[1;33m\u001b[0m\u001b[0m\n",
      "\u001b[1;31mNameError\u001b[0m: name 'tfr_standard' is not defined"
     ]
    }
   ],
   "source": [
    "adult_standard_tfr = []\n",
    "adult_novel_tfr = []\n",
    "# 设定⼀些时频分析的参数\n",
    "# 频段选取4-30Hz\n",
    "freqs = np.arange(1, 40, 2)\n",
    "n_cycles = freqs / 2.\n",
    "\n",
    "for i in range(78):\n",
    "    \n",
    "    ###读取standard\n",
    "    standard_data_path = \"E:/standard and novel/\" + \"sub\"+str(i+1)+\"/standard.set\"\n",
    "    #读取set文件中的epoch信息\n",
    "    standard_epochs = mne.io.read_epochs_eeglab(standard_data_path)\n",
    "    #读取epoch中的数据，是[trial，电极，时间点]的矩阵\n",
    "    standard_epochs_array = standard_epochs.get_data()\n",
    "    \n",
    "    # 使⽤MNE的time_frequency模块下的tfr_arrayy_morlet()函数\n",
    "    # 其输⼊为[n_epochs, n_channels, n_times]的array\n",
    "    # 同时接着依次传⼊数据采样率、计算频率、周期数和输出数据类型\n",
    "    standard_tfr = tfr_array_morlet(standard_epochs_array, 1000, freqs, n_cycles, output='power')\n",
    "    standard_tfr = np.average(standard_tfr,axis = 0)\n",
    "    print(standard_tfr.shape)\n",
    "    #基线矫正-100-0ms\n",
    "    for chl in range(60):\n",
    "        for freq in range(len(freqs)):\n",
    "            standard_tfr[chl, freq] = 10 * np.log10(standard_tfr[chl, freq] /\n",
    "                                  np.average(standard_tfr[chl, freq, 400:500]))\n",
    "    standard_tfr_electrode = standard_tfr[[7,8,9,10,11,16,17,18,19,20,25,26,27,28,29]]\n",
    "    standard_tfr_time = standard_tfr_electrode[:,:,400:]\n",
    "    adult_standard_tfr.append(standard_tfr_time)\n",
    "    \n",
    "    \n",
    "    \n",
    "    \n",
    "    ###读取novel\n",
    "    novel_data_path = \"E:/standard and novel/\" + \"sub\"+str(i+1)+\"/novel.set\"\n",
    "    #读取set文件中的epoch信息\n",
    "    novel_epochs = mne.io.read_epochs_eeglab(novel_data_path)\n",
    "    #读取epoch中的数据，是[trial，电极，时间点]的矩阵\n",
    "    novel_epochs_array = novel_epochs.get_data()\n",
    "    novel_tfr = tfr_array_morlet(novel_epochs_array, 1000, freqs, n_cycles, output='power')\n",
    "    novel_tfr = np.average(novel_tfr,axis = 0)\n",
    "    print(novel_tfr.shape)\n",
    "    #基线矫正-100-0ms\n",
    "    for chl in range(60):\n",
    "        for freq in range(len(freqs)):\n",
    "            novel_tfr[chl, freq] = 10 * np.log10(novel_tfr[chl, freq] /\n",
    "                                  np.average(novel_tfr[chl, freq, 400:500]))\n",
    "    novel_tfr_electrode = novel_tfr[[7,8,9,10,11,16,17,18,19,20,25,26,27,28,29]]\n",
    "    novel_tfr_time = novel_tfr_electrode[:,:,400:]\n",
    "    print(novel_tfr_time.shape)\n",
    "    adult_novel_tfr.append(novel_tfr_time)\n",
    "    \n",
    "    \n",
    "adult_standard_tfr_all = np.array(adult_standard_tfr)\n",
    "print(adult_standard_tfr_all.shape)\n",
    "adult_novel_tfr_all = np.array(adult_novel_tfr)\n",
    "print(adult_novel_tfr_all.shape)"
   ]
  },
  {
   "cell_type": "code",
   "execution_count": 10,
   "metadata": {},
   "outputs": [
    {
     "data": {
      "text/plain": [
       "(78, 20, 600)"
      ]
     },
     "execution_count": 10,
     "metadata": {},
     "output_type": "execute_result"
    }
   ],
   "source": [
    "#取一个电极点用于下面作图\n",
    "\n",
    "adult_tfr_novel = adult_novel_tfr_all[:,7,:,:]\n",
    "adult_tfr_standard = adult_standard_tfr_all[:,7,:,:]\n",
    "adult_tfr_diff = adult_tfr_novel - adult_tfr_standard\n",
    "adult_tfr_diff.shape"
   ]
  },
  {
   "cell_type": "code",
   "execution_count": 20,
   "metadata": {},
   "outputs": [
    {
     "data": {
      "text/plain": [
       "(78, 20, 600)"
      ]
     },
     "execution_count": 20,
     "metadata": {},
     "output_type": "execute_result"
    }
   ],
   "source": [
    "#取所有电极的平均用于下面作图\n",
    "adult_tfr_novel_avg = np.average(adult_novel_tfr_all, axis = 1)\n",
    "adult_tfr_standard_avg = np.average(adult_standard_tfr_all, axis = 1)"
   ]
  },
  {
   "cell_type": "code",
   "execution_count": 22,
   "metadata": {},
   "outputs": [],
   "source": [
    "def plot_tfr_diff_results(tfr1, tfr2, freqs, times, p=0.01,\n",
    "clim=[-2, 2]):\n",
    "    \"\"\"\n",
    "    参数：\n",
    "    tfr1 : shape为[n_subs, n_freqs, n_times]的矩阵，代表条件1下时频分析的结果\n",
    "    tfr2 : shape为[n_subs, n_freqs, n_times]的矩阵，代表条件2下时频分析的结果\n",
    "    freqs : shape为[n_freqs]的array，代表时频分析的频率（对应y轴的频率范围及频率点）\n",
    "    times : shape为[n_times]的array，代表时频分析的时间点（对应x轴的时间范围及时间点）\n",
    "    p : ⼀个浮点型数字，默认为0.01，代表p值的阈值\n",
    "    clusterp : ⼀个浮点型数字，默认为0.05，代表cluster层⾯p值的阈值\n",
    "    clim : ⼀个List或array，[最⼩值，最⼤值]，默认为[-2, 2]，代表颜⾊条的上下边界\n",
    "    \"\"\"\n",
    "    n_freqs = len(freqs)\n",
    "    n_times = len(times)\n",
    "    # 统计分析\n",
    "    # 注意：由于进⾏了cluster-based permutation test，需要运⾏较⻓时间\n",
    "    # 这⾥使⽤NeuroRA的stuff模块下的clusterbased_permutation_2d_2sided()函数\n",
    "    # 其返回的stats_results为⼀个shape为[n_freqs, n_times]的矩阵\n",
    "    # 该矩阵中不显著的点的值为0，条件1显著⼤于条件2的点的值为1，条件1显著⼩于条件2的点的值为-1\n",
    "    # 这⾥iter设成100是为了示例运⾏起来快⼀些，建议1000\n",
    "    stats_results = clusterbased_permutation_2d_2sided(tfr1, tfr2,\n",
    "    p_threshold=p,\n",
    "    iter=100)\n",
    "    # 计算△tfr\n",
    "    tfr_diff = tfr1 - tfr2\n",
    "    # 时频分析结果可视化\n",
    "    fig, ax = plt.subplots(1, 1)\n",
    "    # 勾勒显著性区域\n",
    "    padsats_results = np.zeros([n_freqs + 2, n_times + 2])\n",
    "    padsats_results[1:n_freqs + 1, 1:n_times + 1] = stats_results\n",
    "    x = np.concatenate(([times[0]-1], times, [times[-1]+1]))\n",
    "    y = np.concatenate(([freqs[0]-1], freqs, [freqs[-1]+1]))\n",
    "    X, Y = np.meshgrid(x, y)\n",
    "    ax.contour(X, Y, padsats_results, [0.5], colors=\"red\", alpha=0.9,\n",
    "    linewidths=2, linestyles=\"dashed\")\n",
    "    ax.contour(X, Y, padsats_results, [-0.5], colors=\"blue\", alpha=0.9,\n",
    "    linewidths=2, linestyles=\"dashed\")\n",
    "    # 绘制时频结果热⼒图\n",
    "    im = ax.imshow(np.average(tfr_diff, axis=0), cmap='RdBu_r', origin='lower',\n",
    "    extent=[times[0], times[-1], freqs[0], freqs[-1]], clim=clim)\n",
    "    ax.set_aspect('auto')\n",
    "    cbar = fig.colorbar(im)\n",
    "    cbar.set_label('$\\Delta$ dB')\n",
    "    ax.set_xlabel('Time (ms)')\n",
    "    ax.set_ylabel('Frequency (Hz)')\n",
    "    plt.show()"
   ]
  },
  {
   "cell_type": "code",
   "execution_count": 23,
   "metadata": {},
   "outputs": [
    {
     "name": "stdout",
     "output_type": "stream",
     "text": [
      "1 1\n",
      "\n",
      "Permutation test\n",
      "\n",
      "Side 1 begin:\n",
      "Calculating: [====================================================================================================] 100.00%\n",
      "Side 1 finished!\n",
      "\n",
      "Side 2 begin:\n",
      "\n",
      "Calculating: [====================================================================================================] 100.00%\n",
      "Side 2 finished!\n",
      "\n",
      "Cluster-based permutation test finished!\n",
      "\n"
     ]
    },
    {
     "data": {
      "image/png": "[encoded data removed]",
      "text/plain": [
       "<Figure size 432x288 with 2 Axes>"
      ]
     },
     "metadata": {
      "needs_background": "light"
     },
     "output_type": "display_data"
    },
    {
     "data": {
      "text/plain": [
       "<Figure size 432x288 with 0 Axes>"
      ]
     },
     "metadata": {},
     "output_type": "display_data"
    }
   ],
   "source": [
    "freqs = np.arange(1, 40, 2)\n",
    "times = np.arange(-100, 500, 1)\n",
    "plot_tfr_diff_results(adult_tfr_novel, adult_tfr_standard, freqs, times,p = 0.01, clim=[-2, 2])\n",
    "plt.savefig('adult_novel-standard_tfr_FCZ.png', bbox_inches='tight')"
   ]
  },
  {
   "cell_type": "code",
   "execution_count": 21,
   "metadata": {},
   "outputs": [
    {
     "name": "stdout",
     "output_type": "stream",
     "text": [
      "1 2\n",
      "\n",
      "Permutation test\n",
      "\n",
      "Side 1 begin:\n",
      "Calculating: [====================================================================================================] 100.00%\n",
      "Side 1 finished!\n",
      "\n",
      "Side 2 begin:\n",
      "\n",
      "Calculating: [====================================================================================================] 100.00%\n",
      "Side 2 finished!\n",
      "\n",
      "Cluster-based permutation test finished!\n",
      "\n"
     ]
    },
    {
     "data": {
      "image/png": "[encoded data removed]",
      "text/plain": [
       "<Figure size 432x288 with 2 Axes>"
      ]
     },
     "metadata": {
      "needs_background": "light"
     },
     "output_type": "display_data"
    }
   ],
   "source": [
    "freqs = np.arange(1, 40, 2)\n",
    "times = np.arange(-100, 500, 1)\n",
    "plot_tfr_diff_results(adult_tfr_novel_avg, adult_tfr_standard_avg, freqs, times,p = 0.01, clim=[-2, 2])"
   ]
  },
  {
   "cell_type": "markdown",
   "metadata": {},
   "source": [
    "## 计算儿童在AV任务上的power值"
   ]
  },
  {
   "cell_type": "code",
   "execution_count": 7,
   "metadata": {},
   "outputs": [
    {
     "name": "stdout",
     "output_type": "stream",
     "text": [
      "Extracting parameters from E:/standard and novel/sub79/standard.set...\n"
     ]
    },
    {
     "name": "stderr",
     "output_type": "stream",
     "text": [
      "<ipython-input-7-d85d77267efa>:13: RuntimeWarning: At least one epoch has multiple events. Only the latency of the first event will be retained.\n",
      "  standard_epochs = mne.io.read_epochs_eeglab(standard_data_path)\n"
     ]
    },
    {
     "name": "stdout",
     "output_type": "stream",
     "text": [
      "Not setting metadata\n",
      "Not setting metadata\n",
      "99 matching events found\n",
      "No baseline correction applied\n",
      "0 projection items activated\n",
      "Ready.\n",
      "(70, 20, 1000)\n",
      "Extracting parameters from E:/standard and novel/sub79/novel.set...\n"
     ]
    },
    {
     "name": "stderr",
     "output_type": "stream",
     "text": [
      "<ipython-input-7-d85d77267efa>:39: RuntimeWarning: At least one epoch has multiple events. Only the latency of the first event will be retained.\n",
      "  novel_epochs = mne.io.read_epochs_eeglab(novel_data_path)\n"
     ]
    },
    {
     "name": "stdout",
     "output_type": "stream",
     "text": [
      "Not setting metadata\n",
      "Not setting metadata\n",
      "97 matching events found\n",
      "No baseline correction applied\n",
      "0 projection items activated\n",
      "Ready.\n",
      "(70, 20, 1000)\n",
      "(15, 20, 600)\n",
      "Extracting parameters from E:/standard and novel/sub80/standard.set...\n"
     ]
    },
    {
     "name": "stderr",
     "output_type": "stream",
     "text": [
      "<ipython-input-7-d85d77267efa>:13: RuntimeWarning: At least one epoch has multiple events. Only the latency of the first event will be retained.\n",
      "  standard_epochs = mne.io.read_epochs_eeglab(standard_data_path)\n"
     ]
    },
    {
     "name": "stdout",
     "output_type": "stream",
     "text": [
      "Not setting metadata\n",
      "Not setting metadata\n",
      "102 matching events found\n",
      "No baseline correction applied\n",
      "0 projection items activated\n",
      "Ready.\n",
      "(70, 20, 1000)\n",
      "Extracting parameters from E:/standard and novel/sub80/novel.set...\n"
     ]
    },
    {
     "name": "stderr",
     "output_type": "stream",
     "text": [
      "<ipython-input-7-d85d77267efa>:39: RuntimeWarning: At least one epoch has multiple events. Only the latency of the first event will be retained.\n",
      "  novel_epochs = mne.io.read_epochs_eeglab(novel_data_path)\n"
     ]
    },
    {
     "name": "stdout",
     "output_type": "stream",
     "text": [
      "Not setting metadata\n",
      "Not setting metadata\n",
      "102 matching events found\n",
      "No baseline correction applied\n",
      "0 projection items activated\n",
      "Ready.\n",
      "(70, 20, 1000)\n",
      "(15, 20, 600)\n",
      "Extracting parameters from E:/standard and novel/sub81/standard.set...\n"
     ]
    },
    {
     "name": "stderr",
     "output_type": "stream",
     "text": [
      "<ipython-input-7-d85d77267efa>:13: RuntimeWarning: At least one epoch has multiple events. Only the latency of the first event will be retained.\n",
      "  standard_epochs = mne.io.read_epochs_eeglab(standard_data_path)\n"
     ]
    },
    {
     "name": "stdout",
     "output_type": "stream",
     "text": [
      "Not setting metadata\n",
      "Not setting metadata\n",
      "95 matching events found\n",
      "No baseline correction applied\n",
      "0 projection items activated\n",
      "Ready.\n",
      "(70, 20, 1000)\n",
      "Extracting parameters from E:/standard and novel/sub81/novel.set...\n"
     ]
    },
    {
     "name": "stderr",
     "output_type": "stream",
     "text": [
      "<ipython-input-7-d85d77267efa>:39: RuntimeWarning: At least one epoch has multiple events. Only the latency of the first event will be retained.\n",
      "  novel_epochs = mne.io.read_epochs_eeglab(novel_data_path)\n"
     ]
    },
    {
     "name": "stdout",
     "output_type": "stream",
     "text": [
      "Not setting metadata\n",
      "Not setting metadata\n",
      "96 matching events found\n",
      "No baseline correction applied\n",
      "0 projection items activated\n",
      "Ready.\n",
      "(70, 20, 1000)\n",
      "(15, 20, 600)\n",
      "Extracting parameters from E:/standard and novel/sub82/standard.set...\n"
     ]
    },
    {
     "name": "stderr",
     "output_type": "stream",
     "text": [
      "<ipython-input-7-d85d77267efa>:13: RuntimeWarning: At least one epoch has multiple events. Only the latency of the first event will be retained.\n",
      "  standard_epochs = mne.io.read_epochs_eeglab(standard_data_path)\n"
     ]
    },
    {
     "name": "stdout",
     "output_type": "stream",
     "text": [
      "Not setting metadata\n",
      "Not setting metadata\n",
      "99 matching events found\n",
      "No baseline correction applied\n",
      "0 projection items activated\n",
      "Ready.\n",
      "(70, 20, 1000)\n",
      "Extracting parameters from E:/standard and novel/sub82/novel.set...\n"
     ]
    },
    {
     "name": "stderr",
     "output_type": "stream",
     "text": [
      "<ipython-input-7-d85d77267efa>:39: RuntimeWarning: At least one epoch has multiple events. Only the latency of the first event will be retained.\n",
      "  novel_epochs = mne.io.read_epochs_eeglab(novel_data_path)\n"
     ]
    },
    {
     "name": "stdout",
     "output_type": "stream",
     "text": [
      "Not setting metadata\n",
      "Not setting metadata\n",
      "102 matching events found\n",
      "No baseline correction applied\n",
      "0 projection items activated\n",
      "Ready.\n",
      "(70, 20, 1000)\n",
      "(15, 20, 600)\n",
      "Extracting parameters from E:/standard and novel/sub83/standard.set...\n"
     ]
    },
    {
     "name": "stderr",
     "output_type": "stream",
     "text": [
      "<ipython-input-7-d85d77267efa>:13: RuntimeWarning: At least one epoch has multiple events. Only the latency of the first event will be retained.\n",
      "  standard_epochs = mne.io.read_epochs_eeglab(standard_data_path)\n"
     ]
    },
    {
     "name": "stdout",
     "output_type": "stream",
     "text": [
      "Not setting metadata\n",
      "Not setting metadata\n",
      "99 matching events found\n",
      "No baseline correction applied\n",
      "0 projection items activated\n",
      "Ready.\n",
      "(70, 20, 1000)\n",
      "Extracting parameters from E:/standard and novel/sub83/novel.set...\n"
     ]
    },
    {
     "name": "stderr",
     "output_type": "stream",
     "text": [
      "<ipython-input-7-d85d77267efa>:39: RuntimeWarning: At least one epoch has multiple events. Only the latency of the first event will be retained.\n",
      "  novel_epochs = mne.io.read_epochs_eeglab(novel_data_path)\n"
     ]
    },
    {
     "name": "stdout",
     "output_type": "stream",
     "text": [
      "Not setting metadata\n",
      "Not setting metadata\n",
      "98 matching events found\n",
      "No baseline correction applied\n",
      "0 projection items activated\n",
      "Ready.\n",
      "(70, 20, 1000)\n",
      "(15, 20, 600)\n",
      "Extracting parameters from E:/standard and novel/sub84/standard.set...\n"
     ]
    },
    {
     "name": "stderr",
     "output_type": "stream",
     "text": [
      "<ipython-input-7-d85d77267efa>:13: RuntimeWarning: At least one epoch has multiple events. Only the latency of the first event will be retained.\n",
      "  standard_epochs = mne.io.read_epochs_eeglab(standard_data_path)\n"
     ]
    },
    {
     "name": "stdout",
     "output_type": "stream",
     "text": [
      "Not setting metadata\n",
      "Not setting metadata\n",
      "85 matching events found\n",
      "No baseline correction applied\n",
      "0 projection items activated\n",
      "Ready.\n",
      "(70, 20, 1000)\n",
      "Extracting parameters from E:/standard and novel/sub84/novel.set...\n"
     ]
    },
    {
     "name": "stderr",
     "output_type": "stream",
     "text": [
      "<ipython-input-7-d85d77267efa>:39: RuntimeWarning: At least one epoch has multiple events. Only the latency of the first event will be retained.\n",
      "  novel_epochs = mne.io.read_epochs_eeglab(novel_data_path)\n"
     ]
    },
    {
     "name": "stdout",
     "output_type": "stream",
     "text": [
      "Not setting metadata\n",
      "Not setting metadata\n",
      "88 matching events found\n",
      "No baseline correction applied\n",
      "0 projection items activated\n",
      "Ready.\n",
      "(70, 20, 1000)\n",
      "(15, 20, 600)\n",
      "Extracting parameters from E:/standard and novel/sub85/standard.set...\n"
     ]
    },
    {
     "name": "stderr",
     "output_type": "stream",
     "text": [
      "<ipython-input-7-d85d77267efa>:13: RuntimeWarning: At least one epoch has multiple events. Only the latency of the first event will be retained.\n",
      "  standard_epochs = mne.io.read_epochs_eeglab(standard_data_path)\n"
     ]
    },
    {
     "name": "stdout",
     "output_type": "stream",
     "text": [
      "Not setting metadata\n",
      "Not setting metadata\n",
      "101 matching events found\n",
      "No baseline correction applied\n",
      "0 projection items activated\n",
      "Ready.\n",
      "(70, 20, 1000)\n",
      "Extracting parameters from E:/standard and novel/sub85/novel.set...\n"
     ]
    },
    {
     "name": "stderr",
     "output_type": "stream",
     "text": [
      "<ipython-input-7-d85d77267efa>:39: RuntimeWarning: At least one epoch has multiple events. Only the latency of the first event will be retained.\n",
      "  novel_epochs = mne.io.read_epochs_eeglab(novel_data_path)\n"
     ]
    },
    {
     "name": "stdout",
     "output_type": "stream",
     "text": [
      "Not setting metadata\n",
      "Not setting metadata\n",
      "101 matching events found\n",
      "No baseline correction applied\n",
      "0 projection items activated\n",
      "Ready.\n",
      "(70, 20, 1000)\n",
      "(15, 20, 600)\n",
      "Extracting parameters from E:/standard and novel/sub86/standard.set...\n"
     ]
    },
    {
     "name": "stderr",
     "output_type": "stream",
     "text": [
      "<ipython-input-7-d85d77267efa>:13: RuntimeWarning: At least one epoch has multiple events. Only the latency of the first event will be retained.\n",
      "  standard_epochs = mne.io.read_epochs_eeglab(standard_data_path)\n"
     ]
    },
    {
     "name": "stdout",
     "output_type": "stream",
     "text": [
      "Not setting metadata\n",
      "Not setting metadata\n",
      "96 matching events found\n",
      "No baseline correction applied\n",
      "0 projection items activated\n",
      "Ready.\n",
      "(70, 20, 1000)\n",
      "Extracting parameters from E:/standard and novel/sub86/novel.set...\n"
     ]
    },
    {
     "name": "stderr",
     "output_type": "stream",
     "text": [
      "<ipython-input-7-d85d77267efa>:39: RuntimeWarning: At least one epoch has multiple events. Only the latency of the first event will be retained.\n",
      "  novel_epochs = mne.io.read_epochs_eeglab(novel_data_path)\n"
     ]
    },
    {
     "name": "stdout",
     "output_type": "stream",
     "text": [
      "Not setting metadata\n",
      "Not setting metadata\n",
      "99 matching events found\n",
      "No baseline correction applied\n",
      "0 projection items activated\n",
      "Ready.\n",
      "(70, 20, 1000)\n",
      "(15, 20, 600)\n",
      "Extracting parameters from E:/standard and novel/sub87/standard.set...\n"
     ]
    },
    {
     "name": "stderr",
     "output_type": "stream",
     "text": [
      "<ipython-input-7-d85d77267efa>:13: RuntimeWarning: At least one epoch has multiple events. Only the latency of the first event will be retained.\n",
      "  standard_epochs = mne.io.read_epochs_eeglab(standard_data_path)\n"
     ]
    },
    {
     "name": "stdout",
     "output_type": "stream",
     "text": [
      "Not setting metadata\n",
      "Not setting metadata\n",
      "101 matching events found\n",
      "No baseline correction applied\n",
      "0 projection items activated\n",
      "Ready.\n",
      "(70, 20, 1000)\n",
      "Extracting parameters from E:/standard and novel/sub87/novel.set...\n"
     ]
    },
    {
     "name": "stderr",
     "output_type": "stream",
     "text": [
      "<ipython-input-7-d85d77267efa>:39: RuntimeWarning: At least one epoch has multiple events. Only the latency of the first event will be retained.\n",
      "  novel_epochs = mne.io.read_epochs_eeglab(novel_data_path)\n"
     ]
    },
    {
     "name": "stdout",
     "output_type": "stream",
     "text": [
      "Not setting metadata\n",
      "Not setting metadata\n",
      "102 matching events found\n",
      "No baseline correction applied\n",
      "0 projection items activated\n",
      "Ready.\n",
      "(70, 20, 1000)\n",
      "(15, 20, 600)\n",
      "Extracting parameters from E:/standard and novel/sub88/standard.set...\n"
     ]
    },
    {
     "name": "stderr",
     "output_type": "stream",
     "text": [
      "<ipython-input-7-d85d77267efa>:13: RuntimeWarning: At least one epoch has multiple events. Only the latency of the first event will be retained.\n",
      "  standard_epochs = mne.io.read_epochs_eeglab(standard_data_path)\n"
     ]
    },
    {
     "name": "stdout",
     "output_type": "stream",
     "text": [
      "Not setting metadata\n",
      "Not setting metadata\n",
      "81 matching events found\n",
      "No baseline correction applied\n",
      "0 projection items activated\n",
      "Ready.\n",
      "(70, 20, 1000)\n",
      "Extracting parameters from E:/standard and novel/sub88/novel.set...\n"
     ]
    },
    {
     "name": "stderr",
     "output_type": "stream",
     "text": [
      "<ipython-input-7-d85d77267efa>:39: RuntimeWarning: At least one epoch has multiple events. Only the latency of the first event will be retained.\n",
      "  novel_epochs = mne.io.read_epochs_eeglab(novel_data_path)\n"
     ]
    },
    {
     "name": "stdout",
     "output_type": "stream",
     "text": [
      "Not setting metadata\n",
      "Not setting metadata\n",
      "77 matching events found\n",
      "No baseline correction applied\n",
      "0 projection items activated\n",
      "Ready.\n",
      "(70, 20, 1000)\n",
      "(15, 20, 600)\n",
      "Extracting parameters from E:/standard and novel/sub89/standard.set...\n"
     ]
    },
    {
     "name": "stderr",
     "output_type": "stream",
     "text": [
      "<ipython-input-7-d85d77267efa>:13: RuntimeWarning: At least one epoch has multiple events. Only the latency of the first event will be retained.\n",
      "  standard_epochs = mne.io.read_epochs_eeglab(standard_data_path)\n"
     ]
    },
    {
     "name": "stdout",
     "output_type": "stream",
     "text": [
      "Not setting metadata\n",
      "Not setting metadata\n",
      "101 matching events found\n",
      "No baseline correction applied\n",
      "0 projection items activated\n",
      "Ready.\n",
      "(70, 20, 1000)\n",
      "Extracting parameters from E:/standard and novel/sub89/novel.set...\n"
     ]
    },
    {
     "name": "stderr",
     "output_type": "stream",
     "text": [
      "<ipython-input-7-d85d77267efa>:39: RuntimeWarning: At least one epoch has multiple events. Only the latency of the first event will be retained.\n",
      "  novel_epochs = mne.io.read_epochs_eeglab(novel_data_path)\n"
     ]
    },
    {
     "name": "stdout",
     "output_type": "stream",
     "text": [
      "Not setting metadata\n",
      "Not setting metadata\n",
      "102 matching events found\n",
      "No baseline correction applied\n",
      "0 projection items activated\n",
      "Ready.\n",
      "(70, 20, 1000)\n",
      "(15, 20, 600)\n",
      "Extracting parameters from E:/standard and novel/sub90/standard.set...\n"
     ]
    },
    {
     "name": "stderr",
     "output_type": "stream",
     "text": [
      "<ipython-input-7-d85d77267efa>:13: RuntimeWarning: At least one epoch has multiple events. Only the latency of the first event will be retained.\n",
      "  standard_epochs = mne.io.read_epochs_eeglab(standard_data_path)\n"
     ]
    },
    {
     "name": "stdout",
     "output_type": "stream",
     "text": [
      "Not setting metadata\n",
      "Not setting metadata\n",
      "97 matching events found\n",
      "No baseline correction applied\n",
      "0 projection items activated\n",
      "Ready.\n",
      "(70, 20, 1000)\n",
      "Extracting parameters from E:/standard and novel/sub90/novel.set...\n"
     ]
    },
    {
     "name": "stderr",
     "output_type": "stream",
     "text": [
      "<ipython-input-7-d85d77267efa>:39: RuntimeWarning: At least one epoch has multiple events. Only the latency of the first event will be retained.\n",
      "  novel_epochs = mne.io.read_epochs_eeglab(novel_data_path)\n"
     ]
    },
    {
     "name": "stdout",
     "output_type": "stream",
     "text": [
      "Not setting metadata\n",
      "Not setting metadata\n",
      "99 matching events found\n",
      "No baseline correction applied\n",
      "0 projection items activated\n",
      "Ready.\n",
      "(70, 20, 1000)\n",
      "(15, 20, 600)\n",
      "Extracting parameters from E:/standard and novel/sub91/standard.set...\n"
     ]
    },
    {
     "name": "stderr",
     "output_type": "stream",
     "text": [
      "<ipython-input-7-d85d77267efa>:13: RuntimeWarning: At least one epoch has multiple events. Only the latency of the first event will be retained.\n",
      "  standard_epochs = mne.io.read_epochs_eeglab(standard_data_path)\n"
     ]
    },
    {
     "name": "stdout",
     "output_type": "stream",
     "text": [
      "Not setting metadata\n",
      "Not setting metadata\n",
      "98 matching events found\n",
      "No baseline correction applied\n",
      "0 projection items activated\n",
      "Ready.\n",
      "(70, 20, 1000)\n",
      "Extracting parameters from E:/standard and novel/sub91/novel.set...\n"
     ]
    },
    {
     "name": "stderr",
     "output_type": "stream",
     "text": [
      "<ipython-input-7-d85d77267efa>:39: RuntimeWarning: At least one epoch has multiple events. Only the latency of the first event will be retained.\n",
      "  novel_epochs = mne.io.read_epochs_eeglab(novel_data_path)\n"
     ]
    },
    {
     "name": "stdout",
     "output_type": "stream",
     "text": [
      "Not setting metadata\n",
      "Not setting metadata\n",
      "96 matching events found\n",
      "No baseline correction applied\n",
      "0 projection items activated\n",
      "Ready.\n",
      "(70, 20, 1000)\n",
      "(15, 20, 600)\n",
      "Extracting parameters from E:/standard and novel/sub92/standard.set...\n"
     ]
    },
    {
     "name": "stderr",
     "output_type": "stream",
     "text": [
      "<ipython-input-7-d85d77267efa>:13: RuntimeWarning: At least one epoch has multiple events. Only the latency of the first event will be retained.\n",
      "  standard_epochs = mne.io.read_epochs_eeglab(standard_data_path)\n"
     ]
    },
    {
     "name": "stdout",
     "output_type": "stream",
     "text": [
      "Not setting metadata\n",
      "Not setting metadata\n",
      "77 matching events found\n",
      "No baseline correction applied\n",
      "0 projection items activated\n",
      "Ready.\n",
      "(70, 20, 1000)\n",
      "Extracting parameters from E:/standard and novel/sub92/novel.set...\n"
     ]
    },
    {
     "name": "stderr",
     "output_type": "stream",
     "text": [
      "<ipython-input-7-d85d77267efa>:39: RuntimeWarning: At least one epoch has multiple events. Only the latency of the first event will be retained.\n",
      "  novel_epochs = mne.io.read_epochs_eeglab(novel_data_path)\n"
     ]
    },
    {
     "name": "stdout",
     "output_type": "stream",
     "text": [
      "Not setting metadata\n",
      "Not setting metadata\n",
      "76 matching events found\n",
      "No baseline correction applied\n",
      "0 projection items activated\n",
      "Ready.\n",
      "(70, 20, 1000)\n",
      "(15, 20, 600)\n",
      "Extracting parameters from E:/standard and novel/sub93/standard.set...\n"
     ]
    },
    {
     "name": "stderr",
     "output_type": "stream",
     "text": [
      "<ipython-input-7-d85d77267efa>:13: RuntimeWarning: At least one epoch has multiple events. Only the latency of the first event will be retained.\n",
      "  standard_epochs = mne.io.read_epochs_eeglab(standard_data_path)\n"
     ]
    },
    {
     "name": "stdout",
     "output_type": "stream",
     "text": [
      "Not setting metadata\n",
      "Not setting metadata\n",
      "99 matching events found\n",
      "No baseline correction applied\n",
      "0 projection items activated\n",
      "Ready.\n",
      "(70, 20, 1000)\n",
      "Extracting parameters from E:/standard and novel/sub93/novel.set...\n"
     ]
    },
    {
     "name": "stderr",
     "output_type": "stream",
     "text": [
      "<ipython-input-7-d85d77267efa>:39: RuntimeWarning: At least one epoch has multiple events. Only the latency of the first event will be retained.\n",
      "  novel_epochs = mne.io.read_epochs_eeglab(novel_data_path)\n"
     ]
    },
    {
     "name": "stdout",
     "output_type": "stream",
     "text": [
      "Not setting metadata\n",
      "Not setting metadata\n",
      "101 matching events found\n",
      "No baseline correction applied\n",
      "0 projection items activated\n",
      "Ready.\n",
      "(70, 20, 1000)\n",
      "(15, 20, 600)\n",
      "Extracting parameters from E:/standard and novel/sub94/standard.set...\n"
     ]
    },
    {
     "name": "stderr",
     "output_type": "stream",
     "text": [
      "<ipython-input-7-d85d77267efa>:13: RuntimeWarning: At least one epoch has multiple events. Only the latency of the first event will be retained.\n",
      "  standard_epochs = mne.io.read_epochs_eeglab(standard_data_path)\n"
     ]
    },
    {
     "name": "stdout",
     "output_type": "stream",
     "text": [
      "Not setting metadata\n",
      "Not setting metadata\n",
      "92 matching events found\n",
      "No baseline correction applied\n",
      "0 projection items activated\n",
      "Ready.\n",
      "(70, 20, 1000)\n",
      "Extracting parameters from E:/standard and novel/sub94/novel.set...\n"
     ]
    },
    {
     "name": "stderr",
     "output_type": "stream",
     "text": [
      "<ipython-input-7-d85d77267efa>:39: RuntimeWarning: At least one epoch has multiple events. Only the latency of the first event will be retained.\n",
      "  novel_epochs = mne.io.read_epochs_eeglab(novel_data_path)\n"
     ]
    },
    {
     "name": "stdout",
     "output_type": "stream",
     "text": [
      "Not setting metadata\n",
      "Not setting metadata\n",
      "96 matching events found\n",
      "No baseline correction applied\n",
      "0 projection items activated\n",
      "Ready.\n",
      "(70, 20, 1000)\n",
      "(15, 20, 600)\n",
      "Extracting parameters from E:/standard and novel/sub95/standard.set...\n"
     ]
    },
    {
     "name": "stderr",
     "output_type": "stream",
     "text": [
      "<ipython-input-7-d85d77267efa>:13: RuntimeWarning: At least one epoch has multiple events. Only the latency of the first event will be retained.\n",
      "  standard_epochs = mne.io.read_epochs_eeglab(standard_data_path)\n"
     ]
    },
    {
     "name": "stdout",
     "output_type": "stream",
     "text": [
      "Not setting metadata\n",
      "Not setting metadata\n",
      "80 matching events found\n",
      "No baseline correction applied\n",
      "0 projection items activated\n",
      "Ready.\n",
      "(70, 20, 1000)\n",
      "Extracting parameters from E:/standard and novel/sub95/novel.set...\n"
     ]
    },
    {
     "name": "stderr",
     "output_type": "stream",
     "text": [
      "<ipython-input-7-d85d77267efa>:39: RuntimeWarning: At least one epoch has multiple events. Only the latency of the first event will be retained.\n",
      "  novel_epochs = mne.io.read_epochs_eeglab(novel_data_path)\n"
     ]
    },
    {
     "name": "stdout",
     "output_type": "stream",
     "text": [
      "Not setting metadata\n",
      "Not setting metadata\n",
      "74 matching events found\n",
      "No baseline correction applied\n",
      "0 projection items activated\n",
      "Ready.\n",
      "(70, 20, 1000)\n",
      "(15, 20, 600)\n",
      "Extracting parameters from E:/standard and novel/sub96/standard.set...\n"
     ]
    },
    {
     "name": "stderr",
     "output_type": "stream",
     "text": [
      "<ipython-input-7-d85d77267efa>:13: RuntimeWarning: At least one epoch has multiple events. Only the latency of the first event will be retained.\n",
      "  standard_epochs = mne.io.read_epochs_eeglab(standard_data_path)\n"
     ]
    },
    {
     "name": "stdout",
     "output_type": "stream",
     "text": [
      "Not setting metadata\n",
      "Not setting metadata\n",
      "90 matching events found\n",
      "No baseline correction applied\n",
      "0 projection items activated\n",
      "Ready.\n",
      "(70, 20, 1000)\n",
      "Extracting parameters from E:/standard and novel/sub96/novel.set...\n"
     ]
    },
    {
     "name": "stderr",
     "output_type": "stream",
     "text": [
      "<ipython-input-7-d85d77267efa>:39: RuntimeWarning: At least one epoch has multiple events. Only the latency of the first event will be retained.\n",
      "  novel_epochs = mne.io.read_epochs_eeglab(novel_data_path)\n"
     ]
    },
    {
     "name": "stdout",
     "output_type": "stream",
     "text": [
      "Not setting metadata\n",
      "Not setting metadata\n",
      "89 matching events found\n",
      "No baseline correction applied\n",
      "0 projection items activated\n",
      "Ready.\n",
      "(70, 20, 1000)\n",
      "(15, 20, 600)\n",
      "Extracting parameters from E:/standard and novel/sub97/standard.set...\n"
     ]
    },
    {
     "name": "stderr",
     "output_type": "stream",
     "text": [
      "<ipython-input-7-d85d77267efa>:13: RuntimeWarning: At least one epoch has multiple events. Only the latency of the first event will be retained.\n",
      "  standard_epochs = mne.io.read_epochs_eeglab(standard_data_path)\n"
     ]
    },
    {
     "name": "stdout",
     "output_type": "stream",
     "text": [
      "Not setting metadata\n",
      "Not setting metadata\n",
      "101 matching events found\n",
      "No baseline correction applied\n",
      "0 projection items activated\n",
      "Ready.\n",
      "(70, 20, 1000)\n",
      "Extracting parameters from E:/standard and novel/sub97/novel.set...\n"
     ]
    },
    {
     "name": "stderr",
     "output_type": "stream",
     "text": [
      "<ipython-input-7-d85d77267efa>:39: RuntimeWarning: At least one epoch has multiple events. Only the latency of the first event will be retained.\n",
      "  novel_epochs = mne.io.read_epochs_eeglab(novel_data_path)\n"
     ]
    },
    {
     "name": "stdout",
     "output_type": "stream",
     "text": [
      "Not setting metadata\n",
      "Not setting metadata\n",
      "101 matching events found\n",
      "No baseline correction applied\n",
      "0 projection items activated\n",
      "Ready.\n",
      "(70, 20, 1000)\n",
      "(15, 20, 600)\n",
      "Extracting parameters from E:/standard and novel/sub98/standard.set...\n"
     ]
    },
    {
     "name": "stderr",
     "output_type": "stream",
     "text": [
      "<ipython-input-7-d85d77267efa>:13: RuntimeWarning: At least one epoch has multiple events. Only the latency of the first event will be retained.\n",
      "  standard_epochs = mne.io.read_epochs_eeglab(standard_data_path)\n"
     ]
    },
    {
     "name": "stdout",
     "output_type": "stream",
     "text": [
      "Not setting metadata\n",
      "Not setting metadata\n",
      "66 matching events found\n",
      "No baseline correction applied\n",
      "0 projection items activated\n",
      "Ready.\n",
      "(70, 20, 1000)\n",
      "Extracting parameters from E:/standard and novel/sub98/novel.set...\n"
     ]
    },
    {
     "name": "stderr",
     "output_type": "stream",
     "text": [
      "<ipython-input-7-d85d77267efa>:39: RuntimeWarning: At least one epoch has multiple events. Only the latency of the first event will be retained.\n",
      "  novel_epochs = mne.io.read_epochs_eeglab(novel_data_path)\n"
     ]
    },
    {
     "name": "stdout",
     "output_type": "stream",
     "text": [
      "Not setting metadata\n",
      "Not setting metadata\n",
      "66 matching events found\n",
      "No baseline correction applied\n",
      "0 projection items activated\n",
      "Ready.\n",
      "(70, 20, 1000)\n",
      "(15, 20, 600)\n",
      "Extracting parameters from E:/standard and novel/sub99/standard.set...\n"
     ]
    },
    {
     "name": "stderr",
     "output_type": "stream",
     "text": [
      "<ipython-input-7-d85d77267efa>:13: RuntimeWarning: At least one epoch has multiple events. Only the latency of the first event will be retained.\n",
      "  standard_epochs = mne.io.read_epochs_eeglab(standard_data_path)\n"
     ]
    },
    {
     "name": "stdout",
     "output_type": "stream",
     "text": [
      "Not setting metadata\n",
      "Not setting metadata\n",
      "99 matching events found\n",
      "No baseline correction applied\n",
      "0 projection items activated\n",
      "Ready.\n",
      "(70, 20, 1000)\n",
      "Extracting parameters from E:/standard and novel/sub99/novel.set...\n"
     ]
    },
    {
     "name": "stderr",
     "output_type": "stream",
     "text": [
      "<ipython-input-7-d85d77267efa>:39: RuntimeWarning: At least one epoch has multiple events. Only the latency of the first event will be retained.\n",
      "  novel_epochs = mne.io.read_epochs_eeglab(novel_data_path)\n"
     ]
    },
    {
     "name": "stdout",
     "output_type": "stream",
     "text": [
      "Not setting metadata\n",
      "Not setting metadata\n",
      "101 matching events found\n",
      "No baseline correction applied\n",
      "0 projection items activated\n",
      "Ready.\n",
      "(70, 20, 1000)\n",
      "(15, 20, 600)\n",
      "Extracting parameters from E:/standard and novel/sub100/standard.set...\n"
     ]
    },
    {
     "name": "stderr",
     "output_type": "stream",
     "text": [
      "<ipython-input-7-d85d77267efa>:13: RuntimeWarning: At least one epoch has multiple events. Only the latency of the first event will be retained.\n",
      "  standard_epochs = mne.io.read_epochs_eeglab(standard_data_path)\n"
     ]
    },
    {
     "name": "stdout",
     "output_type": "stream",
     "text": [
      "Not setting metadata\n",
      "Not setting metadata\n",
      "92 matching events found\n",
      "No baseline correction applied\n",
      "0 projection items activated\n",
      "Ready.\n",
      "(70, 20, 1000)\n",
      "Extracting parameters from E:/standard and novel/sub100/novel.set...\n"
     ]
    },
    {
     "name": "stderr",
     "output_type": "stream",
     "text": [
      "<ipython-input-7-d85d77267efa>:39: RuntimeWarning: At least one epoch has multiple events. Only the latency of the first event will be retained.\n",
      "  novel_epochs = mne.io.read_epochs_eeglab(novel_data_path)\n"
     ]
    },
    {
     "name": "stdout",
     "output_type": "stream",
     "text": [
      "Not setting metadata\n",
      "Not setting metadata\n",
      "91 matching events found\n",
      "No baseline correction applied\n",
      "0 projection items activated\n",
      "Ready.\n",
      "(70, 20, 1000)\n",
      "(15, 20, 600)\n",
      "Extracting parameters from E:/standard and novel/sub101/standard.set...\n"
     ]
    },
    {
     "name": "stderr",
     "output_type": "stream",
     "text": [
      "<ipython-input-7-d85d77267efa>:13: RuntimeWarning: At least one epoch has multiple events. Only the latency of the first event will be retained.\n",
      "  standard_epochs = mne.io.read_epochs_eeglab(standard_data_path)\n"
     ]
    },
    {
     "name": "stdout",
     "output_type": "stream",
     "text": [
      "Not setting metadata\n",
      "Not setting metadata\n",
      "100 matching events found\n",
      "No baseline correction applied\n",
      "0 projection items activated\n",
      "Ready.\n",
      "(70, 20, 1000)\n",
      "Extracting parameters from E:/standard and novel/sub101/novel.set...\n"
     ]
    },
    {
     "name": "stderr",
     "output_type": "stream",
     "text": [
      "<ipython-input-7-d85d77267efa>:39: RuntimeWarning: At least one epoch has multiple events. Only the latency of the first event will be retained.\n",
      "  novel_epochs = mne.io.read_epochs_eeglab(novel_data_path)\n"
     ]
    },
    {
     "name": "stdout",
     "output_type": "stream",
     "text": [
      "Not setting metadata\n",
      "Not setting metadata\n",
      "96 matching events found\n",
      "No baseline correction applied\n",
      "0 projection items activated\n",
      "Ready.\n",
      "(70, 20, 1000)\n",
      "(15, 20, 600)\n",
      "Extracting parameters from E:/standard and novel/sub102/standard.set...\n"
     ]
    },
    {
     "name": "stderr",
     "output_type": "stream",
     "text": [
      "<ipython-input-7-d85d77267efa>:13: RuntimeWarning: At least one epoch has multiple events. Only the latency of the first event will be retained.\n",
      "  standard_epochs = mne.io.read_epochs_eeglab(standard_data_path)\n"
     ]
    },
    {
     "name": "stdout",
     "output_type": "stream",
     "text": [
      "Not setting metadata\n",
      "Not setting metadata\n",
      "94 matching events found\n",
      "No baseline correction applied\n",
      "0 projection items activated\n",
      "Ready.\n",
      "(70, 20, 1000)\n",
      "Extracting parameters from E:/standard and novel/sub102/novel.set...\n"
     ]
    },
    {
     "name": "stderr",
     "output_type": "stream",
     "text": [
      "<ipython-input-7-d85d77267efa>:39: RuntimeWarning: At least one epoch has multiple events. Only the latency of the first event will be retained.\n",
      "  novel_epochs = mne.io.read_epochs_eeglab(novel_data_path)\n"
     ]
    },
    {
     "name": "stdout",
     "output_type": "stream",
     "text": [
      "Not setting metadata\n",
      "Not setting metadata\n",
      "90 matching events found\n",
      "No baseline correction applied\n",
      "0 projection items activated\n",
      "Ready.\n",
      "(70, 20, 1000)\n",
      "(15, 20, 600)\n",
      "Extracting parameters from E:/standard and novel/sub103/standard.set...\n"
     ]
    },
    {
     "name": "stderr",
     "output_type": "stream",
     "text": [
      "<ipython-input-7-d85d77267efa>:13: RuntimeWarning: At least one epoch has multiple events. Only the latency of the first event will be retained.\n",
      "  standard_epochs = mne.io.read_epochs_eeglab(standard_data_path)\n"
     ]
    },
    {
     "name": "stdout",
     "output_type": "stream",
     "text": [
      "Not setting metadata\n",
      "Not setting metadata\n",
      "101 matching events found\n",
      "No baseline correction applied\n",
      "0 projection items activated\n",
      "Ready.\n",
      "(70, 20, 1000)\n",
      "Extracting parameters from E:/standard and novel/sub103/novel.set...\n"
     ]
    },
    {
     "name": "stderr",
     "output_type": "stream",
     "text": [
      "<ipython-input-7-d85d77267efa>:39: RuntimeWarning: At least one epoch has multiple events. Only the latency of the first event will be retained.\n",
      "  novel_epochs = mne.io.read_epochs_eeglab(novel_data_path)\n"
     ]
    },
    {
     "name": "stdout",
     "output_type": "stream",
     "text": [
      "Not setting metadata\n",
      "Not setting metadata\n",
      "102 matching events found\n",
      "No baseline correction applied\n",
      "0 projection items activated\n",
      "Ready.\n",
      "(70, 20, 1000)\n",
      "(15, 20, 600)\n",
      "Extracting parameters from E:/standard and novel/sub104/standard.set...\n"
     ]
    },
    {
     "name": "stderr",
     "output_type": "stream",
     "text": [
      "<ipython-input-7-d85d77267efa>:13: RuntimeWarning: At least one epoch has multiple events. Only the latency of the first event will be retained.\n",
      "  standard_epochs = mne.io.read_epochs_eeglab(standard_data_path)\n"
     ]
    },
    {
     "name": "stdout",
     "output_type": "stream",
     "text": [
      "Not setting metadata\n",
      "Not setting metadata\n",
      "93 matching events found\n",
      "No baseline correction applied\n",
      "0 projection items activated\n",
      "Ready.\n",
      "(70, 20, 1000)\n",
      "Extracting parameters from E:/standard and novel/sub104/novel.set...\n"
     ]
    },
    {
     "name": "stderr",
     "output_type": "stream",
     "text": [
      "<ipython-input-7-d85d77267efa>:39: RuntimeWarning: At least one epoch has multiple events. Only the latency of the first event will be retained.\n",
      "  novel_epochs = mne.io.read_epochs_eeglab(novel_data_path)\n"
     ]
    },
    {
     "name": "stdout",
     "output_type": "stream",
     "text": [
      "Not setting metadata\n",
      "Not setting metadata\n",
      "90 matching events found\n",
      "No baseline correction applied\n",
      "0 projection items activated\n",
      "Ready.\n",
      "(70, 20, 1000)\n",
      "(15, 20, 600)\n",
      "Extracting parameters from E:/standard and novel/sub105/standard.set...\n"
     ]
    },
    {
     "name": "stderr",
     "output_type": "stream",
     "text": [
      "<ipython-input-7-d85d77267efa>:13: RuntimeWarning: At least one epoch has multiple events. Only the latency of the first event will be retained.\n",
      "  standard_epochs = mne.io.read_epochs_eeglab(standard_data_path)\n"
     ]
    },
    {
     "name": "stdout",
     "output_type": "stream",
     "text": [
      "Not setting metadata\n",
      "Not setting metadata\n",
      "90 matching events found\n",
      "No baseline correction applied\n",
      "0 projection items activated\n",
      "Ready.\n",
      "(70, 20, 1000)\n",
      "Extracting parameters from E:/standard and novel/sub105/novel.set...\n"
     ]
    },
    {
     "name": "stderr",
     "output_type": "stream",
     "text": [
      "<ipython-input-7-d85d77267efa>:39: RuntimeWarning: At least one epoch has multiple events. Only the latency of the first event will be retained.\n",
      "  novel_epochs = mne.io.read_epochs_eeglab(novel_data_path)\n"
     ]
    },
    {
     "name": "stdout",
     "output_type": "stream",
     "text": [
      "Not setting metadata\n",
      "Not setting metadata\n",
      "85 matching events found\n",
      "No baseline correction applied\n",
      "0 projection items activated\n",
      "Ready.\n",
      "(70, 20, 1000)\n",
      "(15, 20, 600)\n",
      "Extracting parameters from E:/standard and novel/sub106/standard.set...\n"
     ]
    },
    {
     "name": "stderr",
     "output_type": "stream",
     "text": [
      "<ipython-input-7-d85d77267efa>:13: RuntimeWarning: At least one epoch has multiple events. Only the latency of the first event will be retained.\n",
      "  standard_epochs = mne.io.read_epochs_eeglab(standard_data_path)\n"
     ]
    },
    {
     "name": "stdout",
     "output_type": "stream",
     "text": [
      "Not setting metadata\n",
      "Not setting metadata\n",
      "100 matching events found\n",
      "No baseline correction applied\n",
      "0 projection items activated\n",
      "Ready.\n",
      "(70, 20, 1000)\n",
      "Extracting parameters from E:/standard and novel/sub106/novel.set...\n"
     ]
    },
    {
     "name": "stderr",
     "output_type": "stream",
     "text": [
      "<ipython-input-7-d85d77267efa>:39: RuntimeWarning: At least one epoch has multiple events. Only the latency of the first event will be retained.\n",
      "  novel_epochs = mne.io.read_epochs_eeglab(novel_data_path)\n"
     ]
    },
    {
     "name": "stdout",
     "output_type": "stream",
     "text": [
      "Not setting metadata\n",
      "Not setting metadata\n",
      "99 matching events found\n",
      "No baseline correction applied\n",
      "0 projection items activated\n",
      "Ready.\n",
      "(70, 20, 1000)\n",
      "(15, 20, 600)\n",
      "Extracting parameters from E:/standard and novel/sub107/standard.set...\n"
     ]
    },
    {
     "name": "stderr",
     "output_type": "stream",
     "text": [
      "<ipython-input-7-d85d77267efa>:13: RuntimeWarning: At least one epoch has multiple events. Only the latency of the first event will be retained.\n",
      "  standard_epochs = mne.io.read_epochs_eeglab(standard_data_path)\n"
     ]
    },
    {
     "name": "stdout",
     "output_type": "stream",
     "text": [
      "Not setting metadata\n",
      "Not setting metadata\n",
      "102 matching events found\n",
      "No baseline correction applied\n",
      "0 projection items activated\n",
      "Ready.\n",
      "(70, 20, 1000)\n",
      "Extracting parameters from E:/standard and novel/sub107/novel.set...\n"
     ]
    },
    {
     "name": "stderr",
     "output_type": "stream",
     "text": [
      "<ipython-input-7-d85d77267efa>:39: RuntimeWarning: At least one epoch has multiple events. Only the latency of the first event will be retained.\n",
      "  novel_epochs = mne.io.read_epochs_eeglab(novel_data_path)\n"
     ]
    },
    {
     "name": "stdout",
     "output_type": "stream",
     "text": [
      "Not setting metadata\n",
      "Not setting metadata\n",
      "101 matching events found\n",
      "No baseline correction applied\n",
      "0 projection items activated\n",
      "Ready.\n",
      "(70, 20, 1000)\n",
      "(15, 20, 600)\n",
      "Extracting parameters from E:/standard and novel/sub108/standard.set...\n"
     ]
    },
    {
     "name": "stderr",
     "output_type": "stream",
     "text": [
      "<ipython-input-7-d85d77267efa>:13: RuntimeWarning: At least one epoch has multiple events. Only the latency of the first event will be retained.\n",
      "  standard_epochs = mne.io.read_epochs_eeglab(standard_data_path)\n"
     ]
    },
    {
     "name": "stdout",
     "output_type": "stream",
     "text": [
      "Not setting metadata\n",
      "Not setting metadata\n",
      "91 matching events found\n",
      "No baseline correction applied\n",
      "0 projection items activated\n",
      "Ready.\n",
      "(70, 20, 1000)\n",
      "Extracting parameters from E:/standard and novel/sub108/novel.set...\n"
     ]
    },
    {
     "name": "stderr",
     "output_type": "stream",
     "text": [
      "<ipython-input-7-d85d77267efa>:39: RuntimeWarning: At least one epoch has multiple events. Only the latency of the first event will be retained.\n",
      "  novel_epochs = mne.io.read_epochs_eeglab(novel_data_path)\n"
     ]
    },
    {
     "name": "stdout",
     "output_type": "stream",
     "text": [
      "Not setting metadata\n",
      "Not setting metadata\n",
      "98 matching events found\n",
      "No baseline correction applied\n",
      "0 projection items activated\n",
      "Ready.\n",
      "(70, 20, 1000)\n",
      "(15, 20, 600)\n",
      "Extracting parameters from E:/standard and novel/sub109/standard.set...\n"
     ]
    },
    {
     "name": "stderr",
     "output_type": "stream",
     "text": [
      "<ipython-input-7-d85d77267efa>:13: RuntimeWarning: At least one epoch has multiple events. Only the latency of the first event will be retained.\n",
      "  standard_epochs = mne.io.read_epochs_eeglab(standard_data_path)\n"
     ]
    },
    {
     "name": "stdout",
     "output_type": "stream",
     "text": [
      "Not setting metadata\n",
      "Not setting metadata\n",
      "101 matching events found\n",
      "No baseline correction applied\n",
      "0 projection items activated\n",
      "Ready.\n",
      "(70, 20, 1000)\n",
      "Extracting parameters from E:/standard and novel/sub109/novel.set...\n"
     ]
    },
    {
     "name": "stderr",
     "output_type": "stream",
     "text": [
      "<ipython-input-7-d85d77267efa>:39: RuntimeWarning: At least one epoch has multiple events. Only the latency of the first event will be retained.\n",
      "  novel_epochs = mne.io.read_epochs_eeglab(novel_data_path)\n"
     ]
    },
    {
     "name": "stdout",
     "output_type": "stream",
     "text": [
      "Not setting metadata\n",
      "Not setting metadata\n",
      "101 matching events found\n",
      "No baseline correction applied\n",
      "0 projection items activated\n",
      "Ready.\n",
      "(70, 20, 1000)\n",
      "(15, 20, 600)\n",
      "Extracting parameters from E:/standard and novel/sub110/standard.set...\n"
     ]
    },
    {
     "name": "stderr",
     "output_type": "stream",
     "text": [
      "<ipython-input-7-d85d77267efa>:13: RuntimeWarning: At least one epoch has multiple events. Only the latency of the first event will be retained.\n",
      "  standard_epochs = mne.io.read_epochs_eeglab(standard_data_path)\n"
     ]
    },
    {
     "name": "stdout",
     "output_type": "stream",
     "text": [
      "Not setting metadata\n",
      "Not setting metadata\n",
      "96 matching events found\n",
      "No baseline correction applied\n",
      "0 projection items activated\n",
      "Ready.\n",
      "(70, 20, 1000)\n",
      "Extracting parameters from E:/standard and novel/sub110/novel.set...\n"
     ]
    },
    {
     "name": "stderr",
     "output_type": "stream",
     "text": [
      "<ipython-input-7-d85d77267efa>:39: RuntimeWarning: At least one epoch has multiple events. Only the latency of the first event will be retained.\n",
      "  novel_epochs = mne.io.read_epochs_eeglab(novel_data_path)\n"
     ]
    },
    {
     "name": "stdout",
     "output_type": "stream",
     "text": [
      "Not setting metadata\n",
      "Not setting metadata\n",
      "95 matching events found\n",
      "No baseline correction applied\n",
      "0 projection items activated\n",
      "Ready.\n",
      "(70, 20, 1000)\n",
      "(15, 20, 600)\n",
      "Extracting parameters from E:/standard and novel/sub111/standard.set...\n"
     ]
    },
    {
     "name": "stderr",
     "output_type": "stream",
     "text": [
      "<ipython-input-7-d85d77267efa>:13: RuntimeWarning: At least one epoch has multiple events. Only the latency of the first event will be retained.\n",
      "  standard_epochs = mne.io.read_epochs_eeglab(standard_data_path)\n"
     ]
    },
    {
     "name": "stdout",
     "output_type": "stream",
     "text": [
      "Not setting metadata\n",
      "Not setting metadata\n",
      "101 matching events found\n",
      "No baseline correction applied\n",
      "0 projection items activated\n",
      "Ready.\n",
      "(70, 20, 1000)\n",
      "Extracting parameters from E:/standard and novel/sub111/novel.set...\n"
     ]
    },
    {
     "name": "stderr",
     "output_type": "stream",
     "text": [
      "<ipython-input-7-d85d77267efa>:39: RuntimeWarning: At least one epoch has multiple events. Only the latency of the first event will be retained.\n",
      "  novel_epochs = mne.io.read_epochs_eeglab(novel_data_path)\n"
     ]
    },
    {
     "name": "stdout",
     "output_type": "stream",
     "text": [
      "Not setting metadata\n",
      "Not setting metadata\n",
      "100 matching events found\n",
      "No baseline correction applied\n",
      "0 projection items activated\n",
      "Ready.\n",
      "(70, 20, 1000)\n",
      "(15, 20, 600)\n",
      "Extracting parameters from E:/standard and novel/sub112/standard.set...\n"
     ]
    },
    {
     "name": "stderr",
     "output_type": "stream",
     "text": [
      "<ipython-input-7-d85d77267efa>:13: RuntimeWarning: At least one epoch has multiple events. Only the latency of the first event will be retained.\n",
      "  standard_epochs = mne.io.read_epochs_eeglab(standard_data_path)\n"
     ]
    },
    {
     "name": "stdout",
     "output_type": "stream",
     "text": [
      "Not setting metadata\n",
      "Not setting metadata\n",
      "95 matching events found\n",
      "No baseline correction applied\n",
      "0 projection items activated\n",
      "Ready.\n",
      "(70, 20, 1000)\n",
      "Extracting parameters from E:/standard and novel/sub112/novel.set...\n"
     ]
    },
    {
     "name": "stderr",
     "output_type": "stream",
     "text": [
      "<ipython-input-7-d85d77267efa>:39: RuntimeWarning: At least one epoch has multiple events. Only the latency of the first event will be retained.\n",
      "  novel_epochs = mne.io.read_epochs_eeglab(novel_data_path)\n"
     ]
    },
    {
     "name": "stdout",
     "output_type": "stream",
     "text": [
      "Not setting metadata\n",
      "Not setting metadata\n",
      "85 matching events found\n",
      "No baseline correction applied\n",
      "0 projection items activated\n",
      "Ready.\n",
      "(70, 20, 1000)\n",
      "(15, 20, 600)\n",
      "Extracting parameters from E:/standard and novel/sub113/standard.set...\n"
     ]
    },
    {
     "name": "stderr",
     "output_type": "stream",
     "text": [
      "<ipython-input-7-d85d77267efa>:13: RuntimeWarning: At least one epoch has multiple events. Only the latency of the first event will be retained.\n",
      "  standard_epochs = mne.io.read_epochs_eeglab(standard_data_path)\n"
     ]
    },
    {
     "name": "stdout",
     "output_type": "stream",
     "text": [
      "Not setting metadata\n",
      "Not setting metadata\n",
      "82 matching events found\n",
      "No baseline correction applied\n",
      "0 projection items activated\n",
      "Ready.\n",
      "(70, 20, 1000)\n",
      "Extracting parameters from E:/standard and novel/sub113/novel.set...\n"
     ]
    },
    {
     "name": "stderr",
     "output_type": "stream",
     "text": [
      "<ipython-input-7-d85d77267efa>:39: RuntimeWarning: At least one epoch has multiple events. Only the latency of the first event will be retained.\n",
      "  novel_epochs = mne.io.read_epochs_eeglab(novel_data_path)\n"
     ]
    },
    {
     "name": "stdout",
     "output_type": "stream",
     "text": [
      "Not setting metadata\n",
      "Not setting metadata\n",
      "88 matching events found\n",
      "No baseline correction applied\n",
      "0 projection items activated\n",
      "Ready.\n",
      "(70, 20, 1000)\n",
      "(15, 20, 600)\n",
      "Extracting parameters from E:/standard and novel/sub114/standard.set...\n"
     ]
    },
    {
     "name": "stderr",
     "output_type": "stream",
     "text": [
      "<ipython-input-7-d85d77267efa>:13: RuntimeWarning: At least one epoch has multiple events. Only the latency of the first event will be retained.\n",
      "  standard_epochs = mne.io.read_epochs_eeglab(standard_data_path)\n"
     ]
    },
    {
     "name": "stdout",
     "output_type": "stream",
     "text": [
      "Not setting metadata\n",
      "Not setting metadata\n",
      "100 matching events found\n",
      "No baseline correction applied\n",
      "0 projection items activated\n",
      "Ready.\n",
      "(70, 20, 1000)\n",
      "Extracting parameters from E:/standard and novel/sub114/novel.set...\n"
     ]
    },
    {
     "name": "stderr",
     "output_type": "stream",
     "text": [
      "<ipython-input-7-d85d77267efa>:39: RuntimeWarning: At least one epoch has multiple events. Only the latency of the first event will be retained.\n",
      "  novel_epochs = mne.io.read_epochs_eeglab(novel_data_path)\n"
     ]
    },
    {
     "name": "stdout",
     "output_type": "stream",
     "text": [
      "Not setting metadata\n",
      "Not setting metadata\n",
      "98 matching events found\n",
      "No baseline correction applied\n",
      "0 projection items activated\n",
      "Ready.\n",
      "(70, 20, 1000)\n",
      "(15, 20, 600)\n",
      "Extracting parameters from E:/standard and novel/sub115/standard.set...\n"
     ]
    },
    {
     "name": "stderr",
     "output_type": "stream",
     "text": [
      "<ipython-input-7-d85d77267efa>:13: RuntimeWarning: At least one epoch has multiple events. Only the latency of the first event will be retained.\n",
      "  standard_epochs = mne.io.read_epochs_eeglab(standard_data_path)\n"
     ]
    },
    {
     "name": "stdout",
     "output_type": "stream",
     "text": [
      "Not setting metadata\n",
      "Not setting metadata\n",
      "97 matching events found\n",
      "No baseline correction applied\n",
      "0 projection items activated\n",
      "Ready.\n",
      "(70, 20, 1000)\n",
      "Extracting parameters from E:/standard and novel/sub115/novel.set...\n"
     ]
    },
    {
     "name": "stderr",
     "output_type": "stream",
     "text": [
      "<ipython-input-7-d85d77267efa>:39: RuntimeWarning: At least one epoch has multiple events. Only the latency of the first event will be retained.\n",
      "  novel_epochs = mne.io.read_epochs_eeglab(novel_data_path)\n"
     ]
    },
    {
     "name": "stdout",
     "output_type": "stream",
     "text": [
      "Not setting metadata\n",
      "Not setting metadata\n",
      "92 matching events found\n",
      "No baseline correction applied\n",
      "0 projection items activated\n",
      "Ready.\n",
      "(70, 20, 1000)\n",
      "(15, 20, 600)\n",
      "Extracting parameters from E:/standard and novel/sub116/standard.set...\n"
     ]
    },
    {
     "name": "stderr",
     "output_type": "stream",
     "text": [
      "<ipython-input-7-d85d77267efa>:13: RuntimeWarning: At least one epoch has multiple events. Only the latency of the first event will be retained.\n",
      "  standard_epochs = mne.io.read_epochs_eeglab(standard_data_path)\n"
     ]
    },
    {
     "name": "stdout",
     "output_type": "stream",
     "text": [
      "Not setting metadata\n",
      "Not setting metadata\n",
      "100 matching events found\n",
      "No baseline correction applied\n",
      "0 projection items activated\n",
      "Ready.\n",
      "(70, 20, 1000)\n",
      "Extracting parameters from E:/standard and novel/sub116/novel.set...\n"
     ]
    },
    {
     "name": "stderr",
     "output_type": "stream",
     "text": [
      "<ipython-input-7-d85d77267efa>:39: RuntimeWarning: At least one epoch has multiple events. Only the latency of the first event will be retained.\n",
      "  novel_epochs = mne.io.read_epochs_eeglab(novel_data_path)\n"
     ]
    },
    {
     "name": "stdout",
     "output_type": "stream",
     "text": [
      "Not setting metadata\n",
      "Not setting metadata\n",
      "100 matching events found\n",
      "No baseline correction applied\n",
      "0 projection items activated\n",
      "Ready.\n",
      "(70, 20, 1000)\n",
      "(15, 20, 600)\n",
      "Extracting parameters from E:/standard and novel/sub117/standard.set...\n"
     ]
    },
    {
     "name": "stderr",
     "output_type": "stream",
     "text": [
      "<ipython-input-7-d85d77267efa>:13: RuntimeWarning: At least one epoch has multiple events. Only the latency of the first event will be retained.\n",
      "  standard_epochs = mne.io.read_epochs_eeglab(standard_data_path)\n"
     ]
    },
    {
     "name": "stdout",
     "output_type": "stream",
     "text": [
      "Not setting metadata\n",
      "Not setting metadata\n",
      "100 matching events found\n",
      "No baseline correction applied\n",
      "0 projection items activated\n",
      "Ready.\n",
      "(70, 20, 1000)\n",
      "Extracting parameters from E:/standard and novel/sub117/novel.set...\n"
     ]
    },
    {
     "name": "stderr",
     "output_type": "stream",
     "text": [
      "<ipython-input-7-d85d77267efa>:39: RuntimeWarning: At least one epoch has multiple events. Only the latency of the first event will be retained.\n",
      "  novel_epochs = mne.io.read_epochs_eeglab(novel_data_path)\n"
     ]
    },
    {
     "name": "stdout",
     "output_type": "stream",
     "text": [
      "Not setting metadata\n",
      "Not setting metadata\n",
      "98 matching events found\n",
      "No baseline correction applied\n",
      "0 projection items activated\n",
      "Ready.\n",
      "(70, 20, 1000)\n",
      "(15, 20, 600)\n",
      "Extracting parameters from E:/standard and novel/sub118/standard.set...\n"
     ]
    },
    {
     "name": "stderr",
     "output_type": "stream",
     "text": [
      "<ipython-input-7-d85d77267efa>:13: RuntimeWarning: At least one epoch has multiple events. Only the latency of the first event will be retained.\n",
      "  standard_epochs = mne.io.read_epochs_eeglab(standard_data_path)\n"
     ]
    },
    {
     "name": "stdout",
     "output_type": "stream",
     "text": [
      "Not setting metadata\n",
      "Not setting metadata\n",
      "88 matching events found\n",
      "No baseline correction applied\n",
      "0 projection items activated\n",
      "Ready.\n",
      "(70, 20, 1000)\n",
      "Extracting parameters from E:/standard and novel/sub118/novel.set...\n"
     ]
    },
    {
     "name": "stderr",
     "output_type": "stream",
     "text": [
      "<ipython-input-7-d85d77267efa>:39: RuntimeWarning: At least one epoch has multiple events. Only the latency of the first event will be retained.\n",
      "  novel_epochs = mne.io.read_epochs_eeglab(novel_data_path)\n"
     ]
    },
    {
     "name": "stdout",
     "output_type": "stream",
     "text": [
      "Not setting metadata\n",
      "Not setting metadata\n",
      "94 matching events found\n",
      "No baseline correction applied\n",
      "0 projection items activated\n",
      "Ready.\n",
      "(70, 20, 1000)\n",
      "(15, 20, 600)\n",
      "Extracting parameters from E:/standard and novel/sub119/standard.set...\n"
     ]
    },
    {
     "name": "stderr",
     "output_type": "stream",
     "text": [
      "<ipython-input-7-d85d77267efa>:13: RuntimeWarning: At least one epoch has multiple events. Only the latency of the first event will be retained.\n",
      "  standard_epochs = mne.io.read_epochs_eeglab(standard_data_path)\n"
     ]
    },
    {
     "name": "stdout",
     "output_type": "stream",
     "text": [
      "Not setting metadata\n",
      "Not setting metadata\n",
      "87 matching events found\n",
      "No baseline correction applied\n",
      "0 projection items activated\n",
      "Ready.\n",
      "(70, 20, 1000)\n",
      "Extracting parameters from E:/standard and novel/sub119/novel.set...\n"
     ]
    },
    {
     "name": "stderr",
     "output_type": "stream",
     "text": [
      "<ipython-input-7-d85d77267efa>:39: RuntimeWarning: At least one epoch has multiple events. Only the latency of the first event will be retained.\n",
      "  novel_epochs = mne.io.read_epochs_eeglab(novel_data_path)\n"
     ]
    },
    {
     "name": "stdout",
     "output_type": "stream",
     "text": [
      "Not setting metadata\n",
      "Not setting metadata\n",
      "87 matching events found\n",
      "No baseline correction applied\n",
      "0 projection items activated\n",
      "Ready.\n",
      "(70, 20, 1000)\n",
      "(15, 20, 600)\n",
      "Extracting parameters from E:/standard and novel/sub120/standard.set...\n"
     ]
    },
    {
     "name": "stderr",
     "output_type": "stream",
     "text": [
      "<ipython-input-7-d85d77267efa>:13: RuntimeWarning: At least one epoch has multiple events. Only the latency of the first event will be retained.\n",
      "  standard_epochs = mne.io.read_epochs_eeglab(standard_data_path)\n"
     ]
    },
    {
     "name": "stdout",
     "output_type": "stream",
     "text": [
      "Not setting metadata\n",
      "Not setting metadata\n",
      "96 matching events found\n",
      "No baseline correction applied\n",
      "0 projection items activated\n",
      "Ready.\n",
      "(70, 20, 1000)\n",
      "Extracting parameters from E:/standard and novel/sub120/novel.set...\n"
     ]
    },
    {
     "name": "stderr",
     "output_type": "stream",
     "text": [
      "<ipython-input-7-d85d77267efa>:39: RuntimeWarning: At least one epoch has multiple events. Only the latency of the first event will be retained.\n",
      "  novel_epochs = mne.io.read_epochs_eeglab(novel_data_path)\n"
     ]
    },
    {
     "name": "stdout",
     "output_type": "stream",
     "text": [
      "Not setting metadata\n",
      "Not setting metadata\n",
      "96 matching events found\n",
      "No baseline correction applied\n",
      "0 projection items activated\n",
      "Ready.\n",
      "(70, 20, 1000)\n",
      "(15, 20, 600)\n",
      "Extracting parameters from E:/standard and novel/sub121/standard.set...\n"
     ]
    },
    {
     "name": "stderr",
     "output_type": "stream",
     "text": [
      "<ipython-input-7-d85d77267efa>:13: RuntimeWarning: At least one epoch has multiple events. Only the latency of the first event will be retained.\n",
      "  standard_epochs = mne.io.read_epochs_eeglab(standard_data_path)\n"
     ]
    },
    {
     "name": "stdout",
     "output_type": "stream",
     "text": [
      "Not setting metadata\n",
      "Not setting metadata\n",
      "102 matching events found\n",
      "No baseline correction applied\n",
      "0 projection items activated\n",
      "Ready.\n",
      "(70, 20, 1000)\n",
      "Extracting parameters from E:/standard and novel/sub121/novel.set...\n"
     ]
    },
    {
     "name": "stderr",
     "output_type": "stream",
     "text": [
      "<ipython-input-7-d85d77267efa>:39: RuntimeWarning: At least one epoch has multiple events. Only the latency of the first event will be retained.\n",
      "  novel_epochs = mne.io.read_epochs_eeglab(novel_data_path)\n"
     ]
    },
    {
     "name": "stdout",
     "output_type": "stream",
     "text": [
      "Not setting metadata\n",
      "Not setting metadata\n",
      "102 matching events found\n",
      "No baseline correction applied\n",
      "0 projection items activated\n",
      "Ready.\n",
      "(70, 20, 1000)\n",
      "(15, 20, 600)\n",
      "Extracting parameters from E:/standard and novel/sub122/standard.set...\n"
     ]
    },
    {
     "name": "stderr",
     "output_type": "stream",
     "text": [
      "<ipython-input-7-d85d77267efa>:13: RuntimeWarning: At least one epoch has multiple events. Only the latency of the first event will be retained.\n",
      "  standard_epochs = mne.io.read_epochs_eeglab(standard_data_path)\n"
     ]
    },
    {
     "name": "stdout",
     "output_type": "stream",
     "text": [
      "Not setting metadata\n",
      "Not setting metadata\n",
      "98 matching events found\n",
      "No baseline correction applied\n",
      "0 projection items activated\n",
      "Ready.\n",
      "(70, 20, 1000)\n",
      "Extracting parameters from E:/standard and novel/sub122/novel.set...\n"
     ]
    },
    {
     "name": "stderr",
     "output_type": "stream",
     "text": [
      "<ipython-input-7-d85d77267efa>:39: RuntimeWarning: At least one epoch has multiple events. Only the latency of the first event will be retained.\n",
      "  novel_epochs = mne.io.read_epochs_eeglab(novel_data_path)\n"
     ]
    },
    {
     "name": "stdout",
     "output_type": "stream",
     "text": [
      "Not setting metadata\n",
      "Not setting metadata\n",
      "94 matching events found\n",
      "No baseline correction applied\n",
      "0 projection items activated\n",
      "Ready.\n",
      "(70, 20, 1000)\n",
      "(15, 20, 600)\n",
      "Extracting parameters from E:/standard and novel/sub123/standard.set...\n"
     ]
    },
    {
     "name": "stderr",
     "output_type": "stream",
     "text": [
      "<ipython-input-7-d85d77267efa>:13: RuntimeWarning: At least one epoch has multiple events. Only the latency of the first event will be retained.\n",
      "  standard_epochs = mne.io.read_epochs_eeglab(standard_data_path)\n"
     ]
    },
    {
     "name": "stdout",
     "output_type": "stream",
     "text": [
      "Not setting metadata\n",
      "Not setting metadata\n",
      "96 matching events found\n",
      "No baseline correction applied\n",
      "0 projection items activated\n",
      "Ready.\n",
      "(70, 20, 1000)\n",
      "Extracting parameters from E:/standard and novel/sub123/novel.set...\n"
     ]
    },
    {
     "name": "stderr",
     "output_type": "stream",
     "text": [
      "<ipython-input-7-d85d77267efa>:39: RuntimeWarning: At least one epoch has multiple events. Only the latency of the first event will be retained.\n",
      "  novel_epochs = mne.io.read_epochs_eeglab(novel_data_path)\n"
     ]
    },
    {
     "name": "stdout",
     "output_type": "stream",
     "text": [
      "Not setting metadata\n",
      "Not setting metadata\n",
      "94 matching events found\n",
      "No baseline correction applied\n",
      "0 projection items activated\n",
      "Ready.\n",
      "(70, 20, 1000)\n",
      "(15, 20, 600)\n",
      "Extracting parameters from E:/standard and novel/sub124/standard.set...\n"
     ]
    },
    {
     "name": "stderr",
     "output_type": "stream",
     "text": [
      "<ipython-input-7-d85d77267efa>:13: RuntimeWarning: At least one epoch has multiple events. Only the latency of the first event will be retained.\n",
      "  standard_epochs = mne.io.read_epochs_eeglab(standard_data_path)\n"
     ]
    },
    {
     "name": "stdout",
     "output_type": "stream",
     "text": [
      "Not setting metadata\n",
      "Not setting metadata\n",
      "95 matching events found\n",
      "No baseline correction applied\n",
      "0 projection items activated\n",
      "Ready.\n",
      "(70, 20, 1000)\n",
      "Extracting parameters from E:/standard and novel/sub124/novel.set...\n"
     ]
    },
    {
     "name": "stderr",
     "output_type": "stream",
     "text": [
      "<ipython-input-7-d85d77267efa>:39: RuntimeWarning: At least one epoch has multiple events. Only the latency of the first event will be retained.\n",
      "  novel_epochs = mne.io.read_epochs_eeglab(novel_data_path)\n"
     ]
    },
    {
     "name": "stdout",
     "output_type": "stream",
     "text": [
      "Not setting metadata\n",
      "Not setting metadata\n",
      "94 matching events found\n",
      "No baseline correction applied\n",
      "0 projection items activated\n",
      "Ready.\n",
      "(70, 20, 1000)\n",
      "(15, 20, 600)\n",
      "Extracting parameters from E:/standard and novel/sub125/standard.set...\n"
     ]
    },
    {
     "name": "stderr",
     "output_type": "stream",
     "text": [
      "<ipython-input-7-d85d77267efa>:13: RuntimeWarning: At least one epoch has multiple events. Only the latency of the first event will be retained.\n",
      "  standard_epochs = mne.io.read_epochs_eeglab(standard_data_path)\n"
     ]
    },
    {
     "name": "stdout",
     "output_type": "stream",
     "text": [
      "Not setting metadata\n",
      "Not setting metadata\n",
      "99 matching events found\n",
      "No baseline correction applied\n",
      "0 projection items activated\n",
      "Ready.\n",
      "(70, 20, 1000)\n",
      "Extracting parameters from E:/standard and novel/sub125/novel.set...\n"
     ]
    },
    {
     "name": "stderr",
     "output_type": "stream",
     "text": [
      "<ipython-input-7-d85d77267efa>:39: RuntimeWarning: At least one epoch has multiple events. Only the latency of the first event will be retained.\n",
      "  novel_epochs = mne.io.read_epochs_eeglab(novel_data_path)\n"
     ]
    },
    {
     "name": "stdout",
     "output_type": "stream",
     "text": [
      "Not setting metadata\n",
      "Not setting metadata\n",
      "101 matching events found\n",
      "No baseline correction applied\n",
      "0 projection items activated\n",
      "Ready.\n",
      "(70, 20, 1000)\n",
      "(15, 20, 600)\n",
      "Extracting parameters from E:/standard and novel/sub126/standard.set...\n"
     ]
    },
    {
     "name": "stderr",
     "output_type": "stream",
     "text": [
      "<ipython-input-7-d85d77267efa>:13: RuntimeWarning: At least one epoch has multiple events. Only the latency of the first event will be retained.\n",
      "  standard_epochs = mne.io.read_epochs_eeglab(standard_data_path)\n"
     ]
    },
    {
     "name": "stdout",
     "output_type": "stream",
     "text": [
      "Not setting metadata\n",
      "Not setting metadata\n",
      "101 matching events found\n",
      "No baseline correction applied\n",
      "0 projection items activated\n",
      "Ready.\n",
      "(70, 20, 1000)\n",
      "Extracting parameters from E:/standard and novel/sub126/novel.set...\n"
     ]
    },
    {
     "name": "stderr",
     "output_type": "stream",
     "text": [
      "<ipython-input-7-d85d77267efa>:39: RuntimeWarning: At least one epoch has multiple events. Only the latency of the first event will be retained.\n",
      "  novel_epochs = mne.io.read_epochs_eeglab(novel_data_path)\n"
     ]
    },
    {
     "name": "stdout",
     "output_type": "stream",
     "text": [
      "Not setting metadata\n",
      "Not setting metadata\n",
      "100 matching events found\n",
      "No baseline correction applied\n",
      "0 projection items activated\n",
      "Ready.\n",
      "(70, 20, 1000)\n",
      "(15, 20, 600)\n",
      "Extracting parameters from E:/standard and novel/sub127/standard.set...\n"
     ]
    },
    {
     "name": "stderr",
     "output_type": "stream",
     "text": [
      "<ipython-input-7-d85d77267efa>:13: RuntimeWarning: At least one epoch has multiple events. Only the latency of the first event will be retained.\n",
      "  standard_epochs = mne.io.read_epochs_eeglab(standard_data_path)\n"
     ]
    },
    {
     "name": "stdout",
     "output_type": "stream",
     "text": [
      "Not setting metadata\n",
      "Not setting metadata\n",
      "99 matching events found\n",
      "No baseline correction applied\n",
      "0 projection items activated\n",
      "Ready.\n",
      "(70, 20, 1000)\n",
      "Extracting parameters from E:/standard and novel/sub127/novel.set...\n"
     ]
    },
    {
     "name": "stderr",
     "output_type": "stream",
     "text": [
      "<ipython-input-7-d85d77267efa>:39: RuntimeWarning: At least one epoch has multiple events. Only the latency of the first event will be retained.\n",
      "  novel_epochs = mne.io.read_epochs_eeglab(novel_data_path)\n"
     ]
    },
    {
     "name": "stdout",
     "output_type": "stream",
     "text": [
      "Not setting metadata\n",
      "Not setting metadata\n",
      "100 matching events found\n",
      "No baseline correction applied\n",
      "0 projection items activated\n",
      "Ready.\n",
      "(70, 20, 1000)\n",
      "(15, 20, 600)\n",
      "Extracting parameters from E:/standard and novel/sub128/standard.set...\n"
     ]
    },
    {
     "name": "stderr",
     "output_type": "stream",
     "text": [
      "<ipython-input-7-d85d77267efa>:13: RuntimeWarning: At least one epoch has multiple events. Only the latency of the first event will be retained.\n",
      "  standard_epochs = mne.io.read_epochs_eeglab(standard_data_path)\n"
     ]
    },
    {
     "name": "stdout",
     "output_type": "stream",
     "text": [
      "Not setting metadata\n",
      "Not setting metadata\n",
      "95 matching events found\n",
      "No baseline correction applied\n",
      "0 projection items activated\n",
      "Ready.\n",
      "(70, 20, 1000)\n",
      "Extracting parameters from E:/standard and novel/sub128/novel.set...\n"
     ]
    },
    {
     "name": "stderr",
     "output_type": "stream",
     "text": [
      "<ipython-input-7-d85d77267efa>:39: RuntimeWarning: At least one epoch has multiple events. Only the latency of the first event will be retained.\n",
      "  novel_epochs = mne.io.read_epochs_eeglab(novel_data_path)\n"
     ]
    },
    {
     "name": "stdout",
     "output_type": "stream",
     "text": [
      "Not setting metadata\n",
      "Not setting metadata\n",
      "94 matching events found\n",
      "No baseline correction applied\n",
      "0 projection items activated\n",
      "Ready.\n",
      "(70, 20, 1000)\n",
      "(15, 20, 600)\n",
      "Extracting parameters from E:/standard and novel/sub129/standard.set...\n"
     ]
    },
    {
     "name": "stderr",
     "output_type": "stream",
     "text": [
      "<ipython-input-7-d85d77267efa>:13: RuntimeWarning: At least one epoch has multiple events. Only the latency of the first event will be retained.\n",
      "  standard_epochs = mne.io.read_epochs_eeglab(standard_data_path)\n"
     ]
    },
    {
     "name": "stdout",
     "output_type": "stream",
     "text": [
      "Not setting metadata\n",
      "Not setting metadata\n",
      "98 matching events found\n",
      "No baseline correction applied\n",
      "0 projection items activated\n",
      "Ready.\n",
      "(70, 20, 1000)\n",
      "Extracting parameters from E:/standard and novel/sub129/novel.set...\n"
     ]
    },
    {
     "name": "stderr",
     "output_type": "stream",
     "text": [
      "<ipython-input-7-d85d77267efa>:39: RuntimeWarning: At least one epoch has multiple events. Only the latency of the first event will be retained.\n",
      "  novel_epochs = mne.io.read_epochs_eeglab(novel_data_path)\n"
     ]
    },
    {
     "name": "stdout",
     "output_type": "stream",
     "text": [
      "Not setting metadata\n",
      "Not setting metadata\n",
      "100 matching events found\n",
      "No baseline correction applied\n",
      "0 projection items activated\n",
      "Ready.\n",
      "(70, 20, 1000)\n",
      "(15, 20, 600)\n",
      "Extracting parameters from E:/standard and novel/sub130/standard.set...\n"
     ]
    },
    {
     "name": "stderr",
     "output_type": "stream",
     "text": [
      "<ipython-input-7-d85d77267efa>:13: RuntimeWarning: At least one epoch has multiple events. Only the latency of the first event will be retained.\n",
      "  standard_epochs = mne.io.read_epochs_eeglab(standard_data_path)\n"
     ]
    },
    {
     "name": "stdout",
     "output_type": "stream",
     "text": [
      "Not setting metadata\n",
      "Not setting metadata\n",
      "67 matching events found\n",
      "No baseline correction applied\n",
      "0 projection items activated\n",
      "Ready.\n",
      "(70, 20, 1000)\n",
      "Extracting parameters from E:/standard and novel/sub130/novel.set...\n"
     ]
    },
    {
     "name": "stderr",
     "output_type": "stream",
     "text": [
      "<ipython-input-7-d85d77267efa>:39: RuntimeWarning: At least one epoch has multiple events. Only the latency of the first event will be retained.\n",
      "  novel_epochs = mne.io.read_epochs_eeglab(novel_data_path)\n"
     ]
    },
    {
     "name": "stdout",
     "output_type": "stream",
     "text": [
      "Not setting metadata\n",
      "Not setting metadata\n",
      "62 matching events found\n",
      "No baseline correction applied\n",
      "0 projection items activated\n",
      "Ready.\n",
      "(70, 20, 1000)\n",
      "(15, 20, 600)\n",
      "Extracting parameters from E:/standard and novel/sub131/standard.set...\n"
     ]
    },
    {
     "name": "stderr",
     "output_type": "stream",
     "text": [
      "<ipython-input-7-d85d77267efa>:13: RuntimeWarning: At least one epoch has multiple events. Only the latency of the first event will be retained.\n",
      "  standard_epochs = mne.io.read_epochs_eeglab(standard_data_path)\n"
     ]
    },
    {
     "name": "stdout",
     "output_type": "stream",
     "text": [
      "Not setting metadata\n",
      "Not setting metadata\n",
      "99 matching events found\n",
      "No baseline correction applied\n",
      "0 projection items activated\n",
      "Ready.\n",
      "(70, 20, 1000)\n",
      "Extracting parameters from E:/standard and novel/sub131/novel.set...\n"
     ]
    },
    {
     "name": "stderr",
     "output_type": "stream",
     "text": [
      "<ipython-input-7-d85d77267efa>:39: RuntimeWarning: At least one epoch has multiple events. Only the latency of the first event will be retained.\n",
      "  novel_epochs = mne.io.read_epochs_eeglab(novel_data_path)\n"
     ]
    },
    {
     "name": "stdout",
     "output_type": "stream",
     "text": [
      "Not setting metadata\n",
      "Not setting metadata\n",
      "97 matching events found\n",
      "No baseline correction applied\n",
      "0 projection items activated\n",
      "Ready.\n",
      "(70, 20, 1000)\n",
      "(15, 20, 600)\n",
      "Extracting parameters from E:/standard and novel/sub132/standard.set...\n"
     ]
    },
    {
     "name": "stderr",
     "output_type": "stream",
     "text": [
      "<ipython-input-7-d85d77267efa>:13: RuntimeWarning: At least one epoch has multiple events. Only the latency of the first event will be retained.\n",
      "  standard_epochs = mne.io.read_epochs_eeglab(standard_data_path)\n"
     ]
    },
    {
     "name": "stdout",
     "output_type": "stream",
     "text": [
      "Not setting metadata\n",
      "Not setting metadata\n",
      "91 matching events found\n",
      "No baseline correction applied\n",
      "0 projection items activated\n",
      "Ready.\n",
      "(70, 20, 1000)\n",
      "Extracting parameters from E:/standard and novel/sub132/novel.set...\n"
     ]
    },
    {
     "name": "stderr",
     "output_type": "stream",
     "text": [
      "<ipython-input-7-d85d77267efa>:39: RuntimeWarning: At least one epoch has multiple events. Only the latency of the first event will be retained.\n",
      "  novel_epochs = mne.io.read_epochs_eeglab(novel_data_path)\n"
     ]
    },
    {
     "name": "stdout",
     "output_type": "stream",
     "text": [
      "Not setting metadata\n",
      "Not setting metadata\n",
      "89 matching events found\n",
      "No baseline correction applied\n",
      "0 projection items activated\n",
      "Ready.\n",
      "(70, 20, 1000)\n",
      "(15, 20, 600)\n",
      "Extracting parameters from E:/standard and novel/sub133/standard.set...\n"
     ]
    },
    {
     "name": "stderr",
     "output_type": "stream",
     "text": [
      "<ipython-input-7-d85d77267efa>:13: RuntimeWarning: At least one epoch has multiple events. Only the latency of the first event will be retained.\n",
      "  standard_epochs = mne.io.read_epochs_eeglab(standard_data_path)\n"
     ]
    },
    {
     "name": "stdout",
     "output_type": "stream",
     "text": [
      "Not setting metadata\n",
      "Not setting metadata\n",
      "93 matching events found\n",
      "No baseline correction applied\n",
      "0 projection items activated\n",
      "Ready.\n",
      "(70, 20, 1000)\n",
      "Extracting parameters from E:/standard and novel/sub133/novel.set...\n"
     ]
    },
    {
     "name": "stderr",
     "output_type": "stream",
     "text": [
      "<ipython-input-7-d85d77267efa>:39: RuntimeWarning: At least one epoch has multiple events. Only the latency of the first event will be retained.\n",
      "  novel_epochs = mne.io.read_epochs_eeglab(novel_data_path)\n"
     ]
    },
    {
     "name": "stdout",
     "output_type": "stream",
     "text": [
      "Not setting metadata\n",
      "Not setting metadata\n",
      "95 matching events found\n",
      "No baseline correction applied\n",
      "0 projection items activated\n",
      "Ready.\n",
      "(70, 20, 1000)\n",
      "(15, 20, 600)\n",
      "Extracting parameters from E:/standard and novel/sub134/standard.set...\n"
     ]
    },
    {
     "name": "stderr",
     "output_type": "stream",
     "text": [
      "<ipython-input-7-d85d77267efa>:13: RuntimeWarning: At least one epoch has multiple events. Only the latency of the first event will be retained.\n",
      "  standard_epochs = mne.io.read_epochs_eeglab(standard_data_path)\n"
     ]
    },
    {
     "name": "stdout",
     "output_type": "stream",
     "text": [
      "Not setting metadata\n",
      "Not setting metadata\n",
      "85 matching events found\n",
      "No baseline correction applied\n",
      "0 projection items activated\n",
      "Ready.\n",
      "(70, 20, 1000)\n",
      "Extracting parameters from E:/standard and novel/sub134/novel.set...\n"
     ]
    },
    {
     "name": "stderr",
     "output_type": "stream",
     "text": [
      "<ipython-input-7-d85d77267efa>:39: RuntimeWarning: At least one epoch has multiple events. Only the latency of the first event will be retained.\n",
      "  novel_epochs = mne.io.read_epochs_eeglab(novel_data_path)\n"
     ]
    },
    {
     "name": "stdout",
     "output_type": "stream",
     "text": [
      "Not setting metadata\n",
      "Not setting metadata\n",
      "87 matching events found\n",
      "No baseline correction applied\n",
      "0 projection items activated\n",
      "Ready.\n",
      "(70, 20, 1000)\n",
      "(15, 20, 600)\n",
      "Extracting parameters from E:/standard and novel/sub135/standard.set...\n"
     ]
    },
    {
     "name": "stderr",
     "output_type": "stream",
     "text": [
      "<ipython-input-7-d85d77267efa>:13: RuntimeWarning: At least one epoch has multiple events. Only the latency of the first event will be retained.\n",
      "  standard_epochs = mne.io.read_epochs_eeglab(standard_data_path)\n"
     ]
    },
    {
     "name": "stdout",
     "output_type": "stream",
     "text": [
      "Not setting metadata\n",
      "Not setting metadata\n",
      "96 matching events found\n",
      "No baseline correction applied\n",
      "0 projection items activated\n",
      "Ready.\n",
      "(70, 20, 1000)\n",
      "Extracting parameters from E:/standard and novel/sub135/novel.set...\n"
     ]
    },
    {
     "name": "stderr",
     "output_type": "stream",
     "text": [
      "<ipython-input-7-d85d77267efa>:39: RuntimeWarning: At least one epoch has multiple events. Only the latency of the first event will be retained.\n",
      "  novel_epochs = mne.io.read_epochs_eeglab(novel_data_path)\n"
     ]
    },
    {
     "name": "stdout",
     "output_type": "stream",
     "text": [
      "Not setting metadata\n",
      "Not setting metadata\n",
      "99 matching events found\n",
      "No baseline correction applied\n",
      "0 projection items activated\n",
      "Ready.\n",
      "(70, 20, 1000)\n",
      "(15, 20, 600)\n",
      "Extracting parameters from E:/standard and novel/sub136/standard.set...\n"
     ]
    },
    {
     "name": "stderr",
     "output_type": "stream",
     "text": [
      "<ipython-input-7-d85d77267efa>:13: RuntimeWarning: At least one epoch has multiple events. Only the latency of the first event will be retained.\n",
      "  standard_epochs = mne.io.read_epochs_eeglab(standard_data_path)\n"
     ]
    },
    {
     "name": "stdout",
     "output_type": "stream",
     "text": [
      "Not setting metadata\n",
      "Not setting metadata\n",
      "97 matching events found\n",
      "No baseline correction applied\n",
      "0 projection items activated\n",
      "Ready.\n",
      "(70, 20, 1000)\n",
      "Extracting parameters from E:/standard and novel/sub136/novel.set...\n"
     ]
    },
    {
     "name": "stderr",
     "output_type": "stream",
     "text": [
      "<ipython-input-7-d85d77267efa>:39: RuntimeWarning: At least one epoch has multiple events. Only the latency of the first event will be retained.\n",
      "  novel_epochs = mne.io.read_epochs_eeglab(novel_data_path)\n"
     ]
    },
    {
     "name": "stdout",
     "output_type": "stream",
     "text": [
      "Not setting metadata\n",
      "Not setting metadata\n",
      "97 matching events found\n",
      "No baseline correction applied\n",
      "0 projection items activated\n",
      "Ready.\n",
      "(70, 20, 1000)\n",
      "(15, 20, 600)\n",
      "Extracting parameters from E:/standard and novel/sub137/standard.set...\n"
     ]
    },
    {
     "name": "stderr",
     "output_type": "stream",
     "text": [
      "<ipython-input-7-d85d77267efa>:13: RuntimeWarning: At least one epoch has multiple events. Only the latency of the first event will be retained.\n",
      "  standard_epochs = mne.io.read_epochs_eeglab(standard_data_path)\n"
     ]
    },
    {
     "name": "stdout",
     "output_type": "stream",
     "text": [
      "Not setting metadata\n",
      "Not setting metadata\n",
      "93 matching events found\n",
      "No baseline correction applied\n",
      "0 projection items activated\n",
      "Ready.\n",
      "(70, 20, 1000)\n",
      "Extracting parameters from E:/standard and novel/sub137/novel.set...\n"
     ]
    },
    {
     "name": "stderr",
     "output_type": "stream",
     "text": [
      "<ipython-input-7-d85d77267efa>:39: RuntimeWarning: At least one epoch has multiple events. Only the latency of the first event will be retained.\n",
      "  novel_epochs = mne.io.read_epochs_eeglab(novel_data_path)\n"
     ]
    },
    {
     "name": "stdout",
     "output_type": "stream",
     "text": [
      "Not setting metadata\n",
      "Not setting metadata\n",
      "96 matching events found\n",
      "No baseline correction applied\n",
      "0 projection items activated\n",
      "Ready.\n",
      "(70, 20, 1000)\n",
      "(15, 20, 600)\n",
      "Extracting parameters from E:/standard and novel/sub138/standard.set...\n"
     ]
    },
    {
     "name": "stderr",
     "output_type": "stream",
     "text": [
      "<ipython-input-7-d85d77267efa>:13: RuntimeWarning: At least one epoch has multiple events. Only the latency of the first event will be retained.\n",
      "  standard_epochs = mne.io.read_epochs_eeglab(standard_data_path)\n"
     ]
    },
    {
     "name": "stdout",
     "output_type": "stream",
     "text": [
      "Not setting metadata\n",
      "Not setting metadata\n",
      "100 matching events found\n",
      "No baseline correction applied\n",
      "0 projection items activated\n",
      "Ready.\n",
      "(70, 20, 1000)\n",
      "Extracting parameters from E:/standard and novel/sub138/novel.set...\n"
     ]
    },
    {
     "name": "stderr",
     "output_type": "stream",
     "text": [
      "<ipython-input-7-d85d77267efa>:39: RuntimeWarning: At least one epoch has multiple events. Only the latency of the first event will be retained.\n",
      "  novel_epochs = mne.io.read_epochs_eeglab(novel_data_path)\n"
     ]
    },
    {
     "name": "stdout",
     "output_type": "stream",
     "text": [
      "Not setting metadata\n",
      "Not setting metadata\n",
      "98 matching events found\n",
      "No baseline correction applied\n",
      "0 projection items activated\n",
      "Ready.\n",
      "(70, 20, 1000)\n",
      "(15, 20, 600)\n",
      "Extracting parameters from E:/standard and novel/sub139/standard.set...\n"
     ]
    },
    {
     "name": "stderr",
     "output_type": "stream",
     "text": [
      "<ipython-input-7-d85d77267efa>:13: RuntimeWarning: At least one epoch has multiple events. Only the latency of the first event will be retained.\n",
      "  standard_epochs = mne.io.read_epochs_eeglab(standard_data_path)\n"
     ]
    },
    {
     "name": "stdout",
     "output_type": "stream",
     "text": [
      "Not setting metadata\n",
      "Not setting metadata\n",
      "92 matching events found\n",
      "No baseline correction applied\n",
      "0 projection items activated\n",
      "Ready.\n",
      "(70, 20, 1000)\n",
      "Extracting parameters from E:/standard and novel/sub139/novel.set...\n"
     ]
    },
    {
     "name": "stderr",
     "output_type": "stream",
     "text": [
      "<ipython-input-7-d85d77267efa>:39: RuntimeWarning: At least one epoch has multiple events. Only the latency of the first event will be retained.\n",
      "  novel_epochs = mne.io.read_epochs_eeglab(novel_data_path)\n"
     ]
    },
    {
     "name": "stdout",
     "output_type": "stream",
     "text": [
      "Not setting metadata\n",
      "Not setting metadata\n",
      "80 matching events found\n",
      "No baseline correction applied\n",
      "0 projection items activated\n",
      "Ready.\n",
      "(70, 20, 1000)\n",
      "(15, 20, 600)\n",
      "Extracting parameters from E:/standard and novel/sub140/standard.set...\n"
     ]
    },
    {
     "name": "stderr",
     "output_type": "stream",
     "text": [
      "<ipython-input-7-d85d77267efa>:13: RuntimeWarning: At least one epoch has multiple events. Only the latency of the first event will be retained.\n",
      "  standard_epochs = mne.io.read_epochs_eeglab(standard_data_path)\n"
     ]
    },
    {
     "name": "stdout",
     "output_type": "stream",
     "text": [
      "Not setting metadata\n",
      "Not setting metadata\n",
      "96 matching events found\n",
      "No baseline correction applied\n",
      "0 projection items activated\n",
      "Ready.\n",
      "(70, 20, 1000)\n",
      "Extracting parameters from E:/standard and novel/sub140/novel.set...\n"
     ]
    },
    {
     "name": "stderr",
     "output_type": "stream",
     "text": [
      "<ipython-input-7-d85d77267efa>:39: RuntimeWarning: At least one epoch has multiple events. Only the latency of the first event will be retained.\n",
      "  novel_epochs = mne.io.read_epochs_eeglab(novel_data_path)\n"
     ]
    },
    {
     "name": "stdout",
     "output_type": "stream",
     "text": [
      "Not setting metadata\n",
      "Not setting metadata\n",
      "101 matching events found\n",
      "No baseline correction applied\n",
      "0 projection items activated\n",
      "Ready.\n",
      "(70, 20, 1000)\n",
      "(15, 20, 600)\n",
      "Extracting parameters from E:/standard and novel/sub141/standard.set...\n"
     ]
    },
    {
     "name": "stderr",
     "output_type": "stream",
     "text": [
      "<ipython-input-7-d85d77267efa>:13: RuntimeWarning: At least one epoch has multiple events. Only the latency of the first event will be retained.\n",
      "  standard_epochs = mne.io.read_epochs_eeglab(standard_data_path)\n"
     ]
    },
    {
     "name": "stdout",
     "output_type": "stream",
     "text": [
      "Not setting metadata\n",
      "Not setting metadata\n",
      "91 matching events found\n",
      "No baseline correction applied\n",
      "0 projection items activated\n",
      "Ready.\n",
      "(70, 20, 1000)\n",
      "Extracting parameters from E:/standard and novel/sub141/novel.set...\n"
     ]
    },
    {
     "name": "stderr",
     "output_type": "stream",
     "text": [
      "<ipython-input-7-d85d77267efa>:39: RuntimeWarning: At least one epoch has multiple events. Only the latency of the first event will be retained.\n",
      "  novel_epochs = mne.io.read_epochs_eeglab(novel_data_path)\n"
     ]
    },
    {
     "name": "stdout",
     "output_type": "stream",
     "text": [
      "Not setting metadata\n",
      "Not setting metadata\n",
      "93 matching events found\n",
      "No baseline correction applied\n",
      "0 projection items activated\n",
      "Ready.\n",
      "(70, 20, 1000)\n",
      "(15, 20, 600)\n",
      "Extracting parameters from E:/standard and novel/sub142/standard.set...\n"
     ]
    },
    {
     "name": "stderr",
     "output_type": "stream",
     "text": [
      "<ipython-input-7-d85d77267efa>:13: RuntimeWarning: At least one epoch has multiple events. Only the latency of the first event will be retained.\n",
      "  standard_epochs = mne.io.read_epochs_eeglab(standard_data_path)\n"
     ]
    },
    {
     "name": "stdout",
     "output_type": "stream",
     "text": [
      "Not setting metadata\n",
      "Not setting metadata\n",
      "102 matching events found\n",
      "No baseline correction applied\n",
      "0 projection items activated\n",
      "Ready.\n",
      "(70, 20, 1000)\n",
      "Extracting parameters from E:/standard and novel/sub142/novel.set...\n"
     ]
    },
    {
     "name": "stderr",
     "output_type": "stream",
     "text": [
      "<ipython-input-7-d85d77267efa>:39: RuntimeWarning: At least one epoch has multiple events. Only the latency of the first event will be retained.\n",
      "  novel_epochs = mne.io.read_epochs_eeglab(novel_data_path)\n"
     ]
    },
    {
     "name": "stdout",
     "output_type": "stream",
     "text": [
      "Not setting metadata\n",
      "Not setting metadata\n",
      "102 matching events found\n",
      "No baseline correction applied\n",
      "0 projection items activated\n",
      "Ready.\n",
      "(70, 20, 1000)\n",
      "(15, 20, 600)\n",
      "Extracting parameters from E:/standard and novel/sub143/standard.set...\n"
     ]
    },
    {
     "name": "stderr",
     "output_type": "stream",
     "text": [
      "<ipython-input-7-d85d77267efa>:13: RuntimeWarning: At least one epoch has multiple events. Only the latency of the first event will be retained.\n",
      "  standard_epochs = mne.io.read_epochs_eeglab(standard_data_path)\n"
     ]
    },
    {
     "name": "stdout",
     "output_type": "stream",
     "text": [
      "Not setting metadata\n",
      "Not setting metadata\n",
      "100 matching events found\n",
      "No baseline correction applied\n",
      "0 projection items activated\n",
      "Ready.\n",
      "(70, 20, 1000)\n",
      "Extracting parameters from E:/standard and novel/sub143/novel.set...\n"
     ]
    },
    {
     "name": "stderr",
     "output_type": "stream",
     "text": [
      "<ipython-input-7-d85d77267efa>:39: RuntimeWarning: At least one epoch has multiple events. Only the latency of the first event will be retained.\n",
      "  novel_epochs = mne.io.read_epochs_eeglab(novel_data_path)\n"
     ]
    },
    {
     "name": "stdout",
     "output_type": "stream",
     "text": [
      "Not setting metadata\n",
      "Not setting metadata\n",
      "99 matching events found\n",
      "No baseline correction applied\n",
      "0 projection items activated\n",
      "Ready.\n",
      "(70, 20, 1000)\n",
      "(15, 20, 600)\n",
      "Extracting parameters from E:/standard and novel/sub144/standard.set...\n"
     ]
    },
    {
     "name": "stderr",
     "output_type": "stream",
     "text": [
      "<ipython-input-7-d85d77267efa>:13: RuntimeWarning: At least one epoch has multiple events. Only the latency of the first event will be retained.\n",
      "  standard_epochs = mne.io.read_epochs_eeglab(standard_data_path)\n"
     ]
    },
    {
     "name": "stdout",
     "output_type": "stream",
     "text": [
      "Not setting metadata\n",
      "Not setting metadata\n",
      "99 matching events found\n",
      "No baseline correction applied\n",
      "0 projection items activated\n",
      "Ready.\n",
      "(70, 20, 1000)\n",
      "Extracting parameters from E:/standard and novel/sub144/novel.set...\n"
     ]
    },
    {
     "name": "stderr",
     "output_type": "stream",
     "text": [
      "<ipython-input-7-d85d77267efa>:39: RuntimeWarning: At least one epoch has multiple events. Only the latency of the first event will be retained.\n",
      "  novel_epochs = mne.io.read_epochs_eeglab(novel_data_path)\n"
     ]
    },
    {
     "name": "stdout",
     "output_type": "stream",
     "text": [
      "Not setting metadata\n",
      "Not setting metadata\n",
      "101 matching events found\n",
      "No baseline correction applied\n",
      "0 projection items activated\n",
      "Ready.\n",
      "(70, 20, 1000)\n",
      "(15, 20, 600)\n",
      "Extracting parameters from E:/standard and novel/sub145/standard.set...\n"
     ]
    },
    {
     "name": "stderr",
     "output_type": "stream",
     "text": [
      "<ipython-input-7-d85d77267efa>:13: RuntimeWarning: At least one epoch has multiple events. Only the latency of the first event will be retained.\n",
      "  standard_epochs = mne.io.read_epochs_eeglab(standard_data_path)\n"
     ]
    },
    {
     "name": "stdout",
     "output_type": "stream",
     "text": [
      "Not setting metadata\n",
      "Not setting metadata\n",
      "90 matching events found\n",
      "No baseline correction applied\n",
      "0 projection items activated\n",
      "Ready.\n",
      "(70, 20, 1000)\n",
      "Extracting parameters from E:/standard and novel/sub145/novel.set...\n"
     ]
    },
    {
     "name": "stderr",
     "output_type": "stream",
     "text": [
      "<ipython-input-7-d85d77267efa>:39: RuntimeWarning: At least one epoch has multiple events. Only the latency of the first event will be retained.\n",
      "  novel_epochs = mne.io.read_epochs_eeglab(novel_data_path)\n"
     ]
    },
    {
     "name": "stdout",
     "output_type": "stream",
     "text": [
      "Not setting metadata\n",
      "Not setting metadata\n",
      "91 matching events found\n",
      "No baseline correction applied\n",
      "0 projection items activated\n",
      "Ready.\n",
      "(70, 20, 1000)\n",
      "(15, 20, 600)\n",
      "Extracting parameters from E:/standard and novel/sub146/standard.set...\n"
     ]
    },
    {
     "name": "stderr",
     "output_type": "stream",
     "text": [
      "<ipython-input-7-d85d77267efa>:13: RuntimeWarning: At least one epoch has multiple events. Only the latency of the first event will be retained.\n",
      "  standard_epochs = mne.io.read_epochs_eeglab(standard_data_path)\n"
     ]
    },
    {
     "name": "stdout",
     "output_type": "stream",
     "text": [
      "Not setting metadata\n",
      "Not setting metadata\n",
      "102 matching events found\n",
      "No baseline correction applied\n",
      "0 projection items activated\n",
      "Ready.\n",
      "(70, 20, 1000)\n",
      "Extracting parameters from E:/standard and novel/sub146/novel.set...\n"
     ]
    },
    {
     "name": "stderr",
     "output_type": "stream",
     "text": [
      "<ipython-input-7-d85d77267efa>:39: RuntimeWarning: At least one epoch has multiple events. Only the latency of the first event will be retained.\n",
      "  novel_epochs = mne.io.read_epochs_eeglab(novel_data_path)\n"
     ]
    },
    {
     "name": "stdout",
     "output_type": "stream",
     "text": [
      "Not setting metadata\n",
      "Not setting metadata\n",
      "102 matching events found\n",
      "No baseline correction applied\n",
      "0 projection items activated\n",
      "Ready.\n",
      "(70, 20, 1000)\n",
      "(15, 20, 600)\n",
      "Extracting parameters from E:/standard and novel/sub147/standard.set...\n"
     ]
    },
    {
     "name": "stderr",
     "output_type": "stream",
     "text": [
      "<ipython-input-7-d85d77267efa>:13: RuntimeWarning: At least one epoch has multiple events. Only the latency of the first event will be retained.\n",
      "  standard_epochs = mne.io.read_epochs_eeglab(standard_data_path)\n"
     ]
    },
    {
     "name": "stdout",
     "output_type": "stream",
     "text": [
      "Not setting metadata\n",
      "Not setting metadata\n",
      "99 matching events found\n",
      "No baseline correction applied\n",
      "0 projection items activated\n",
      "Ready.\n",
      "(70, 20, 1000)\n",
      "Extracting parameters from E:/standard and novel/sub147/novel.set...\n"
     ]
    },
    {
     "name": "stderr",
     "output_type": "stream",
     "text": [
      "<ipython-input-7-d85d77267efa>:39: RuntimeWarning: At least one epoch has multiple events. Only the latency of the first event will be retained.\n",
      "  novel_epochs = mne.io.read_epochs_eeglab(novel_data_path)\n"
     ]
    },
    {
     "name": "stdout",
     "output_type": "stream",
     "text": [
      "Not setting metadata\n",
      "Not setting metadata\n",
      "100 matching events found\n",
      "No baseline correction applied\n",
      "0 projection items activated\n",
      "Ready.\n",
      "(70, 20, 1000)\n",
      "(15, 20, 600)\n",
      "Extracting parameters from E:/standard and novel/sub148/standard.set...\n"
     ]
    },
    {
     "name": "stderr",
     "output_type": "stream",
     "text": [
      "<ipython-input-7-d85d77267efa>:13: RuntimeWarning: At least one epoch has multiple events. Only the latency of the first event will be retained.\n",
      "  standard_epochs = mne.io.read_epochs_eeglab(standard_data_path)\n"
     ]
    },
    {
     "name": "stdout",
     "output_type": "stream",
     "text": [
      "Not setting metadata\n",
      "Not setting metadata\n",
      "76 matching events found\n",
      "No baseline correction applied\n",
      "0 projection items activated\n",
      "Ready.\n",
      "(70, 20, 1000)\n",
      "Extracting parameters from E:/standard and novel/sub148/novel.set...\n"
     ]
    },
    {
     "name": "stderr",
     "output_type": "stream",
     "text": [
      "<ipython-input-7-d85d77267efa>:39: RuntimeWarning: At least one epoch has multiple events. Only the latency of the first event will be retained.\n",
      "  novel_epochs = mne.io.read_epochs_eeglab(novel_data_path)\n"
     ]
    },
    {
     "name": "stdout",
     "output_type": "stream",
     "text": [
      "Not setting metadata\n",
      "Not setting metadata\n",
      "70 matching events found\n",
      "No baseline correction applied\n",
      "0 projection items activated\n",
      "Ready.\n",
      "(70, 20, 1000)\n",
      "(15, 20, 600)\n",
      "Extracting parameters from E:/standard and novel/sub149/standard.set...\n"
     ]
    },
    {
     "name": "stderr",
     "output_type": "stream",
     "text": [
      "<ipython-input-7-d85d77267efa>:13: RuntimeWarning: At least one epoch has multiple events. Only the latency of the first event will be retained.\n",
      "  standard_epochs = mne.io.read_epochs_eeglab(standard_data_path)\n"
     ]
    },
    {
     "name": "stdout",
     "output_type": "stream",
     "text": [
      "Not setting metadata\n",
      "Not setting metadata\n",
      "94 matching events found\n",
      "No baseline correction applied\n",
      "0 projection items activated\n",
      "Ready.\n",
      "(70, 20, 1000)\n",
      "Extracting parameters from E:/standard and novel/sub149/novel.set...\n"
     ]
    },
    {
     "name": "stderr",
     "output_type": "stream",
     "text": [
      "<ipython-input-7-d85d77267efa>:39: RuntimeWarning: At least one epoch has multiple events. Only the latency of the first event will be retained.\n",
      "  novel_epochs = mne.io.read_epochs_eeglab(novel_data_path)\n"
     ]
    },
    {
     "name": "stdout",
     "output_type": "stream",
     "text": [
      "Not setting metadata\n",
      "Not setting metadata\n",
      "94 matching events found\n",
      "No baseline correction applied\n",
      "0 projection items activated\n",
      "Ready.\n",
      "(70, 20, 1000)\n",
      "(15, 20, 600)\n",
      "Extracting parameters from E:/standard and novel/sub150/standard.set...\n"
     ]
    },
    {
     "name": "stderr",
     "output_type": "stream",
     "text": [
      "<ipython-input-7-d85d77267efa>:13: RuntimeWarning: At least one epoch has multiple events. Only the latency of the first event will be retained.\n",
      "  standard_epochs = mne.io.read_epochs_eeglab(standard_data_path)\n"
     ]
    },
    {
     "name": "stdout",
     "output_type": "stream",
     "text": [
      "Not setting metadata\n",
      "Not setting metadata\n",
      "96 matching events found\n",
      "No baseline correction applied\n",
      "0 projection items activated\n",
      "Ready.\n",
      "(70, 20, 1000)\n",
      "Extracting parameters from E:/standard and novel/sub150/novel.set...\n"
     ]
    },
    {
     "name": "stderr",
     "output_type": "stream",
     "text": [
      "<ipython-input-7-d85d77267efa>:39: RuntimeWarning: At least one epoch has multiple events. Only the latency of the first event will be retained.\n",
      "  novel_epochs = mne.io.read_epochs_eeglab(novel_data_path)\n"
     ]
    },
    {
     "name": "stdout",
     "output_type": "stream",
     "text": [
      "Not setting metadata\n",
      "Not setting metadata\n",
      "96 matching events found\n",
      "No baseline correction applied\n",
      "0 projection items activated\n",
      "Ready.\n",
      "(70, 20, 1000)\n",
      "(15, 20, 600)\n",
      "Extracting parameters from E:/standard and novel/sub151/standard.set...\n"
     ]
    },
    {
     "name": "stderr",
     "output_type": "stream",
     "text": [
      "<ipython-input-7-d85d77267efa>:13: RuntimeWarning: At least one epoch has multiple events. Only the latency of the first event will be retained.\n",
      "  standard_epochs = mne.io.read_epochs_eeglab(standard_data_path)\n"
     ]
    },
    {
     "name": "stdout",
     "output_type": "stream",
     "text": [
      "Not setting metadata\n",
      "Not setting metadata\n",
      "101 matching events found\n",
      "No baseline correction applied\n",
      "0 projection items activated\n",
      "Ready.\n",
      "(70, 20, 1000)\n",
      "Extracting parameters from E:/standard and novel/sub151/novel.set...\n"
     ]
    },
    {
     "name": "stderr",
     "output_type": "stream",
     "text": [
      "<ipython-input-7-d85d77267efa>:39: RuntimeWarning: At least one epoch has multiple events. Only the latency of the first event will be retained.\n",
      "  novel_epochs = mne.io.read_epochs_eeglab(novel_data_path)\n"
     ]
    },
    {
     "name": "stdout",
     "output_type": "stream",
     "text": [
      "Not setting metadata\n",
      "Not setting metadata\n",
      "98 matching events found\n",
      "No baseline correction applied\n",
      "0 projection items activated\n",
      "Ready.\n",
      "(70, 20, 1000)\n",
      "(15, 20, 600)\n",
      "Extracting parameters from E:/standard and novel/sub152/standard.set...\n"
     ]
    },
    {
     "name": "stderr",
     "output_type": "stream",
     "text": [
      "<ipython-input-7-d85d77267efa>:13: RuntimeWarning: At least one epoch has multiple events. Only the latency of the first event will be retained.\n",
      "  standard_epochs = mne.io.read_epochs_eeglab(standard_data_path)\n"
     ]
    },
    {
     "name": "stdout",
     "output_type": "stream",
     "text": [
      "Not setting metadata\n",
      "Not setting metadata\n",
      "101 matching events found\n",
      "No baseline correction applied\n",
      "0 projection items activated\n",
      "Ready.\n",
      "(70, 20, 1000)\n",
      "Extracting parameters from E:/standard and novel/sub152/novel.set...\n"
     ]
    },
    {
     "name": "stderr",
     "output_type": "stream",
     "text": [
      "<ipython-input-7-d85d77267efa>:39: RuntimeWarning: At least one epoch has multiple events. Only the latency of the first event will be retained.\n",
      "  novel_epochs = mne.io.read_epochs_eeglab(novel_data_path)\n"
     ]
    },
    {
     "name": "stdout",
     "output_type": "stream",
     "text": [
      "Not setting metadata\n",
      "Not setting metadata\n",
      "98 matching events found\n",
      "No baseline correction applied\n",
      "0 projection items activated\n",
      "Ready.\n",
      "(70, 20, 1000)\n",
      "(15, 20, 600)\n",
      "Extracting parameters from E:/standard and novel/sub153/standard.set...\n"
     ]
    },
    {
     "name": "stderr",
     "output_type": "stream",
     "text": [
      "<ipython-input-7-d85d77267efa>:13: RuntimeWarning: At least one epoch has multiple events. Only the latency of the first event will be retained.\n",
      "  standard_epochs = mne.io.read_epochs_eeglab(standard_data_path)\n"
     ]
    },
    {
     "name": "stdout",
     "output_type": "stream",
     "text": [
      "Not setting metadata\n",
      "Not setting metadata\n",
      "90 matching events found\n",
      "No baseline correction applied\n",
      "0 projection items activated\n",
      "Ready.\n",
      "(70, 20, 1000)\n",
      "Extracting parameters from E:/standard and novel/sub153/novel.set...\n"
     ]
    },
    {
     "name": "stderr",
     "output_type": "stream",
     "text": [
      "<ipython-input-7-d85d77267efa>:39: RuntimeWarning: At least one epoch has multiple events. Only the latency of the first event will be retained.\n",
      "  novel_epochs = mne.io.read_epochs_eeglab(novel_data_path)\n"
     ]
    },
    {
     "name": "stdout",
     "output_type": "stream",
     "text": [
      "Not setting metadata\n",
      "Not setting metadata\n",
      "92 matching events found\n",
      "No baseline correction applied\n",
      "0 projection items activated\n",
      "Ready.\n",
      "(70, 20, 1000)\n",
      "(15, 20, 600)\n",
      "Extracting parameters from E:/standard and novel/sub154/standard.set...\n"
     ]
    },
    {
     "name": "stderr",
     "output_type": "stream",
     "text": [
      "<ipython-input-7-d85d77267efa>:13: RuntimeWarning: At least one epoch has multiple events. Only the latency of the first event will be retained.\n",
      "  standard_epochs = mne.io.read_epochs_eeglab(standard_data_path)\n"
     ]
    },
    {
     "name": "stdout",
     "output_type": "stream",
     "text": [
      "Not setting metadata\n",
      "Not setting metadata\n",
      "100 matching events found\n",
      "No baseline correction applied\n",
      "0 projection items activated\n",
      "Ready.\n",
      "(70, 20, 1000)\n",
      "Extracting parameters from E:/standard and novel/sub154/novel.set...\n"
     ]
    },
    {
     "name": "stderr",
     "output_type": "stream",
     "text": [
      "<ipython-input-7-d85d77267efa>:39: RuntimeWarning: At least one epoch has multiple events. Only the latency of the first event will be retained.\n",
      "  novel_epochs = mne.io.read_epochs_eeglab(novel_data_path)\n"
     ]
    },
    {
     "name": "stdout",
     "output_type": "stream",
     "text": [
      "Not setting metadata\n",
      "Not setting metadata\n",
      "97 matching events found\n",
      "No baseline correction applied\n",
      "0 projection items activated\n",
      "Ready.\n",
      "(70, 20, 1000)\n",
      "(15, 20, 600)\n",
      "Extracting parameters from E:/standard and novel/sub155/standard.set...\n"
     ]
    },
    {
     "name": "stderr",
     "output_type": "stream",
     "text": [
      "<ipython-input-7-d85d77267efa>:13: RuntimeWarning: At least one epoch has multiple events. Only the latency of the first event will be retained.\n",
      "  standard_epochs = mne.io.read_epochs_eeglab(standard_data_path)\n"
     ]
    },
    {
     "name": "stdout",
     "output_type": "stream",
     "text": [
      "Not setting metadata\n",
      "Not setting metadata\n",
      "102 matching events found\n",
      "No baseline correction applied\n",
      "0 projection items activated\n",
      "Ready.\n",
      "(70, 20, 1000)\n",
      "Extracting parameters from E:/standard and novel/sub155/novel.set...\n"
     ]
    },
    {
     "name": "stderr",
     "output_type": "stream",
     "text": [
      "<ipython-input-7-d85d77267efa>:39: RuntimeWarning: At least one epoch has multiple events. Only the latency of the first event will be retained.\n",
      "  novel_epochs = mne.io.read_epochs_eeglab(novel_data_path)\n"
     ]
    },
    {
     "name": "stdout",
     "output_type": "stream",
     "text": [
      "Not setting metadata\n",
      "Not setting metadata\n",
      "102 matching events found\n",
      "No baseline correction applied\n",
      "0 projection items activated\n",
      "Ready.\n",
      "(70, 20, 1000)\n",
      "(15, 20, 600)\n",
      "Extracting parameters from E:/standard and novel/sub156/standard.set...\n"
     ]
    },
    {
     "name": "stderr",
     "output_type": "stream",
     "text": [
      "<ipython-input-7-d85d77267efa>:13: RuntimeWarning: At least one epoch has multiple events. Only the latency of the first event will be retained.\n",
      "  standard_epochs = mne.io.read_epochs_eeglab(standard_data_path)\n"
     ]
    },
    {
     "name": "stdout",
     "output_type": "stream",
     "text": [
      "Not setting metadata\n",
      "Not setting metadata\n",
      "100 matching events found\n",
      "No baseline correction applied\n",
      "0 projection items activated\n",
      "Ready.\n",
      "(70, 20, 1000)\n",
      "Extracting parameters from E:/standard and novel/sub156/novel.set...\n"
     ]
    },
    {
     "name": "stderr",
     "output_type": "stream",
     "text": [
      "<ipython-input-7-d85d77267efa>:39: RuntimeWarning: At least one epoch has multiple events. Only the latency of the first event will be retained.\n",
      "  novel_epochs = mne.io.read_epochs_eeglab(novel_data_path)\n"
     ]
    },
    {
     "name": "stdout",
     "output_type": "stream",
     "text": [
      "Not setting metadata\n",
      "Not setting metadata\n",
      "100 matching events found\n",
      "No baseline correction applied\n",
      "0 projection items activated\n",
      "Ready.\n",
      "(70, 20, 1000)\n",
      "(15, 20, 600)\n",
      "Extracting parameters from E:/standard and novel/sub157/standard.set...\n"
     ]
    },
    {
     "name": "stderr",
     "output_type": "stream",
     "text": [
      "<ipython-input-7-d85d77267efa>:13: RuntimeWarning: At least one epoch has multiple events. Only the latency of the first event will be retained.\n",
      "  standard_epochs = mne.io.read_epochs_eeglab(standard_data_path)\n"
     ]
    },
    {
     "name": "stdout",
     "output_type": "stream",
     "text": [
      "Not setting metadata\n",
      "Not setting metadata\n",
      "86 matching events found\n",
      "No baseline correction applied\n",
      "0 projection items activated\n",
      "Ready.\n",
      "(70, 20, 1000)\n",
      "Extracting parameters from E:/standard and novel/sub157/novel.set...\n"
     ]
    },
    {
     "name": "stderr",
     "output_type": "stream",
     "text": [
      "<ipython-input-7-d85d77267efa>:39: RuntimeWarning: At least one epoch has multiple events. Only the latency of the first event will be retained.\n",
      "  novel_epochs = mne.io.read_epochs_eeglab(novel_data_path)\n"
     ]
    },
    {
     "name": "stdout",
     "output_type": "stream",
     "text": [
      "Not setting metadata\n",
      "Not setting metadata\n",
      "88 matching events found\n",
      "No baseline correction applied\n",
      "0 projection items activated\n",
      "Ready.\n",
      "(70, 20, 1000)\n",
      "(15, 20, 600)\n",
      "Extracting parameters from E:/standard and novel/sub158/standard.set...\n"
     ]
    },
    {
     "name": "stderr",
     "output_type": "stream",
     "text": [
      "<ipython-input-7-d85d77267efa>:13: RuntimeWarning: At least one epoch has multiple events. Only the latency of the first event will be retained.\n",
      "  standard_epochs = mne.io.read_epochs_eeglab(standard_data_path)\n"
     ]
    },
    {
     "name": "stdout",
     "output_type": "stream",
     "text": [
      "Not setting metadata\n",
      "Not setting metadata\n",
      "95 matching events found\n",
      "No baseline correction applied\n",
      "0 projection items activated\n",
      "Ready.\n",
      "(70, 20, 1000)\n",
      "Extracting parameters from E:/standard and novel/sub158/novel.set...\n"
     ]
    },
    {
     "name": "stderr",
     "output_type": "stream",
     "text": [
      "<ipython-input-7-d85d77267efa>:39: RuntimeWarning: At least one epoch has multiple events. Only the latency of the first event will be retained.\n",
      "  novel_epochs = mne.io.read_epochs_eeglab(novel_data_path)\n"
     ]
    },
    {
     "name": "stdout",
     "output_type": "stream",
     "text": [
      "Not setting metadata\n",
      "Not setting metadata\n",
      "93 matching events found\n",
      "No baseline correction applied\n",
      "0 projection items activated\n",
      "Ready.\n",
      "(70, 20, 1000)\n",
      "(15, 20, 600)\n",
      "Extracting parameters from E:/standard and novel/sub159/standard.set...\n"
     ]
    },
    {
     "name": "stderr",
     "output_type": "stream",
     "text": [
      "<ipython-input-7-d85d77267efa>:13: RuntimeWarning: At least one epoch has multiple events. Only the latency of the first event will be retained.\n",
      "  standard_epochs = mne.io.read_epochs_eeglab(standard_data_path)\n"
     ]
    },
    {
     "name": "stdout",
     "output_type": "stream",
     "text": [
      "Not setting metadata\n",
      "Not setting metadata\n",
      "91 matching events found\n",
      "No baseline correction applied\n",
      "0 projection items activated\n",
      "Ready.\n",
      "(70, 20, 1000)\n",
      "Extracting parameters from E:/standard and novel/sub159/novel.set...\n"
     ]
    },
    {
     "name": "stderr",
     "output_type": "stream",
     "text": [
      "<ipython-input-7-d85d77267efa>:39: RuntimeWarning: At least one epoch has multiple events. Only the latency of the first event will be retained.\n",
      "  novel_epochs = mne.io.read_epochs_eeglab(novel_data_path)\n"
     ]
    },
    {
     "name": "stdout",
     "output_type": "stream",
     "text": [
      "Not setting metadata\n",
      "Not setting metadata\n",
      "90 matching events found\n",
      "No baseline correction applied\n",
      "0 projection items activated\n",
      "Ready.\n",
      "(70, 20, 1000)\n",
      "(15, 20, 600)\n",
      "Extracting parameters from E:/standard and novel/sub160/standard.set...\n"
     ]
    },
    {
     "name": "stderr",
     "output_type": "stream",
     "text": [
      "<ipython-input-7-d85d77267efa>:13: RuntimeWarning: At least one epoch has multiple events. Only the latency of the first event will be retained.\n",
      "  standard_epochs = mne.io.read_epochs_eeglab(standard_data_path)\n"
     ]
    },
    {
     "name": "stdout",
     "output_type": "stream",
     "text": [
      "Not setting metadata\n",
      "Not setting metadata\n",
      "99 matching events found\n",
      "No baseline correction applied\n",
      "0 projection items activated\n",
      "Ready.\n",
      "(70, 20, 1000)\n",
      "Extracting parameters from E:/standard and novel/sub160/novel.set...\n"
     ]
    },
    {
     "name": "stderr",
     "output_type": "stream",
     "text": [
      "<ipython-input-7-d85d77267efa>:39: RuntimeWarning: At least one epoch has multiple events. Only the latency of the first event will be retained.\n",
      "  novel_epochs = mne.io.read_epochs_eeglab(novel_data_path)\n"
     ]
    },
    {
     "name": "stdout",
     "output_type": "stream",
     "text": [
      "Not setting metadata\n",
      "Not setting metadata\n",
      "100 matching events found\n",
      "No baseline correction applied\n",
      "0 projection items activated\n",
      "Ready.\n",
      "(70, 20, 1000)\n",
      "(15, 20, 600)\n",
      "Extracting parameters from E:/standard and novel/sub161/standard.set...\n"
     ]
    },
    {
     "name": "stderr",
     "output_type": "stream",
     "text": [
      "<ipython-input-7-d85d77267efa>:13: RuntimeWarning: At least one epoch has multiple events. Only the latency of the first event will be retained.\n",
      "  standard_epochs = mne.io.read_epochs_eeglab(standard_data_path)\n"
     ]
    },
    {
     "name": "stdout",
     "output_type": "stream",
     "text": [
      "Not setting metadata\n",
      "Not setting metadata\n",
      "102 matching events found\n",
      "No baseline correction applied\n",
      "0 projection items activated\n",
      "Ready.\n",
      "(70, 20, 1000)\n",
      "Extracting parameters from E:/standard and novel/sub161/novel.set...\n"
     ]
    },
    {
     "name": "stderr",
     "output_type": "stream",
     "text": [
      "<ipython-input-7-d85d77267efa>:39: RuntimeWarning: At least one epoch has multiple events. Only the latency of the first event will be retained.\n",
      "  novel_epochs = mne.io.read_epochs_eeglab(novel_data_path)\n"
     ]
    },
    {
     "name": "stdout",
     "output_type": "stream",
     "text": [
      "Not setting metadata\n",
      "Not setting metadata\n",
      "102 matching events found\n",
      "No baseline correction applied\n",
      "0 projection items activated\n",
      "Ready.\n",
      "(70, 20, 1000)\n",
      "(15, 20, 600)\n",
      "Extracting parameters from E:/standard and novel/sub162/standard.set...\n"
     ]
    },
    {
     "name": "stderr",
     "output_type": "stream",
     "text": [
      "<ipython-input-7-d85d77267efa>:13: RuntimeWarning: At least one epoch has multiple events. Only the latency of the first event will be retained.\n",
      "  standard_epochs = mne.io.read_epochs_eeglab(standard_data_path)\n"
     ]
    },
    {
     "name": "stdout",
     "output_type": "stream",
     "text": [
      "Not setting metadata\n",
      "Not setting metadata\n",
      "87 matching events found\n",
      "No baseline correction applied\n",
      "0 projection items activated\n",
      "Ready.\n",
      "(70, 20, 1000)\n",
      "Extracting parameters from E:/standard and novel/sub162/novel.set...\n"
     ]
    },
    {
     "name": "stderr",
     "output_type": "stream",
     "text": [
      "<ipython-input-7-d85d77267efa>:39: RuntimeWarning: At least one epoch has multiple events. Only the latency of the first event will be retained.\n",
      "  novel_epochs = mne.io.read_epochs_eeglab(novel_data_path)\n"
     ]
    },
    {
     "name": "stdout",
     "output_type": "stream",
     "text": [
      "Not setting metadata\n",
      "Not setting metadata\n",
      "88 matching events found\n",
      "No baseline correction applied\n",
      "0 projection items activated\n",
      "Ready.\n",
      "(70, 20, 1000)\n",
      "(15, 20, 600)\n",
      "Extracting parameters from E:/standard and novel/sub163/standard.set...\n"
     ]
    },
    {
     "name": "stderr",
     "output_type": "stream",
     "text": [
      "<ipython-input-7-d85d77267efa>:13: RuntimeWarning: At least one epoch has multiple events. Only the latency of the first event will be retained.\n",
      "  standard_epochs = mne.io.read_epochs_eeglab(standard_data_path)\n"
     ]
    },
    {
     "name": "stdout",
     "output_type": "stream",
     "text": [
      "Not setting metadata\n",
      "Not setting metadata\n",
      "94 matching events found\n",
      "No baseline correction applied\n",
      "0 projection items activated\n",
      "Ready.\n",
      "(70, 20, 1000)\n",
      "Extracting parameters from E:/standard and novel/sub163/novel.set...\n"
     ]
    },
    {
     "name": "stderr",
     "output_type": "stream",
     "text": [
      "<ipython-input-7-d85d77267efa>:39: RuntimeWarning: At least one epoch has multiple events. Only the latency of the first event will be retained.\n",
      "  novel_epochs = mne.io.read_epochs_eeglab(novel_data_path)\n"
     ]
    },
    {
     "name": "stdout",
     "output_type": "stream",
     "text": [
      "Not setting metadata\n",
      "Not setting metadata\n",
      "93 matching events found\n",
      "No baseline correction applied\n",
      "0 projection items activated\n",
      "Ready.\n",
      "(70, 20, 1000)\n",
      "(15, 20, 600)\n",
      "Extracting parameters from E:/standard and novel/sub164/standard.set...\n"
     ]
    },
    {
     "name": "stderr",
     "output_type": "stream",
     "text": [
      "<ipython-input-7-d85d77267efa>:13: RuntimeWarning: At least one epoch has multiple events. Only the latency of the first event will be retained.\n",
      "  standard_epochs = mne.io.read_epochs_eeglab(standard_data_path)\n"
     ]
    },
    {
     "name": "stdout",
     "output_type": "stream",
     "text": [
      "Not setting metadata\n",
      "Not setting metadata\n",
      "101 matching events found\n",
      "No baseline correction applied\n",
      "0 projection items activated\n",
      "Ready.\n",
      "(70, 20, 1000)\n",
      "Extracting parameters from E:/standard and novel/sub164/novel.set...\n"
     ]
    },
    {
     "name": "stderr",
     "output_type": "stream",
     "text": [
      "<ipython-input-7-d85d77267efa>:39: RuntimeWarning: At least one epoch has multiple events. Only the latency of the first event will be retained.\n",
      "  novel_epochs = mne.io.read_epochs_eeglab(novel_data_path)\n"
     ]
    },
    {
     "name": "stdout",
     "output_type": "stream",
     "text": [
      "Not setting metadata\n",
      "Not setting metadata\n",
      "101 matching events found\n",
      "No baseline correction applied\n",
      "0 projection items activated\n",
      "Ready.\n",
      "(70, 20, 1000)\n",
      "(15, 20, 600)\n",
      "Extracting parameters from E:/standard and novel/sub165/standard.set...\n"
     ]
    },
    {
     "name": "stderr",
     "output_type": "stream",
     "text": [
      "<ipython-input-7-d85d77267efa>:13: RuntimeWarning: At least one epoch has multiple events. Only the latency of the first event will be retained.\n",
      "  standard_epochs = mne.io.read_epochs_eeglab(standard_data_path)\n"
     ]
    },
    {
     "name": "stdout",
     "output_type": "stream",
     "text": [
      "Not setting metadata\n",
      "Not setting metadata\n",
      "91 matching events found\n",
      "No baseline correction applied\n",
      "0 projection items activated\n",
      "Ready.\n",
      "(70, 20, 1000)\n",
      "Extracting parameters from E:/standard and novel/sub165/novel.set...\n"
     ]
    },
    {
     "name": "stderr",
     "output_type": "stream",
     "text": [
      "<ipython-input-7-d85d77267efa>:39: RuntimeWarning: At least one epoch has multiple events. Only the latency of the first event will be retained.\n",
      "  novel_epochs = mne.io.read_epochs_eeglab(novel_data_path)\n"
     ]
    },
    {
     "name": "stdout",
     "output_type": "stream",
     "text": [
      "Not setting metadata\n",
      "Not setting metadata\n",
      "90 matching events found\n",
      "No baseline correction applied\n",
      "0 projection items activated\n",
      "Ready.\n",
      "(70, 20, 1000)\n",
      "(15, 20, 600)\n",
      "Extracting parameters from E:/standard and novel/sub166/standard.set...\n"
     ]
    },
    {
     "name": "stderr",
     "output_type": "stream",
     "text": [
      "<ipython-input-7-d85d77267efa>:13: RuntimeWarning: At least one epoch has multiple events. Only the latency of the first event will be retained.\n",
      "  standard_epochs = mne.io.read_epochs_eeglab(standard_data_path)\n"
     ]
    },
    {
     "name": "stdout",
     "output_type": "stream",
     "text": [
      "Not setting metadata\n",
      "Not setting metadata\n",
      "98 matching events found\n",
      "No baseline correction applied\n",
      "0 projection items activated\n",
      "Ready.\n",
      "(70, 20, 1000)\n",
      "Extracting parameters from E:/standard and novel/sub166/novel.set...\n"
     ]
    },
    {
     "name": "stderr",
     "output_type": "stream",
     "text": [
      "<ipython-input-7-d85d77267efa>:39: RuntimeWarning: At least one epoch has multiple events. Only the latency of the first event will be retained.\n",
      "  novel_epochs = mne.io.read_epochs_eeglab(novel_data_path)\n"
     ]
    },
    {
     "name": "stdout",
     "output_type": "stream",
     "text": [
      "Not setting metadata\n",
      "Not setting metadata\n",
      "101 matching events found\n",
      "No baseline correction applied\n",
      "0 projection items activated\n",
      "Ready.\n",
      "(70, 20, 1000)\n",
      "(15, 20, 600)\n",
      "Extracting parameters from E:/standard and novel/sub167/standard.set...\n"
     ]
    },
    {
     "name": "stderr",
     "output_type": "stream",
     "text": [
      "<ipython-input-7-d85d77267efa>:13: RuntimeWarning: At least one epoch has multiple events. Only the latency of the first event will be retained.\n",
      "  standard_epochs = mne.io.read_epochs_eeglab(standard_data_path)\n"
     ]
    },
    {
     "name": "stdout",
     "output_type": "stream",
     "text": [
      "Not setting metadata\n",
      "Not setting metadata\n",
      "95 matching events found\n",
      "No baseline correction applied\n",
      "0 projection items activated\n",
      "Ready.\n",
      "(70, 20, 1000)\n",
      "Extracting parameters from E:/standard and novel/sub167/novel.set...\n"
     ]
    },
    {
     "name": "stderr",
     "output_type": "stream",
     "text": [
      "<ipython-input-7-d85d77267efa>:39: RuntimeWarning: At least one epoch has multiple events. Only the latency of the first event will be retained.\n",
      "  novel_epochs = mne.io.read_epochs_eeglab(novel_data_path)\n"
     ]
    },
    {
     "name": "stdout",
     "output_type": "stream",
     "text": [
      "Not setting metadata\n",
      "Not setting metadata\n",
      "98 matching events found\n",
      "No baseline correction applied\n",
      "0 projection items activated\n",
      "Ready.\n",
      "(70, 20, 1000)\n",
      "(15, 20, 600)\n",
      "Extracting parameters from E:/standard and novel/sub168/standard.set...\n"
     ]
    },
    {
     "name": "stderr",
     "output_type": "stream",
     "text": [
      "<ipython-input-7-d85d77267efa>:13: RuntimeWarning: At least one epoch has multiple events. Only the latency of the first event will be retained.\n",
      "  standard_epochs = mne.io.read_epochs_eeglab(standard_data_path)\n"
     ]
    },
    {
     "name": "stdout",
     "output_type": "stream",
     "text": [
      "Not setting metadata\n",
      "Not setting metadata\n",
      "101 matching events found\n",
      "No baseline correction applied\n",
      "0 projection items activated\n",
      "Ready.\n",
      "(70, 20, 1000)\n",
      "Extracting parameters from E:/standard and novel/sub168/novel.set...\n"
     ]
    },
    {
     "name": "stderr",
     "output_type": "stream",
     "text": [
      "<ipython-input-7-d85d77267efa>:39: RuntimeWarning: At least one epoch has multiple events. Only the latency of the first event will be retained.\n",
      "  novel_epochs = mne.io.read_epochs_eeglab(novel_data_path)\n"
     ]
    },
    {
     "name": "stdout",
     "output_type": "stream",
     "text": [
      "Not setting metadata\n",
      "Not setting metadata\n",
      "101 matching events found\n",
      "No baseline correction applied\n",
      "0 projection items activated\n",
      "Ready.\n",
      "(70, 20, 1000)\n",
      "(15, 20, 600)\n",
      "Extracting parameters from E:/standard and novel/sub169/standard.set...\n"
     ]
    },
    {
     "name": "stderr",
     "output_type": "stream",
     "text": [
      "<ipython-input-7-d85d77267efa>:13: RuntimeWarning: At least one epoch has multiple events. Only the latency of the first event will be retained.\n",
      "  standard_epochs = mne.io.read_epochs_eeglab(standard_data_path)\n"
     ]
    },
    {
     "name": "stdout",
     "output_type": "stream",
     "text": [
      "Not setting metadata\n",
      "Not setting metadata\n",
      "101 matching events found\n",
      "No baseline correction applied\n",
      "0 projection items activated\n",
      "Ready.\n",
      "(70, 20, 1000)\n",
      "Extracting parameters from E:/standard and novel/sub169/novel.set...\n"
     ]
    },
    {
     "name": "stderr",
     "output_type": "stream",
     "text": [
      "<ipython-input-7-d85d77267efa>:39: RuntimeWarning: At least one epoch has multiple events. Only the latency of the first event will be retained.\n",
      "  novel_epochs = mne.io.read_epochs_eeglab(novel_data_path)\n"
     ]
    },
    {
     "name": "stdout",
     "output_type": "stream",
     "text": [
      "Not setting metadata\n",
      "Not setting metadata\n",
      "102 matching events found\n",
      "No baseline correction applied\n",
      "0 projection items activated\n",
      "Ready.\n",
      "(70, 20, 1000)\n",
      "(15, 20, 600)\n",
      "Extracting parameters from E:/standard and novel/sub170/standard.set...\n"
     ]
    },
    {
     "name": "stderr",
     "output_type": "stream",
     "text": [
      "<ipython-input-7-d85d77267efa>:13: RuntimeWarning: At least one epoch has multiple events. Only the latency of the first event will be retained.\n",
      "  standard_epochs = mne.io.read_epochs_eeglab(standard_data_path)\n"
     ]
    },
    {
     "name": "stdout",
     "output_type": "stream",
     "text": [
      "Not setting metadata\n",
      "Not setting metadata\n",
      "98 matching events found\n",
      "No baseline correction applied\n",
      "0 projection items activated\n",
      "Ready.\n",
      "(70, 20, 1000)\n",
      "Extracting parameters from E:/standard and novel/sub170/novel.set...\n"
     ]
    },
    {
     "name": "stderr",
     "output_type": "stream",
     "text": [
      "<ipython-input-7-d85d77267efa>:39: RuntimeWarning: At least one epoch has multiple events. Only the latency of the first event will be retained.\n",
      "  novel_epochs = mne.io.read_epochs_eeglab(novel_data_path)\n"
     ]
    },
    {
     "name": "stdout",
     "output_type": "stream",
     "text": [
      "Not setting metadata\n",
      "Not setting metadata\n",
      "97 matching events found\n",
      "No baseline correction applied\n",
      "0 projection items activated\n",
      "Ready.\n",
      "(70, 20, 1000)\n",
      "(15, 20, 600)\n",
      "Extracting parameters from E:/standard and novel/sub171/standard.set...\n"
     ]
    },
    {
     "name": "stderr",
     "output_type": "stream",
     "text": [
      "<ipython-input-7-d85d77267efa>:13: RuntimeWarning: At least one epoch has multiple events. Only the latency of the first event will be retained.\n",
      "  standard_epochs = mne.io.read_epochs_eeglab(standard_data_path)\n"
     ]
    },
    {
     "name": "stdout",
     "output_type": "stream",
     "text": [
      "Not setting metadata\n",
      "Not setting metadata\n",
      "101 matching events found\n",
      "No baseline correction applied\n",
      "0 projection items activated\n",
      "Ready.\n",
      "(70, 20, 1000)\n",
      "Extracting parameters from E:/standard and novel/sub171/novel.set...\n"
     ]
    },
    {
     "name": "stderr",
     "output_type": "stream",
     "text": [
      "<ipython-input-7-d85d77267efa>:39: RuntimeWarning: At least one epoch has multiple events. Only the latency of the first event will be retained.\n",
      "  novel_epochs = mne.io.read_epochs_eeglab(novel_data_path)\n"
     ]
    },
    {
     "name": "stdout",
     "output_type": "stream",
     "text": [
      "Not setting metadata\n",
      "Not setting metadata\n",
      "102 matching events found\n",
      "No baseline correction applied\n",
      "0 projection items activated\n",
      "Ready.\n",
      "(70, 20, 1000)\n",
      "(15, 20, 600)\n",
      "Extracting parameters from E:/standard and novel/sub172/standard.set...\n"
     ]
    },
    {
     "name": "stderr",
     "output_type": "stream",
     "text": [
      "<ipython-input-7-d85d77267efa>:13: RuntimeWarning: At least one epoch has multiple events. Only the latency of the first event will be retained.\n",
      "  standard_epochs = mne.io.read_epochs_eeglab(standard_data_path)\n"
     ]
    },
    {
     "name": "stdout",
     "output_type": "stream",
     "text": [
      "Not setting metadata\n",
      "Not setting metadata\n",
      "96 matching events found\n",
      "No baseline correction applied\n",
      "0 projection items activated\n",
      "Ready.\n",
      "(70, 20, 1000)\n",
      "Extracting parameters from E:/standard and novel/sub172/novel.set...\n"
     ]
    },
    {
     "name": "stderr",
     "output_type": "stream",
     "text": [
      "<ipython-input-7-d85d77267efa>:39: RuntimeWarning: At least one epoch has multiple events. Only the latency of the first event will be retained.\n",
      "  novel_epochs = mne.io.read_epochs_eeglab(novel_data_path)\n"
     ]
    },
    {
     "name": "stdout",
     "output_type": "stream",
     "text": [
      "Not setting metadata\n",
      "Not setting metadata\n",
      "99 matching events found\n",
      "No baseline correction applied\n",
      "0 projection items activated\n",
      "Ready.\n",
      "(70, 20, 1000)\n",
      "(15, 20, 600)\n",
      "Extracting parameters from E:/standard and novel/sub173/standard.set...\n"
     ]
    },
    {
     "name": "stderr",
     "output_type": "stream",
     "text": [
      "<ipython-input-7-d85d77267efa>:13: RuntimeWarning: At least one epoch has multiple events. Only the latency of the first event will be retained.\n",
      "  standard_epochs = mne.io.read_epochs_eeglab(standard_data_path)\n"
     ]
    },
    {
     "name": "stdout",
     "output_type": "stream",
     "text": [
      "Not setting metadata\n",
      "Not setting metadata\n",
      "81 matching events found\n",
      "No baseline correction applied\n",
      "0 projection items activated\n",
      "Ready.\n",
      "(70, 20, 1000)\n",
      "Extracting parameters from E:/standard and novel/sub173/novel.set...\n"
     ]
    },
    {
     "name": "stderr",
     "output_type": "stream",
     "text": [
      "<ipython-input-7-d85d77267efa>:39: RuntimeWarning: At least one epoch has multiple events. Only the latency of the first event will be retained.\n",
      "  novel_epochs = mne.io.read_epochs_eeglab(novel_data_path)\n"
     ]
    },
    {
     "name": "stdout",
     "output_type": "stream",
     "text": [
      "Not setting metadata\n",
      "Not setting metadata\n",
      "83 matching events found\n",
      "No baseline correction applied\n",
      "0 projection items activated\n",
      "Ready.\n",
      "(70, 20, 1000)\n",
      "(15, 20, 600)\n",
      "Extracting parameters from E:/standard and novel/sub174/standard.set...\n"
     ]
    },
    {
     "name": "stderr",
     "output_type": "stream",
     "text": [
      "<ipython-input-7-d85d77267efa>:13: RuntimeWarning: At least one epoch has multiple events. Only the latency of the first event will be retained.\n",
      "  standard_epochs = mne.io.read_epochs_eeglab(standard_data_path)\n"
     ]
    },
    {
     "name": "stdout",
     "output_type": "stream",
     "text": [
      "Not setting metadata\n",
      "Not setting metadata\n",
      "100 matching events found\n",
      "No baseline correction applied\n",
      "0 projection items activated\n",
      "Ready.\n",
      "(70, 20, 1000)\n",
      "Extracting parameters from E:/standard and novel/sub174/novel.set...\n"
     ]
    },
    {
     "name": "stderr",
     "output_type": "stream",
     "text": [
      "<ipython-input-7-d85d77267efa>:39: RuntimeWarning: At least one epoch has multiple events. Only the latency of the first event will be retained.\n",
      "  novel_epochs = mne.io.read_epochs_eeglab(novel_data_path)\n"
     ]
    },
    {
     "name": "stdout",
     "output_type": "stream",
     "text": [
      "Not setting metadata\n",
      "Not setting metadata\n",
      "100 matching events found\n",
      "No baseline correction applied\n",
      "0 projection items activated\n",
      "Ready.\n",
      "(70, 20, 1000)\n",
      "(15, 20, 600)\n",
      "Extracting parameters from E:/standard and novel/sub175/standard.set...\n"
     ]
    },
    {
     "name": "stderr",
     "output_type": "stream",
     "text": [
      "<ipython-input-7-d85d77267efa>:13: RuntimeWarning: At least one epoch has multiple events. Only the latency of the first event will be retained.\n",
      "  standard_epochs = mne.io.read_epochs_eeglab(standard_data_path)\n"
     ]
    },
    {
     "name": "stdout",
     "output_type": "stream",
     "text": [
      "Not setting metadata\n",
      "Not setting metadata\n",
      "95 matching events found\n",
      "No baseline correction applied\n",
      "0 projection items activated\n",
      "Ready.\n",
      "(70, 20, 1000)\n",
      "Extracting parameters from E:/standard and novel/sub175/novel.set...\n"
     ]
    },
    {
     "name": "stderr",
     "output_type": "stream",
     "text": [
      "<ipython-input-7-d85d77267efa>:39: RuntimeWarning: At least one epoch has multiple events. Only the latency of the first event will be retained.\n",
      "  novel_epochs = mne.io.read_epochs_eeglab(novel_data_path)\n"
     ]
    },
    {
     "name": "stdout",
     "output_type": "stream",
     "text": [
      "Not setting metadata\n",
      "Not setting metadata\n",
      "97 matching events found\n",
      "No baseline correction applied\n",
      "0 projection items activated\n",
      "Ready.\n",
      "(70, 20, 1000)\n",
      "(15, 20, 600)\n",
      "Extracting parameters from E:/standard and novel/sub176/standard.set...\n"
     ]
    },
    {
     "name": "stderr",
     "output_type": "stream",
     "text": [
      "<ipython-input-7-d85d77267efa>:13: RuntimeWarning: At least one epoch has multiple events. Only the latency of the first event will be retained.\n",
      "  standard_epochs = mne.io.read_epochs_eeglab(standard_data_path)\n"
     ]
    },
    {
     "name": "stdout",
     "output_type": "stream",
     "text": [
      "Not setting metadata\n",
      "Not setting metadata\n",
      "99 matching events found\n",
      "No baseline correction applied\n",
      "0 projection items activated\n",
      "Ready.\n",
      "(70, 20, 1000)\n",
      "Extracting parameters from E:/standard and novel/sub176/novel.set...\n"
     ]
    },
    {
     "name": "stderr",
     "output_type": "stream",
     "text": [
      "<ipython-input-7-d85d77267efa>:39: RuntimeWarning: At least one epoch has multiple events. Only the latency of the first event will be retained.\n",
      "  novel_epochs = mne.io.read_epochs_eeglab(novel_data_path)\n"
     ]
    },
    {
     "name": "stdout",
     "output_type": "stream",
     "text": [
      "Not setting metadata\n",
      "Not setting metadata\n",
      "96 matching events found\n",
      "No baseline correction applied\n",
      "0 projection items activated\n",
      "Ready.\n",
      "(70, 20, 1000)\n",
      "(15, 20, 600)\n",
      "Extracting parameters from E:/standard and novel/sub177/standard.set...\n"
     ]
    },
    {
     "name": "stderr",
     "output_type": "stream",
     "text": [
      "<ipython-input-7-d85d77267efa>:13: RuntimeWarning: At least one epoch has multiple events. Only the latency of the first event will be retained.\n",
      "  standard_epochs = mne.io.read_epochs_eeglab(standard_data_path)\n"
     ]
    },
    {
     "name": "stdout",
     "output_type": "stream",
     "text": [
      "Not setting metadata\n",
      "Not setting metadata\n",
      "99 matching events found\n",
      "No baseline correction applied\n",
      "0 projection items activated\n",
      "Ready.\n",
      "(70, 20, 1000)\n",
      "Extracting parameters from E:/standard and novel/sub177/novel.set...\n"
     ]
    },
    {
     "name": "stderr",
     "output_type": "stream",
     "text": [
      "<ipython-input-7-d85d77267efa>:39: RuntimeWarning: At least one epoch has multiple events. Only the latency of the first event will be retained.\n",
      "  novel_epochs = mne.io.read_epochs_eeglab(novel_data_path)\n"
     ]
    },
    {
     "name": "stdout",
     "output_type": "stream",
     "text": [
      "Not setting metadata\n",
      "Not setting metadata\n",
      "101 matching events found\n",
      "No baseline correction applied\n",
      "0 projection items activated\n",
      "Ready.\n",
      "(70, 20, 1000)\n",
      "(15, 20, 600)\n",
      "Extracting parameters from E:/standard and novel/sub178/standard.set...\n"
     ]
    },
    {
     "name": "stderr",
     "output_type": "stream",
     "text": [
      "<ipython-input-7-d85d77267efa>:13: RuntimeWarning: At least one epoch has multiple events. Only the latency of the first event will be retained.\n",
      "  standard_epochs = mne.io.read_epochs_eeglab(standard_data_path)\n"
     ]
    },
    {
     "name": "stdout",
     "output_type": "stream",
     "text": [
      "Not setting metadata\n",
      "Not setting metadata\n",
      "86 matching events found\n",
      "No baseline correction applied\n",
      "0 projection items activated\n",
      "Ready.\n",
      "(70, 20, 1000)\n",
      "Extracting parameters from E:/standard and novel/sub178/novel.set...\n"
     ]
    },
    {
     "name": "stderr",
     "output_type": "stream",
     "text": [
      "<ipython-input-7-d85d77267efa>:39: RuntimeWarning: At least one epoch has multiple events. Only the latency of the first event will be retained.\n",
      "  novel_epochs = mne.io.read_epochs_eeglab(novel_data_path)\n"
     ]
    },
    {
     "name": "stdout",
     "output_type": "stream",
     "text": [
      "Not setting metadata\n",
      "Not setting metadata\n",
      "84 matching events found\n",
      "No baseline correction applied\n",
      "0 projection items activated\n",
      "Ready.\n",
      "(70, 20, 1000)\n",
      "(15, 20, 600)\n",
      "Extracting parameters from E:/standard and novel/sub179/standard.set...\n"
     ]
    },
    {
     "name": "stderr",
     "output_type": "stream",
     "text": [
      "<ipython-input-7-d85d77267efa>:13: RuntimeWarning: At least one epoch has multiple events. Only the latency of the first event will be retained.\n",
      "  standard_epochs = mne.io.read_epochs_eeglab(standard_data_path)\n"
     ]
    },
    {
     "name": "stdout",
     "output_type": "stream",
     "text": [
      "Not setting metadata\n",
      "Not setting metadata\n",
      "95 matching events found\n",
      "No baseline correction applied\n",
      "0 projection items activated\n",
      "Ready.\n",
      "(70, 20, 1000)\n",
      "Extracting parameters from E:/standard and novel/sub179/novel.set...\n"
     ]
    },
    {
     "name": "stderr",
     "output_type": "stream",
     "text": [
      "<ipython-input-7-d85d77267efa>:39: RuntimeWarning: At least one epoch has multiple events. Only the latency of the first event will be retained.\n",
      "  novel_epochs = mne.io.read_epochs_eeglab(novel_data_path)\n"
     ]
    },
    {
     "name": "stdout",
     "output_type": "stream",
     "text": [
      "Not setting metadata\n",
      "Not setting metadata\n",
      "98 matching events found\n",
      "No baseline correction applied\n",
      "0 projection items activated\n",
      "Ready.\n",
      "(70, 20, 1000)\n",
      "(15, 20, 600)\n",
      "Extracting parameters from E:/standard and novel/sub180/standard.set...\n"
     ]
    },
    {
     "name": "stderr",
     "output_type": "stream",
     "text": [
      "<ipython-input-7-d85d77267efa>:13: RuntimeWarning: At least one epoch has multiple events. Only the latency of the first event will be retained.\n",
      "  standard_epochs = mne.io.read_epochs_eeglab(standard_data_path)\n"
     ]
    },
    {
     "name": "stdout",
     "output_type": "stream",
     "text": [
      "Not setting metadata\n",
      "Not setting metadata\n",
      "100 matching events found\n",
      "No baseline correction applied\n",
      "0 projection items activated\n",
      "Ready.\n",
      "(70, 20, 1000)\n",
      "Extracting parameters from E:/standard and novel/sub180/novel.set...\n"
     ]
    },
    {
     "name": "stderr",
     "output_type": "stream",
     "text": [
      "<ipython-input-7-d85d77267efa>:39: RuntimeWarning: At least one epoch has multiple events. Only the latency of the first event will be retained.\n",
      "  novel_epochs = mne.io.read_epochs_eeglab(novel_data_path)\n"
     ]
    },
    {
     "name": "stdout",
     "output_type": "stream",
     "text": [
      "Not setting metadata\n",
      "Not setting metadata\n",
      "101 matching events found\n",
      "No baseline correction applied\n",
      "0 projection items activated\n",
      "Ready.\n",
      "(70, 20, 1000)\n",
      "(15, 20, 600)\n",
      "Extracting parameters from E:/standard and novel/sub181/standard.set...\n"
     ]
    },
    {
     "name": "stderr",
     "output_type": "stream",
     "text": [
      "<ipython-input-7-d85d77267efa>:13: RuntimeWarning: At least one epoch has multiple events. Only the latency of the first event will be retained.\n",
      "  standard_epochs = mne.io.read_epochs_eeglab(standard_data_path)\n"
     ]
    },
    {
     "name": "stdout",
     "output_type": "stream",
     "text": [
      "Not setting metadata\n",
      "Not setting metadata\n",
      "92 matching events found\n",
      "No baseline correction applied\n",
      "0 projection items activated\n",
      "Ready.\n",
      "(70, 20, 1000)\n",
      "Extracting parameters from E:/standard and novel/sub181/novel.set...\n"
     ]
    },
    {
     "name": "stderr",
     "output_type": "stream",
     "text": [
      "<ipython-input-7-d85d77267efa>:39: RuntimeWarning: At least one epoch has multiple events. Only the latency of the first event will be retained.\n",
      "  novel_epochs = mne.io.read_epochs_eeglab(novel_data_path)\n"
     ]
    },
    {
     "name": "stdout",
     "output_type": "stream",
     "text": [
      "Not setting metadata\n",
      "Not setting metadata\n",
      "93 matching events found\n",
      "No baseline correction applied\n",
      "0 projection items activated\n",
      "Ready.\n",
      "(70, 20, 1000)\n",
      "(15, 20, 600)\n",
      "Extracting parameters from E:/standard and novel/sub182/standard.set...\n"
     ]
    },
    {
     "name": "stderr",
     "output_type": "stream",
     "text": [
      "<ipython-input-7-d85d77267efa>:13: RuntimeWarning: At least one epoch has multiple events. Only the latency of the first event will be retained.\n",
      "  standard_epochs = mne.io.read_epochs_eeglab(standard_data_path)\n"
     ]
    },
    {
     "name": "stdout",
     "output_type": "stream",
     "text": [
      "Not setting metadata\n",
      "Not setting metadata\n",
      "96 matching events found\n",
      "No baseline correction applied\n",
      "0 projection items activated\n",
      "Ready.\n",
      "(70, 20, 1000)\n",
      "Extracting parameters from E:/standard and novel/sub182/novel.set...\n"
     ]
    },
    {
     "name": "stderr",
     "output_type": "stream",
     "text": [
      "<ipython-input-7-d85d77267efa>:39: RuntimeWarning: At least one epoch has multiple events. Only the latency of the first event will be retained.\n",
      "  novel_epochs = mne.io.read_epochs_eeglab(novel_data_path)\n"
     ]
    },
    {
     "name": "stdout",
     "output_type": "stream",
     "text": [
      "Not setting metadata\n",
      "Not setting metadata\n",
      "99 matching events found\n",
      "No baseline correction applied\n",
      "0 projection items activated\n",
      "Ready.\n",
      "(70, 20, 1000)\n",
      "(15, 20, 600)\n",
      "Extracting parameters from E:/standard and novel/sub183/standard.set...\n"
     ]
    },
    {
     "name": "stderr",
     "output_type": "stream",
     "text": [
      "<ipython-input-7-d85d77267efa>:13: RuntimeWarning: At least one epoch has multiple events. Only the latency of the first event will be retained.\n",
      "  standard_epochs = mne.io.read_epochs_eeglab(standard_data_path)\n"
     ]
    },
    {
     "name": "stdout",
     "output_type": "stream",
     "text": [
      "Not setting metadata\n",
      "Not setting metadata\n",
      "102 matching events found\n",
      "No baseline correction applied\n",
      "0 projection items activated\n",
      "Ready.\n",
      "(70, 20, 1000)\n",
      "Extracting parameters from E:/standard and novel/sub183/novel.set...\n"
     ]
    },
    {
     "name": "stderr",
     "output_type": "stream",
     "text": [
      "<ipython-input-7-d85d77267efa>:39: RuntimeWarning: At least one epoch has multiple events. Only the latency of the first event will be retained.\n",
      "  novel_epochs = mne.io.read_epochs_eeglab(novel_data_path)\n"
     ]
    },
    {
     "name": "stdout",
     "output_type": "stream",
     "text": [
      "Not setting metadata\n",
      "Not setting metadata\n",
      "102 matching events found\n",
      "No baseline correction applied\n",
      "0 projection items activated\n",
      "Ready.\n",
      "(70, 20, 1000)\n",
      "(15, 20, 600)\n",
      "Extracting parameters from E:/standard and novel/sub184/standard.set...\n"
     ]
    },
    {
     "name": "stderr",
     "output_type": "stream",
     "text": [
      "<ipython-input-7-d85d77267efa>:13: RuntimeWarning: At least one epoch has multiple events. Only the latency of the first event will be retained.\n",
      "  standard_epochs = mne.io.read_epochs_eeglab(standard_data_path)\n"
     ]
    },
    {
     "name": "stdout",
     "output_type": "stream",
     "text": [
      "Not setting metadata\n",
      "Not setting metadata\n",
      "102 matching events found\n",
      "No baseline correction applied\n",
      "0 projection items activated\n",
      "Ready.\n",
      "(70, 20, 1000)\n",
      "Extracting parameters from E:/standard and novel/sub184/novel.set...\n"
     ]
    },
    {
     "name": "stderr",
     "output_type": "stream",
     "text": [
      "<ipython-input-7-d85d77267efa>:39: RuntimeWarning: At least one epoch has multiple events. Only the latency of the first event will be retained.\n",
      "  novel_epochs = mne.io.read_epochs_eeglab(novel_data_path)\n"
     ]
    },
    {
     "name": "stdout",
     "output_type": "stream",
     "text": [
      "Not setting metadata\n",
      "Not setting metadata\n",
      "102 matching events found\n",
      "No baseline correction applied\n",
      "0 projection items activated\n",
      "Ready.\n",
      "(70, 20, 1000)\n",
      "(15, 20, 600)\n",
      "Extracting parameters from E:/standard and novel/sub185/standard.set...\n"
     ]
    },
    {
     "name": "stderr",
     "output_type": "stream",
     "text": [
      "<ipython-input-7-d85d77267efa>:13: RuntimeWarning: At least one epoch has multiple events. Only the latency of the first event will be retained.\n",
      "  standard_epochs = mne.io.read_epochs_eeglab(standard_data_path)\n"
     ]
    },
    {
     "name": "stdout",
     "output_type": "stream",
     "text": [
      "Not setting metadata\n",
      "Not setting metadata\n",
      "100 matching events found\n",
      "No baseline correction applied\n",
      "0 projection items activated\n",
      "Ready.\n",
      "(70, 20, 1000)\n",
      "Extracting parameters from E:/standard and novel/sub185/novel.set...\n"
     ]
    },
    {
     "name": "stderr",
     "output_type": "stream",
     "text": [
      "<ipython-input-7-d85d77267efa>:39: RuntimeWarning: At least one epoch has multiple events. Only the latency of the first event will be retained.\n",
      "  novel_epochs = mne.io.read_epochs_eeglab(novel_data_path)\n"
     ]
    },
    {
     "name": "stdout",
     "output_type": "stream",
     "text": [
      "Not setting metadata\n",
      "Not setting metadata\n",
      "100 matching events found\n",
      "No baseline correction applied\n",
      "0 projection items activated\n",
      "Ready.\n",
      "(70, 20, 1000)\n",
      "(15, 20, 600)\n",
      "Extracting parameters from E:/standard and novel/sub186/standard.set...\n"
     ]
    },
    {
     "name": "stderr",
     "output_type": "stream",
     "text": [
      "<ipython-input-7-d85d77267efa>:13: RuntimeWarning: At least one epoch has multiple events. Only the latency of the first event will be retained.\n",
      "  standard_epochs = mne.io.read_epochs_eeglab(standard_data_path)\n"
     ]
    },
    {
     "name": "stdout",
     "output_type": "stream",
     "text": [
      "Not setting metadata\n",
      "Not setting metadata\n",
      "101 matching events found\n",
      "No baseline correction applied\n",
      "0 projection items activated\n",
      "Ready.\n",
      "(70, 20, 1000)\n",
      "Extracting parameters from E:/standard and novel/sub186/novel.set...\n"
     ]
    },
    {
     "name": "stderr",
     "output_type": "stream",
     "text": [
      "<ipython-input-7-d85d77267efa>:39: RuntimeWarning: At least one epoch has multiple events. Only the latency of the first event will be retained.\n",
      "  novel_epochs = mne.io.read_epochs_eeglab(novel_data_path)\n"
     ]
    },
    {
     "name": "stdout",
     "output_type": "stream",
     "text": [
      "Not setting metadata\n",
      "Not setting metadata\n",
      "99 matching events found\n",
      "No baseline correction applied\n",
      "0 projection items activated\n",
      "Ready.\n",
      "(70, 20, 1000)\n",
      "(15, 20, 600)\n",
      "Extracting parameters from E:/standard and novel/sub187/standard.set...\n"
     ]
    },
    {
     "name": "stderr",
     "output_type": "stream",
     "text": [
      "<ipython-input-7-d85d77267efa>:13: RuntimeWarning: At least one epoch has multiple events. Only the latency of the first event will be retained.\n",
      "  standard_epochs = mne.io.read_epochs_eeglab(standard_data_path)\n"
     ]
    },
    {
     "name": "stdout",
     "output_type": "stream",
     "text": [
      "Not setting metadata\n",
      "Not setting metadata\n",
      "101 matching events found\n",
      "No baseline correction applied\n",
      "0 projection items activated\n",
      "Ready.\n",
      "(70, 20, 1000)\n",
      "Extracting parameters from E:/standard and novel/sub187/novel.set...\n"
     ]
    },
    {
     "name": "stderr",
     "output_type": "stream",
     "text": [
      "<ipython-input-7-d85d77267efa>:39: RuntimeWarning: At least one epoch has multiple events. Only the latency of the first event will be retained.\n",
      "  novel_epochs = mne.io.read_epochs_eeglab(novel_data_path)\n"
     ]
    },
    {
     "name": "stdout",
     "output_type": "stream",
     "text": [
      "Not setting metadata\n",
      "Not setting metadata\n",
      "101 matching events found\n",
      "No baseline correction applied\n",
      "0 projection items activated\n",
      "Ready.\n",
      "(70, 20, 1000)\n",
      "(15, 20, 600)\n",
      "Extracting parameters from E:/standard and novel/sub188/standard.set...\n"
     ]
    },
    {
     "name": "stderr",
     "output_type": "stream",
     "text": [
      "<ipython-input-7-d85d77267efa>:13: RuntimeWarning: At least one epoch has multiple events. Only the latency of the first event will be retained.\n",
      "  standard_epochs = mne.io.read_epochs_eeglab(standard_data_path)\n"
     ]
    },
    {
     "name": "stdout",
     "output_type": "stream",
     "text": [
      "Not setting metadata\n",
      "Not setting metadata\n",
      "99 matching events found\n",
      "No baseline correction applied\n",
      "0 projection items activated\n",
      "Ready.\n",
      "(70, 20, 1000)\n",
      "Extracting parameters from E:/standard and novel/sub188/novel.set...\n"
     ]
    },
    {
     "name": "stderr",
     "output_type": "stream",
     "text": [
      "<ipython-input-7-d85d77267efa>:39: RuntimeWarning: At least one epoch has multiple events. Only the latency of the first event will be retained.\n",
      "  novel_epochs = mne.io.read_epochs_eeglab(novel_data_path)\n"
     ]
    },
    {
     "name": "stdout",
     "output_type": "stream",
     "text": [
      "Not setting metadata\n",
      "Not setting metadata\n",
      "102 matching events found\n",
      "No baseline correction applied\n",
      "0 projection items activated\n",
      "Ready.\n",
      "(70, 20, 1000)\n",
      "(15, 20, 600)\n",
      "Extracting parameters from E:/standard and novel/sub189/standard.set...\n"
     ]
    },
    {
     "name": "stderr",
     "output_type": "stream",
     "text": [
      "<ipython-input-7-d85d77267efa>:13: RuntimeWarning: At least one epoch has multiple events. Only the latency of the first event will be retained.\n",
      "  standard_epochs = mne.io.read_epochs_eeglab(standard_data_path)\n"
     ]
    },
    {
     "name": "stdout",
     "output_type": "stream",
     "text": [
      "Not setting metadata\n",
      "Not setting metadata\n",
      "101 matching events found\n",
      "No baseline correction applied\n",
      "0 projection items activated\n",
      "Ready.\n",
      "(70, 20, 1000)\n",
      "Extracting parameters from E:/standard and novel/sub189/novel.set...\n"
     ]
    },
    {
     "name": "stderr",
     "output_type": "stream",
     "text": [
      "<ipython-input-7-d85d77267efa>:39: RuntimeWarning: At least one epoch has multiple events. Only the latency of the first event will be retained.\n",
      "  novel_epochs = mne.io.read_epochs_eeglab(novel_data_path)\n"
     ]
    },
    {
     "name": "stdout",
     "output_type": "stream",
     "text": [
      "Not setting metadata\n",
      "Not setting metadata\n",
      "102 matching events found\n",
      "No baseline correction applied\n",
      "0 projection items activated\n",
      "Ready.\n",
      "(70, 20, 1000)\n",
      "(15, 20, 600)\n",
      "Extracting parameters from E:/standard and novel/sub190/standard.set...\n"
     ]
    },
    {
     "name": "stderr",
     "output_type": "stream",
     "text": [
      "<ipython-input-7-d85d77267efa>:13: RuntimeWarning: At least one epoch has multiple events. Only the latency of the first event will be retained.\n",
      "  standard_epochs = mne.io.read_epochs_eeglab(standard_data_path)\n"
     ]
    },
    {
     "name": "stdout",
     "output_type": "stream",
     "text": [
      "Not setting metadata\n",
      "Not setting metadata\n",
      "100 matching events found\n",
      "No baseline correction applied\n",
      "0 projection items activated\n",
      "Ready.\n",
      "(70, 20, 1000)\n",
      "Extracting parameters from E:/standard and novel/sub190/novel.set...\n"
     ]
    },
    {
     "name": "stderr",
     "output_type": "stream",
     "text": [
      "<ipython-input-7-d85d77267efa>:39: RuntimeWarning: At least one epoch has multiple events. Only the latency of the first event will be retained.\n",
      "  novel_epochs = mne.io.read_epochs_eeglab(novel_data_path)\n"
     ]
    },
    {
     "name": "stdout",
     "output_type": "stream",
     "text": [
      "Not setting metadata\n",
      "Not setting metadata\n",
      "100 matching events found\n",
      "No baseline correction applied\n",
      "0 projection items activated\n",
      "Ready.\n",
      "(70, 20, 1000)\n",
      "(15, 20, 600)\n",
      "Extracting parameters from E:/standard and novel/sub191/standard.set...\n"
     ]
    },
    {
     "name": "stderr",
     "output_type": "stream",
     "text": [
      "<ipython-input-7-d85d77267efa>:13: RuntimeWarning: At least one epoch has multiple events. Only the latency of the first event will be retained.\n",
      "  standard_epochs = mne.io.read_epochs_eeglab(standard_data_path)\n"
     ]
    },
    {
     "name": "stdout",
     "output_type": "stream",
     "text": [
      "Not setting metadata\n",
      "Not setting metadata\n",
      "95 matching events found\n",
      "No baseline correction applied\n",
      "0 projection items activated\n",
      "Ready.\n",
      "(70, 20, 1000)\n",
      "Extracting parameters from E:/standard and novel/sub191/novel.set...\n"
     ]
    },
    {
     "name": "stderr",
     "output_type": "stream",
     "text": [
      "<ipython-input-7-d85d77267efa>:39: RuntimeWarning: At least one epoch has multiple events. Only the latency of the first event will be retained.\n",
      "  novel_epochs = mne.io.read_epochs_eeglab(novel_data_path)\n"
     ]
    },
    {
     "name": "stdout",
     "output_type": "stream",
     "text": [
      "Not setting metadata\n",
      "Not setting metadata\n",
      "97 matching events found\n",
      "No baseline correction applied\n",
      "0 projection items activated\n",
      "Ready.\n",
      "(70, 20, 1000)\n",
      "(15, 20, 600)\n",
      "(113, 15, 20, 600)\n",
      "(113, 15, 20, 600)\n"
     ]
    }
   ],
   "source": [
    "child_standard_tfr = []\n",
    "child_novel_tfr = []\n",
    "# 设定⼀些时频分析的参数\n",
    "# 频段选取4-30Hz\n",
    "freqs = np.arange(1, 40, 2)\n",
    "n_cycles = freqs / 2.\n",
    "\n",
    "for i in range(113):\n",
    "    \n",
    "    ###读取standard\n",
    "    standard_data_path = \"E:/standard and novel/\" + \"sub\"+str(i+79)+\"/standard.set\"\n",
    "    #读取set文件中的epoch信息\n",
    "    standard_epochs = mne.io.read_epochs_eeglab(standard_data_path)\n",
    "    #读取epoch中的数据，是[trial，电极，时间点]的矩阵\n",
    "    standard_epochs_array = standard_epochs.get_data()\n",
    "    \n",
    "    # 使⽤MNE的time_frequency模块下的tfr_arrayy_morlet()函数\n",
    "    # 其输⼊为[n_epochs, n_channels, n_times]的array\n",
    "    # 同时接着依次传⼊数据采样率、计算频率、周期数和输出数据类型\n",
    "    standard_tfr = tfr_array_morlet(standard_epochs_array, 1000, freqs, n_cycles, output='power')\n",
    "    standard_tfr = np.average(standard_tfr,axis = 0)\n",
    "    print(standard_tfr.shape)\n",
    "    #基线矫正-100-0ms\n",
    "    for chl in range(70):\n",
    "        for freq in range(len(freqs)):\n",
    "            standard_tfr[chl, freq] = 10 * np.log10(standard_tfr[chl, freq] /\n",
    "                                  np.average(standard_tfr[chl, freq, 400:500]))\n",
    "    #[\"F3\",\"F1\",\"FZ\",\"F2\",\"F4\",\"FC3\",\"FC1\",\"FCZ\",\"FC2\",\"FC4\",\"C3\",\"C1\",\"CZ\",\"C2\",\"C4\"]        \n",
    "    standard_tfr_electrode = standard_tfr[[12,9,6,3,68,16,7,4,61,60,21,17,69,58,57]]\n",
    "    standard_tfr_time = standard_tfr_electrode[:,:,400:]\n",
    "    child_standard_tfr.append(standard_tfr_time)\n",
    "    \n",
    "    \n",
    "    \n",
    "    \n",
    "    ###读取novel\n",
    "    novel_data_path = \"E:/standard and novel/\" + \"sub\"+str(i+79)+\"/novel.set\"\n",
    "    #读取set文件中的epoch信息\n",
    "    novel_epochs = mne.io.read_epochs_eeglab(novel_data_path)\n",
    "    #读取epoch中的数据，是[trial，电极，时间点]的矩阵\n",
    "    novel_epochs_array = novel_epochs.get_data()\n",
    "    novel_tfr = tfr_array_morlet(novel_epochs_array, 1000, freqs, n_cycles, output='power')\n",
    "    novel_tfr = np.average(novel_tfr,axis = 0)\n",
    "    print(novel_tfr.shape)\n",
    "    #基线矫正-100-0ms\n",
    "    for chl in range(70):\n",
    "        for freq in range(len(freqs)):\n",
    "            novel_tfr[chl, freq] = 10 * np.log10(novel_tfr[chl, freq] /\n",
    "                                  np.average(novel_tfr[chl, freq, 400:500]))\n",
    "    novel_tfr_electrode = novel_tfr[[12,9,6,3,68,16,7,4,61,60,21,17,69,58,57]]\n",
    "    novel_tfr_time = novel_tfr_electrode[:,:,400:]\n",
    "    print(novel_tfr_time.shape)\n",
    "    child_novel_tfr.append(novel_tfr_time)\n",
    "    \n",
    "    \n",
    "child_standard_tfr_all = np.array(child_standard_tfr)\n",
    "print(child_standard_tfr_all.shape)\n",
    "child_novel_tfr_all = np.array(child_novel_tfr)\n",
    "print(child_novel_tfr_all.shape)"
   ]
  },
  {
   "cell_type": "code",
   "execution_count": null,
   "metadata": {},
   "outputs": [],
   "source": [
    "freqs = np.arange(1, 40, 2)\n",
    "times = np.arange(-100, 500, 1)\n",
    "plot_tfr_diff_results(child_tfr_novel, child_tfr_standard, freqs, times,p = 0.01, clim=[-2, 2])"
   ]
  },
  {
   "cell_type": "markdown",
   "metadata": {},
   "source": [
    "# 提取数据导出excel"
   ]
  },
  {
   "cell_type": "code",
   "execution_count": 62,
   "metadata": {},
   "outputs": [
    {
     "data": {
      "text/plain": [
       "(113, 45)"
      ]
     },
     "execution_count": 62,
     "metadata": {},
     "output_type": "execute_result"
    }
   ],
   "source": [
    "#计算差异波，提取感兴趣的频段和时段\n",
    "child_diff = child_novel_tfr_all - child_standard_tfr_all\n",
    "child_diff_theta_early = child_diff[:,:,[2,3],180:350]\n",
    "child_diff_theta_late = child_diff[:,:,[2,3],350:500]\n",
    "child_diff_beta_high = child_diff[:,:,[12,13,14],450:600]\n",
    "#对感兴趣的频段和时段取平均\n",
    "child_theta_early = np.average(child_diff_theta_early, axis = 3)\n",
    "child_theta_early = np.average(child_theta_early, axis = 2)\n",
    "child_theta_lata = np.average(child_diff_theta_late, axis = 3)\n",
    "child_theta_late = np.average(child_theta_lata, axis = 2)\n",
    "child_beta_high = np.average(child_diff_beta_high, axis = 3)\n",
    "child_beta_high = np.average(child_beta_high, axis = 2)\n",
    "#将所有频率特征放一起\n",
    "child_power = np.concatenate((child_theta_early, child_theta_late,child_beta_high), axis=1)\n",
    "child_power.shape\n",
    "\n",
    "\n",
    "\n",
    "\n",
    "###成年人数据重复上述步骤\n",
    "\n",
    "\n",
    "adult_standard_tfr_all = np.array(adult_standard_tfr)\n",
    "print(adult_standard_tfr_all.shape)\n",
    "adult_novel_tfr_all = np.array(adult_novel_tfr)\n",
    "print(adult_novel_tfr_all.shape)\n",
    "\n",
    "adult_diff = adult_novel_tfr_all - adult_standard_tfr_all\n",
    "adult_diff_theta_early = adult_diff[:,:,[2,3],180:350]\n",
    "adult_diff_theta_late = adult_diff[:,:,[2,3],350:500]\n",
    "adult_diff_beta_high = adult_diff[:,:,[12,13,14],450:600]\n",
    "adult_theta_early = np.average(adult_diff_theta_early, axis = 3)\n",
    "adult_theta_early = np.average(adult_theta_early, axis = 2)\n",
    "adult_theta_lata = np.average(adult_diff_theta_late, axis = 3)\n",
    "adult_theta_late = np.average(adult_theta_lata, axis = 2)\n",
    "adult_beta_high = np.average(adult_diff_beta_high, axis = 3)\n",
    "adult_beta_high = np.average(adult_beta_high, axis = 2)\n",
    "\n",
    "adult_power = np.concatenate((adult_theta_early, adult_theta_late,adult_beta_high), axis=1)\n",
    "adult_power.shape\n",
    "\n",
    "\n",
    "#将儿童和成人数据叠加在一起\n",
    "AV_power = np.concatenate((adult_power, child_power), axis = 0)\n",
    "#导出成excel\n",
    "AV_power = np.mat(AV_power)\n",
    "AV_power = pd.DataFrame(AV_power)\n",
    "AV_power.to_excel('AV_power.xlsx')\n",
    "\n"
   ]
  }
 ],
 "metadata": {
  "kernelspec": {
   "display_name": "Python 3",
   "language": "python",
   "name": "python3"
  },
  "language_info": {
   "codemirror_mode": {
    "name": "ipython",
    "version": 3
   },
   "file_extension": ".py",
   "mimetype": "text/x-python",
   "name": "python",
   "nbconvert_exporter": "python",
   "pygments_lexer": "ipython3",
   "version": "3.6.12"
  }
 },
 "nbformat": 4,
 "nbformat_minor": 4
}
